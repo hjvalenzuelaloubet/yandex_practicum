{
 "cells": [
  {
   "cell_type": "markdown",
   "metadata": {},
   "source": [
    "# Introducción\n",
    "\n",
    "En este pequeño proyecto, desarrollaremos un modelo de clasificación con Machine Learning; nuestra información son algunos parámetros acerca del consumo de telefonía para algunos subscriptores de planes de la compañía Megaline. Debemos desarrollar un modelo con una exactitud del 75% al menos, e intentaremos con tres diferentes modelos para ver cual es el mejor en esta tarea: Árbol de decisión, Bosque Aleatorio, y de Regresión Logística."
   ]
  },
  {
   "cell_type": "markdown",
   "metadata": {},
   "source": [
    "## Trabajo previo\n",
    "<a class=\"anchor\" id=\"1\"></a>\n",
    "\n",
    "### Importar librerías\n",
    "<a class=\"anchor\" id=\"1.1\"></a>\n",
    "Importaremos pandas para leer los datos, numpy para trabajar con algunas fórmulas, pyplot para hacer gráficas con mejor control, seaborn para hacer un heatmap y algunos elementos de sklearn para nuestros modelos."
   ]
  },
  {
   "cell_type": "code",
   "execution_count": 59,
   "metadata": {},
   "outputs": [],
   "source": [
    "# Hagamos las importaciones necesarias\n",
    "\n",
    "import pandas as pd\n",
    "import numpy as np\n",
    "import matplotlib.pyplot as plt\n",
    "import seaborn as sns\n",
    "\n",
    "from tqdm.auto import tqdm\n",
    "\n",
    "from sklearn.tree import DecisionTreeClassifier\n",
    "from sklearn.ensemble import RandomForestClassifier\n",
    "from sklearn.linear_model import LogisticRegression \n",
    "\n",
    "from sklearn.metrics import accuracy_score\n",
    "from sklearn.model_selection import train_test_split"
   ]
  },
  {
   "cell_type": "markdown",
   "metadata": {},
   "source": [
    "### Trabajar con los datos\n",
    "Carguemos y mostremos un sample de nuestro dataset, también algo de información importante"
   ]
  },
  {
   "cell_type": "code",
   "execution_count": 60,
   "metadata": {},
   "outputs": [
    {
     "data": {
      "text/html": [
       "<div>\n",
       "<style scoped>\n",
       "    .dataframe tbody tr th:only-of-type {\n",
       "        vertical-align: middle;\n",
       "    }\n",
       "\n",
       "    .dataframe tbody tr th {\n",
       "        vertical-align: top;\n",
       "    }\n",
       "\n",
       "    .dataframe thead th {\n",
       "        text-align: right;\n",
       "    }\n",
       "</style>\n",
       "<table border=\"1\" class=\"dataframe\">\n",
       "  <thead>\n",
       "    <tr style=\"text-align: right;\">\n",
       "      <th></th>\n",
       "      <th>calls</th>\n",
       "      <th>minutes</th>\n",
       "      <th>messages</th>\n",
       "      <th>mb_used</th>\n",
       "      <th>is_ultra</th>\n",
       "    </tr>\n",
       "  </thead>\n",
       "  <tbody>\n",
       "    <tr>\n",
       "      <th>1719</th>\n",
       "      <td>62.0</td>\n",
       "      <td>545.53</td>\n",
       "      <td>3.0</td>\n",
       "      <td>4942.50</td>\n",
       "      <td>0</td>\n",
       "    </tr>\n",
       "    <tr>\n",
       "      <th>2922</th>\n",
       "      <td>74.0</td>\n",
       "      <td>498.09</td>\n",
       "      <td>97.0</td>\n",
       "      <td>16471.48</td>\n",
       "      <td>0</td>\n",
       "    </tr>\n",
       "    <tr>\n",
       "      <th>1895</th>\n",
       "      <td>93.0</td>\n",
       "      <td>630.74</td>\n",
       "      <td>54.0</td>\n",
       "      <td>13246.51</td>\n",
       "      <td>0</td>\n",
       "    </tr>\n",
       "    <tr>\n",
       "      <th>161</th>\n",
       "      <td>58.0</td>\n",
       "      <td>394.15</td>\n",
       "      <td>48.0</td>\n",
       "      <td>15605.44</td>\n",
       "      <td>0</td>\n",
       "    </tr>\n",
       "    <tr>\n",
       "      <th>255</th>\n",
       "      <td>40.0</td>\n",
       "      <td>225.89</td>\n",
       "      <td>12.0</td>\n",
       "      <td>13581.94</td>\n",
       "      <td>0</td>\n",
       "    </tr>\n",
       "    <tr>\n",
       "      <th>1089</th>\n",
       "      <td>51.0</td>\n",
       "      <td>371.83</td>\n",
       "      <td>63.0</td>\n",
       "      <td>5774.98</td>\n",
       "      <td>0</td>\n",
       "    </tr>\n",
       "    <tr>\n",
       "      <th>1463</th>\n",
       "      <td>7.0</td>\n",
       "      <td>22.96</td>\n",
       "      <td>7.0</td>\n",
       "      <td>12762.99</td>\n",
       "      <td>0</td>\n",
       "    </tr>\n",
       "    <tr>\n",
       "      <th>1009</th>\n",
       "      <td>84.0</td>\n",
       "      <td>608.19</td>\n",
       "      <td>19.0</td>\n",
       "      <td>25013.18</td>\n",
       "      <td>0</td>\n",
       "    </tr>\n",
       "    <tr>\n",
       "      <th>2322</th>\n",
       "      <td>134.0</td>\n",
       "      <td>933.89</td>\n",
       "      <td>91.0</td>\n",
       "      <td>12468.87</td>\n",
       "      <td>1</td>\n",
       "    </tr>\n",
       "    <tr>\n",
       "      <th>1126</th>\n",
       "      <td>93.0</td>\n",
       "      <td>628.59</td>\n",
       "      <td>41.0</td>\n",
       "      <td>19309.71</td>\n",
       "      <td>0</td>\n",
       "    </tr>\n",
       "  </tbody>\n",
       "</table>\n",
       "</div>"
      ],
      "text/plain": [
       "      calls  minutes  messages   mb_used  is_ultra\n",
       "1719   62.0   545.53       3.0   4942.50         0\n",
       "2922   74.0   498.09      97.0  16471.48         0\n",
       "1895   93.0   630.74      54.0  13246.51         0\n",
       "161    58.0   394.15      48.0  15605.44         0\n",
       "255    40.0   225.89      12.0  13581.94         0\n",
       "1089   51.0   371.83      63.0   5774.98         0\n",
       "1463    7.0    22.96       7.0  12762.99         0\n",
       "1009   84.0   608.19      19.0  25013.18         0\n",
       "2322  134.0   933.89      91.0  12468.87         1\n",
       "1126   93.0   628.59      41.0  19309.71         0"
      ]
     },
     "metadata": {},
     "output_type": "display_data"
    },
    {
     "name": "stdout",
     "output_type": "stream",
     "text": [
      "\n",
      "----Info útil----\n",
      "\n",
      "<class 'pandas.core.frame.DataFrame'>\n",
      "RangeIndex: 3214 entries, 0 to 3213\n",
      "Data columns (total 5 columns):\n",
      " #   Column    Non-Null Count  Dtype  \n",
      "---  ------    --------------  -----  \n",
      " 0   calls     3214 non-null   float64\n",
      " 1   minutes   3214 non-null   float64\n",
      " 2   messages  3214 non-null   float64\n",
      " 3   mb_used   3214 non-null   float64\n",
      " 4   is_ultra  3214 non-null   int64  \n",
      "dtypes: float64(4), int64(1)\n",
      "memory usage: 125.7 KB\n"
     ]
    }
   ],
   "source": [
    "# Carguemos y mostremos\n",
    "df_original = pd.read_csv(\"/datasets/users_behavior.csv\")\n",
    "\n",
    "display(df_original.sample(n=10, random_state=1))\n",
    "print(\"\\n----Info útil----\\n\")\n",
    "df_original.info()"
   ]
  },
  {
   "cell_type": "markdown",
   "metadata": {},
   "source": [
    "Se ve todo en órden, no necesitamos hacer nada de limpieza o cambios. Ahora lo que haremos será separar el dataset en target y features, y hacer los conjuntos para entrenamiento, validación y testeo por separado: usaremos la regla de 60% para entrenamiento y 20% tanto para testeo y validación"
   ]
  },
  {
   "cell_type": "code",
   "execution_count": 61,
   "metadata": {},
   "outputs": [
    {
     "name": "stdout",
     "output_type": "stream",
     "text": [
      "Feat | train: 1928, test: 643, valid: 643\n",
      "Targ | train: 1928, test: 643, valid: 643\n"
     ]
    }
   ],
   "source": [
    "# Separemos en target y feature el dataset\n",
    "df_features = df_original.drop([\"is_ultra\"], axis=1)\n",
    "df_target = df_original.is_ultra\n",
    "\n",
    "# Hagamos el split en nuestros conjuntos de entrenamiento, test y validación. Lo hacemos en dos partes,\n",
    "# el primero divide al 20% y el segundo al 25% para tomar de ese 80% (0.25*0.8 = 0.2 como se desea).\n",
    "features_train, features_test, target_train, target_test  = train_test_split(\n",
    "    df_features, df_target, test_size=0.2, random_state = 1\n",
    ")\n",
    "\n",
    "features_train, features_valid, target_train, target_valid  = train_test_split(\n",
    "    features_train, target_train, test_size=0.25, random_state = 1\n",
    ")\n",
    "\n",
    "#Hagamos un simple chequeo de los rows para ver que todo anda en órden.\n",
    "print(\n",
    "    f\"Feat | train: {features_train.shape[0]}, test: {features_test.shape[0]}, valid: {features_valid.shape[0]}\"\n",
    ")\n",
    "print(\n",
    "    f\"Targ | train: {target_train.shape[0]}, test: {target_test.shape[0]}, valid: {target_valid.shape[0]}\"\n",
    ")"
   ]
  },
  {
   "cell_type": "markdown",
   "metadata": {},
   "source": [
    "Todo se ve bien por acá, entonces podemos empezar a trabajar con diferentes modelos de machine learning."
   ]
  },
  {
   "cell_type": "markdown",
   "metadata": {},
   "source": [
    "## Modelos de machine learning\n",
    "\n",
    "Utilizaremos tres modelos diferentes de aprendizaje para nuestros datos organizados. Probaremos con el modelo de árboles de decisión, de bosques aleatorios, y de regresión logística, y variaremos diferentes hiperpárametros cuando sea posible."
   ]
  },
  {
   "cell_type": "markdown",
   "metadata": {},
   "source": [
    "### Modelo de Árboles de decisión\n",
    "\n",
    "El primer modelo a utilizar es el de árboles de decisión con el hiperpárametro la profundidad del modelo."
   ]
  },
  {
   "cell_type": "code",
   "execution_count": 62,
   "metadata": {},
   "outputs": [
    {
     "data": {
      "application/vnd.jupyter.widget-view+json": {
       "model_id": "741b24f9736c4c76926a0100b25568a5",
       "version_major": 2,
       "version_minor": 0
      },
      "text/plain": [
       "  0%|          | 0/20 [00:00<?, ?it/s]"
      ]
     },
     "metadata": {},
     "output_type": "display_data"
    }
   ],
   "source": [
    "# Creamos un dataframe para guardar resultados\n",
    "results_trees = pd.DataFrame([], columns=[\"depth\", \"accuracy\"])\n",
    "\n",
    "# Variemos los estimadores\n",
    "for depth in tqdm(range(1, 20+1, 1)):\n",
    "    model_trees= DecisionTreeClassifier(max_depth = depth, random_state=1)\n",
    "    model_trees.fit(features_train, target_train)\n",
    "\n",
    "    prediction_trees = model_trees.predict(features_valid)\n",
    "\n",
    "    results_trees = results_trees.append(\n",
    "        {\n",
    "            \"depth\": depth,\n",
    "            \"accuracy\": accuracy_score(target_valid, prediction_trees)\n",
    "        },\n",
    "        ignore_index=True\n",
    "    )"
   ]
  },
  {
   "cell_type": "code",
   "execution_count": 63,
   "metadata": {},
   "outputs": [
    {
     "data": {
      "image/png": "[encoded data removed]",
      "text/plain": [
       "<Figure size 720x360 with 1 Axes>"
      ]
     },
     "metadata": {
      "needs_background": "light"
     },
     "output_type": "display_data"
    }
   ],
   "source": [
    "results_trees.plot(x=\"depth\", y=\"accuracy\", figsize=(10,5))\n",
    "plt.title(\"Profundidad contra exactitud de Decision Trees\")\n",
    "plt.show()"
   ]
  },
  {
   "cell_type": "markdown",
   "metadata": {},
   "source": [
    "Tenemos una buena exactitud con este modelo, aunque es un poco simple, note que es curioso que la mayor exactitud se pierde con una mayor profundidad."
   ]
  },
  {
   "cell_type": "markdown",
   "metadata": {},
   "source": [
    "### Modelo de Bosque Aleatorio\n",
    "Como tenemos libertad con el tiempo de cómputo, variaremos los hiperpárametros _depth_ y _estimators_ para encontrar la mejor opción. Los guardaremos en una tabla y dibujaremos un heatmap para comparar accuracy."
   ]
  },
  {
   "cell_type": "code",
   "execution_count": 64,
   "metadata": {},
   "outputs": [
    {
     "data": {
      "application/vnd.jupyter.widget-view+json": {
       "model_id": "4fbb13a9c31b4873af202fd2a7b86600",
       "version_major": 2,
       "version_minor": 0
      },
      "text/plain": [
       "  0%|          | 0/20 [00:00<?, ?it/s]"
      ]
     },
     "metadata": {},
     "output_type": "display_data"
    }
   ],
   "source": [
    "# Creamos un dataframe para guardar resultados\n",
    "results_random_trees = pd.DataFrame([], columns=[\"depth\", \"estimators\", \"accuracy\"])\n",
    "\n",
    "# Hagamos los dos loops anidados para los hiper párametros, usemos tqdm para llevar track del tiempo\n",
    "for depth in tqdm(range(1, 20+1, 1)):\n",
    "    for est in range(10, 100+1, 10):\n",
    "        model_random_trees = RandomForestClassifier(n_estimators = est, max_depth=depth, random_state=1)\n",
    "        model_random_trees.fit(features_train, target_train)\n",
    "        \n",
    "        prediction_random_trees = model_random_trees.predict(features_valid)\n",
    "        \n",
    "        results_random_trees = results_random_trees.append(\n",
    "            {\n",
    "                \"depth\": depth,\n",
    "                \"estimators\": est,\n",
    "                \"accuracy\": accuracy_score(target_valid, prediction_random_trees)\n",
    "            },\n",
    "            ignore_index=True\n",
    "        )"
   ]
  },
  {
   "cell_type": "code",
   "execution_count": 65,
   "metadata": {},
   "outputs": [
    {
     "data": {
      "image/png": "[encoded data removed]",
      "text/plain": [
       "<Figure size 432x288 with 2 Axes>"
      ]
     },
     "metadata": {
      "needs_background": "light"
     },
     "output_type": "display_data"
    }
   ],
   "source": [
    "#results_random_trees.heatmap()\n",
    "#sns.heatmap(results_random_trees.pivot(\"depth\", \"estimators\", \"accuracy\"))\n",
    "\n",
    "pivot_random_trees = results_random_trees.pivot_table(\n",
    "    columns=\"estimators\", index = \"depth\", values=\"accuracy\"\n",
    ")\n",
    "\n",
    "sns.heatmap(pivot_random_trees, cmap=\"Blues\")\n",
    "\n",
    "plt.title(\"Depth contra estimators de la exactitud del Modelo de Random Trees\")\n",
    "plt.show()"
   ]
  },
  {
   "cell_type": "markdown",
   "metadata": {},
   "source": [
    "Como podemos ver de los resultados, la diferencia no es muy grande entre el valor más bajo y el más alto; si quisieramos tomar este último podríamos pecar de sobreajustar nuestros modelo y sería mejor en todo caso irnos por la justa medianía. Observese que en el caso de una profundidad de 8, con 40 estimadores es uno de los que mejor exactitud tiene. Veamos ese dato."
   ]
  },
  {
   "cell_type": "code",
   "execution_count": 66,
   "metadata": {},
   "outputs": [
    {
     "data": {
      "text/plain": [
       "0.807153965785381"
      ]
     },
     "execution_count": 66,
     "metadata": {},
     "output_type": "execute_result"
    }
   ],
   "source": [
    "pivot_random_trees[40][8]"
   ]
  },
  {
   "cell_type": "markdown",
   "metadata": {},
   "source": [
    "Tenemos una exactitud de casi el 81% para este modelo tan simple, vamos por buen puerto. No elegimos valores más altos de exactitud porque podríamos arriesgarnos a sobreajustar por una diferencia ínfima de mejoría."
   ]
  },
  {
   "cell_type": "markdown",
   "metadata": {},
   "source": [
    "### Modelo de Regresión logística\n",
    "\n",
    "Ahora toca el último modelo, de regresión logística, el cual no tiene hiperpárametros (el solver y penalty realmente no lo son, aunque pueden modificarse)."
   ]
  },
  {
   "cell_type": "code",
   "execution_count": 67,
   "metadata": {},
   "outputs": [
    {
     "data": {
      "text/plain": [
       "0.7558320373250389"
      ]
     },
     "execution_count": 67,
     "metadata": {},
     "output_type": "execute_result"
    }
   ],
   "source": [
    "# Creamos un dataframe para guardar resultados\n",
    "results_logistic = pd.DataFrame([], columns=[\"depth\", \"estimators\", \"accuracy\"])\n",
    "\n",
    "model_logistic =  LogisticRegression ()\n",
    "\n",
    "model_logistic.fit(features_train, target_train)\n",
    "prediction_logistic = model_logistic.predict(features_valid)\n",
    "        \n",
    "accuracy_score(target_valid, prediction_logistic)"
   ]
  },
  {
   "cell_type": "markdown",
   "metadata": {},
   "source": [
    "Notemos que el modelo de regresión logística no es particularmente exacto, el _accuracy_score_ no es muy alto, aunque la rapidez de entrenamiento es alta y el procedimiento es bastante sencillo."
   ]
  },
  {
   "cell_type": "markdown",
   "metadata": {},
   "source": [
    "## Datos de prueba\n",
    "\n",
    "Hemos trabajado con tres modelos hasta el momento, y el que obtuvimos que parece ser el mejor candidato es el Modelo de Bosque Aleatorio con profundidad 8 y 40 estimadores. Entremos este modelo con el dataset ampliado de los datos de entrenamiento y validación (para tener mejor exactitud), y hagamos la predicción con nuestros datos de prueba."
   ]
  },
  {
   "cell_type": "code",
   "execution_count": 68,
   "metadata": {},
   "outputs": [
    {
     "name": "stdout",
     "output_type": "stream",
     "text": [
      "Tenemos una exactitud de 79.4712% para el conjunto de prueba.\n"
     ]
    }
   ],
   "source": [
    "# Usemos el modelo contemplado\n",
    "final_model = RandomForestClassifier(n_estimators = 8, max_depth=40, random_state=1)\n",
    "final_model.fit(\n",
    "    pd.concat([features_train, features_valid], axis=0),\n",
    "    pd.concat([target_train, target_valid], axis=0)\n",
    ")\n",
    "\n",
    "# Hagamos la predicción\n",
    "prediction_final = final_model.predict(features_test)\n",
    "\n",
    "print(\n",
    "    f\"Tenemos una exactitud de {accuracy_score(target_test, prediction_final)*100:.4f}% para el conjunto de prueba.\"\n",
    ")\n"
   ]
  },
  {
   "cell_type": "markdown",
   "metadata": {},
   "source": [
    "Nuestro modelo ha bajado un poco su exactitud al ser utilizado, pero sigue siendo mayor que el 75% mínimo deseable. Es un resultado positivo para nuestro modelo."
   ]
  },
  {
   "cell_type": "markdown",
   "metadata": {},
   "source": [
    "## Conclusiones\n",
    "\n",
    "Hemos dividido nuestro dataset en tres grupos: entrenamiento, validación y prueba. Probamos diversos modelos y notamos que el de Bosques Aleatorios tiene la mejor relación entre exactitud y rapidez de entrenamiento. También no parece que este sobreajustado, aunque al hacer la prueba hubo una pequeña reducción en la exactitud (algo completamente normal en todo caso)."
   ]
  }
 ],
 "metadata": {
  "kernelspec": {
   "display_name": "Python 3 (ipykernel)",
   "language": "python",
   "name": "python3"
  },
  "language_info": {
   "codemirror_mode": {
    "name": "ipython",
    "version": 3
   },
   "file_extension": ".py",
   "mimetype": "text/x-python",
   "name": "python",
   "nbconvert_exporter": "python",
   "pygments_lexer": "ipython3",
   "version": "3.9.5"
  },
  "toc": {
   "base_numbering": 1,
   "nav_menu": {},
   "number_sections": true,
   "sideBar": true,
   "skip_h1_title": true,
   "title_cell": "Table of Contents",
   "title_sidebar": "Contents",
   "toc_cell": false,
   "toc_position": {},
   "toc_section_display": true,
   "toc_window_display": true
  }
 },
 "nbformat": 4,
 "nbformat_minor": 2
}
