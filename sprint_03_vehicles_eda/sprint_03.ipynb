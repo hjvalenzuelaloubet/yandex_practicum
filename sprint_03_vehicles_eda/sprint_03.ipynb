{
 "cells": [
  {
   "cell_type": "markdown",
   "metadata": {},
   "source": [
    "# ¿Qué vende un coche?\n",
    "\n",
    "Eres un analista en Crankshaft List. Cientos de anuncios gratuitos de vehículos se publican en tu sitio web cada día. Necesitas estudiar los datos recopilados durante los últimos años y determinar qué factores influyen en el precio de un vehículo."
   ]
  },
  {
   "cell_type": "markdown",
   "metadata": {},
   "source": [
    "Tomaremos la información del dataset para poder determinar que factores marcan una relación con el precio de lista de un vehículo: iremos limpiando y manejando los datos para intentar relacionar el precio con parámetros como el millaje, el color, el año de colocación, la transmisión y la condición del vehículo."
   ]
  },
  {
   "cell_type": "markdown",
   "metadata": {},
   "source": [
    "## Inicialización"
   ]
  },
  {
   "cell_type": "markdown",
   "metadata": {},
   "source": [
    "Importaremos _pandas_ para hacer el procesamiento/análisis de datos y _matplotlib_ para ayudarnos en algunos pasos del graficado posterior. Numpy servirá para hacer algunos cálculos numéricos."
   ]
  },
  {
   "cell_type": "code",
   "execution_count": 1,
   "metadata": {},
   "outputs": [],
   "source": [
    "# Cargar todas las librerías\n",
    "import pandas as pd\n",
    "import matplotlib.pyplot as plt\n",
    "import numpy as np"
   ]
  },
  {
   "cell_type": "markdown",
   "metadata": {},
   "source": [
    "### Cargar datos"
   ]
  },
  {
   "cell_type": "markdown",
   "metadata": {},
   "source": [
    "Cargaremos los datos que vamos a usar en este estudio en el dataframe _df_.\n"
   ]
  },
  {
   "cell_type": "code",
   "execution_count": 2,
   "metadata": {},
   "outputs": [],
   "source": [
    "# Carga el archivo de datos en un DataFrame\n",
    "df = pd.read_csv(\"/datasets/vehicles_us.csv\")\n"
   ]
  },
  {
   "cell_type": "markdown",
   "metadata": {},
   "source": [
    "### Explorar datos iniciales"
   ]
  },
  {
   "cell_type": "markdown",
   "metadata": {},
   "source": [
    "El dataset contiene los siguientes campos:\n",
    "- `price`\n",
    "- `model_year`\n",
    "- `model`\n",
    "- `condition`\n",
    "- `cylinders`\n",
    "- `fuel` — gasolina, diesel, etc.\n",
    "- `odometer` — el millaje del vehículo cuando el anuncio fue publicado\n",
    "- `transmission`\n",
    "- `paint_color`\n",
    "- `is_4wd` — si el vehículo tiene tracción a las 4 ruedas (tipo Booleano)\n",
    "- `date_posted` — la fecha en la que el anuncio fue publicado\n",
    "- `days_listed` — desde la publicación hasta que se elimina\n",
    "\n",
    "Hágamos una pequeña exploración inicial para entender con que nos enfrentamos: primero haremos un _info_ para poder ver como se encuentran las columnas, posteriormente haremos un _sample_, un _head_ y un _tail_ para poder tener un vistazo general."
   ]
  },
  {
   "cell_type": "code",
   "execution_count": 3,
   "metadata": {},
   "outputs": [
    {
     "name": "stdout",
     "output_type": "stream",
     "text": [
      "Info\n",
      "<class 'pandas.core.frame.DataFrame'>\n",
      "RangeIndex: 51525 entries, 0 to 51524\n",
      "Data columns (total 13 columns):\n",
      " #   Column        Non-Null Count  Dtype  \n",
      "---  ------        --------------  -----  \n",
      " 0   price         51525 non-null  int64  \n",
      " 1   model_year    47906 non-null  float64\n",
      " 2   model         51525 non-null  object \n",
      " 3   condition     51525 non-null  object \n",
      " 4   cylinders     46265 non-null  float64\n",
      " 5   fuel          51525 non-null  object \n",
      " 6   odometer      43633 non-null  float64\n",
      " 7   transmission  51525 non-null  object \n",
      " 8   type          51525 non-null  object \n",
      " 9   paint_color   42258 non-null  object \n",
      " 10  is_4wd        25572 non-null  float64\n",
      " 11  date_posted   51525 non-null  object \n",
      " 12  days_listed   51525 non-null  int64  \n",
      "dtypes: float64(4), int64(2), object(7)\n",
      "memory usage: 5.1+ MB\n",
      "Describe\n"
     ]
    },
    {
     "data": {
      "text/html": [
       "<div>\n",
       "<style scoped>\n",
       "    .dataframe tbody tr th:only-of-type {\n",
       "        vertical-align: middle;\n",
       "    }\n",
       "\n",
       "    .dataframe tbody tr th {\n",
       "        vertical-align: top;\n",
       "    }\n",
       "\n",
       "    .dataframe thead th {\n",
       "        text-align: right;\n",
       "    }\n",
       "</style>\n",
       "<table border=\"1\" class=\"dataframe\">\n",
       "  <thead>\n",
       "    <tr style=\"text-align: right;\">\n",
       "      <th></th>\n",
       "      <th>price</th>\n",
       "      <th>model_year</th>\n",
       "      <th>cylinders</th>\n",
       "      <th>odometer</th>\n",
       "      <th>is_4wd</th>\n",
       "      <th>days_listed</th>\n",
       "    </tr>\n",
       "  </thead>\n",
       "  <tbody>\n",
       "    <tr>\n",
       "      <th>count</th>\n",
       "      <td>51525.000000</td>\n",
       "      <td>47906.000000</td>\n",
       "      <td>46265.000000</td>\n",
       "      <td>43633.000000</td>\n",
       "      <td>25572.0</td>\n",
       "      <td>51525.00000</td>\n",
       "    </tr>\n",
       "    <tr>\n",
       "      <th>mean</th>\n",
       "      <td>12132.464920</td>\n",
       "      <td>2009.750470</td>\n",
       "      <td>6.125235</td>\n",
       "      <td>115553.461738</td>\n",
       "      <td>1.0</td>\n",
       "      <td>39.55476</td>\n",
       "    </tr>\n",
       "    <tr>\n",
       "      <th>std</th>\n",
       "      <td>10040.803015</td>\n",
       "      <td>6.282065</td>\n",
       "      <td>1.660360</td>\n",
       "      <td>65094.611341</td>\n",
       "      <td>0.0</td>\n",
       "      <td>28.20427</td>\n",
       "    </tr>\n",
       "    <tr>\n",
       "      <th>min</th>\n",
       "      <td>1.000000</td>\n",
       "      <td>1908.000000</td>\n",
       "      <td>3.000000</td>\n",
       "      <td>0.000000</td>\n",
       "      <td>1.0</td>\n",
       "      <td>0.00000</td>\n",
       "    </tr>\n",
       "    <tr>\n",
       "      <th>25%</th>\n",
       "      <td>5000.000000</td>\n",
       "      <td>2006.000000</td>\n",
       "      <td>4.000000</td>\n",
       "      <td>70000.000000</td>\n",
       "      <td>1.0</td>\n",
       "      <td>19.00000</td>\n",
       "    </tr>\n",
       "    <tr>\n",
       "      <th>50%</th>\n",
       "      <td>9000.000000</td>\n",
       "      <td>2011.000000</td>\n",
       "      <td>6.000000</td>\n",
       "      <td>113000.000000</td>\n",
       "      <td>1.0</td>\n",
       "      <td>33.00000</td>\n",
       "    </tr>\n",
       "    <tr>\n",
       "      <th>75%</th>\n",
       "      <td>16839.000000</td>\n",
       "      <td>2014.000000</td>\n",
       "      <td>8.000000</td>\n",
       "      <td>155000.000000</td>\n",
       "      <td>1.0</td>\n",
       "      <td>53.00000</td>\n",
       "    </tr>\n",
       "    <tr>\n",
       "      <th>max</th>\n",
       "      <td>375000.000000</td>\n",
       "      <td>2019.000000</td>\n",
       "      <td>12.000000</td>\n",
       "      <td>990000.000000</td>\n",
       "      <td>1.0</td>\n",
       "      <td>271.00000</td>\n",
       "    </tr>\n",
       "  </tbody>\n",
       "</table>\n",
       "</div>"
      ],
      "text/plain": [
       "               price    model_year     cylinders       odometer   is_4wd  \\\n",
       "count   51525.000000  47906.000000  46265.000000   43633.000000  25572.0   \n",
       "mean    12132.464920   2009.750470      6.125235  115553.461738      1.0   \n",
       "std     10040.803015      6.282065      1.660360   65094.611341      0.0   \n",
       "min         1.000000   1908.000000      3.000000       0.000000      1.0   \n",
       "25%      5000.000000   2006.000000      4.000000   70000.000000      1.0   \n",
       "50%      9000.000000   2011.000000      6.000000  113000.000000      1.0   \n",
       "75%     16839.000000   2014.000000      8.000000  155000.000000      1.0   \n",
       "max    375000.000000   2019.000000     12.000000  990000.000000      1.0   \n",
       "\n",
       "       days_listed  \n",
       "count  51525.00000  \n",
       "mean      39.55476  \n",
       "std       28.20427  \n",
       "min        0.00000  \n",
       "25%       19.00000  \n",
       "50%       33.00000  \n",
       "75%       53.00000  \n",
       "max      271.00000  "
      ]
     },
     "execution_count": 3,
     "metadata": {},
     "output_type": "execute_result"
    }
   ],
   "source": [
    "# imprime la información general/resumida sobre el DataFrame\n",
    "print(\"Info\")\n",
    "df.info()\n",
    "\n",
    "print(\"Describe\")\n",
    "df.describe()"
   ]
  },
  {
   "cell_type": "code",
   "execution_count": 4,
   "metadata": {},
   "outputs": [
    {
     "name": "stdout",
     "output_type": "stream",
     "text": [
      "Sample\n"
     ]
    },
    {
     "data": {
      "text/html": [
       "<div>\n",
       "<style scoped>\n",
       "    .dataframe tbody tr th:only-of-type {\n",
       "        vertical-align: middle;\n",
       "    }\n",
       "\n",
       "    .dataframe tbody tr th {\n",
       "        vertical-align: top;\n",
       "    }\n",
       "\n",
       "    .dataframe thead th {\n",
       "        text-align: right;\n",
       "    }\n",
       "</style>\n",
       "<table border=\"1\" class=\"dataframe\">\n",
       "  <thead>\n",
       "    <tr style=\"text-align: right;\">\n",
       "      <th></th>\n",
       "      <th>price</th>\n",
       "      <th>model_year</th>\n",
       "      <th>model</th>\n",
       "      <th>condition</th>\n",
       "      <th>cylinders</th>\n",
       "      <th>fuel</th>\n",
       "      <th>odometer</th>\n",
       "      <th>transmission</th>\n",
       "      <th>type</th>\n",
       "      <th>paint_color</th>\n",
       "      <th>is_4wd</th>\n",
       "      <th>date_posted</th>\n",
       "      <th>days_listed</th>\n",
       "    </tr>\n",
       "  </thead>\n",
       "  <tbody>\n",
       "    <tr>\n",
       "      <th>5326</th>\n",
       "      <td>14995</td>\n",
       "      <td>2010.0</td>\n",
       "      <td>jeep wrangler unlimited</td>\n",
       "      <td>excellent</td>\n",
       "      <td>6.0</td>\n",
       "      <td>gas</td>\n",
       "      <td>126000.0</td>\n",
       "      <td>manual</td>\n",
       "      <td>SUV</td>\n",
       "      <td>silver</td>\n",
       "      <td>1.0</td>\n",
       "      <td>2018-10-29</td>\n",
       "      <td>8</td>\n",
       "    </tr>\n",
       "    <tr>\n",
       "      <th>6449</th>\n",
       "      <td>26900</td>\n",
       "      <td>2014.0</td>\n",
       "      <td>ford mustang gt coupe 2d</td>\n",
       "      <td>good</td>\n",
       "      <td>8.0</td>\n",
       "      <td>gas</td>\n",
       "      <td>15201.0</td>\n",
       "      <td>automatic</td>\n",
       "      <td>coupe</td>\n",
       "      <td>blue</td>\n",
       "      <td>NaN</td>\n",
       "      <td>2019-01-23</td>\n",
       "      <td>23</td>\n",
       "    </tr>\n",
       "    <tr>\n",
       "      <th>24633</th>\n",
       "      <td>5790</td>\n",
       "      <td>2011.0</td>\n",
       "      <td>ford fusion</td>\n",
       "      <td>good</td>\n",
       "      <td>6.0</td>\n",
       "      <td>gas</td>\n",
       "      <td>101400.0</td>\n",
       "      <td>automatic</td>\n",
       "      <td>sedan</td>\n",
       "      <td>NaN</td>\n",
       "      <td>NaN</td>\n",
       "      <td>2018-11-05</td>\n",
       "      <td>48</td>\n",
       "    </tr>\n",
       "    <tr>\n",
       "      <th>28317</th>\n",
       "      <td>17490</td>\n",
       "      <td>2016.0</td>\n",
       "      <td>ford econoline</td>\n",
       "      <td>good</td>\n",
       "      <td>10.0</td>\n",
       "      <td>gas</td>\n",
       "      <td>122974.0</td>\n",
       "      <td>automatic</td>\n",
       "      <td>truck</td>\n",
       "      <td>yellow</td>\n",
       "      <td>NaN</td>\n",
       "      <td>2018-05-25</td>\n",
       "      <td>35</td>\n",
       "    </tr>\n",
       "    <tr>\n",
       "      <th>2672</th>\n",
       "      <td>8900</td>\n",
       "      <td>2005.0</td>\n",
       "      <td>chevrolet suburban</td>\n",
       "      <td>good</td>\n",
       "      <td>NaN</td>\n",
       "      <td>gas</td>\n",
       "      <td>NaN</td>\n",
       "      <td>automatic</td>\n",
       "      <td>SUV</td>\n",
       "      <td>white</td>\n",
       "      <td>NaN</td>\n",
       "      <td>2018-12-23</td>\n",
       "      <td>60</td>\n",
       "    </tr>\n",
       "    <tr>\n",
       "      <th>26325</th>\n",
       "      <td>4399</td>\n",
       "      <td>2006.0</td>\n",
       "      <td>honda accord</td>\n",
       "      <td>excellent</td>\n",
       "      <td>4.0</td>\n",
       "      <td>gas</td>\n",
       "      <td>117000.0</td>\n",
       "      <td>automatic</td>\n",
       "      <td>sedan</td>\n",
       "      <td>grey</td>\n",
       "      <td>NaN</td>\n",
       "      <td>2018-08-29</td>\n",
       "      <td>55</td>\n",
       "    </tr>\n",
       "    <tr>\n",
       "      <th>15099</th>\n",
       "      <td>24999</td>\n",
       "      <td>2016.0</td>\n",
       "      <td>ford f-150</td>\n",
       "      <td>excellent</td>\n",
       "      <td>8.0</td>\n",
       "      <td>gas</td>\n",
       "      <td>60810.0</td>\n",
       "      <td>automatic</td>\n",
       "      <td>truck</td>\n",
       "      <td>black</td>\n",
       "      <td>1.0</td>\n",
       "      <td>2019-01-07</td>\n",
       "      <td>2</td>\n",
       "    </tr>\n",
       "    <tr>\n",
       "      <th>23061</th>\n",
       "      <td>13500</td>\n",
       "      <td>2008.0</td>\n",
       "      <td>chevrolet silverado 1500</td>\n",
       "      <td>excellent</td>\n",
       "      <td>8.0</td>\n",
       "      <td>gas</td>\n",
       "      <td>164399.0</td>\n",
       "      <td>automatic</td>\n",
       "      <td>truck</td>\n",
       "      <td>silver</td>\n",
       "      <td>1.0</td>\n",
       "      <td>2019-03-09</td>\n",
       "      <td>43</td>\n",
       "    </tr>\n",
       "    <tr>\n",
       "      <th>48614</th>\n",
       "      <td>2395</td>\n",
       "      <td>2001.0</td>\n",
       "      <td>subaru outback</td>\n",
       "      <td>good</td>\n",
       "      <td>4.0</td>\n",
       "      <td>gas</td>\n",
       "      <td>295000.0</td>\n",
       "      <td>automatic</td>\n",
       "      <td>wagon</td>\n",
       "      <td>NaN</td>\n",
       "      <td>1.0</td>\n",
       "      <td>2018-11-12</td>\n",
       "      <td>22</td>\n",
       "    </tr>\n",
       "    <tr>\n",
       "      <th>19547</th>\n",
       "      <td>10875</td>\n",
       "      <td>2016.0</td>\n",
       "      <td>toyota corolla</td>\n",
       "      <td>excellent</td>\n",
       "      <td>4.0</td>\n",
       "      <td>gas</td>\n",
       "      <td>53997.0</td>\n",
       "      <td>automatic</td>\n",
       "      <td>sedan</td>\n",
       "      <td>grey</td>\n",
       "      <td>NaN</td>\n",
       "      <td>2019-04-02</td>\n",
       "      <td>9</td>\n",
       "    </tr>\n",
       "  </tbody>\n",
       "</table>\n",
       "</div>"
      ],
      "text/plain": [
       "       price  model_year                     model  condition  cylinders fuel  \\\n",
       "5326   14995      2010.0   jeep wrangler unlimited  excellent        6.0  gas   \n",
       "6449   26900      2014.0  ford mustang gt coupe 2d       good        8.0  gas   \n",
       "24633   5790      2011.0               ford fusion       good        6.0  gas   \n",
       "28317  17490      2016.0            ford econoline       good       10.0  gas   \n",
       "2672    8900      2005.0        chevrolet suburban       good        NaN  gas   \n",
       "26325   4399      2006.0              honda accord  excellent        4.0  gas   \n",
       "15099  24999      2016.0                ford f-150  excellent        8.0  gas   \n",
       "23061  13500      2008.0  chevrolet silverado 1500  excellent        8.0  gas   \n",
       "48614   2395      2001.0            subaru outback       good        4.0  gas   \n",
       "19547  10875      2016.0            toyota corolla  excellent        4.0  gas   \n",
       "\n",
       "       odometer transmission   type paint_color  is_4wd date_posted  \\\n",
       "5326   126000.0       manual    SUV      silver     1.0  2018-10-29   \n",
       "6449    15201.0    automatic  coupe        blue     NaN  2019-01-23   \n",
       "24633  101400.0    automatic  sedan         NaN     NaN  2018-11-05   \n",
       "28317  122974.0    automatic  truck      yellow     NaN  2018-05-25   \n",
       "2672        NaN    automatic    SUV       white     NaN  2018-12-23   \n",
       "26325  117000.0    automatic  sedan        grey     NaN  2018-08-29   \n",
       "15099   60810.0    automatic  truck       black     1.0  2019-01-07   \n",
       "23061  164399.0    automatic  truck      silver     1.0  2019-03-09   \n",
       "48614  295000.0    automatic  wagon         NaN     1.0  2018-11-12   \n",
       "19547   53997.0    automatic  sedan        grey     NaN  2019-04-02   \n",
       "\n",
       "       days_listed  \n",
       "5326             8  \n",
       "6449            23  \n",
       "24633           48  \n",
       "28317           35  \n",
       "2672            60  \n",
       "26325           55  \n",
       "15099            2  \n",
       "23061           43  \n",
       "48614           22  \n",
       "19547            9  "
      ]
     },
     "metadata": {},
     "output_type": "display_data"
    },
    {
     "name": "stdout",
     "output_type": "stream",
     "text": [
      "Head\n"
     ]
    },
    {
     "data": {
      "text/html": [
       "<div>\n",
       "<style scoped>\n",
       "    .dataframe tbody tr th:only-of-type {\n",
       "        vertical-align: middle;\n",
       "    }\n",
       "\n",
       "    .dataframe tbody tr th {\n",
       "        vertical-align: top;\n",
       "    }\n",
       "\n",
       "    .dataframe thead th {\n",
       "        text-align: right;\n",
       "    }\n",
       "</style>\n",
       "<table border=\"1\" class=\"dataframe\">\n",
       "  <thead>\n",
       "    <tr style=\"text-align: right;\">\n",
       "      <th></th>\n",
       "      <th>price</th>\n",
       "      <th>model_year</th>\n",
       "      <th>model</th>\n",
       "      <th>condition</th>\n",
       "      <th>cylinders</th>\n",
       "      <th>fuel</th>\n",
       "      <th>odometer</th>\n",
       "      <th>transmission</th>\n",
       "      <th>type</th>\n",
       "      <th>paint_color</th>\n",
       "      <th>is_4wd</th>\n",
       "      <th>date_posted</th>\n",
       "      <th>days_listed</th>\n",
       "    </tr>\n",
       "  </thead>\n",
       "  <tbody>\n",
       "    <tr>\n",
       "      <th>0</th>\n",
       "      <td>9400</td>\n",
       "      <td>2011.0</td>\n",
       "      <td>bmw x5</td>\n",
       "      <td>good</td>\n",
       "      <td>6.0</td>\n",
       "      <td>gas</td>\n",
       "      <td>145000.0</td>\n",
       "      <td>automatic</td>\n",
       "      <td>SUV</td>\n",
       "      <td>NaN</td>\n",
       "      <td>1.0</td>\n",
       "      <td>2018-06-23</td>\n",
       "      <td>19</td>\n",
       "    </tr>\n",
       "    <tr>\n",
       "      <th>1</th>\n",
       "      <td>25500</td>\n",
       "      <td>NaN</td>\n",
       "      <td>ford f-150</td>\n",
       "      <td>good</td>\n",
       "      <td>6.0</td>\n",
       "      <td>gas</td>\n",
       "      <td>88705.0</td>\n",
       "      <td>automatic</td>\n",
       "      <td>pickup</td>\n",
       "      <td>white</td>\n",
       "      <td>1.0</td>\n",
       "      <td>2018-10-19</td>\n",
       "      <td>50</td>\n",
       "    </tr>\n",
       "    <tr>\n",
       "      <th>2</th>\n",
       "      <td>5500</td>\n",
       "      <td>2013.0</td>\n",
       "      <td>hyundai sonata</td>\n",
       "      <td>like new</td>\n",
       "      <td>4.0</td>\n",
       "      <td>gas</td>\n",
       "      <td>110000.0</td>\n",
       "      <td>automatic</td>\n",
       "      <td>sedan</td>\n",
       "      <td>red</td>\n",
       "      <td>NaN</td>\n",
       "      <td>2019-02-07</td>\n",
       "      <td>79</td>\n",
       "    </tr>\n",
       "    <tr>\n",
       "      <th>3</th>\n",
       "      <td>1500</td>\n",
       "      <td>2003.0</td>\n",
       "      <td>ford f-150</td>\n",
       "      <td>fair</td>\n",
       "      <td>8.0</td>\n",
       "      <td>gas</td>\n",
       "      <td>NaN</td>\n",
       "      <td>automatic</td>\n",
       "      <td>pickup</td>\n",
       "      <td>NaN</td>\n",
       "      <td>NaN</td>\n",
       "      <td>2019-03-22</td>\n",
       "      <td>9</td>\n",
       "    </tr>\n",
       "    <tr>\n",
       "      <th>4</th>\n",
       "      <td>14900</td>\n",
       "      <td>2017.0</td>\n",
       "      <td>chrysler 200</td>\n",
       "      <td>excellent</td>\n",
       "      <td>4.0</td>\n",
       "      <td>gas</td>\n",
       "      <td>80903.0</td>\n",
       "      <td>automatic</td>\n",
       "      <td>sedan</td>\n",
       "      <td>black</td>\n",
       "      <td>NaN</td>\n",
       "      <td>2019-04-02</td>\n",
       "      <td>28</td>\n",
       "    </tr>\n",
       "  </tbody>\n",
       "</table>\n",
       "</div>"
      ],
      "text/plain": [
       "   price  model_year           model  condition  cylinders fuel  odometer  \\\n",
       "0   9400      2011.0          bmw x5       good        6.0  gas  145000.0   \n",
       "1  25500         NaN      ford f-150       good        6.0  gas   88705.0   \n",
       "2   5500      2013.0  hyundai sonata   like new        4.0  gas  110000.0   \n",
       "3   1500      2003.0      ford f-150       fair        8.0  gas       NaN   \n",
       "4  14900      2017.0    chrysler 200  excellent        4.0  gas   80903.0   \n",
       "\n",
       "  transmission    type paint_color  is_4wd date_posted  days_listed  \n",
       "0    automatic     SUV         NaN     1.0  2018-06-23           19  \n",
       "1    automatic  pickup       white     1.0  2018-10-19           50  \n",
       "2    automatic   sedan         red     NaN  2019-02-07           79  \n",
       "3    automatic  pickup         NaN     NaN  2019-03-22            9  \n",
       "4    automatic   sedan       black     NaN  2019-04-02           28  "
      ]
     },
     "metadata": {},
     "output_type": "display_data"
    },
    {
     "name": "stdout",
     "output_type": "stream",
     "text": [
      "Tail\n"
     ]
    },
    {
     "data": {
      "text/html": [
       "<div>\n",
       "<style scoped>\n",
       "    .dataframe tbody tr th:only-of-type {\n",
       "        vertical-align: middle;\n",
       "    }\n",
       "\n",
       "    .dataframe tbody tr th {\n",
       "        vertical-align: top;\n",
       "    }\n",
       "\n",
       "    .dataframe thead th {\n",
       "        text-align: right;\n",
       "    }\n",
       "</style>\n",
       "<table border=\"1\" class=\"dataframe\">\n",
       "  <thead>\n",
       "    <tr style=\"text-align: right;\">\n",
       "      <th></th>\n",
       "      <th>price</th>\n",
       "      <th>model_year</th>\n",
       "      <th>model</th>\n",
       "      <th>condition</th>\n",
       "      <th>cylinders</th>\n",
       "      <th>fuel</th>\n",
       "      <th>odometer</th>\n",
       "      <th>transmission</th>\n",
       "      <th>type</th>\n",
       "      <th>paint_color</th>\n",
       "      <th>is_4wd</th>\n",
       "      <th>date_posted</th>\n",
       "      <th>days_listed</th>\n",
       "    </tr>\n",
       "  </thead>\n",
       "  <tbody>\n",
       "    <tr>\n",
       "      <th>51520</th>\n",
       "      <td>9249</td>\n",
       "      <td>2013.0</td>\n",
       "      <td>nissan maxima</td>\n",
       "      <td>like new</td>\n",
       "      <td>6.0</td>\n",
       "      <td>gas</td>\n",
       "      <td>88136.0</td>\n",
       "      <td>automatic</td>\n",
       "      <td>sedan</td>\n",
       "      <td>black</td>\n",
       "      <td>NaN</td>\n",
       "      <td>2018-10-03</td>\n",
       "      <td>37</td>\n",
       "    </tr>\n",
       "    <tr>\n",
       "      <th>51521</th>\n",
       "      <td>2700</td>\n",
       "      <td>2002.0</td>\n",
       "      <td>honda civic</td>\n",
       "      <td>salvage</td>\n",
       "      <td>4.0</td>\n",
       "      <td>gas</td>\n",
       "      <td>181500.0</td>\n",
       "      <td>automatic</td>\n",
       "      <td>sedan</td>\n",
       "      <td>white</td>\n",
       "      <td>NaN</td>\n",
       "      <td>2018-11-14</td>\n",
       "      <td>22</td>\n",
       "    </tr>\n",
       "    <tr>\n",
       "      <th>51522</th>\n",
       "      <td>3950</td>\n",
       "      <td>2009.0</td>\n",
       "      <td>hyundai sonata</td>\n",
       "      <td>excellent</td>\n",
       "      <td>4.0</td>\n",
       "      <td>gas</td>\n",
       "      <td>128000.0</td>\n",
       "      <td>automatic</td>\n",
       "      <td>sedan</td>\n",
       "      <td>blue</td>\n",
       "      <td>NaN</td>\n",
       "      <td>2018-11-15</td>\n",
       "      <td>32</td>\n",
       "    </tr>\n",
       "    <tr>\n",
       "      <th>51523</th>\n",
       "      <td>7455</td>\n",
       "      <td>2013.0</td>\n",
       "      <td>toyota corolla</td>\n",
       "      <td>good</td>\n",
       "      <td>4.0</td>\n",
       "      <td>gas</td>\n",
       "      <td>139573.0</td>\n",
       "      <td>automatic</td>\n",
       "      <td>sedan</td>\n",
       "      <td>black</td>\n",
       "      <td>NaN</td>\n",
       "      <td>2018-07-02</td>\n",
       "      <td>71</td>\n",
       "    </tr>\n",
       "    <tr>\n",
       "      <th>51524</th>\n",
       "      <td>6300</td>\n",
       "      <td>2014.0</td>\n",
       "      <td>nissan altima</td>\n",
       "      <td>good</td>\n",
       "      <td>4.0</td>\n",
       "      <td>gas</td>\n",
       "      <td>NaN</td>\n",
       "      <td>automatic</td>\n",
       "      <td>sedan</td>\n",
       "      <td>NaN</td>\n",
       "      <td>NaN</td>\n",
       "      <td>2018-06-05</td>\n",
       "      <td>10</td>\n",
       "    </tr>\n",
       "  </tbody>\n",
       "</table>\n",
       "</div>"
      ],
      "text/plain": [
       "       price  model_year           model  condition  cylinders fuel  odometer  \\\n",
       "51520   9249      2013.0   nissan maxima   like new        6.0  gas   88136.0   \n",
       "51521   2700      2002.0     honda civic    salvage        4.0  gas  181500.0   \n",
       "51522   3950      2009.0  hyundai sonata  excellent        4.0  gas  128000.0   \n",
       "51523   7455      2013.0  toyota corolla       good        4.0  gas  139573.0   \n",
       "51524   6300      2014.0   nissan altima       good        4.0  gas       NaN   \n",
       "\n",
       "      transmission   type paint_color  is_4wd date_posted  days_listed  \n",
       "51520    automatic  sedan       black     NaN  2018-10-03           37  \n",
       "51521    automatic  sedan       white     NaN  2018-11-14           22  \n",
       "51522    automatic  sedan        blue     NaN  2018-11-15           32  \n",
       "51523    automatic  sedan       black     NaN  2018-07-02           71  \n",
       "51524    automatic  sedan         NaN     NaN  2018-06-05           10  "
      ]
     },
     "metadata": {},
     "output_type": "display_data"
    }
   ],
   "source": [
    "# imprimir una muestra de datos\n",
    "print(\"Sample\")\n",
    "display(\n",
    "    df.sample(n=10, random_state=5)\n",
    ")\n",
    "\n",
    "print(\"Head\")\n",
    "display(df.head())\n",
    "\n",
    "print(\"Tail\")\n",
    "display(df.tail())"
   ]
  },
  {
   "cell_type": "markdown",
   "metadata": {},
   "source": [
    "Podemos notar que la mayoría de los campos están bien asignados a su tipo, con la excepción de `date_posted` y `is_4wd` los cuales convertiremos a fecha y bool. Por otro lado, no todos los campos tienen el mismo número de valores _NaN_ por lo que debemos de echarles un vistazo después (`model_year`, `cylinders`, `odometers`, `paint_color`, `is_4wd`). La parte que realmente me preocupa es el campo `model`, donde parece que es un campo de entrada libre: esto es un problema porque puede que los usuarios esten introduciendo valores diferentes para el mismo tipo de automóvil, (por ejemplo, escribir ford f-150 y ford 150). \n",
    "\n",
    "Por otro lado, hay algo curioso con los mínimos de `price` y `model_year`: son muy bajos, en el caso del primero es 1.0 y del segundo es 1908 (lo cual no está mal, pero suena extraño), tendremos que revisarlos posteriormente.\n",
    "\n",
    "Aprovéchemos a echar un vistazo de los valores únicos para las columnas que tienen tipo _object_ a excepción de `date_posted` (ya que no parece ser de entrada libre por el formato de fecha que se ve arriba)."
   ]
  },
  {
   "cell_type": "code",
   "execution_count": 5,
   "metadata": {},
   "outputs": [
    {
     "name": "stdout",
     "output_type": "stream",
     "text": [
      "model\n"
     ]
    },
    {
     "data": {
      "text/plain": [
       "ford f-150                           2796\n",
       "chevrolet silverado 1500             2171\n",
       "ram 1500                             1750\n",
       "chevrolet silverado                  1271\n",
       "jeep wrangler                        1119\n",
       "                                     ... \n",
       "ford f-250 super duty                 241\n",
       "kia sorento                           236\n",
       "acura tl                              236\n",
       "nissan murano                         235\n",
       "mercedes-benz benze sprinter 2500      41\n",
       "Name: model, Length: 100, dtype: int64"
      ]
     },
     "metadata": {},
     "output_type": "display_data"
    },
    {
     "name": "stdout",
     "output_type": "stream",
     "text": [
      "\n",
      "condition\n"
     ]
    },
    {
     "data": {
      "text/plain": [
       "excellent    24773\n",
       "good         20145\n",
       "like new      4742\n",
       "fair          1607\n",
       "new            143\n",
       "salvage        115\n",
       "Name: condition, dtype: int64"
      ]
     },
     "metadata": {},
     "output_type": "display_data"
    },
    {
     "name": "stdout",
     "output_type": "stream",
     "text": [
      "\n",
      "fuel\n"
     ]
    },
    {
     "data": {
      "text/plain": [
       "gas         47288\n",
       "diesel       3714\n",
       "hybrid        409\n",
       "other         108\n",
       "electric        6\n",
       "Name: fuel, dtype: int64"
      ]
     },
     "metadata": {},
     "output_type": "display_data"
    },
    {
     "name": "stdout",
     "output_type": "stream",
     "text": [
      "\n",
      "transmission\n"
     ]
    },
    {
     "data": {
      "text/plain": [
       "automatic    46902\n",
       "manual        2829\n",
       "other         1794\n",
       "Name: transmission, dtype: int64"
      ]
     },
     "metadata": {},
     "output_type": "display_data"
    },
    {
     "name": "stdout",
     "output_type": "stream",
     "text": [
      "\n",
      "type\n"
     ]
    },
    {
     "data": {
      "text/plain": [
       "SUV            12405\n",
       "truck          12353\n",
       "sedan          12154\n",
       "pickup          6988\n",
       "coupe           2303\n",
       "wagon           1541\n",
       "mini-van        1161\n",
       "hatchback       1047\n",
       "van              633\n",
       "convertible      446\n",
       "other            256\n",
       "offroad          214\n",
       "bus               24\n",
       "Name: type, dtype: int64"
      ]
     },
     "metadata": {},
     "output_type": "display_data"
    },
    {
     "name": "stdout",
     "output_type": "stream",
     "text": [
      "\n",
      "paint_color\n"
     ]
    },
    {
     "data": {
      "text/plain": [
       "white     10029\n",
       "black      7692\n",
       "silver     6244\n",
       "grey       5037\n",
       "blue       4475\n",
       "red        4421\n",
       "green      1396\n",
       "brown      1223\n",
       "custom     1153\n",
       "yellow      255\n",
       "orange      231\n",
       "purple      102\n",
       "Name: paint_color, dtype: int64"
      ]
     },
     "metadata": {},
     "output_type": "display_data"
    },
    {
     "name": "stdout",
     "output_type": "stream",
     "text": [
      "\n",
      "is_4wd\n"
     ]
    },
    {
     "data": {
      "text/plain": [
       "1.0    25572\n",
       "Name: is_4wd, dtype: int64"
      ]
     },
     "metadata": {},
     "output_type": "display_data"
    },
    {
     "name": "stdout",
     "output_type": "stream",
     "text": [
      "\n"
     ]
    }
   ],
   "source": [
    "for column in [\"model\", \"condition\", \"fuel\", \"transmission\", \"type\", \"paint_color\", \"is_4wd\"]:\n",
    "    print(column)\n",
    "    display(df[column].value_counts())\n",
    "    print()"
   ]
  },
  {
   "cell_type": "markdown",
   "metadata": {},
   "source": [
    "Podemos ver que la mayoría de estos valores únicos no se repiten, pero se advierte que los datos de `model` puede que sí: tan solo nótese que se tiene _chevrolet_silverado_ y chevrolet_silverado_1500; un vistazo rápido a la página de wikipedia [[Link 🔗]](https://es.wikipedia.org/wiki/Chevrolet_Silverado#1500-_2500_-_3500) del vehículo indica que Chevrolet Silverado es un **rango de camionetas**, mientrás que 1500 denota el modelo propiamente (en este caso, el modelo de carga para una tonelada). Tenemos que buscar una manera de corregir esos valores con la familia del modelo/marca de la compañía automotriz.\n"
   ]
  },
  {
   "cell_type": "markdown",
   "metadata": {},
   "source": [
    "### Conclusiones y siguientes pasos\n",
    "\n",
    "Recapitulando, tenemos 51525 datos en total, con al cinco columnas que tienen menos valores (caso especial de `is_4wd`, parece que los ausentes son simplemente False ya que 1.0 tiene la pinta de ser True). La columna `model` nos dará problemas pues hay valores que pueden hacer referencia al mismo modelo/familia. Finalmente, reemplazaremos `condition` con un valor númerico para simplificar el proceso.\n",
    "\n",
    "Como siguientes pasos reemplazaremos los ausentes si es posible, corregiremos los datos de tipo incorrecto y veremos como mejorar la columna `model` antes de ir a estudiar los parámetros."
   ]
  },
  {
   "cell_type": "markdown",
   "metadata": {},
   "source": [
    "## Tratar los valores ausentes (si hay)"
   ]
  },
  {
   "cell_type": "markdown",
   "metadata": {},
   "source": [
    "Tenemos las siguientes columnas con ausentes: `model_year`, `cylinders`, `odometer`, `paint_color`, `is_4wd`. Revisemos si hay alguna relación entre ellos siendo varios valores ausentes en la misma entrada:"
   ]
  },
  {
   "cell_type": "code",
   "execution_count": 6,
   "metadata": {},
   "outputs": [
    {
     "data": {
      "text/html": [
       "<div>\n",
       "<style scoped>\n",
       "    .dataframe tbody tr th:only-of-type {\n",
       "        vertical-align: middle;\n",
       "    }\n",
       "\n",
       "    .dataframe tbody tr th {\n",
       "        vertical-align: top;\n",
       "    }\n",
       "\n",
       "    .dataframe thead th {\n",
       "        text-align: right;\n",
       "    }\n",
       "</style>\n",
       "<table border=\"1\" class=\"dataframe\">\n",
       "  <thead>\n",
       "    <tr style=\"text-align: right;\">\n",
       "      <th></th>\n",
       "      <th>price</th>\n",
       "      <th>model_year</th>\n",
       "      <th>model</th>\n",
       "      <th>condition</th>\n",
       "      <th>cylinders</th>\n",
       "      <th>fuel</th>\n",
       "      <th>odometer</th>\n",
       "      <th>transmission</th>\n",
       "      <th>type</th>\n",
       "      <th>paint_color</th>\n",
       "      <th>is_4wd</th>\n",
       "      <th>date_posted</th>\n",
       "      <th>days_listed</th>\n",
       "    </tr>\n",
       "  </thead>\n",
       "  <tbody>\n",
       "    <tr>\n",
       "      <th>0</th>\n",
       "      <td>9400</td>\n",
       "      <td>2011.0</td>\n",
       "      <td>bmw x5</td>\n",
       "      <td>good</td>\n",
       "      <td>6.0</td>\n",
       "      <td>gas</td>\n",
       "      <td>145000.0</td>\n",
       "      <td>automatic</td>\n",
       "      <td>SUV</td>\n",
       "      <td>NaN</td>\n",
       "      <td>1.0</td>\n",
       "      <td>2018-06-23</td>\n",
       "      <td>19</td>\n",
       "    </tr>\n",
       "    <tr>\n",
       "      <th>1</th>\n",
       "      <td>25500</td>\n",
       "      <td>NaN</td>\n",
       "      <td>ford f-150</td>\n",
       "      <td>good</td>\n",
       "      <td>6.0</td>\n",
       "      <td>gas</td>\n",
       "      <td>88705.0</td>\n",
       "      <td>automatic</td>\n",
       "      <td>pickup</td>\n",
       "      <td>white</td>\n",
       "      <td>1.0</td>\n",
       "      <td>2018-10-19</td>\n",
       "      <td>50</td>\n",
       "    </tr>\n",
       "    <tr>\n",
       "      <th>2</th>\n",
       "      <td>5500</td>\n",
       "      <td>2013.0</td>\n",
       "      <td>hyundai sonata</td>\n",
       "      <td>like new</td>\n",
       "      <td>4.0</td>\n",
       "      <td>gas</td>\n",
       "      <td>110000.0</td>\n",
       "      <td>automatic</td>\n",
       "      <td>sedan</td>\n",
       "      <td>red</td>\n",
       "      <td>NaN</td>\n",
       "      <td>2019-02-07</td>\n",
       "      <td>79</td>\n",
       "    </tr>\n",
       "    <tr>\n",
       "      <th>3</th>\n",
       "      <td>1500</td>\n",
       "      <td>2003.0</td>\n",
       "      <td>ford f-150</td>\n",
       "      <td>fair</td>\n",
       "      <td>8.0</td>\n",
       "      <td>gas</td>\n",
       "      <td>NaN</td>\n",
       "      <td>automatic</td>\n",
       "      <td>pickup</td>\n",
       "      <td>NaN</td>\n",
       "      <td>NaN</td>\n",
       "      <td>2019-03-22</td>\n",
       "      <td>9</td>\n",
       "    </tr>\n",
       "    <tr>\n",
       "      <th>4</th>\n",
       "      <td>14900</td>\n",
       "      <td>2017.0</td>\n",
       "      <td>chrysler 200</td>\n",
       "      <td>excellent</td>\n",
       "      <td>4.0</td>\n",
       "      <td>gas</td>\n",
       "      <td>80903.0</td>\n",
       "      <td>automatic</td>\n",
       "      <td>sedan</td>\n",
       "      <td>black</td>\n",
       "      <td>NaN</td>\n",
       "      <td>2019-04-02</td>\n",
       "      <td>28</td>\n",
       "    </tr>\n",
       "    <tr>\n",
       "      <th>...</th>\n",
       "      <td>...</td>\n",
       "      <td>...</td>\n",
       "      <td>...</td>\n",
       "      <td>...</td>\n",
       "      <td>...</td>\n",
       "      <td>...</td>\n",
       "      <td>...</td>\n",
       "      <td>...</td>\n",
       "      <td>...</td>\n",
       "      <td>...</td>\n",
       "      <td>...</td>\n",
       "      <td>...</td>\n",
       "      <td>...</td>\n",
       "    </tr>\n",
       "    <tr>\n",
       "      <th>51520</th>\n",
       "      <td>9249</td>\n",
       "      <td>2013.0</td>\n",
       "      <td>nissan maxima</td>\n",
       "      <td>like new</td>\n",
       "      <td>6.0</td>\n",
       "      <td>gas</td>\n",
       "      <td>88136.0</td>\n",
       "      <td>automatic</td>\n",
       "      <td>sedan</td>\n",
       "      <td>black</td>\n",
       "      <td>NaN</td>\n",
       "      <td>2018-10-03</td>\n",
       "      <td>37</td>\n",
       "    </tr>\n",
       "    <tr>\n",
       "      <th>51521</th>\n",
       "      <td>2700</td>\n",
       "      <td>2002.0</td>\n",
       "      <td>honda civic</td>\n",
       "      <td>salvage</td>\n",
       "      <td>4.0</td>\n",
       "      <td>gas</td>\n",
       "      <td>181500.0</td>\n",
       "      <td>automatic</td>\n",
       "      <td>sedan</td>\n",
       "      <td>white</td>\n",
       "      <td>NaN</td>\n",
       "      <td>2018-11-14</td>\n",
       "      <td>22</td>\n",
       "    </tr>\n",
       "    <tr>\n",
       "      <th>51522</th>\n",
       "      <td>3950</td>\n",
       "      <td>2009.0</td>\n",
       "      <td>hyundai sonata</td>\n",
       "      <td>excellent</td>\n",
       "      <td>4.0</td>\n",
       "      <td>gas</td>\n",
       "      <td>128000.0</td>\n",
       "      <td>automatic</td>\n",
       "      <td>sedan</td>\n",
       "      <td>blue</td>\n",
       "      <td>NaN</td>\n",
       "      <td>2018-11-15</td>\n",
       "      <td>32</td>\n",
       "    </tr>\n",
       "    <tr>\n",
       "      <th>51523</th>\n",
       "      <td>7455</td>\n",
       "      <td>2013.0</td>\n",
       "      <td>toyota corolla</td>\n",
       "      <td>good</td>\n",
       "      <td>4.0</td>\n",
       "      <td>gas</td>\n",
       "      <td>139573.0</td>\n",
       "      <td>automatic</td>\n",
       "      <td>sedan</td>\n",
       "      <td>black</td>\n",
       "      <td>NaN</td>\n",
       "      <td>2018-07-02</td>\n",
       "      <td>71</td>\n",
       "    </tr>\n",
       "    <tr>\n",
       "      <th>51524</th>\n",
       "      <td>6300</td>\n",
       "      <td>2014.0</td>\n",
       "      <td>nissan altima</td>\n",
       "      <td>good</td>\n",
       "      <td>4.0</td>\n",
       "      <td>gas</td>\n",
       "      <td>NaN</td>\n",
       "      <td>automatic</td>\n",
       "      <td>sedan</td>\n",
       "      <td>NaN</td>\n",
       "      <td>NaN</td>\n",
       "      <td>2018-06-05</td>\n",
       "      <td>10</td>\n",
       "    </tr>\n",
       "  </tbody>\n",
       "</table>\n",
       "<p>36673 rows × 13 columns</p>\n",
       "</div>"
      ],
      "text/plain": [
       "       price  model_year           model  condition  cylinders fuel  odometer  \\\n",
       "0       9400      2011.0          bmw x5       good        6.0  gas  145000.0   \n",
       "1      25500         NaN      ford f-150       good        6.0  gas   88705.0   \n",
       "2       5500      2013.0  hyundai sonata   like new        4.0  gas  110000.0   \n",
       "3       1500      2003.0      ford f-150       fair        8.0  gas       NaN   \n",
       "4      14900      2017.0    chrysler 200  excellent        4.0  gas   80903.0   \n",
       "...      ...         ...             ...        ...        ...  ...       ...   \n",
       "51520   9249      2013.0   nissan maxima   like new        6.0  gas   88136.0   \n",
       "51521   2700      2002.0     honda civic    salvage        4.0  gas  181500.0   \n",
       "51522   3950      2009.0  hyundai sonata  excellent        4.0  gas  128000.0   \n",
       "51523   7455      2013.0  toyota corolla       good        4.0  gas  139573.0   \n",
       "51524   6300      2014.0   nissan altima       good        4.0  gas       NaN   \n",
       "\n",
       "      transmission    type paint_color  is_4wd date_posted  days_listed  \n",
       "0        automatic     SUV         NaN     1.0  2018-06-23           19  \n",
       "1        automatic  pickup       white     1.0  2018-10-19           50  \n",
       "2        automatic   sedan         red     NaN  2019-02-07           79  \n",
       "3        automatic  pickup         NaN     NaN  2019-03-22            9  \n",
       "4        automatic   sedan       black     NaN  2019-04-02           28  \n",
       "...            ...     ...         ...     ...         ...          ...  \n",
       "51520    automatic   sedan       black     NaN  2018-10-03           37  \n",
       "51521    automatic   sedan       white     NaN  2018-11-14           22  \n",
       "51522    automatic   sedan        blue     NaN  2018-11-15           32  \n",
       "51523    automatic   sedan       black     NaN  2018-07-02           71  \n",
       "51524    automatic   sedan         NaN     NaN  2018-06-05           10  \n",
       "\n",
       "[36673 rows x 13 columns]"
      ]
     },
     "execution_count": 6,
     "metadata": {},
     "output_type": "execute_result"
    }
   ],
   "source": [
    "# Mostremos los valores en donde existe al menos un valor ausente\n",
    "df[df.isnull().any(axis=1)]\n"
   ]
  },
  {
   "cell_type": "markdown",
   "metadata": {},
   "source": [
    "Notemos que 36673 de 51525 rows tienen un valor nulo, aunque viendo la tabla parece que es debido a `is_4wd`: este valor debería ser False. Reemplacemos esos valores primero y volvamos a revisar lo anterior."
   ]
  },
  {
   "cell_type": "markdown",
   "metadata": {},
   "source": [
    "### Columna `is_4wd`\n",
    "\n",
    "Reemplacemos los valores NaN por 0, ya que posteriormente cambiaremos el tipo de columna a bool (1 será True, 0 False):"
   ]
  },
  {
   "cell_type": "code",
   "execution_count": 7,
   "metadata": {},
   "outputs": [],
   "source": [
    "# Usemos where para reemplazar los valores incorrectos con ceros. De ahora en adelante crearemos una copia\n",
    "# de df: df_cleaned para poder tener los cambios solo en ésta.\n",
    "df_cleaned = df.copy()\n",
    "\n",
    "df_cleaned.is_4wd = df_cleaned.is_4wd.where(\n",
    "    df_cleaned.is_4wd == 1.0, 0\n",
    ")\n"
   ]
  },
  {
   "cell_type": "code",
   "execution_count": 8,
   "metadata": {},
   "outputs": [
    {
     "name": "stdout",
     "output_type": "stream",
     "text": [
      "<class 'pandas.core.frame.DataFrame'>\n",
      "RangeIndex: 51525 entries, 0 to 51524\n",
      "Data columns (total 13 columns):\n",
      " #   Column        Non-Null Count  Dtype  \n",
      "---  ------        --------------  -----  \n",
      " 0   price         51525 non-null  int64  \n",
      " 1   model_year    47906 non-null  float64\n",
      " 2   model         51525 non-null  object \n",
      " 3   condition     51525 non-null  object \n",
      " 4   cylinders     46265 non-null  float64\n",
      " 5   fuel          51525 non-null  object \n",
      " 6   odometer      43633 non-null  float64\n",
      " 7   transmission  51525 non-null  object \n",
      " 8   type          51525 non-null  object \n",
      " 9   paint_color   42258 non-null  object \n",
      " 10  is_4wd        51525 non-null  float64\n",
      " 11  date_posted   51525 non-null  object \n",
      " 12  days_listed   51525 non-null  int64  \n",
      "dtypes: float64(4), int64(2), object(7)\n",
      "memory usage: 5.1+ MB\n"
     ]
    }
   ],
   "source": [
    "# Mostremos lo que tenemos ahora\n",
    "df_cleaned.info()\n"
   ]
  },
  {
   "cell_type": "markdown",
   "metadata": {},
   "source": [
    "Parece que el cambio se hizó bien (no era realmente muy complicado), con esto ya podemos revisar si existe alguna relación entre los demás ausentes sin que este nos estorbe."
   ]
  },
  {
   "cell_type": "markdown",
   "metadata": {},
   "source": [
    "### Relación entre los valores ausentes: nuevas columnas a partir de `model`\n",
    "\n",
    "Para poder imprimir las filas donde hay más de un valor ausente crearemos una pequeña función que nos ayudara:"
   ]
  },
  {
   "cell_type": "code",
   "execution_count": 9,
   "metadata": {},
   "outputs": [],
   "source": [
    "# Definamos esta función que se usará con apply para obtener filas con múltiples valores ausentes.\n",
    "\n",
    "def any_row(row, more_value=2):\n",
    "    grand_total = 0\n",
    "    \n",
    "    for element in row:           \n",
    "        if grand_total >= more_value:\n",
    "            return True\n",
    "        elif element:\n",
    "            grand_total += 1\n",
    "        else:\n",
    "            None\n",
    "            \n",
    "    return False"
   ]
  },
  {
   "cell_type": "code",
   "execution_count": 10,
   "metadata": {},
   "outputs": [
    {
     "data": {
      "text/html": [
       "<div>\n",
       "<style scoped>\n",
       "    .dataframe tbody tr th:only-of-type {\n",
       "        vertical-align: middle;\n",
       "    }\n",
       "\n",
       "    .dataframe tbody tr th {\n",
       "        vertical-align: top;\n",
       "    }\n",
       "\n",
       "    .dataframe thead th {\n",
       "        text-align: right;\n",
       "    }\n",
       "</style>\n",
       "<table border=\"1\" class=\"dataframe\">\n",
       "  <thead>\n",
       "    <tr style=\"text-align: right;\">\n",
       "      <th></th>\n",
       "      <th>price</th>\n",
       "      <th>model_year</th>\n",
       "      <th>model</th>\n",
       "      <th>condition</th>\n",
       "      <th>cylinders</th>\n",
       "      <th>fuel</th>\n",
       "      <th>odometer</th>\n",
       "      <th>transmission</th>\n",
       "      <th>type</th>\n",
       "      <th>paint_color</th>\n",
       "      <th>is_4wd</th>\n",
       "      <th>date_posted</th>\n",
       "      <th>days_listed</th>\n",
       "    </tr>\n",
       "  </thead>\n",
       "  <tbody>\n",
       "    <tr>\n",
       "      <th>30022</th>\n",
       "      <td>5000</td>\n",
       "      <td>NaN</td>\n",
       "      <td>chevrolet impala</td>\n",
       "      <td>good</td>\n",
       "      <td>6.0</td>\n",
       "      <td>gas</td>\n",
       "      <td>NaN</td>\n",
       "      <td>automatic</td>\n",
       "      <td>sedan</td>\n",
       "      <td>black</td>\n",
       "      <td>0.0</td>\n",
       "      <td>2018-07-19</td>\n",
       "      <td>38</td>\n",
       "    </tr>\n",
       "    <tr>\n",
       "      <th>29585</th>\n",
       "      <td>4999</td>\n",
       "      <td>NaN</td>\n",
       "      <td>ford f-150</td>\n",
       "      <td>excellent</td>\n",
       "      <td>6.0</td>\n",
       "      <td>gas</td>\n",
       "      <td>187100.0</td>\n",
       "      <td>automatic</td>\n",
       "      <td>pickup</td>\n",
       "      <td>NaN</td>\n",
       "      <td>0.0</td>\n",
       "      <td>2018-08-27</td>\n",
       "      <td>19</td>\n",
       "    </tr>\n",
       "    <tr>\n",
       "      <th>15250</th>\n",
       "      <td>15981</td>\n",
       "      <td>NaN</td>\n",
       "      <td>hyundai elantra</td>\n",
       "      <td>like new</td>\n",
       "      <td>4.0</td>\n",
       "      <td>gas</td>\n",
       "      <td>34549.0</td>\n",
       "      <td>automatic</td>\n",
       "      <td>sedan</td>\n",
       "      <td>NaN</td>\n",
       "      <td>0.0</td>\n",
       "      <td>2019-01-05</td>\n",
       "      <td>7</td>\n",
       "    </tr>\n",
       "    <tr>\n",
       "      <th>1369</th>\n",
       "      <td>20000</td>\n",
       "      <td>NaN</td>\n",
       "      <td>ford f-150</td>\n",
       "      <td>excellent</td>\n",
       "      <td>6.0</td>\n",
       "      <td>gas</td>\n",
       "      <td>98000.0</td>\n",
       "      <td>automatic</td>\n",
       "      <td>pickup</td>\n",
       "      <td>NaN</td>\n",
       "      <td>1.0</td>\n",
       "      <td>2018-05-06</td>\n",
       "      <td>25</td>\n",
       "    </tr>\n",
       "    <tr>\n",
       "      <th>43901</th>\n",
       "      <td>17990</td>\n",
       "      <td>NaN</td>\n",
       "      <td>jeep wrangler unlimited</td>\n",
       "      <td>excellent</td>\n",
       "      <td>6.0</td>\n",
       "      <td>gas</td>\n",
       "      <td>132000.0</td>\n",
       "      <td>manual</td>\n",
       "      <td>SUV</td>\n",
       "      <td>NaN</td>\n",
       "      <td>1.0</td>\n",
       "      <td>2018-06-13</td>\n",
       "      <td>20</td>\n",
       "    </tr>\n",
       "    <tr>\n",
       "      <th>50943</th>\n",
       "      <td>4300</td>\n",
       "      <td>2008.0</td>\n",
       "      <td>toyota prius</td>\n",
       "      <td>good</td>\n",
       "      <td>NaN</td>\n",
       "      <td>hybrid</td>\n",
       "      <td>NaN</td>\n",
       "      <td>automatic</td>\n",
       "      <td>coupe</td>\n",
       "      <td>NaN</td>\n",
       "      <td>0.0</td>\n",
       "      <td>2018-07-15</td>\n",
       "      <td>12</td>\n",
       "    </tr>\n",
       "    <tr>\n",
       "      <th>6873</th>\n",
       "      <td>7950</td>\n",
       "      <td>2014.0</td>\n",
       "      <td>ford escape</td>\n",
       "      <td>excellent</td>\n",
       "      <td>4.0</td>\n",
       "      <td>gas</td>\n",
       "      <td>NaN</td>\n",
       "      <td>automatic</td>\n",
       "      <td>SUV</td>\n",
       "      <td>NaN</td>\n",
       "      <td>0.0</td>\n",
       "      <td>2018-07-28</td>\n",
       "      <td>7</td>\n",
       "    </tr>\n",
       "    <tr>\n",
       "      <th>7522</th>\n",
       "      <td>2900</td>\n",
       "      <td>2005.0</td>\n",
       "      <td>ford f-150</td>\n",
       "      <td>excellent</td>\n",
       "      <td>8.0</td>\n",
       "      <td>gas</td>\n",
       "      <td>NaN</td>\n",
       "      <td>automatic</td>\n",
       "      <td>pickup</td>\n",
       "      <td>NaN</td>\n",
       "      <td>1.0</td>\n",
       "      <td>2018-07-18</td>\n",
       "      <td>53</td>\n",
       "    </tr>\n",
       "    <tr>\n",
       "      <th>35572</th>\n",
       "      <td>6899</td>\n",
       "      <td>NaN</td>\n",
       "      <td>chevrolet cruze</td>\n",
       "      <td>good</td>\n",
       "      <td>4.0</td>\n",
       "      <td>gas</td>\n",
       "      <td>118040.0</td>\n",
       "      <td>automatic</td>\n",
       "      <td>sedan</td>\n",
       "      <td>NaN</td>\n",
       "      <td>0.0</td>\n",
       "      <td>2018-08-22</td>\n",
       "      <td>24</td>\n",
       "    </tr>\n",
       "    <tr>\n",
       "      <th>7512</th>\n",
       "      <td>12995</td>\n",
       "      <td>NaN</td>\n",
       "      <td>ford mustang</td>\n",
       "      <td>good</td>\n",
       "      <td>6.0</td>\n",
       "      <td>gas</td>\n",
       "      <td>NaN</td>\n",
       "      <td>automatic</td>\n",
       "      <td>convertible</td>\n",
       "      <td>NaN</td>\n",
       "      <td>0.0</td>\n",
       "      <td>2018-10-08</td>\n",
       "      <td>57</td>\n",
       "    </tr>\n",
       "  </tbody>\n",
       "</table>\n",
       "</div>"
      ],
      "text/plain": [
       "       price  model_year                    model  condition  cylinders  \\\n",
       "30022   5000         NaN         chevrolet impala       good        6.0   \n",
       "29585   4999         NaN               ford f-150  excellent        6.0   \n",
       "15250  15981         NaN          hyundai elantra   like new        4.0   \n",
       "1369   20000         NaN               ford f-150  excellent        6.0   \n",
       "43901  17990         NaN  jeep wrangler unlimited  excellent        6.0   \n",
       "50943   4300      2008.0             toyota prius       good        NaN   \n",
       "6873    7950      2014.0              ford escape  excellent        4.0   \n",
       "7522    2900      2005.0               ford f-150  excellent        8.0   \n",
       "35572   6899         NaN          chevrolet cruze       good        4.0   \n",
       "7512   12995         NaN             ford mustang       good        6.0   \n",
       "\n",
       "         fuel  odometer transmission         type paint_color  is_4wd  \\\n",
       "30022     gas       NaN    automatic        sedan       black     0.0   \n",
       "29585     gas  187100.0    automatic       pickup         NaN     0.0   \n",
       "15250     gas   34549.0    automatic        sedan         NaN     0.0   \n",
       "1369      gas   98000.0    automatic       pickup         NaN     1.0   \n",
       "43901     gas  132000.0       manual          SUV         NaN     1.0   \n",
       "50943  hybrid       NaN    automatic        coupe         NaN     0.0   \n",
       "6873      gas       NaN    automatic          SUV         NaN     0.0   \n",
       "7522      gas       NaN    automatic       pickup         NaN     1.0   \n",
       "35572     gas  118040.0    automatic        sedan         NaN     0.0   \n",
       "7512      gas       NaN    automatic  convertible         NaN     0.0   \n",
       "\n",
       "      date_posted  days_listed  \n",
       "30022  2018-07-19           38  \n",
       "29585  2018-08-27           19  \n",
       "15250  2019-01-05            7  \n",
       "1369   2018-05-06           25  \n",
       "43901  2018-06-13           20  \n",
       "50943  2018-07-15           12  \n",
       "6873   2018-07-28            7  \n",
       "7522   2018-07-18           53  \n",
       "35572  2018-08-22           24  \n",
       "7512   2018-10-08           57  "
      ]
     },
     "metadata": {},
     "output_type": "display_data"
    },
    {
     "name": "stdout",
     "output_type": "stream",
     "text": [
      "<class 'pandas.core.frame.DataFrame'>\n",
      "Int64Index: 4086 entries, 3 to 51524\n",
      "Data columns (total 13 columns):\n",
      " #   Column        Non-Null Count  Dtype  \n",
      "---  ------        --------------  -----  \n",
      " 0   price         4086 non-null   int64  \n",
      " 1   model_year    2720 non-null   float64\n",
      " 2   model         4086 non-null   object \n",
      " 3   condition     4086 non-null   object \n",
      " 4   cylinders     2216 non-null   float64\n",
      " 5   fuel          4086 non-null   object \n",
      " 6   odometer      1571 non-null   float64\n",
      " 7   transmission  4086 non-null   object \n",
      " 8   type          4086 non-null   object \n",
      " 9   paint_color   1322 non-null   object \n",
      " 10  is_4wd        4086 non-null   float64\n",
      " 11  date_posted   4086 non-null   object \n",
      " 12  days_listed   4086 non-null   int64  \n",
      "dtypes: float64(4), int64(2), object(7)\n",
      "memory usage: 446.9+ KB\n"
     ]
    }
   ],
   "source": [
    "# Mostremos los valores en donde existe al menos un valor ausente y el describe\n",
    "#df[df.isnull().any(axis=1)]\n",
    "\n",
    "df_cleaned_multiple_null = df_cleaned[df_cleaned.isnull().apply(any_row, axis=1)]\n",
    "\n",
    "display(\n",
    "    df_cleaned_multiple_null.sample(n=10, random_state=2)\n",
    ")\n",
    "\n",
    "df_cleaned_multiple_null.info()"
   ]
  },
  {
   "cell_type": "markdown",
   "metadata": {},
   "source": [
    "De lo anterior, no se puede apreciar realmente una relación entre los valores ausentes **pero** se puede decir lo siguiente de cada columna: `model_year` muy probablemente sea un valor obligatorio al vender, por lo que el hecho de que falte puede deberse a un problema de guardado de datos; y el resto de valores tal vez no lo sea, lo que indica que el usuario no los incluyó (por ejemplo, `odometer`).\n",
    "\n",
    "Como vamos a querer utilizar los valores de `models` acomodados para poder imputar más adelante, añadiremos dos columnas que usaremos: `model_manufacturer` que se cargará con la primer palabra (que son los nombres de las compañías) y `model_line` donde guardaremos el resto."
   ]
  },
  {
   "cell_type": "code",
   "execution_count": 11,
   "metadata": {},
   "outputs": [
    {
     "data": {
      "text/html": [
       "<div>\n",
       "<style scoped>\n",
       "    .dataframe tbody tr th:only-of-type {\n",
       "        vertical-align: middle;\n",
       "    }\n",
       "\n",
       "    .dataframe tbody tr th {\n",
       "        vertical-align: top;\n",
       "    }\n",
       "\n",
       "    .dataframe thead th {\n",
       "        text-align: right;\n",
       "    }\n",
       "</style>\n",
       "<table border=\"1\" class=\"dataframe\">\n",
       "  <thead>\n",
       "    <tr style=\"text-align: right;\">\n",
       "      <th></th>\n",
       "      <th>price</th>\n",
       "      <th>model_year</th>\n",
       "      <th>model</th>\n",
       "      <th>condition</th>\n",
       "      <th>cylinders</th>\n",
       "      <th>fuel</th>\n",
       "      <th>odometer</th>\n",
       "      <th>transmission</th>\n",
       "      <th>type</th>\n",
       "      <th>paint_color</th>\n",
       "      <th>is_4wd</th>\n",
       "      <th>date_posted</th>\n",
       "      <th>days_listed</th>\n",
       "      <th>model_manufacturer</th>\n",
       "      <th>model_line</th>\n",
       "    </tr>\n",
       "  </thead>\n",
       "  <tbody>\n",
       "    <tr>\n",
       "      <th>0</th>\n",
       "      <td>9400</td>\n",
       "      <td>2011.0</td>\n",
       "      <td>bmw x5</td>\n",
       "      <td>good</td>\n",
       "      <td>6.0</td>\n",
       "      <td>gas</td>\n",
       "      <td>145000.0</td>\n",
       "      <td>automatic</td>\n",
       "      <td>SUV</td>\n",
       "      <td>NaN</td>\n",
       "      <td>1.0</td>\n",
       "      <td>2018-06-23</td>\n",
       "      <td>19</td>\n",
       "      <td>bmw</td>\n",
       "      <td>x5</td>\n",
       "    </tr>\n",
       "    <tr>\n",
       "      <th>1</th>\n",
       "      <td>25500</td>\n",
       "      <td>NaN</td>\n",
       "      <td>ford f-150</td>\n",
       "      <td>good</td>\n",
       "      <td>6.0</td>\n",
       "      <td>gas</td>\n",
       "      <td>88705.0</td>\n",
       "      <td>automatic</td>\n",
       "      <td>pickup</td>\n",
       "      <td>white</td>\n",
       "      <td>1.0</td>\n",
       "      <td>2018-10-19</td>\n",
       "      <td>50</td>\n",
       "      <td>ford</td>\n",
       "      <td>f-150</td>\n",
       "    </tr>\n",
       "    <tr>\n",
       "      <th>2</th>\n",
       "      <td>5500</td>\n",
       "      <td>2013.0</td>\n",
       "      <td>hyundai sonata</td>\n",
       "      <td>like new</td>\n",
       "      <td>4.0</td>\n",
       "      <td>gas</td>\n",
       "      <td>110000.0</td>\n",
       "      <td>automatic</td>\n",
       "      <td>sedan</td>\n",
       "      <td>red</td>\n",
       "      <td>0.0</td>\n",
       "      <td>2019-02-07</td>\n",
       "      <td>79</td>\n",
       "      <td>hyundai</td>\n",
       "      <td>sonata</td>\n",
       "    </tr>\n",
       "    <tr>\n",
       "      <th>3</th>\n",
       "      <td>1500</td>\n",
       "      <td>2003.0</td>\n",
       "      <td>ford f-150</td>\n",
       "      <td>fair</td>\n",
       "      <td>8.0</td>\n",
       "      <td>gas</td>\n",
       "      <td>NaN</td>\n",
       "      <td>automatic</td>\n",
       "      <td>pickup</td>\n",
       "      <td>NaN</td>\n",
       "      <td>0.0</td>\n",
       "      <td>2019-03-22</td>\n",
       "      <td>9</td>\n",
       "      <td>ford</td>\n",
       "      <td>f-150</td>\n",
       "    </tr>\n",
       "    <tr>\n",
       "      <th>4</th>\n",
       "      <td>14900</td>\n",
       "      <td>2017.0</td>\n",
       "      <td>chrysler 200</td>\n",
       "      <td>excellent</td>\n",
       "      <td>4.0</td>\n",
       "      <td>gas</td>\n",
       "      <td>80903.0</td>\n",
       "      <td>automatic</td>\n",
       "      <td>sedan</td>\n",
       "      <td>black</td>\n",
       "      <td>0.0</td>\n",
       "      <td>2019-04-02</td>\n",
       "      <td>28</td>\n",
       "      <td>chrysler</td>\n",
       "      <td>200</td>\n",
       "    </tr>\n",
       "  </tbody>\n",
       "</table>\n",
       "</div>"
      ],
      "text/plain": [
       "   price  model_year           model  condition  cylinders fuel  odometer  \\\n",
       "0   9400      2011.0          bmw x5       good        6.0  gas  145000.0   \n",
       "1  25500         NaN      ford f-150       good        6.0  gas   88705.0   \n",
       "2   5500      2013.0  hyundai sonata   like new        4.0  gas  110000.0   \n",
       "3   1500      2003.0      ford f-150       fair        8.0  gas       NaN   \n",
       "4  14900      2017.0    chrysler 200  excellent        4.0  gas   80903.0   \n",
       "\n",
       "  transmission    type paint_color  is_4wd date_posted  days_listed  \\\n",
       "0    automatic     SUV         NaN     1.0  2018-06-23           19   \n",
       "1    automatic  pickup       white     1.0  2018-10-19           50   \n",
       "2    automatic   sedan         red     0.0  2019-02-07           79   \n",
       "3    automatic  pickup         NaN     0.0  2019-03-22            9   \n",
       "4    automatic   sedan       black     0.0  2019-04-02           28   \n",
       "\n",
       "  model_manufacturer model_line  \n",
       "0                bmw         x5  \n",
       "1               ford      f-150  \n",
       "2            hyundai     sonata  \n",
       "3               ford      f-150  \n",
       "4           chrysler        200  "
      ]
     },
     "execution_count": 11,
     "metadata": {},
     "output_type": "execute_result"
    }
   ],
   "source": [
    "#Agreguemos estas nuevas columnas y mostremos\n",
    "df_cleaned[\"model_manufacturer\"] = df_cleaned.model.str.split(\" \", n=2).str[0]\n",
    "df_cleaned[\"model_line\"] = df_cleaned.model.str.split(\" \", n=2).str[1]\n",
    "\n",
    "df_cleaned.head()"
   ]
  },
  {
   "cell_type": "markdown",
   "metadata": {},
   "source": [
    "Esos valores de Ford con el sufijo 'f' dan un poco de ansiedad porque son propensos a errores, echemos un ojo a todos los valores únicos para los `model_line` de cada fabricante y veamos que sucede en general."
   ]
  },
  {
   "cell_type": "code",
   "execution_count": 12,
   "metadata": {},
   "outputs": [
    {
     "name": "stdout",
     "output_type": "stream",
     "text": [
      "BMW\n",
      "['x5']\n",
      "\n",
      "FORD\n",
      "['f-150' 'fusion' 'focus' 'f150' 'mustang' 'f-250' 'f250' 'explorer'\n",
      " 'f-350' 'edge' 'expedition' 'taurus' 'f350' 'ranger' 'escape' 'econoline']\n",
      "\n",
      "HYUNDAI\n",
      "['sonata' 'elantra' 'santa']\n",
      "\n",
      "CHRYSLER\n",
      "['200' '300' 'town']\n",
      "\n",
      "TOYOTA\n",
      "['camry' 'rav4' 'highlander' 'tacoma' '4runner' 'corolla' 'prius' 'tundra'\n",
      " 'sienna']\n",
      "\n",
      "HONDA\n",
      "['pilot' 'accord' 'cr-v' 'civic' 'odyssey']\n",
      "\n",
      "KIA\n",
      "['sorento' 'soul']\n",
      "\n",
      "CHEVROLET\n",
      "['silverado' 'traverse' 'tahoe' 'malibu' 'impala' 'corvette' 'equinox'\n",
      " 'colorado' 'camaro' 'cruze' 'suburban' 'trailblazer']\n",
      "\n",
      "RAM\n",
      "['1500' '3500' '2500']\n",
      "\n",
      "GMC\n",
      "['yukon' 'sierra' 'acadia']\n",
      "\n",
      "JEEP\n",
      "['cherokee' 'wrangler' 'liberty' 'grand']\n",
      "\n",
      "NISSAN\n",
      "['altima' 'rogue' 'frontier' 'versa' 'maxima' 'sentra' 'murano']\n",
      "\n",
      "SUBARU\n",
      "['outback' 'impreza' 'forester']\n",
      "\n",
      "DODGE\n",
      "['charger' 'grand' 'dakota']\n",
      "\n",
      "MERCEDES-BENZ\n",
      "['benze']\n",
      "\n",
      "ACURA\n",
      "['tl']\n",
      "\n",
      "CADILLAC\n",
      "['escalade']\n",
      "\n",
      "VOLKSWAGEN\n",
      "['jetta' 'passat']\n",
      "\n",
      "BUICK\n",
      "['enclave']\n",
      "\n"
     ]
    }
   ],
   "source": [
    "#df_cleaned.query(\"model_line.str.find('350')!=-1 and model_manufacturer=='ford'\").model_line.value_counts()\n",
    "\n",
    "for manufacturer in df_cleaned.model_manufacturer.unique():\n",
    "    print(manufacturer.upper())\n",
    "    print(df_cleaned.query(\"model_manufacturer==@manufacturer\").model_line.unique())\n",
    "    print()\n",
    "    "
   ]
  },
  {
   "cell_type": "markdown",
   "metadata": {},
   "source": [
    "Parece que este problema solo surge en Ford, ya que en Dodge, donde podría haber algo similar (por los 2500, 3500, étc), no sucede. Reemplacemos estos valores para poder tenerlo bien organizado."
   ]
  },
  {
   "cell_type": "code",
   "execution_count": 13,
   "metadata": {},
   "outputs": [
    {
     "name": "stdout",
     "output_type": "stream",
     "text": [
      "BMW\n",
      "['x5']\n",
      "\n",
      "FORD\n",
      "['f150' 'fusion' 'focus' 'mustang' 'f250' 'explorer' 'f350' 'edge'\n",
      " 'expedition' 'taurus' 'ranger' 'escape' 'econoline']\n",
      "\n",
      "HYUNDAI\n",
      "['sonata' 'elantra' 'santa']\n",
      "\n",
      "CHRYSLER\n",
      "['200' '300' 'town']\n",
      "\n",
      "TOYOTA\n",
      "['camry' 'rav4' 'highlander' 'tacoma' '4runner' 'corolla' 'prius' 'tundra'\n",
      " 'sienna']\n",
      "\n",
      "HONDA\n",
      "['pilot' 'accord' 'cr-v' 'civic' 'odyssey']\n",
      "\n",
      "KIA\n",
      "['sorento' 'soul']\n",
      "\n",
      "CHEVROLET\n",
      "['silverado' 'traverse' 'tahoe' 'malibu' 'impala' 'corvette' 'equinox'\n",
      " 'colorado' 'camaro' 'cruze' 'suburban' 'trailblazer']\n",
      "\n",
      "RAM\n",
      "['1500' '3500' '2500']\n",
      "\n",
      "GMC\n",
      "['yukon' 'sierra' 'acadia']\n",
      "\n",
      "JEEP\n",
      "['cherokee' 'wrangler' 'liberty' 'grand']\n",
      "\n",
      "NISSAN\n",
      "['altima' 'rogue' 'frontier' 'versa' 'maxima' 'sentra' 'murano']\n",
      "\n",
      "SUBARU\n",
      "['outback' 'impreza' 'forester']\n",
      "\n",
      "DODGE\n",
      "['charger' 'grand' 'dakota']\n",
      "\n",
      "MERCEDES-BENZ\n",
      "['benze']\n",
      "\n",
      "ACURA\n",
      "['tl']\n",
      "\n",
      "CADILLAC\n",
      "['escalade']\n",
      "\n",
      "VOLKSWAGEN\n",
      "['jetta' 'passat']\n",
      "\n",
      "BUICK\n",
      "['enclave']\n",
      "\n"
     ]
    }
   ],
   "source": [
    "# Usemos el amigable replace con un dict bien básico y revisemos de nuevo\n",
    "df_cleaned.replace(\n",
    "    {\"model_line\": {\"f-150\":\"f150\", \"f-250\":\"f250\", \"f-350\":\"f350\"}},\n",
    "    inplace=True\n",
    ")\n",
    "\n",
    "for manufacturer in df_cleaned.model_manufacturer.unique():\n",
    "    print(manufacturer.upper())\n",
    "    print(df_cleaned.query(\"model_manufacturer==@manufacturer\").model_line.unique())\n",
    "    print()"
   ]
  },
  {
   "cell_type": "markdown",
   "metadata": {},
   "source": [
    "Todo se ve mejor, estos nuevos valores nos serán muy útiles posteriormente."
   ]
  },
  {
   "cell_type": "markdown",
   "metadata": {},
   "source": [
    "### Columna `paint_color`\n",
    "\n",
    "Echemos un vistazo a lo valores únicos que tenemos en esta columna."
   ]
  },
  {
   "cell_type": "code",
   "execution_count": 14,
   "metadata": {},
   "outputs": [
    {
     "data": {
      "text/plain": [
       "array([nan, 'white', 'red', 'black', 'blue', 'grey', 'silver', 'custom',\n",
       "       'orange', 'yellow', 'brown', 'green', 'purple'], dtype=object)"
      ]
     },
     "execution_count": 14,
     "metadata": {},
     "output_type": "execute_result"
    }
   ],
   "source": [
    "df_cleaned.paint_color.unique()"
   ]
  },
  {
   "cell_type": "markdown",
   "metadata": {},
   "source": [
    "No tenemos manera de poder saber de que color va a ser un automóvil: no existe relación con el tipo de motor o demás (en realidad si la hay, las tendencias indican que los vehículos nuevos suelen ser de colores menos llamativos, pero tomar esos datos y relacionarlos con este dataframe es un trabajo demasiado largo para este proyecto). Por lo tanto, se optará por borrar los valores que tengan nulo este campo. Lamentablemente estos son ~10000 y representan un poco menos de 10%, pero creemos que la precisión será mejor con esto."
   ]
  },
  {
   "cell_type": "code",
   "execution_count": 15,
   "metadata": {},
   "outputs": [
    {
     "name": "stdout",
     "output_type": "stream",
     "text": [
      "<class 'pandas.core.frame.DataFrame'>\n",
      "Int64Index: 42258 entries, 1 to 51523\n",
      "Data columns (total 15 columns):\n",
      " #   Column              Non-Null Count  Dtype  \n",
      "---  ------              --------------  -----  \n",
      " 0   price               42258 non-null  int64  \n",
      " 1   model_year          39291 non-null  float64\n",
      " 2   model               42258 non-null  object \n",
      " 3   condition           42258 non-null  object \n",
      " 4   cylinders           37948 non-null  float64\n",
      " 5   fuel                42258 non-null  object \n",
      " 6   odometer            35821 non-null  float64\n",
      " 7   transmission        42258 non-null  object \n",
      " 8   type                42258 non-null  object \n",
      " 9   paint_color         42258 non-null  object \n",
      " 10  is_4wd              42258 non-null  float64\n",
      " 11  date_posted         42258 non-null  object \n",
      " 12  days_listed         42258 non-null  int64  \n",
      " 13  model_manufacturer  42258 non-null  object \n",
      " 14  model_line          42258 non-null  object \n",
      "dtypes: float64(4), int64(2), object(9)\n",
      "memory usage: 5.2+ MB\n"
     ]
    }
   ],
   "source": [
    "# Borremos nulos y veamo la info de nuevo\n",
    "df_cleaned = df_cleaned.dropna(subset=[\"paint_color\"])\n",
    "\n",
    "df_cleaned.info()"
   ]
  },
  {
   "cell_type": "markdown",
   "metadata": {},
   "source": [
    "### Columna `model_year`\n",
    "\n",
    "Nuestra columna `model_year` tiene 392291 datos no nulos. De manera tajante no podriamos saber a que año pertenece un vehículo, pero quizás haya una relación con la marca y el modelo (hay más carros nuevos que viejos, por ejemplo). Veamos el describe primero para ver como se distribuyen los cuartiles."
   ]
  },
  {
   "cell_type": "code",
   "execution_count": 16,
   "metadata": {},
   "outputs": [
    {
     "data": {
      "text/html": [
       "<div>\n",
       "<style scoped>\n",
       "    .dataframe tbody tr th:only-of-type {\n",
       "        vertical-align: middle;\n",
       "    }\n",
       "\n",
       "    .dataframe tbody tr th {\n",
       "        vertical-align: top;\n",
       "    }\n",
       "\n",
       "    .dataframe thead th {\n",
       "        text-align: right;\n",
       "    }\n",
       "</style>\n",
       "<table border=\"1\" class=\"dataframe\">\n",
       "  <thead>\n",
       "    <tr style=\"text-align: right;\">\n",
       "      <th></th>\n",
       "      <th>price</th>\n",
       "      <th>model_year</th>\n",
       "      <th>cylinders</th>\n",
       "      <th>odometer</th>\n",
       "      <th>is_4wd</th>\n",
       "      <th>days_listed</th>\n",
       "    </tr>\n",
       "  </thead>\n",
       "  <tbody>\n",
       "    <tr>\n",
       "      <th>count</th>\n",
       "      <td>42258.000000</td>\n",
       "      <td>39291.000000</td>\n",
       "      <td>37948.000000</td>\n",
       "      <td>35821.000000</td>\n",
       "      <td>42258.000000</td>\n",
       "      <td>42258.000000</td>\n",
       "    </tr>\n",
       "    <tr>\n",
       "      <th>mean</th>\n",
       "      <td>12124.069265</td>\n",
       "      <td>2009.735461</td>\n",
       "      <td>6.124381</td>\n",
       "      <td>115770.393512</td>\n",
       "      <td>0.495575</td>\n",
       "      <td>39.593781</td>\n",
       "    </tr>\n",
       "    <tr>\n",
       "      <th>std</th>\n",
       "      <td>10135.029855</td>\n",
       "      <td>6.293246</td>\n",
       "      <td>1.659557</td>\n",
       "      <td>65374.203694</td>\n",
       "      <td>0.499986</td>\n",
       "      <td>28.230447</td>\n",
       "    </tr>\n",
       "    <tr>\n",
       "      <th>min</th>\n",
       "      <td>1.000000</td>\n",
       "      <td>1908.000000</td>\n",
       "      <td>3.000000</td>\n",
       "      <td>0.000000</td>\n",
       "      <td>0.000000</td>\n",
       "      <td>0.000000</td>\n",
       "    </tr>\n",
       "    <tr>\n",
       "      <th>25%</th>\n",
       "      <td>4999.000000</td>\n",
       "      <td>2006.000000</td>\n",
       "      <td>4.000000</td>\n",
       "      <td>70100.000000</td>\n",
       "      <td>0.000000</td>\n",
       "      <td>19.000000</td>\n",
       "    </tr>\n",
       "    <tr>\n",
       "      <th>50%</th>\n",
       "      <td>9000.000000</td>\n",
       "      <td>2011.000000</td>\n",
       "      <td>6.000000</td>\n",
       "      <td>113096.000000</td>\n",
       "      <td>0.000000</td>\n",
       "      <td>33.000000</td>\n",
       "    </tr>\n",
       "    <tr>\n",
       "      <th>75%</th>\n",
       "      <td>16689.000000</td>\n",
       "      <td>2014.000000</td>\n",
       "      <td>8.000000</td>\n",
       "      <td>155072.000000</td>\n",
       "      <td>1.000000</td>\n",
       "      <td>53.000000</td>\n",
       "    </tr>\n",
       "    <tr>\n",
       "      <th>max</th>\n",
       "      <td>375000.000000</td>\n",
       "      <td>2019.000000</td>\n",
       "      <td>12.000000</td>\n",
       "      <td>990000.000000</td>\n",
       "      <td>1.000000</td>\n",
       "      <td>267.000000</td>\n",
       "    </tr>\n",
       "  </tbody>\n",
       "</table>\n",
       "</div>"
      ],
      "text/plain": [
       "               price    model_year     cylinders       odometer        is_4wd  \\\n",
       "count   42258.000000  39291.000000  37948.000000   35821.000000  42258.000000   \n",
       "mean    12124.069265   2009.735461      6.124381  115770.393512      0.495575   \n",
       "std     10135.029855      6.293246      1.659557   65374.203694      0.499986   \n",
       "min         1.000000   1908.000000      3.000000       0.000000      0.000000   \n",
       "25%      4999.000000   2006.000000      4.000000   70100.000000      0.000000   \n",
       "50%      9000.000000   2011.000000      6.000000  113096.000000      0.000000   \n",
       "75%     16689.000000   2014.000000      8.000000  155072.000000      1.000000   \n",
       "max    375000.000000   2019.000000     12.000000  990000.000000      1.000000   \n",
       "\n",
       "        days_listed  \n",
       "count  42258.000000  \n",
       "mean      39.593781  \n",
       "std       28.230447  \n",
       "min        0.000000  \n",
       "25%       19.000000  \n",
       "50%       33.000000  \n",
       "75%       53.000000  \n",
       "max      267.000000  "
      ]
     },
     "execution_count": 16,
     "metadata": {},
     "output_type": "execute_result"
    }
   ],
   "source": [
    "df_cleaned.describe()"
   ]
  },
  {
   "cell_type": "markdown",
   "metadata": {},
   "source": [
    "Es claro que la mayoría de los automoviles son de los 2000's en adelante, ahora lo que haremos será ver como se distribuye `model_year` en relación a `model_line` para los anuncios en que el primero es nulo, usaremos un boxplot para eso."
   ]
  },
  {
   "cell_type": "code",
   "execution_count": 17,
   "metadata": {},
   "outputs": [
    {
     "data": {
      "image/png": "[encoded data removed]",
      "text/plain": [
       "<Figure size 1440x360 with 1 Axes>"
      ]
     },
     "metadata": {
      "needs_background": "light"
     },
     "output_type": "display_data"
    }
   ],
   "source": [
    "# Hagamos un scatter con las combinaciones de condition y type. Usaremos un subplot para no tener un gráfico\n",
    "# gigantesco, sino algo más manejable. Definamos un df con los valores en donde model_year es no nulo\n",
    "\n",
    "df_cleaned_drop_year = df_cleaned.dropna(subset=[\"model_year\"])\n",
    "\n",
    "unique_missing_model_line_year = df_cleaned[df_cleaned.model_year.isna()].model_line.unique()\n",
    "\n",
    "df_cleaned_drop_year.query(\"model_line in @unique_missing_model_line_year\").boxplot(\n",
    "    by = \"model_line\", column =\"model_year\", figsize=(20,5), rot=90\n",
    ")\n",
    "\n",
    "plt.show()"
   ]
  },
  {
   "cell_type": "markdown",
   "metadata": {},
   "source": [
    "Podemos notar que el rango intercuartil es bastante estable a lo largo de casi todos los modelos (excepción notable el Corvette), y que los _outliers_ no suelen ser demasiados. Podemos imputar con la mediana de estos valores para rellenar los años faltantes.\n",
    "\n",
    "Como tenemos un rango muy amplio de valores, crearemos una columna auxiliar `model_range` que nos permitirá imputar mejor cuando creemos una tabla pivote. Usaremos una clasificación más o menos subjetiva, en étapas del diseño de vehículos."
   ]
  },
  {
   "cell_type": "code",
   "execution_count": 18,
   "metadata": {},
   "outputs": [
    {
     "data": {
      "text/plain": [
       "Moderno       39124\n",
       "Clasico         156\n",
       "Postguerra        7\n",
       "Pre-1945          4\n",
       "Name: model_range, dtype: int64"
      ]
     },
     "execution_count": 18,
     "metadata": {},
     "output_type": "execute_result"
    }
   ],
   "source": [
    "# Hagamos la nueva columna y veamos su value_counts\n",
    "df_cleaned[\"model_range\"] = pd.cut(\n",
    "    df_cleaned[\"model_year\"],\n",
    "    bins=[-np.inf, 1945, 1960, 1980, np.inf],\n",
    "    labels=[\"Pre-1945\", \"Postguerra\", \"Clasico\", \"Moderno\"],\n",
    "    include_lowest=True\n",
    ")\n",
    "\n",
    "df_cleaned.model_range.value_counts()"
   ]
  },
  {
   "cell_type": "markdown",
   "metadata": {},
   "source": [
    "Creemos una tabla pivote para no tener que calcular los valores de nuevo y verifiquemos."
   ]
  },
  {
   "cell_type": "code",
   "execution_count": 19,
   "metadata": {},
   "outputs": [
    {
     "data": {
      "text/html": [
       "<div>\n",
       "<style scoped>\n",
       "    .dataframe tbody tr th:only-of-type {\n",
       "        vertical-align: middle;\n",
       "    }\n",
       "\n",
       "    .dataframe tbody tr th {\n",
       "        vertical-align: top;\n",
       "    }\n",
       "\n",
       "    .dataframe thead th {\n",
       "        text-align: right;\n",
       "    }\n",
       "</style>\n",
       "<table border=\"1\" class=\"dataframe\">\n",
       "  <thead>\n",
       "    <tr style=\"text-align: right;\">\n",
       "      <th></th>\n",
       "      <th>model_year</th>\n",
       "    </tr>\n",
       "    <tr>\n",
       "      <th>model_line</th>\n",
       "      <th></th>\n",
       "    </tr>\n",
       "  </thead>\n",
       "  <tbody>\n",
       "    <tr>\n",
       "      <th>1500</th>\n",
       "      <td>2012.0</td>\n",
       "    </tr>\n",
       "    <tr>\n",
       "      <th>200</th>\n",
       "      <td>2014.0</td>\n",
       "    </tr>\n",
       "    <tr>\n",
       "      <th>2500</th>\n",
       "      <td>2011.0</td>\n",
       "    </tr>\n",
       "    <tr>\n",
       "      <th>300</th>\n",
       "      <td>2012.0</td>\n",
       "    </tr>\n",
       "    <tr>\n",
       "      <th>3500</th>\n",
       "      <td>2012.0</td>\n",
       "    </tr>\n",
       "    <tr>\n",
       "      <th>...</th>\n",
       "      <td>...</td>\n",
       "    </tr>\n",
       "    <tr>\n",
       "      <th>tundra</th>\n",
       "      <td>2009.0</td>\n",
       "    </tr>\n",
       "    <tr>\n",
       "      <th>versa</th>\n",
       "      <td>2013.0</td>\n",
       "    </tr>\n",
       "    <tr>\n",
       "      <th>wrangler</th>\n",
       "      <td>2010.0</td>\n",
       "    </tr>\n",
       "    <tr>\n",
       "      <th>x5</th>\n",
       "      <td>2010.0</td>\n",
       "    </tr>\n",
       "    <tr>\n",
       "      <th>yukon</th>\n",
       "      <td>2008.0</td>\n",
       "    </tr>\n",
       "  </tbody>\n",
       "</table>\n",
       "<p>76 rows × 1 columns</p>\n",
       "</div>"
      ],
      "text/plain": [
       "            model_year\n",
       "model_line            \n",
       "1500            2012.0\n",
       "200             2014.0\n",
       "2500            2011.0\n",
       "300             2012.0\n",
       "3500            2012.0\n",
       "...                ...\n",
       "tundra          2009.0\n",
       "versa           2013.0\n",
       "wrangler        2010.0\n",
       "x5              2010.0\n",
       "yukon           2008.0\n",
       "\n",
       "[76 rows x 1 columns]"
      ]
     },
     "execution_count": 19,
     "metadata": {},
     "output_type": "execute_result"
    }
   ],
   "source": [
    "# Crearemos el pivote y recrearemos df_cleaned_drop_year  para contar la columna recién creada. \n",
    "# Usaremos solo los valores sin nulos en cylinder e imprimiremos.\n",
    "\n",
    "df_cleaned_drop_year = df_cleaned.dropna(subset=[\"model_year\"])\n",
    "\n",
    "pivot_year_imputation = df_cleaned_drop_year.pivot_table(\n",
    "    index=\"model_line\", values=\"model_year\", aggfunc=\"median\"\n",
    ")\n",
    "\n",
    "pivot_year_imputation"
   ]
  },
  {
   "cell_type": "code",
   "execution_count": 20,
   "metadata": {},
   "outputs": [
    {
     "data": {
      "text/html": [
       "<div>\n",
       "<style scoped>\n",
       "    .dataframe tbody tr th:only-of-type {\n",
       "        vertical-align: middle;\n",
       "    }\n",
       "\n",
       "    .dataframe tbody tr th {\n",
       "        vertical-align: top;\n",
       "    }\n",
       "\n",
       "    .dataframe thead th {\n",
       "        text-align: right;\n",
       "    }\n",
       "</style>\n",
       "<table border=\"1\" class=\"dataframe\">\n",
       "  <thead>\n",
       "    <tr style=\"text-align: right;\">\n",
       "      <th></th>\n",
       "      <th>price</th>\n",
       "      <th>model_year</th>\n",
       "      <th>model</th>\n",
       "      <th>condition</th>\n",
       "      <th>cylinders</th>\n",
       "      <th>fuel</th>\n",
       "      <th>odometer</th>\n",
       "      <th>transmission</th>\n",
       "      <th>type</th>\n",
       "      <th>paint_color</th>\n",
       "      <th>is_4wd</th>\n",
       "      <th>date_posted</th>\n",
       "      <th>days_listed</th>\n",
       "      <th>model_manufacturer</th>\n",
       "      <th>model_line</th>\n",
       "      <th>model_range</th>\n",
       "    </tr>\n",
       "  </thead>\n",
       "  <tbody>\n",
       "    <tr>\n",
       "      <th>49761</th>\n",
       "      <td>4475</td>\n",
       "      <td>NaN</td>\n",
       "      <td>jeep grand cherokee laredo</td>\n",
       "      <td>excellent</td>\n",
       "      <td>6.0</td>\n",
       "      <td>gas</td>\n",
       "      <td>180000.0</td>\n",
       "      <td>automatic</td>\n",
       "      <td>SUV</td>\n",
       "      <td>blue</td>\n",
       "      <td>1.0</td>\n",
       "      <td>2019-01-01</td>\n",
       "      <td>32</td>\n",
       "      <td>jeep</td>\n",
       "      <td>grand</td>\n",
       "      <td>NaN</td>\n",
       "    </tr>\n",
       "    <tr>\n",
       "      <th>35174</th>\n",
       "      <td>14900</td>\n",
       "      <td>NaN</td>\n",
       "      <td>toyota tacoma</td>\n",
       "      <td>like new</td>\n",
       "      <td>6.0</td>\n",
       "      <td>gas</td>\n",
       "      <td>146600.0</td>\n",
       "      <td>automatic</td>\n",
       "      <td>pickup</td>\n",
       "      <td>silver</td>\n",
       "      <td>0.0</td>\n",
       "      <td>2018-09-30</td>\n",
       "      <td>25</td>\n",
       "      <td>toyota</td>\n",
       "      <td>tacoma</td>\n",
       "      <td>NaN</td>\n",
       "    </tr>\n",
       "    <tr>\n",
       "      <th>35922</th>\n",
       "      <td>24995</td>\n",
       "      <td>NaN</td>\n",
       "      <td>toyota tacoma</td>\n",
       "      <td>good</td>\n",
       "      <td>6.0</td>\n",
       "      <td>gas</td>\n",
       "      <td>92353.0</td>\n",
       "      <td>automatic</td>\n",
       "      <td>truck</td>\n",
       "      <td>white</td>\n",
       "      <td>0.0</td>\n",
       "      <td>2018-05-12</td>\n",
       "      <td>62</td>\n",
       "      <td>toyota</td>\n",
       "      <td>tacoma</td>\n",
       "      <td>NaN</td>\n",
       "    </tr>\n",
       "    <tr>\n",
       "      <th>14851</th>\n",
       "      <td>11000</td>\n",
       "      <td>NaN</td>\n",
       "      <td>chevrolet silverado 1500</td>\n",
       "      <td>excellent</td>\n",
       "      <td>8.0</td>\n",
       "      <td>gas</td>\n",
       "      <td>129800.0</td>\n",
       "      <td>automatic</td>\n",
       "      <td>pickup</td>\n",
       "      <td>white</td>\n",
       "      <td>1.0</td>\n",
       "      <td>2018-07-26</td>\n",
       "      <td>22</td>\n",
       "      <td>chevrolet</td>\n",
       "      <td>silverado</td>\n",
       "      <td>NaN</td>\n",
       "    </tr>\n",
       "    <tr>\n",
       "      <th>43459</th>\n",
       "      <td>16997</td>\n",
       "      <td>NaN</td>\n",
       "      <td>ford edge</td>\n",
       "      <td>excellent</td>\n",
       "      <td>4.0</td>\n",
       "      <td>gas</td>\n",
       "      <td>72757.0</td>\n",
       "      <td>automatic</td>\n",
       "      <td>SUV</td>\n",
       "      <td>black</td>\n",
       "      <td>0.0</td>\n",
       "      <td>2019-04-03</td>\n",
       "      <td>32</td>\n",
       "      <td>ford</td>\n",
       "      <td>edge</td>\n",
       "      <td>NaN</td>\n",
       "    </tr>\n",
       "  </tbody>\n",
       "</table>\n",
       "</div>"
      ],
      "text/plain": [
       "       price  model_year                       model  condition  cylinders  \\\n",
       "49761   4475         NaN  jeep grand cherokee laredo  excellent        6.0   \n",
       "35174  14900         NaN               toyota tacoma   like new        6.0   \n",
       "35922  24995         NaN               toyota tacoma       good        6.0   \n",
       "14851  11000         NaN    chevrolet silverado 1500  excellent        8.0   \n",
       "43459  16997         NaN                   ford edge  excellent        4.0   \n",
       "\n",
       "      fuel  odometer transmission    type paint_color  is_4wd date_posted  \\\n",
       "49761  gas  180000.0    automatic     SUV        blue     1.0  2019-01-01   \n",
       "35174  gas  146600.0    automatic  pickup      silver     0.0  2018-09-30   \n",
       "35922  gas   92353.0    automatic   truck       white     0.0  2018-05-12   \n",
       "14851  gas  129800.0    automatic  pickup       white     1.0  2018-07-26   \n",
       "43459  gas   72757.0    automatic     SUV       black     0.0  2019-04-03   \n",
       "\n",
       "       days_listed model_manufacturer model_line model_range  \n",
       "49761           32               jeep      grand         NaN  \n",
       "35174           25             toyota     tacoma         NaN  \n",
       "35922           62             toyota     tacoma         NaN  \n",
       "14851           22          chevrolet  silverado         NaN  \n",
       "43459           32               ford       edge         NaN  "
      ]
     },
     "metadata": {},
     "output_type": "display_data"
    },
    {
     "data": {
      "text/plain": [
       "49761    2010.0\n",
       "35174    2010.0\n",
       "35922    2010.0\n",
       "14851    2011.0\n",
       "43459    2013.0\n",
       "dtype: float64"
      ]
     },
     "execution_count": 20,
     "metadata": {},
     "output_type": "execute_result"
    }
   ],
   "source": [
    "# Veamos que funciona antes y después\n",
    "df_cleaned_year_sample = df_cleaned[df_cleaned.model_year.isnull()].sample(n=5, random_state=1)\n",
    "\n",
    "display(\n",
    "    df_cleaned_year_sample\n",
    ")\n",
    "\n",
    "# Usemos un lambda en apply\n",
    "df_cleaned_year_sample.apply(    \n",
    "    lambda row: pivot_year_imputation.loc[row[\"model_line\"]][\"model_year\"] if np.isnan(row[\"model_year\"]) else row[\"model_year\"], axis=1\n",
    ")"
   ]
  },
  {
   "cell_type": "markdown",
   "metadata": {},
   "source": [
    "Apliquemos a nuestro dataframe y veamos la info:"
   ]
  },
  {
   "cell_type": "code",
   "execution_count": 21,
   "metadata": {},
   "outputs": [
    {
     "name": "stdout",
     "output_type": "stream",
     "text": [
      "<class 'pandas.core.frame.DataFrame'>\n",
      "Int64Index: 42258 entries, 1 to 51523\n",
      "Data columns (total 16 columns):\n",
      " #   Column              Non-Null Count  Dtype   \n",
      "---  ------              --------------  -----   \n",
      " 0   price               42258 non-null  int64   \n",
      " 1   model_year          42258 non-null  float64 \n",
      " 2   model               42258 non-null  object  \n",
      " 3   condition           42258 non-null  object  \n",
      " 4   cylinders           37948 non-null  float64 \n",
      " 5   fuel                42258 non-null  object  \n",
      " 6   odometer            35821 non-null  float64 \n",
      " 7   transmission        42258 non-null  object  \n",
      " 8   type                42258 non-null  object  \n",
      " 9   paint_color         42258 non-null  object  \n",
      " 10  is_4wd              42258 non-null  float64 \n",
      " 11  date_posted         42258 non-null  object  \n",
      " 12  days_listed         42258 non-null  int64   \n",
      " 13  model_manufacturer  42258 non-null  object  \n",
      " 14  model_line          42258 non-null  object  \n",
      " 15  model_range         42258 non-null  category\n",
      "dtypes: category(1), float64(4), int64(2), object(9)\n",
      "memory usage: 5.2+ MB\n"
     ]
    }
   ],
   "source": [
    "# Pasamos el apply\n",
    "df_cleaned.model_year = df_cleaned.apply(    \n",
    "    lambda row: pivot_year_imputation.loc[row[\"model_line\"]][\"model_year\"] if np.isnan(row[\"model_year\"]) else row[\"model_year\"], axis=1\n",
    ")\n",
    "\n",
    "# Recordemos que model_year se creo antes de esto, así que creemos model_range de nuevo para tenerlo en los valores\n",
    "# recién imputados.\n",
    "\n",
    "df_cleaned[\"model_range\"] = pd.cut(\n",
    "    df_cleaned[\"model_year\"],\n",
    "    bins=[-np.inf, 1945, 1960, 1980, np.inf],\n",
    "    labels=[\"Pre-1945\", \"Postguerra\", \"Clasico\", \"Moderno\"],\n",
    "    include_lowest=True\n",
    ")\n",
    "\n",
    "df_cleaned.model_range.value_counts()\n",
    "\n",
    "df_cleaned.info()"
   ]
  },
  {
   "cell_type": "markdown",
   "metadata": {},
   "source": [
    "Esto ya se ve mucho mejor, continuemos con las otras columnas."
   ]
  },
  {
   "cell_type": "markdown",
   "metadata": {},
   "source": [
    "### Columna `odometer`\n",
    "\n",
    "Haremos imputación para odometer, lo que haremos será ver si existe alguna relación con `condition` y `model_year`: los carros usados y más viejos deberían de tener más kilometraje. Hagamos un gráfico para observar la relación entre estas tres variables:"
   ]
  },
  {
   "cell_type": "code",
   "execution_count": 22,
   "metadata": {},
   "outputs": [
    {
     "data": {
      "image/png": "[encoded data removed]",
      "text/plain": [
       "<Figure size 1080x360 with 6 Axes>"
      ]
     },
     "metadata": {
      "needs_background": "light"
     },
     "output_type": "display_data"
    }
   ],
   "source": [
    "# Hagamos un scatter con las combinaciones de condition y type. Usaremos un subplot para no tener un gráfico\n",
    "# gigantesco, sino algo más manejable. Definamos un df con los valores en donde odometer es no nulo\n",
    "\n",
    "df_cleaned_drop_odometer = df_cleaned.dropna(subset=[\"odometer\"])\n",
    "\n",
    "fig, ax = plt.subplots(\n",
    "    int(df_cleaned_drop_odometer.condition.unique().shape[0]/3),\n",
    "    3\n",
    ")\n",
    "\n",
    "counter = 0\n",
    "\n",
    "for condicion, datos in df_cleaned_drop_odometer.groupby(\"condition\"):\n",
    "    datos.plot(\n",
    "        x=\"model_year\", y=\"odometer\", ax=ax.flat[counter], title=condicion.upper(), kind=\"scatter\",\n",
    "        alpha=0.5, grid=True, figsize=(15,5)\n",
    "    )\n",
    "    counter += 1\n",
    "\n",
    "fig.subplots_adjust(hspace=0.5, wspace=0.5)"
   ]
  },
  {
   "cell_type": "markdown",
   "metadata": {},
   "source": [
    "Cosas extrañas de la vida: los autos con más años no necesariamente tienen más millaje (a excepción de cuando estamos en _new_ o _salvage_). Tampoco hay alguna especie de relación lineal para todas, pero si podemos observar que los datos se agrupan en rangos (e.g. los autos del 2000 estan relativamente cerca), por lo que si queremos imputar un dato para un año en especial (digamos, 2005), podemos tomar un descriptivo para el rango de valores de ese año y condición. Como hay bastantes valores _outliers_, la mediana será una buena opción.\n",
    "\n",
    "Creemos la tabla pivote."
   ]
  },
  {
   "cell_type": "code",
   "execution_count": 23,
   "metadata": {},
   "outputs": [
    {
     "data": {
      "text/html": [
       "<div>\n",
       "<style scoped>\n",
       "    .dataframe tbody tr th:only-of-type {\n",
       "        vertical-align: middle;\n",
       "    }\n",
       "\n",
       "    .dataframe tbody tr th {\n",
       "        vertical-align: top;\n",
       "    }\n",
       "\n",
       "    .dataframe thead th {\n",
       "        text-align: right;\n",
       "    }\n",
       "</style>\n",
       "<table border=\"1\" class=\"dataframe\">\n",
       "  <thead>\n",
       "    <tr style=\"text-align: right;\">\n",
       "      <th>condition</th>\n",
       "      <th>excellent</th>\n",
       "      <th>fair</th>\n",
       "      <th>good</th>\n",
       "      <th>like new</th>\n",
       "      <th>new</th>\n",
       "      <th>salvage</th>\n",
       "    </tr>\n",
       "    <tr>\n",
       "      <th>model_range</th>\n",
       "      <th></th>\n",
       "      <th></th>\n",
       "      <th></th>\n",
       "      <th></th>\n",
       "      <th></th>\n",
       "      <th></th>\n",
       "    </tr>\n",
       "  </thead>\n",
       "  <tbody>\n",
       "    <tr>\n",
       "      <th>Pre-1945</th>\n",
       "      <td>30000.0</td>\n",
       "      <td>NaN</td>\n",
       "      <td>169328.0</td>\n",
       "      <td>NaN</td>\n",
       "      <td>NaN</td>\n",
       "      <td>NaN</td>\n",
       "    </tr>\n",
       "    <tr>\n",
       "      <th>Postguerra</th>\n",
       "      <td>3565.0</td>\n",
       "      <td>NaN</td>\n",
       "      <td>1800.0</td>\n",
       "      <td>4000.0</td>\n",
       "      <td>NaN</td>\n",
       "      <td>NaN</td>\n",
       "    </tr>\n",
       "    <tr>\n",
       "      <th>Clasico</th>\n",
       "      <td>54275.0</td>\n",
       "      <td>75437.0</td>\n",
       "      <td>71000.0</td>\n",
       "      <td>47000.0</td>\n",
       "      <td>128.0</td>\n",
       "      <td>NaN</td>\n",
       "    </tr>\n",
       "    <tr>\n",
       "      <th>Moderno</th>\n",
       "      <td>104736.0</td>\n",
       "      <td>181613.0</td>\n",
       "      <td>129587.0</td>\n",
       "      <td>73152.5</td>\n",
       "      <td>7500.0</td>\n",
       "      <td>140200.0</td>\n",
       "    </tr>\n",
       "  </tbody>\n",
       "</table>\n",
       "</div>"
      ],
      "text/plain": [
       "condition    excellent      fair      good  like new     new   salvage\n",
       "model_range                                                           \n",
       "Pre-1945       30000.0       NaN  169328.0       NaN     NaN       NaN\n",
       "Postguerra      3565.0       NaN    1800.0    4000.0     NaN       NaN\n",
       "Clasico        54275.0   75437.0   71000.0   47000.0   128.0       NaN\n",
       "Moderno       104736.0  181613.0  129587.0   73152.5  7500.0  140200.0"
      ]
     },
     "execution_count": 23,
     "metadata": {},
     "output_type": "execute_result"
    }
   ],
   "source": [
    "# Crearemos el pivote para poder simplificar la llamada posterior en la imputación. Usaremos solo los valores sin \n",
    "# nulos en Odometer e imprimiremos.\n",
    "df_cleaned_drop_odometer = df_cleaned.dropna(subset=[\"odometer\"])\n",
    "\n",
    "pivot_odometer_imputation = df_cleaned_drop_odometer.pivot_table(\n",
    "    index=\"model_range\", columns=\"condition\", values=\"odometer\", aggfunc=\"median\"\n",
    ")\n",
    "\n",
    "pivot_odometer_imputation"
   ]
  },
  {
   "cell_type": "markdown",
   "metadata": {},
   "source": [
    "Es rápido ver que no tenemos valores para todos los casos posibles (debido al pequeño número de automóviles más viejos), pero nos servirá para poder hacernos una idea de como se distribuyen. Ahora definamos una función imputadora con los valores de la tabla pivote."
   ]
  },
  {
   "cell_type": "code",
   "execution_count": 24,
   "metadata": {},
   "outputs": [],
   "source": [
    "# Función imputadora\n",
    "def imputator_pivot2x2(row, value_to_check, pivot_table, index, column, method, try_column_only=True):\n",
    "    '''\n",
    "    Esta función se aplica a cada valor de un dataframe y regresa el valor de una matriz pivote 2x2 (basado en\n",
    "    index y column) sí el valor original es nulo, en otro caso regresa éste de nuevo. Como habrá\n",
    "    casos en que no encuentre uno Y el otro, prueba con ellos por sí solos\n",
    "    '''\n",
    "    \n",
    "    # Code logic: getattr para sortear error de llamado al método; default multiple index, elige uno solo si no\n",
    "    # se encuentran los dos.\n",
    "    stat = getattr(type(pivot_table), method).__name__\n",
    "    \n",
    "    if np.isnan(row[value_to_check]):\n",
    "        # La columna siempre existe, el índice no necesariamente, hay que  verificar\n",
    "        try:\n",
    "            curr_pivot_row = pivot_table.loc[row[index]]\n",
    "            assert(\n",
    "                not np.isnan(curr_pivot_row[row[column]])\n",
    "                #not np.isnan(curr_pivot_row[column])\n",
    "            )\n",
    "            return curr_pivot_row[row[column]]# curr_pivot_row[row[column]].stat()\n",
    "            \n",
    "        except KeyError:\n",
    "            if try_column_only: return pivot_table[column].stat()\n",
    "        except AssertionError:\n",
    "            if try_column_only: return pivot_table[column].stat()\n",
    "        else:\n",
    "            return np.nan\n",
    "    else:\n",
    "        return row[value_to_check]\n",
    "            #try:\n",
    "                #if preferred == \"column\":                \n",
    "                 #   return pivot_table[row[column]].stat()\n",
    "                #elif preferred == \"index\":\n",
    "                #else:\n",
    "                 #   return pivot_table.loc[row[index]].stat()\n",
    "            #except:\n",
    "             #   return np.nan"
   ]
  },
  {
   "cell_type": "markdown",
   "metadata": {},
   "source": [
    "Hemos creado la función imputadora, ahora nos toca hacer una prueba con un pequeño sample."
   ]
  },
  {
   "cell_type": "code",
   "execution_count": 25,
   "metadata": {},
   "outputs": [
    {
     "data": {
      "text/html": [
       "<div>\n",
       "<style scoped>\n",
       "    .dataframe tbody tr th:only-of-type {\n",
       "        vertical-align: middle;\n",
       "    }\n",
       "\n",
       "    .dataframe tbody tr th {\n",
       "        vertical-align: top;\n",
       "    }\n",
       "\n",
       "    .dataframe thead th {\n",
       "        text-align: right;\n",
       "    }\n",
       "</style>\n",
       "<table border=\"1\" class=\"dataframe\">\n",
       "  <thead>\n",
       "    <tr style=\"text-align: right;\">\n",
       "      <th></th>\n",
       "      <th>price</th>\n",
       "      <th>model_year</th>\n",
       "      <th>model</th>\n",
       "      <th>condition</th>\n",
       "      <th>cylinders</th>\n",
       "      <th>fuel</th>\n",
       "      <th>odometer</th>\n",
       "      <th>transmission</th>\n",
       "      <th>type</th>\n",
       "      <th>paint_color</th>\n",
       "      <th>is_4wd</th>\n",
       "      <th>date_posted</th>\n",
       "      <th>days_listed</th>\n",
       "      <th>model_manufacturer</th>\n",
       "      <th>model_line</th>\n",
       "      <th>model_range</th>\n",
       "    </tr>\n",
       "  </thead>\n",
       "  <tbody>\n",
       "    <tr>\n",
       "      <th>33906</th>\n",
       "      <td>12995</td>\n",
       "      <td>1908.0</td>\n",
       "      <td>gmc yukon</td>\n",
       "      <td>good</td>\n",
       "      <td>8.0</td>\n",
       "      <td>gas</td>\n",
       "      <td>169328.0</td>\n",
       "      <td>automatic</td>\n",
       "      <td>SUV</td>\n",
       "      <td>black</td>\n",
       "      <td>0.0</td>\n",
       "      <td>2018-07-06</td>\n",
       "      <td>34</td>\n",
       "      <td>gmc</td>\n",
       "      <td>yukon</td>\n",
       "      <td>Pre-1945</td>\n",
       "    </tr>\n",
       "    <tr>\n",
       "      <th>33907</th>\n",
       "      <td>12995</td>\n",
       "      <td>1908.0</td>\n",
       "      <td>cadillac escalade</td>\n",
       "      <td>excellent</td>\n",
       "      <td>8.0</td>\n",
       "      <td>gas</td>\n",
       "      <td>NaN</td>\n",
       "      <td>automatic</td>\n",
       "      <td>SUV</td>\n",
       "      <td>white</td>\n",
       "      <td>0.0</td>\n",
       "      <td>2018-06-24</td>\n",
       "      <td>25</td>\n",
       "      <td>cadillac</td>\n",
       "      <td>escalade</td>\n",
       "      <td>Pre-1945</td>\n",
       "    </tr>\n",
       "    <tr>\n",
       "      <th>34713</th>\n",
       "      <td>5000</td>\n",
       "      <td>1936.0</td>\n",
       "      <td>ford f-150</td>\n",
       "      <td>excellent</td>\n",
       "      <td>6.0</td>\n",
       "      <td>gas</td>\n",
       "      <td>30000.0</td>\n",
       "      <td>manual</td>\n",
       "      <td>pickup</td>\n",
       "      <td>purple</td>\n",
       "      <td>0.0</td>\n",
       "      <td>2018-11-22</td>\n",
       "      <td>10</td>\n",
       "      <td>ford</td>\n",
       "      <td>f150</td>\n",
       "      <td>Pre-1945</td>\n",
       "    </tr>\n",
       "    <tr>\n",
       "      <th>45694</th>\n",
       "      <td>18000</td>\n",
       "      <td>1929.0</td>\n",
       "      <td>ford f-150</td>\n",
       "      <td>good</td>\n",
       "      <td>8.0</td>\n",
       "      <td>gas</td>\n",
       "      <td>NaN</td>\n",
       "      <td>manual</td>\n",
       "      <td>other</td>\n",
       "      <td>silver</td>\n",
       "      <td>0.0</td>\n",
       "      <td>2018-11-18</td>\n",
       "      <td>59</td>\n",
       "      <td>ford</td>\n",
       "      <td>f150</td>\n",
       "      <td>Pre-1945</td>\n",
       "    </tr>\n",
       "  </tbody>\n",
       "</table>\n",
       "</div>"
      ],
      "text/plain": [
       "       price  model_year              model  condition  cylinders fuel  \\\n",
       "33906  12995      1908.0          gmc yukon       good        8.0  gas   \n",
       "33907  12995      1908.0  cadillac escalade  excellent        8.0  gas   \n",
       "34713   5000      1936.0         ford f-150  excellent        6.0  gas   \n",
       "45694  18000      1929.0         ford f-150       good        8.0  gas   \n",
       "\n",
       "       odometer transmission    type paint_color  is_4wd date_posted  \\\n",
       "33906  169328.0    automatic     SUV       black     0.0  2018-07-06   \n",
       "33907       NaN    automatic     SUV       white     0.0  2018-06-24   \n",
       "34713   30000.0       manual  pickup      purple     0.0  2018-11-22   \n",
       "45694       NaN       manual   other      silver     0.0  2018-11-18   \n",
       "\n",
       "       days_listed model_manufacturer model_line model_range  \n",
       "33906           34                gmc      yukon    Pre-1945  \n",
       "33907           25           cadillac   escalade    Pre-1945  \n",
       "34713           10               ford       f150    Pre-1945  \n",
       "45694           59               ford       f150    Pre-1945  "
      ]
     },
     "metadata": {},
     "output_type": "display_data"
    },
    {
     "data": {
      "text/plain": [
       "33906    169328.0\n",
       "33907     30000.0\n",
       "34713     30000.0\n",
       "45694    169328.0\n",
       "dtype: float64"
      ]
     },
     "execution_count": 25,
     "metadata": {},
     "output_type": "execute_result"
    }
   ],
   "source": [
    "# Veamos que funciona antes y después\n",
    "df_cleaned_odometer_sample = df_cleaned.query(\"model_range == 'Pre-1945'\")#.sample(n=3, random_state=1)\n",
    "\n",
    "display(\n",
    "    df_cleaned_odometer_sample\n",
    ")\n",
    "\n",
    "df_cleaned_odometer_sample.apply(\n",
    "    imputator_pivot2x2, value_to_check=\"odometer\", axis=1,\n",
    "    pivot_table=pivot_odometer_imputation,\n",
    "    method=\"mean\",\n",
    "    column=\"condition\",\n",
    "    index=\"model_range\"\n",
    ")"
   ]
  },
  {
   "cell_type": "markdown",
   "metadata": {},
   "source": [
    "Podemos ver que tenemos valores con NaN que se han corregido apropiadamente. Hagamos el reemplazo en la columna original."
   ]
  },
  {
   "cell_type": "code",
   "execution_count": 26,
   "metadata": {},
   "outputs": [
    {
     "name": "stdout",
     "output_type": "stream",
     "text": [
      "<class 'pandas.core.frame.DataFrame'>\n",
      "Int64Index: 42258 entries, 1 to 51523\n",
      "Data columns (total 16 columns):\n",
      " #   Column              Non-Null Count  Dtype   \n",
      "---  ------              --------------  -----   \n",
      " 0   price               42258 non-null  int64   \n",
      " 1   model_year          42258 non-null  float64 \n",
      " 2   model               42258 non-null  object  \n",
      " 3   condition           42258 non-null  object  \n",
      " 4   cylinders           37948 non-null  float64 \n",
      " 5   fuel                42258 non-null  object  \n",
      " 6   odometer            42258 non-null  float64 \n",
      " 7   transmission        42258 non-null  object  \n",
      " 8   type                42258 non-null  object  \n",
      " 9   paint_color         42258 non-null  object  \n",
      " 10  is_4wd              42258 non-null  float64 \n",
      " 11  date_posted         42258 non-null  object  \n",
      " 12  days_listed         42258 non-null  int64   \n",
      " 13  model_manufacturer  42258 non-null  object  \n",
      " 14  model_line          42258 non-null  object  \n",
      " 15  model_range         42258 non-null  category\n",
      "dtypes: category(1), float64(4), int64(2), object(9)\n",
      "memory usage: 5.2+ MB\n"
     ]
    }
   ],
   "source": [
    "# Corramos y reemplacemos, luego veamos que tenemos\n",
    "df_cleaned.odometer = df_cleaned.apply(\n",
    "    imputator_pivot2x2, value_to_check=\"odometer\", axis=1,\n",
    "    pivot_table=pivot_odometer_imputation,\n",
    "    method=\"mean\",\n",
    "    column=\"condition\",\n",
    "    index=\"model_range\",\n",
    "    try_column_only = False\n",
    ")\n",
    "\n",
    "df_cleaned.info()"
   ]
  },
  {
   "cell_type": "markdown",
   "metadata": {},
   "source": [
    "Se ve bien todo por acá, podemos continuar con la columna `cylinders`."
   ]
  },
  {
   "cell_type": "markdown",
   "metadata": {},
   "source": [
    "### Columna `cylinders`\n",
    "\n",
    "Ahora podemos continuar con esta información, pero echemosle un vistazo al describe primero súper rápido:"
   ]
  },
  {
   "cell_type": "code",
   "execution_count": 27,
   "metadata": {},
   "outputs": [
    {
     "data": {
      "text/html": [
       "<div>\n",
       "<style scoped>\n",
       "    .dataframe tbody tr th:only-of-type {\n",
       "        vertical-align: middle;\n",
       "    }\n",
       "\n",
       "    .dataframe tbody tr th {\n",
       "        vertical-align: top;\n",
       "    }\n",
       "\n",
       "    .dataframe thead th {\n",
       "        text-align: right;\n",
       "    }\n",
       "</style>\n",
       "<table border=\"1\" class=\"dataframe\">\n",
       "  <thead>\n",
       "    <tr style=\"text-align: right;\">\n",
       "      <th></th>\n",
       "      <th>price</th>\n",
       "      <th>model_year</th>\n",
       "      <th>cylinders</th>\n",
       "      <th>odometer</th>\n",
       "      <th>is_4wd</th>\n",
       "      <th>days_listed</th>\n",
       "    </tr>\n",
       "  </thead>\n",
       "  <tbody>\n",
       "    <tr>\n",
       "      <th>count</th>\n",
       "      <td>42258.000000</td>\n",
       "      <td>42258.000000</td>\n",
       "      <td>37948.000000</td>\n",
       "      <td>42258.000000</td>\n",
       "      <td>42258.000000</td>\n",
       "      <td>42258.000000</td>\n",
       "    </tr>\n",
       "    <tr>\n",
       "      <th>mean</th>\n",
       "      <td>12124.069265</td>\n",
       "      <td>2009.788064</td>\n",
       "      <td>6.124381</td>\n",
       "      <td>115419.131738</td>\n",
       "      <td>0.495575</td>\n",
       "      <td>39.593781</td>\n",
       "    </tr>\n",
       "    <tr>\n",
       "      <th>std</th>\n",
       "      <td>10135.029855</td>\n",
       "      <td>6.099292</td>\n",
       "      <td>1.659557</td>\n",
       "      <td>60773.841692</td>\n",
       "      <td>0.499986</td>\n",
       "      <td>28.230447</td>\n",
       "    </tr>\n",
       "    <tr>\n",
       "      <th>min</th>\n",
       "      <td>1.000000</td>\n",
       "      <td>1908.000000</td>\n",
       "      <td>3.000000</td>\n",
       "      <td>0.000000</td>\n",
       "      <td>0.000000</td>\n",
       "      <td>0.000000</td>\n",
       "    </tr>\n",
       "    <tr>\n",
       "      <th>25%</th>\n",
       "      <td>4999.000000</td>\n",
       "      <td>2007.000000</td>\n",
       "      <td>4.000000</td>\n",
       "      <td>75765.000000</td>\n",
       "      <td>0.000000</td>\n",
       "      <td>19.000000</td>\n",
       "    </tr>\n",
       "    <tr>\n",
       "      <th>50%</th>\n",
       "      <td>9000.000000</td>\n",
       "      <td>2011.000000</td>\n",
       "      <td>6.000000</td>\n",
       "      <td>111000.000000</td>\n",
       "      <td>0.000000</td>\n",
       "      <td>33.000000</td>\n",
       "    </tr>\n",
       "    <tr>\n",
       "      <th>75%</th>\n",
       "      <td>16689.000000</td>\n",
       "      <td>2014.000000</td>\n",
       "      <td>8.000000</td>\n",
       "      <td>148000.000000</td>\n",
       "      <td>1.000000</td>\n",
       "      <td>53.000000</td>\n",
       "    </tr>\n",
       "    <tr>\n",
       "      <th>max</th>\n",
       "      <td>375000.000000</td>\n",
       "      <td>2019.000000</td>\n",
       "      <td>12.000000</td>\n",
       "      <td>990000.000000</td>\n",
       "      <td>1.000000</td>\n",
       "      <td>267.000000</td>\n",
       "    </tr>\n",
       "  </tbody>\n",
       "</table>\n",
       "</div>"
      ],
      "text/plain": [
       "               price    model_year     cylinders       odometer        is_4wd  \\\n",
       "count   42258.000000  42258.000000  37948.000000   42258.000000  42258.000000   \n",
       "mean    12124.069265   2009.788064      6.124381  115419.131738      0.495575   \n",
       "std     10135.029855      6.099292      1.659557   60773.841692      0.499986   \n",
       "min         1.000000   1908.000000      3.000000       0.000000      0.000000   \n",
       "25%      4999.000000   2007.000000      4.000000   75765.000000      0.000000   \n",
       "50%      9000.000000   2011.000000      6.000000  111000.000000      0.000000   \n",
       "75%     16689.000000   2014.000000      8.000000  148000.000000      1.000000   \n",
       "max    375000.000000   2019.000000     12.000000  990000.000000      1.000000   \n",
       "\n",
       "        days_listed  \n",
       "count  42258.000000  \n",
       "mean      39.593781  \n",
       "std       28.230447  \n",
       "min        0.000000  \n",
       "25%       19.000000  \n",
       "50%       33.000000  \n",
       "75%       53.000000  \n",
       "max      267.000000  "
      ]
     },
     "execution_count": 27,
     "metadata": {},
     "output_type": "execute_result"
    }
   ],
   "source": [
    "df_cleaned.describe()"
   ]
  },
  {
   "cell_type": "markdown",
   "metadata": {},
   "source": [
    "Como podemos notar, no existe demasiada diferencia entre el máximo y el mínimo del cilindraje, lo cual es buena señal (es lo usual). ¿Qué podría determinar el número de cilindro? Probablemente cuestiones mecánicas como el modelo (si son de la misma familia probablemente tengan el mismo número de cilindros), y el tipo de vehículo (es más común ver camionetas con alto cilindraje que sedanes aunque no es excluyente). Para poder ver esto, empecemos creando un gráfico que muestre el número de cilindros y empezando con `type`."
   ]
  },
  {
   "cell_type": "code",
   "execution_count": 28,
   "metadata": {},
   "outputs": [
    {
     "data": {
      "image/png": "[encoded data removed]",
      "text/plain": [
       "<Figure size 1080x360 with 1 Axes>"
      ]
     },
     "metadata": {
      "needs_background": "light"
     },
     "output_type": "display_data"
    }
   ],
   "source": [
    "# Creemos una tabla sin valores ausentes\n",
    "df_cleaned_drop_cylinders = df_cleaned.dropna(subset=[\"cylinders\"])\n",
    "\n",
    "#fig, ax = plt.subplots(2,1)\n",
    "\n",
    "df_cleaned_drop_cylinders.boxplot(column=\"cylinders\", by=\"type\", figsize=(15,5))\n",
    "\n",
    "#df_cleaned_drop_cylinders.boxplot(column=\"cylinders\", by=\"transmission\", figsize=(30,10), ax=ax.flat[1])\n",
    "\n",
    "\n",
    "plt.show()"
   ]
  },
  {
   "cell_type": "markdown",
   "metadata": {},
   "source": [
    "Parece que tenemos pocos outliers y que la mayoría de nuestros valores de número de cilindros se agrupan cerca de la mediana como esperabamos. Ahora, echemos un vistazo a nuestros valores ausentes para ver si encontramos `model_line` que reconozcamos previamente."
   ]
  },
  {
   "cell_type": "code",
   "execution_count": 29,
   "metadata": {},
   "outputs": [
    {
     "data": {
      "text/plain": [
       "array(['pilot', 'highlander', 'mustang', 'impreza', 'x5', 'sorento',\n",
       "       'altima', 'frontier', 'camaro', 'silverado', 'civic', 'accord',\n",
       "       'liberty', '1500', 'prius', 'f150', 'equinox', 'f250', 'focus',\n",
       "       'soul', 'corolla', 'sierra', '3500', 'charger', '300', 'versa',\n",
       "       'rogue', 'fusion', 'outback', 'grand', 'passat', 'enclave',\n",
       "       'explorer', '2500', 'suburban', 'yukon', 'camry', 'f350', 'edge',\n",
       "       'corvette', 'tacoma', 'rav4', 'jetta', 'traverse', 'town',\n",
       "       '4runner', 'tundra', 'wrangler', 'sonata', 'elantra', 'forester',\n",
       "       'odyssey', 'murano', 'escape', 'santa', 'tahoe', 'econoline',\n",
       "       'trailblazer', 'impala', 'sentra', 'expedition', 'cr-v', 'cruze',\n",
       "       'colorado', 'malibu', 'taurus', 'cherokee', 'ranger', 'escalade',\n",
       "       'tl', '200', 'dakota', 'sienna', 'maxima', 'acadia', 'benze'],\n",
       "      dtype=object)"
      ]
     },
     "execution_count": 29,
     "metadata": {},
     "output_type": "execute_result"
    }
   ],
   "source": [
    "df_cleaned[df_cleaned.cylinders.isnull()].model_line.unique()"
   ]
  },
  {
   "cell_type": "markdown",
   "metadata": {},
   "source": [
    "Note que tenemos cosas conocidas como f150, de los cuales ya conocemos algunos casos que si tienen valores para el número de cilindros. Continuemos haciendo una imputación de la misma manera que hicimos con `odometers`. Primero construiremos una matriz pivote para llamar en la función de imputación y luego aplicaremos."
   ]
  },
  {
   "cell_type": "code",
   "execution_count": 30,
   "metadata": {},
   "outputs": [
    {
     "name": "stdout",
     "output_type": "stream",
     "text": [
      "            cylinders\n",
      "model_line           \n",
      "1500              8.0\n",
      "200               4.0\n",
      "2500              6.0\n",
      "300               6.0\n",
      "3500              6.0\n",
      "...               ...\n",
      "tundra            8.0\n",
      "versa             4.0\n",
      "wrangler          6.0\n",
      "x5                6.0\n",
      "yukon             8.0\n",
      "\n",
      "[76 rows x 1 columns]\n"
     ]
    }
   ],
   "source": [
    "# Crearemos el pivote para poder simplificar la llamada posterior en la imputación.\n",
    "df_cleaned_drop_cylinders = df_cleaned.dropna(subset=[\"cylinders\"])\n",
    "\n",
    "pivot_cylinders_imputation = df_cleaned_drop_cylinders.pivot_table(\n",
    "    index=\"model_line\", values=\"cylinders\", aggfunc=\"median\"\n",
    ")\n",
    "\n",
    "print(\n",
    "    pivot_cylinders_imputation\n",
    ")"
   ]
  },
  {
   "cell_type": "code",
   "execution_count": 31,
   "metadata": {},
   "outputs": [
    {
     "data": {
      "text/html": [
       "<div>\n",
       "<style scoped>\n",
       "    .dataframe tbody tr th:only-of-type {\n",
       "        vertical-align: middle;\n",
       "    }\n",
       "\n",
       "    .dataframe tbody tr th {\n",
       "        vertical-align: top;\n",
       "    }\n",
       "\n",
       "    .dataframe thead th {\n",
       "        text-align: right;\n",
       "    }\n",
       "</style>\n",
       "<table border=\"1\" class=\"dataframe\">\n",
       "  <thead>\n",
       "    <tr style=\"text-align: right;\">\n",
       "      <th></th>\n",
       "      <th>price</th>\n",
       "      <th>model_year</th>\n",
       "      <th>model</th>\n",
       "      <th>condition</th>\n",
       "      <th>cylinders</th>\n",
       "      <th>fuel</th>\n",
       "      <th>odometer</th>\n",
       "      <th>transmission</th>\n",
       "      <th>type</th>\n",
       "      <th>paint_color</th>\n",
       "      <th>is_4wd</th>\n",
       "      <th>date_posted</th>\n",
       "      <th>days_listed</th>\n",
       "      <th>model_manufacturer</th>\n",
       "      <th>model_line</th>\n",
       "      <th>model_range</th>\n",
       "    </tr>\n",
       "  </thead>\n",
       "  <tbody>\n",
       "    <tr>\n",
       "      <th>36856</th>\n",
       "      <td>11995</td>\n",
       "      <td>2010.0</td>\n",
       "      <td>jeep wrangler</td>\n",
       "      <td>good</td>\n",
       "      <td>NaN</td>\n",
       "      <td>gas</td>\n",
       "      <td>102100.0</td>\n",
       "      <td>automatic</td>\n",
       "      <td>SUV</td>\n",
       "      <td>red</td>\n",
       "      <td>1.0</td>\n",
       "      <td>2019-03-05</td>\n",
       "      <td>33</td>\n",
       "      <td>jeep</td>\n",
       "      <td>wrangler</td>\n",
       "      <td>Moderno</td>\n",
       "    </tr>\n",
       "    <tr>\n",
       "      <th>17913</th>\n",
       "      <td>1500</td>\n",
       "      <td>2004.0</td>\n",
       "      <td>ford f-150</td>\n",
       "      <td>fair</td>\n",
       "      <td>NaN</td>\n",
       "      <td>gas</td>\n",
       "      <td>132901.0</td>\n",
       "      <td>automatic</td>\n",
       "      <td>truck</td>\n",
       "      <td>brown</td>\n",
       "      <td>1.0</td>\n",
       "      <td>2018-07-22</td>\n",
       "      <td>16</td>\n",
       "      <td>ford</td>\n",
       "      <td>f150</td>\n",
       "      <td>Moderno</td>\n",
       "    </tr>\n",
       "    <tr>\n",
       "      <th>1356</th>\n",
       "      <td>35000</td>\n",
       "      <td>2008.0</td>\n",
       "      <td>ram 2500</td>\n",
       "      <td>excellent</td>\n",
       "      <td>NaN</td>\n",
       "      <td>diesel</td>\n",
       "      <td>104736.0</td>\n",
       "      <td>automatic</td>\n",
       "      <td>truck</td>\n",
       "      <td>black</td>\n",
       "      <td>1.0</td>\n",
       "      <td>2018-08-31</td>\n",
       "      <td>32</td>\n",
       "      <td>ram</td>\n",
       "      <td>2500</td>\n",
       "      <td>Moderno</td>\n",
       "    </tr>\n",
       "    <tr>\n",
       "      <th>18598</th>\n",
       "      <td>11800</td>\n",
       "      <td>2010.0</td>\n",
       "      <td>ram 1500</td>\n",
       "      <td>good</td>\n",
       "      <td>NaN</td>\n",
       "      <td>gas</td>\n",
       "      <td>183338.0</td>\n",
       "      <td>automatic</td>\n",
       "      <td>truck</td>\n",
       "      <td>grey</td>\n",
       "      <td>1.0</td>\n",
       "      <td>2019-03-24</td>\n",
       "      <td>17</td>\n",
       "      <td>ram</td>\n",
       "      <td>1500</td>\n",
       "      <td>Moderno</td>\n",
       "    </tr>\n",
       "    <tr>\n",
       "      <th>19868</th>\n",
       "      <td>5900</td>\n",
       "      <td>2013.0</td>\n",
       "      <td>chevrolet silverado 1500</td>\n",
       "      <td>good</td>\n",
       "      <td>NaN</td>\n",
       "      <td>gas</td>\n",
       "      <td>202000.0</td>\n",
       "      <td>automatic</td>\n",
       "      <td>pickup</td>\n",
       "      <td>white</td>\n",
       "      <td>1.0</td>\n",
       "      <td>2018-09-05</td>\n",
       "      <td>30</td>\n",
       "      <td>chevrolet</td>\n",
       "      <td>silverado</td>\n",
       "      <td>Moderno</td>\n",
       "    </tr>\n",
       "  </tbody>\n",
       "</table>\n",
       "</div>"
      ],
      "text/plain": [
       "       price  model_year                     model  condition  cylinders  \\\n",
       "36856  11995      2010.0             jeep wrangler       good        NaN   \n",
       "17913   1500      2004.0                ford f-150       fair        NaN   \n",
       "1356   35000      2008.0                  ram 2500  excellent        NaN   \n",
       "18598  11800      2010.0                  ram 1500       good        NaN   \n",
       "19868   5900      2013.0  chevrolet silverado 1500       good        NaN   \n",
       "\n",
       "         fuel  odometer transmission    type paint_color  is_4wd date_posted  \\\n",
       "36856     gas  102100.0    automatic     SUV         red     1.0  2019-03-05   \n",
       "17913     gas  132901.0    automatic   truck       brown     1.0  2018-07-22   \n",
       "1356   diesel  104736.0    automatic   truck       black     1.0  2018-08-31   \n",
       "18598     gas  183338.0    automatic   truck        grey     1.0  2019-03-24   \n",
       "19868     gas  202000.0    automatic  pickup       white     1.0  2018-09-05   \n",
       "\n",
       "       days_listed model_manufacturer model_line model_range  \n",
       "36856           33               jeep   wrangler     Moderno  \n",
       "17913           16               ford       f150     Moderno  \n",
       "1356            32                ram       2500     Moderno  \n",
       "18598           17                ram       1500     Moderno  \n",
       "19868           30          chevrolet  silverado     Moderno  "
      ]
     },
     "metadata": {},
     "output_type": "display_data"
    },
    {
     "data": {
      "text/plain": [
       "36856    6.0\n",
       "17913    8.0\n",
       "1356     6.0\n",
       "18598    8.0\n",
       "19868    8.0\n",
       "dtype: float64"
      ]
     },
     "execution_count": 31,
     "metadata": {},
     "output_type": "execute_result"
    }
   ],
   "source": [
    "# Veamos que funciona antes y después\n",
    "df_cleaned_cylinder_sample = df_cleaned[df_cleaned.cylinders.isnull()].sample(n=5, random_state=1)\n",
    "\n",
    "display(\n",
    "    df_cleaned_cylinder_sample\n",
    ")\n",
    "\n",
    "# Nuestra función de imputación necesita el valor de column, así que haremos este reemplazo con una lambda muy\n",
    "# sencilla\n",
    "\n",
    "df_cleaned_cylinder_sample.apply(\n",
    "    #lambda row: pivot_cylinders_imputation.loc[row[\"model_line\"]][row[\"cylinders\"]] if np.isnan(row[\"cylinders\"]) else row[\"cylinders\"], axis=1\n",
    "    lambda row: pivot_cylinders_imputation.loc[row[\"model_line\"]][\"cylinders\"] if np.isnan(row[\"cylinders\"]) else row[\"cylinders\"], axis=1\n",
    ")\n",
    "\n",
    "# df_cleaned_cylinder_sample.apply(\n",
    "#     imputator_pivot2x2, value_to_check=\"cylinders\", axis=1,\n",
    "#     pivot_table=pivot_cylinders_imputation,\n",
    "#     method=\"median\",\n",
    "#     column=\"cylinders\",\n",
    "#     index=\"model_line\",\n",
    "#     try_column_only = False\n",
    "# )"
   ]
  },
  {
   "cell_type": "markdown",
   "metadata": {},
   "source": [
    "Como todo se ve bien, apliquemos al dataset."
   ]
  },
  {
   "cell_type": "code",
   "execution_count": 32,
   "metadata": {},
   "outputs": [
    {
     "name": "stdout",
     "output_type": "stream",
     "text": [
      "<class 'pandas.core.frame.DataFrame'>\n",
      "Int64Index: 42258 entries, 1 to 51523\n",
      "Data columns (total 16 columns):\n",
      " #   Column              Non-Null Count  Dtype   \n",
      "---  ------              --------------  -----   \n",
      " 0   price               42258 non-null  int64   \n",
      " 1   model_year          42258 non-null  float64 \n",
      " 2   model               42258 non-null  object  \n",
      " 3   condition           42258 non-null  object  \n",
      " 4   cylinders           42258 non-null  float64 \n",
      " 5   fuel                42258 non-null  object  \n",
      " 6   odometer            42258 non-null  float64 \n",
      " 7   transmission        42258 non-null  object  \n",
      " 8   type                42258 non-null  object  \n",
      " 9   paint_color         42258 non-null  object  \n",
      " 10  is_4wd              42258 non-null  float64 \n",
      " 11  date_posted         42258 non-null  object  \n",
      " 12  days_listed         42258 non-null  int64   \n",
      " 13  model_manufacturer  42258 non-null  object  \n",
      " 14  model_line          42258 non-null  object  \n",
      " 15  model_range         42258 non-null  category\n",
      "dtypes: category(1), float64(4), int64(2), object(9)\n",
      "memory usage: 5.2+ MB\n"
     ]
    }
   ],
   "source": [
    "# Apliquemos el lambda y echemos un ojo\n",
    "df_cleaned.cylinders = df_cleaned.apply(\n",
    "    \n",
    "    lambda row: pivot_cylinders_imputation.loc[row[\"model_line\"]][\"cylinders\"] if np.isnan(row[\"cylinders\"]) else row[\"cylinders\"], axis=1\n",
    ")\n",
    "\n",
    "df_cleaned.info()"
   ]
  },
  {
   "cell_type": "markdown",
   "metadata": {},
   "source": [
    "Todo se ve en órden en `cylinders` y no fue necesario relacionar nada con `type` afortunadamente. Hemos limpiado todos los datos, pero como se aprecia de arriba, es necesario cambiar el tipo de `is_4wd` y `date_posted`."
   ]
  },
  {
   "cell_type": "markdown",
   "metadata": {},
   "source": [
    "## Corregir los tipos de datos"
   ]
  },
  {
   "cell_type": "markdown",
   "metadata": {},
   "source": [
    "Corrijamos bien sencillamente esto, utilicemos el astype de pandas."
   ]
  },
  {
   "cell_type": "code",
   "execution_count": 33,
   "metadata": {},
   "outputs": [
    {
     "name": "stdout",
     "output_type": "stream",
     "text": [
      "<class 'pandas.core.frame.DataFrame'>\n",
      "Int64Index: 42258 entries, 1 to 51523\n",
      "Data columns (total 16 columns):\n",
      " #   Column              Non-Null Count  Dtype         \n",
      "---  ------              --------------  -----         \n",
      " 0   price               42258 non-null  int64         \n",
      " 1   model_year          42258 non-null  float64       \n",
      " 2   model               42258 non-null  object        \n",
      " 3   condition           42258 non-null  object        \n",
      " 4   cylinders           42258 non-null  float64       \n",
      " 5   fuel                42258 non-null  object        \n",
      " 6   odometer            42258 non-null  float64       \n",
      " 7   transmission        42258 non-null  object        \n",
      " 8   type                42258 non-null  object        \n",
      " 9   paint_color         42258 non-null  object        \n",
      " 10  is_4wd              42258 non-null  bool          \n",
      " 11  date_posted         42258 non-null  datetime64[ns]\n",
      " 12  days_listed         42258 non-null  int64         \n",
      " 13  model_manufacturer  42258 non-null  object        \n",
      " 14  model_line          42258 non-null  object        \n",
      " 15  model_range         42258 non-null  category      \n",
      "dtypes: bool(1), category(1), datetime64[ns](1), float64(3), int64(2), object(8)\n",
      "memory usage: 4.9+ MB\n"
     ]
    }
   ],
   "source": [
    "# Hagamos las conversiones\n",
    "df_cleaned.is_4wd = df_cleaned.is_4wd.astype(\"bool\")\n",
    "\n",
    "df_cleaned.date_posted = pd.to_datetime(df_cleaned.date_posted, format =\"%Y-%m-%d\")\n",
    "\n",
    "df_cleaned.info()"
   ]
  },
  {
   "cell_type": "markdown",
   "metadata": {},
   "source": [
    "Todo se ve bien por este lado, solo una cosa más: uno de los `type` de vehículos es _SUV_, lo cual esta completamente en mayúsculas, cambiemoslo a minúsculas para tener la misma estructura en todos los valores de la columna."
   ]
  },
  {
   "cell_type": "code",
   "execution_count": 34,
   "metadata": {},
   "outputs": [
    {
     "data": {
      "text/plain": [
       "array(['pickup', 'sedan', 'suv', 'truck', 'coupe', 'van', 'convertible',\n",
       "       'hatchback', 'wagon', 'mini-van', 'other', 'bus', 'offroad'],\n",
       "      dtype=object)"
      ]
     },
     "execution_count": 34,
     "metadata": {},
     "output_type": "execute_result"
    }
   ],
   "source": [
    "# Cambiemos los cases y mostremos.\n",
    "df_cleaned.type = df_cleaned.type.str.lower()\n",
    "\n",
    "df_cleaned.type.unique()"
   ]
  },
  {
   "cell_type": "markdown",
   "metadata": {},
   "source": [
    "Todo se ve en órden, podemos proseguir."
   ]
  },
  {
   "cell_type": "markdown",
   "metadata": {},
   "source": [
    "## Enriquecer datos"
   ]
  },
  {
   "cell_type": "markdown",
   "metadata": {},
   "source": [
    "Para poder continuar, enriqueceremos un poco los datos haciendo unos cálculos relativamente simples: día de la semana, mes y año; los años del vehículo cuando fue publicado, y la media del millaje por año. También agregaremos una columna donde condition esté representado por un valor numérico, en vez de un string.\n"
   ]
  },
  {
   "cell_type": "code",
   "execution_count": 35,
   "metadata": {},
   "outputs": [],
   "source": [
    "# Agrega valores de día, mes y año para cuando se colocó el anuncio\n",
    "\n",
    "df_cleaned[\"date_posted_day\"] = df_cleaned.date_posted.dt.day\n",
    "df_cleaned[\"date_posted_month\"] = df_cleaned.date_posted.dt.month\n",
    "df_cleaned[\"date_posted_year\"] = df_cleaned.date_posted.dt.year\n"
   ]
  },
  {
   "cell_type": "code",
   "execution_count": 36,
   "metadata": {},
   "outputs": [],
   "source": [
    "# Agrega los años del vehículo cuando el anuncio se colocó\n",
    "\n",
    "df_cleaned[\"years_old\"] = df_cleaned.date_posted_year - df_cleaned.model_year"
   ]
  },
  {
   "cell_type": "code",
   "execution_count": 37,
   "metadata": {},
   "outputs": [],
   "source": [
    "# Agrega el millaje promedio del vehículo por año evitando dividir entre cero\n",
    "\n",
    "df_cleaned[\"odometer_per_year\"] = np.where(\n",
    "    df_cleaned.years_old != 0,\n",
    "    df_cleaned.odometer/df_cleaned.years_old,\n",
    "    df_cleaned.odometer\n",
    ")\n"
   ]
  },
  {
   "cell_type": "code",
   "execution_count": 38,
   "metadata": {},
   "outputs": [],
   "source": [
    "# Crearemos una columna adicional donde tendremos la condición pero como un valor entero en vez del string actual\n",
    "# Como es algo feo escribirlo, la separaremos y usaremos un np.when (la versión de Python en\n",
    "# este notebook no tiene todavía match-case)\n",
    "\n",
    "# creemos condiciones\n",
    "conditions = [\n",
    "    df_cleaned[\"condition\"] == \"new\",\n",
    "    df_cleaned[\"condition\"] == \"like new\",\n",
    "    df_cleaned[\"condition\"] == \"excellent\",\n",
    "    df_cleaned[\"condition\"] == \"good\",\n",
    "    df_cleaned[\"condition\"] == \"fair\",\n",
    "    df_cleaned[\"condition\"] == \"salvage\",\n",
    "]\n",
    "\n",
    "# valores de retorno\n",
    "values = [5,4,3,2,1,0]\n",
    "\n",
    "# usemos np.select\n",
    "df_cleaned[\"condition_numeric\"] = np.select(conditions, values)\n",
    "                                        "
   ]
  },
  {
   "cell_type": "markdown",
   "metadata": {},
   "source": [
    "## Comprobar datos limpios"
   ]
  },
  {
   "cell_type": "markdown",
   "metadata": {},
   "source": [
    "Ya hemos hecho la limpieza y extensión de los datos, hagamos un vistazo general para ver que tenemos. Usemos info, describe y un sample."
   ]
  },
  {
   "cell_type": "code",
   "execution_count": 39,
   "metadata": {},
   "outputs": [
    {
     "name": "stdout",
     "output_type": "stream",
     "text": [
      "<class 'pandas.core.frame.DataFrame'>\n",
      "Int64Index: 42258 entries, 1 to 51523\n",
      "Data columns (total 22 columns):\n",
      " #   Column              Non-Null Count  Dtype         \n",
      "---  ------              --------------  -----         \n",
      " 0   price               42258 non-null  int64         \n",
      " 1   model_year          42258 non-null  float64       \n",
      " 2   model               42258 non-null  object        \n",
      " 3   condition           42258 non-null  object        \n",
      " 4   cylinders           42258 non-null  float64       \n",
      " 5   fuel                42258 non-null  object        \n",
      " 6   odometer            42258 non-null  float64       \n",
      " 7   transmission        42258 non-null  object        \n",
      " 8   type                42258 non-null  object        \n",
      " 9   paint_color         42258 non-null  object        \n",
      " 10  is_4wd              42258 non-null  bool          \n",
      " 11  date_posted         42258 non-null  datetime64[ns]\n",
      " 12  days_listed         42258 non-null  int64         \n",
      " 13  model_manufacturer  42258 non-null  object        \n",
      " 14  model_line          42258 non-null  object        \n",
      " 15  model_range         42258 non-null  category      \n",
      " 16  date_posted_day     42258 non-null  int64         \n",
      " 17  date_posted_month   42258 non-null  int64         \n",
      " 18  date_posted_year    42258 non-null  int64         \n",
      " 19  years_old           42258 non-null  float64       \n",
      " 20  odometer_per_year   42258 non-null  float64       \n",
      " 21  condition_numeric   42258 non-null  int64         \n",
      "dtypes: bool(1), category(1), datetime64[ns](1), float64(5), int64(6), object(8)\n",
      "memory usage: 6.9+ MB\n"
     ]
    },
    {
     "data": {
      "text/html": [
       "<div>\n",
       "<style scoped>\n",
       "    .dataframe tbody tr th:only-of-type {\n",
       "        vertical-align: middle;\n",
       "    }\n",
       "\n",
       "    .dataframe tbody tr th {\n",
       "        vertical-align: top;\n",
       "    }\n",
       "\n",
       "    .dataframe thead th {\n",
       "        text-align: right;\n",
       "    }\n",
       "</style>\n",
       "<table border=\"1\" class=\"dataframe\">\n",
       "  <thead>\n",
       "    <tr style=\"text-align: right;\">\n",
       "      <th></th>\n",
       "      <th>price</th>\n",
       "      <th>model_year</th>\n",
       "      <th>cylinders</th>\n",
       "      <th>odometer</th>\n",
       "      <th>days_listed</th>\n",
       "      <th>date_posted_day</th>\n",
       "      <th>date_posted_month</th>\n",
       "      <th>date_posted_year</th>\n",
       "      <th>years_old</th>\n",
       "      <th>odometer_per_year</th>\n",
       "      <th>condition_numeric</th>\n",
       "    </tr>\n",
       "  </thead>\n",
       "  <tbody>\n",
       "    <tr>\n",
       "      <th>count</th>\n",
       "      <td>42258.000000</td>\n",
       "      <td>42258.000000</td>\n",
       "      <td>42258.000000</td>\n",
       "      <td>42258.000000</td>\n",
       "      <td>42258.000000</td>\n",
       "      <td>42258.000000</td>\n",
       "      <td>42258.000000</td>\n",
       "      <td>42258.000000</td>\n",
       "      <td>42258.000000</td>\n",
       "      <td>42258.000000</td>\n",
       "      <td>42258.000000</td>\n",
       "    </tr>\n",
       "    <tr>\n",
       "      <th>mean</th>\n",
       "      <td>12124.069265</td>\n",
       "      <td>2009.788064</td>\n",
       "      <td>6.122935</td>\n",
       "      <td>115419.131738</td>\n",
       "      <td>39.593781</td>\n",
       "      <td>15.431705</td>\n",
       "      <td>6.624947</td>\n",
       "      <td>2018.308604</td>\n",
       "      <td>8.520540</td>\n",
       "      <td>18895.086198</td>\n",
       "      <td>2.638270</td>\n",
       "    </tr>\n",
       "    <tr>\n",
       "      <th>std</th>\n",
       "      <td>10135.029855</td>\n",
       "      <td>6.099292</td>\n",
       "      <td>1.658281</td>\n",
       "      <td>60773.841692</td>\n",
       "      <td>28.230447</td>\n",
       "      <td>8.741254</td>\n",
       "      <td>3.474629</td>\n",
       "      <td>0.461923</td>\n",
       "      <td>6.112877</td>\n",
       "      <td>16156.234648</td>\n",
       "      <td>0.712476</td>\n",
       "    </tr>\n",
       "    <tr>\n",
       "      <th>min</th>\n",
       "      <td>1.000000</td>\n",
       "      <td>1908.000000</td>\n",
       "      <td>3.000000</td>\n",
       "      <td>0.000000</td>\n",
       "      <td>0.000000</td>\n",
       "      <td>1.000000</td>\n",
       "      <td>1.000000</td>\n",
       "      <td>2018.000000</td>\n",
       "      <td>0.000000</td>\n",
       "      <td>0.000000</td>\n",
       "      <td>0.000000</td>\n",
       "    </tr>\n",
       "    <tr>\n",
       "      <th>25%</th>\n",
       "      <td>4999.000000</td>\n",
       "      <td>2007.000000</td>\n",
       "      <td>4.000000</td>\n",
       "      <td>75765.000000</td>\n",
       "      <td>19.000000</td>\n",
       "      <td>8.000000</td>\n",
       "      <td>3.000000</td>\n",
       "      <td>2018.000000</td>\n",
       "      <td>4.000000</td>\n",
       "      <td>10472.950000</td>\n",
       "      <td>2.000000</td>\n",
       "    </tr>\n",
       "    <tr>\n",
       "      <th>50%</th>\n",
       "      <td>9000.000000</td>\n",
       "      <td>2011.000000</td>\n",
       "      <td>6.000000</td>\n",
       "      <td>111000.000000</td>\n",
       "      <td>33.000000</td>\n",
       "      <td>15.000000</td>\n",
       "      <td>7.000000</td>\n",
       "      <td>2018.000000</td>\n",
       "      <td>8.000000</td>\n",
       "      <td>14983.791667</td>\n",
       "      <td>3.000000</td>\n",
       "    </tr>\n",
       "    <tr>\n",
       "      <th>75%</th>\n",
       "      <td>16689.000000</td>\n",
       "      <td>2014.000000</td>\n",
       "      <td>8.000000</td>\n",
       "      <td>148000.000000</td>\n",
       "      <td>53.000000</td>\n",
       "      <td>23.000000</td>\n",
       "      <td>10.000000</td>\n",
       "      <td>2019.000000</td>\n",
       "      <td>12.000000</td>\n",
       "      <td>21714.285714</td>\n",
       "      <td>3.000000</td>\n",
       "    </tr>\n",
       "    <tr>\n",
       "      <th>max</th>\n",
       "      <td>375000.000000</td>\n",
       "      <td>2019.000000</td>\n",
       "      <td>12.000000</td>\n",
       "      <td>990000.000000</td>\n",
       "      <td>267.000000</td>\n",
       "      <td>31.000000</td>\n",
       "      <td>12.000000</td>\n",
       "      <td>2019.000000</td>\n",
       "      <td>110.000000</td>\n",
       "      <td>320000.000000</td>\n",
       "      <td>5.000000</td>\n",
       "    </tr>\n",
       "  </tbody>\n",
       "</table>\n",
       "</div>"
      ],
      "text/plain": [
       "               price    model_year     cylinders       odometer   days_listed  \\\n",
       "count   42258.000000  42258.000000  42258.000000   42258.000000  42258.000000   \n",
       "mean    12124.069265   2009.788064      6.122935  115419.131738     39.593781   \n",
       "std     10135.029855      6.099292      1.658281   60773.841692     28.230447   \n",
       "min         1.000000   1908.000000      3.000000       0.000000      0.000000   \n",
       "25%      4999.000000   2007.000000      4.000000   75765.000000     19.000000   \n",
       "50%      9000.000000   2011.000000      6.000000  111000.000000     33.000000   \n",
       "75%     16689.000000   2014.000000      8.000000  148000.000000     53.000000   \n",
       "max    375000.000000   2019.000000     12.000000  990000.000000    267.000000   \n",
       "\n",
       "       date_posted_day  date_posted_month  date_posted_year     years_old  \\\n",
       "count     42258.000000       42258.000000      42258.000000  42258.000000   \n",
       "mean         15.431705           6.624947       2018.308604      8.520540   \n",
       "std           8.741254           3.474629          0.461923      6.112877   \n",
       "min           1.000000           1.000000       2018.000000      0.000000   \n",
       "25%           8.000000           3.000000       2018.000000      4.000000   \n",
       "50%          15.000000           7.000000       2018.000000      8.000000   \n",
       "75%          23.000000          10.000000       2019.000000     12.000000   \n",
       "max          31.000000          12.000000       2019.000000    110.000000   \n",
       "\n",
       "       odometer_per_year  condition_numeric  \n",
       "count       42258.000000       42258.000000  \n",
       "mean        18895.086198           2.638270  \n",
       "std         16156.234648           0.712476  \n",
       "min             0.000000           0.000000  \n",
       "25%         10472.950000           2.000000  \n",
       "50%         14983.791667           3.000000  \n",
       "75%         21714.285714           3.000000  \n",
       "max        320000.000000           5.000000  "
      ]
     },
     "execution_count": 39,
     "metadata": {},
     "output_type": "execute_result"
    }
   ],
   "source": [
    "# imprime la información general/resumida sobre el DataFrame\n",
    "\n",
    "df_cleaned.info()\n",
    "\n",
    "df_cleaned.describe()\n"
   ]
  },
  {
   "cell_type": "code",
   "execution_count": 40,
   "metadata": {},
   "outputs": [
    {
     "data": {
      "text/html": [
       "<div>\n",
       "<style scoped>\n",
       "    .dataframe tbody tr th:only-of-type {\n",
       "        vertical-align: middle;\n",
       "    }\n",
       "\n",
       "    .dataframe tbody tr th {\n",
       "        vertical-align: top;\n",
       "    }\n",
       "\n",
       "    .dataframe thead th {\n",
       "        text-align: right;\n",
       "    }\n",
       "</style>\n",
       "<table border=\"1\" class=\"dataframe\">\n",
       "  <thead>\n",
       "    <tr style=\"text-align: right;\">\n",
       "      <th></th>\n",
       "      <th>price</th>\n",
       "      <th>model_year</th>\n",
       "      <th>model</th>\n",
       "      <th>condition</th>\n",
       "      <th>cylinders</th>\n",
       "      <th>fuel</th>\n",
       "      <th>odometer</th>\n",
       "      <th>transmission</th>\n",
       "      <th>type</th>\n",
       "      <th>paint_color</th>\n",
       "      <th>...</th>\n",
       "      <th>days_listed</th>\n",
       "      <th>model_manufacturer</th>\n",
       "      <th>model_line</th>\n",
       "      <th>model_range</th>\n",
       "      <th>date_posted_day</th>\n",
       "      <th>date_posted_month</th>\n",
       "      <th>date_posted_year</th>\n",
       "      <th>years_old</th>\n",
       "      <th>odometer_per_year</th>\n",
       "      <th>condition_numeric</th>\n",
       "    </tr>\n",
       "  </thead>\n",
       "  <tbody>\n",
       "    <tr>\n",
       "      <th>39465</th>\n",
       "      <td>13500</td>\n",
       "      <td>2018.0</td>\n",
       "      <td>toyota corolla</td>\n",
       "      <td>excellent</td>\n",
       "      <td>4.0</td>\n",
       "      <td>gas</td>\n",
       "      <td>46914.0</td>\n",
       "      <td>automatic</td>\n",
       "      <td>sedan</td>\n",
       "      <td>white</td>\n",
       "      <td>...</td>\n",
       "      <td>39</td>\n",
       "      <td>toyota</td>\n",
       "      <td>corolla</td>\n",
       "      <td>Moderno</td>\n",
       "      <td>8</td>\n",
       "      <td>6</td>\n",
       "      <td>2018</td>\n",
       "      <td>0.0</td>\n",
       "      <td>46914.00</td>\n",
       "      <td>3</td>\n",
       "    </tr>\n",
       "    <tr>\n",
       "      <th>26059</th>\n",
       "      <td>25499</td>\n",
       "      <td>2007.0</td>\n",
       "      <td>ram 2500</td>\n",
       "      <td>like new</td>\n",
       "      <td>6.0</td>\n",
       "      <td>diesel</td>\n",
       "      <td>108900.0</td>\n",
       "      <td>automatic</td>\n",
       "      <td>truck</td>\n",
       "      <td>silver</td>\n",
       "      <td>...</td>\n",
       "      <td>47</td>\n",
       "      <td>ram</td>\n",
       "      <td>2500</td>\n",
       "      <td>Moderno</td>\n",
       "      <td>16</td>\n",
       "      <td>7</td>\n",
       "      <td>2018</td>\n",
       "      <td>11.0</td>\n",
       "      <td>9900.00</td>\n",
       "      <td>4</td>\n",
       "    </tr>\n",
       "    <tr>\n",
       "      <th>19436</th>\n",
       "      <td>5995</td>\n",
       "      <td>2010.0</td>\n",
       "      <td>chevrolet equinox</td>\n",
       "      <td>excellent</td>\n",
       "      <td>4.0</td>\n",
       "      <td>gas</td>\n",
       "      <td>142000.0</td>\n",
       "      <td>automatic</td>\n",
       "      <td>sedan</td>\n",
       "      <td>blue</td>\n",
       "      <td>...</td>\n",
       "      <td>13</td>\n",
       "      <td>chevrolet</td>\n",
       "      <td>equinox</td>\n",
       "      <td>Moderno</td>\n",
       "      <td>23</td>\n",
       "      <td>8</td>\n",
       "      <td>2018</td>\n",
       "      <td>8.0</td>\n",
       "      <td>17750.00</td>\n",
       "      <td>3</td>\n",
       "    </tr>\n",
       "    <tr>\n",
       "      <th>50137</th>\n",
       "      <td>10990</td>\n",
       "      <td>2010.0</td>\n",
       "      <td>gmc sierra 1500</td>\n",
       "      <td>good</td>\n",
       "      <td>8.0</td>\n",
       "      <td>gas</td>\n",
       "      <td>98300.0</td>\n",
       "      <td>automatic</td>\n",
       "      <td>pickup</td>\n",
       "      <td>white</td>\n",
       "      <td>...</td>\n",
       "      <td>32</td>\n",
       "      <td>gmc</td>\n",
       "      <td>sierra</td>\n",
       "      <td>Moderno</td>\n",
       "      <td>29</td>\n",
       "      <td>10</td>\n",
       "      <td>2018</td>\n",
       "      <td>8.0</td>\n",
       "      <td>12287.50</td>\n",
       "      <td>2</td>\n",
       "    </tr>\n",
       "    <tr>\n",
       "      <th>6727</th>\n",
       "      <td>13499</td>\n",
       "      <td>2014.0</td>\n",
       "      <td>jeep grand cherokee</td>\n",
       "      <td>excellent</td>\n",
       "      <td>6.0</td>\n",
       "      <td>gas</td>\n",
       "      <td>126637.0</td>\n",
       "      <td>automatic</td>\n",
       "      <td>suv</td>\n",
       "      <td>black</td>\n",
       "      <td>...</td>\n",
       "      <td>34</td>\n",
       "      <td>jeep</td>\n",
       "      <td>grand</td>\n",
       "      <td>Moderno</td>\n",
       "      <td>22</td>\n",
       "      <td>11</td>\n",
       "      <td>2018</td>\n",
       "      <td>4.0</td>\n",
       "      <td>31659.25</td>\n",
       "      <td>3</td>\n",
       "    </tr>\n",
       "  </tbody>\n",
       "</table>\n",
       "<p>5 rows × 22 columns</p>\n",
       "</div>"
      ],
      "text/plain": [
       "       price  model_year                model  condition  cylinders    fuel  \\\n",
       "39465  13500      2018.0       toyota corolla  excellent        4.0     gas   \n",
       "26059  25499      2007.0             ram 2500   like new        6.0  diesel   \n",
       "19436   5995      2010.0    chevrolet equinox  excellent        4.0     gas   \n",
       "50137  10990      2010.0      gmc sierra 1500       good        8.0     gas   \n",
       "6727   13499      2014.0  jeep grand cherokee  excellent        6.0     gas   \n",
       "\n",
       "       odometer transmission    type paint_color  ...  days_listed  \\\n",
       "39465   46914.0    automatic   sedan       white  ...           39   \n",
       "26059  108900.0    automatic   truck      silver  ...           47   \n",
       "19436  142000.0    automatic   sedan        blue  ...           13   \n",
       "50137   98300.0    automatic  pickup       white  ...           32   \n",
       "6727   126637.0    automatic     suv       black  ...           34   \n",
       "\n",
       "      model_manufacturer  model_line model_range date_posted_day  \\\n",
       "39465             toyota     corolla     Moderno               8   \n",
       "26059                ram        2500     Moderno              16   \n",
       "19436          chevrolet     equinox     Moderno              23   \n",
       "50137                gmc      sierra     Moderno              29   \n",
       "6727                jeep       grand     Moderno              22   \n",
       "\n",
       "      date_posted_month  date_posted_year  years_old  odometer_per_year  \\\n",
       "39465                 6              2018        0.0           46914.00   \n",
       "26059                 7              2018       11.0            9900.00   \n",
       "19436                 8              2018        8.0           17750.00   \n",
       "50137                10              2018        8.0           12287.50   \n",
       "6727                 11              2018        4.0           31659.25   \n",
       "\n",
       "       condition_numeric  \n",
       "39465                  3  \n",
       "26059                  4  \n",
       "19436                  3  \n",
       "50137                  2  \n",
       "6727                   3  \n",
       "\n",
       "[5 rows x 22 columns]"
      ]
     },
     "execution_count": 40,
     "metadata": {},
     "output_type": "execute_result"
    }
   ],
   "source": [
    "# imprimir una muestra de datos\n",
    "\n",
    "df_cleaned.sample(n=5, random_state=4)"
   ]
  },
  {
   "cell_type": "markdown",
   "metadata": {},
   "source": [
    "Nuestros datos se ven bien, a excepción de unos cuantos posibles valores atípicos que podrían modificar nuestra distribución para su estudio (como el odometro en cero o muy alto), los trataremos después, primero checaremos los parámetros que nos importan más."
   ]
  },
  {
   "cell_type": "markdown",
   "metadata": {},
   "source": [
    "## Estudiar parámetros principales\n",
    "\n",
    "[Elige un enfoque apropiado para estudiar los parámetros enumerados a continuación, presta especial atención a cómo los valores atípicos afectan la forma y la legibilidad de los histogramas.]\n",
    "\n",
    "Los parámetros son:\n",
    "- Precio\n",
    "- Los años del vehículo cuando el anuncio se colocó\n",
    "- Millaje\n",
    "- Número de cilindros\n",
    "- Estado"
   ]
  },
  {
   "cell_type": "markdown",
   "metadata": {},
   "source": [
    "Primero mostremos los histogramas de los tres primeros porque tienen el rango más grande de valores."
   ]
  },
  {
   "cell_type": "code",
   "execution_count": 41,
   "metadata": {},
   "outputs": [
    {
     "data": {
      "image/png": "[encoded data removed]",
      "text/plain": [
       "<Figure size 720x360 with 4 Axes>"
      ]
     },
     "metadata": {
      "needs_background": "light"
     },
     "output_type": "display_data"
    }
   ],
   "source": [
    "# Creemos los histogramas que necesitamos para nuestras variables a explorar\n",
    "\n",
    "df_cleaned.loc[:, [\"price\", \"years_old\", \"odometer\"]].hist(\n",
    "    bins=150, figsize=(10,5)\n",
    ")\n",
    "\n",
    "plt.tight_layout()"
   ]
  },
  {
   "cell_type": "markdown",
   "metadata": {},
   "source": [
    "Note que podemos ver algunos picos en la manera que se distribuyen estas variables, es muy claro en odometer, por lo que sí o si tendremos que suavizar eliminando algunos valores."
   ]
  },
  {
   "cell_type": "code",
   "execution_count": 42,
   "metadata": {},
   "outputs": [
    {
     "data": {
      "image/png": "[encoded data removed]",
      "text/plain": [
       "<Figure size 720x360 with 2 Axes>"
      ]
     },
     "metadata": {
      "needs_background": "light"
     },
     "output_type": "display_data"
    }
   ],
   "source": [
    "# Ahora las variables con un rango menor\n",
    "df_cleaned.loc[:, [\"cylinders\", \"condition_numeric\"]].hist(\n",
    "    bins=40, figsize=(10,5)\n",
    ")\n",
    "\n",
    "plt.tight_layout()\n"
   ]
  },
  {
   "cell_type": "markdown",
   "metadata": {},
   "source": [
    "Aquí no se notan esos picos de manera tan notoria, pero es claro que hay valores que son muy poco representados y nos modificarán mucho los cálculos después."
   ]
  },
  {
   "cell_type": "markdown",
   "metadata": {},
   "source": [
    "## Estudiar y tratar valores atípicos\n",
    "\n",
    "Para poder trabajar con los valores atípicos hagamos un boxplot para cada uno de nuestros parámetros principales."
   ]
  },
  {
   "cell_type": "code",
   "execution_count": 43,
   "metadata": {},
   "outputs": [
    {
     "data": {
      "image/png": "[encoded data removed]",
      "text/plain": [
       "<Figure size 432x288 with 5 Axes>"
      ]
     },
     "metadata": {
      "needs_background": "light"
     },
     "output_type": "display_data"
    }
   ],
   "source": [
    "fig, ax = plt.subplots(1,5)\n",
    "\n",
    "counter = 0\n",
    "\n",
    "for field in [\"price\", \"years_old\", \"odometer\", \"cylinders\", \"condition_numeric\"]:\n",
    "    df_cleaned.boxplot(column=field, figsize=(10,10), ax=ax.flat[counter])\n",
    "    counter += 1\n",
    "\n",
    "plt.tight_layout()\n",
    "\n",
    "#fig.subplots_adjust(hspace=0.5, wspace=0.5)"
   ]
  },
  {
   "cell_type": "markdown",
   "metadata": {},
   "source": [
    "Podemos ver que hay muchos valores atípicos en nuestros párametros principales, por lo que sería útil discriminar a los que se encuentran solo adentro del rango intercuartil."
   ]
  },
  {
   "cell_type": "code",
   "execution_count": 44,
   "metadata": {},
   "outputs": [
    {
     "data": {
      "text/html": [
       "<div>\n",
       "<style scoped>\n",
       "    .dataframe tbody tr th:only-of-type {\n",
       "        vertical-align: middle;\n",
       "    }\n",
       "\n",
       "    .dataframe tbody tr th {\n",
       "        vertical-align: top;\n",
       "    }\n",
       "\n",
       "    .dataframe thead th {\n",
       "        text-align: right;\n",
       "    }\n",
       "</style>\n",
       "<table border=\"1\" class=\"dataframe\">\n",
       "  <thead>\n",
       "    <tr style=\"text-align: right;\">\n",
       "      <th></th>\n",
       "      <th>price</th>\n",
       "      <th>model_year</th>\n",
       "      <th>cylinders</th>\n",
       "      <th>odometer</th>\n",
       "      <th>days_listed</th>\n",
       "      <th>date_posted_day</th>\n",
       "      <th>date_posted_month</th>\n",
       "      <th>date_posted_year</th>\n",
       "      <th>years_old</th>\n",
       "      <th>odometer_per_year</th>\n",
       "      <th>condition_numeric</th>\n",
       "    </tr>\n",
       "  </thead>\n",
       "  <tbody>\n",
       "    <tr>\n",
       "      <th>count</th>\n",
       "      <td>39265.000000</td>\n",
       "      <td>39265.000000</td>\n",
       "      <td>39265.000000</td>\n",
       "      <td>39265.000000</td>\n",
       "      <td>39265.000000</td>\n",
       "      <td>39265.000000</td>\n",
       "      <td>39265.000000</td>\n",
       "      <td>39265.000000</td>\n",
       "      <td>39265.000000</td>\n",
       "      <td>39265.000000</td>\n",
       "      <td>39265.000000</td>\n",
       "    </tr>\n",
       "    <tr>\n",
       "      <th>mean</th>\n",
       "      <td>11213.561136</td>\n",
       "      <td>2010.117305</td>\n",
       "      <td>6.053177</td>\n",
       "      <td>113960.578034</td>\n",
       "      <td>39.598115</td>\n",
       "      <td>15.436929</td>\n",
       "      <td>6.630944</td>\n",
       "      <td>2018.307628</td>\n",
       "      <td>8.190322</td>\n",
       "      <td>18704.693073</td>\n",
       "      <td>2.638941</td>\n",
       "    </tr>\n",
       "    <tr>\n",
       "      <th>std</th>\n",
       "      <td>7779.803050</td>\n",
       "      <td>4.944284</td>\n",
       "      <td>1.657982</td>\n",
       "      <td>52965.685941</td>\n",
       "      <td>28.267563</td>\n",
       "      <td>8.747651</td>\n",
       "      <td>3.472257</td>\n",
       "      <td>0.461517</td>\n",
       "      <td>4.958124</td>\n",
       "      <td>15314.552604</td>\n",
       "      <td>0.679449</td>\n",
       "    </tr>\n",
       "    <tr>\n",
       "      <th>min</th>\n",
       "      <td>1.000000</td>\n",
       "      <td>1995.000000</td>\n",
       "      <td>3.000000</td>\n",
       "      <td>0.000000</td>\n",
       "      <td>0.000000</td>\n",
       "      <td>1.000000</td>\n",
       "      <td>1.000000</td>\n",
       "      <td>2018.000000</td>\n",
       "      <td>0.000000</td>\n",
       "      <td>0.000000</td>\n",
       "      <td>1.000000</td>\n",
       "    </tr>\n",
       "    <tr>\n",
       "      <th>25%</th>\n",
       "      <td>5000.000000</td>\n",
       "      <td>2007.000000</td>\n",
       "      <td>4.000000</td>\n",
       "      <td>79000.000000</td>\n",
       "      <td>19.000000</td>\n",
       "      <td>8.000000</td>\n",
       "      <td>3.000000</td>\n",
       "      <td>2018.000000</td>\n",
       "      <td>4.000000</td>\n",
       "      <td>10557.888889</td>\n",
       "      <td>2.000000</td>\n",
       "    </tr>\n",
       "    <tr>\n",
       "      <th>50%</th>\n",
       "      <td>8995.000000</td>\n",
       "      <td>2011.000000</td>\n",
       "      <td>6.000000</td>\n",
       "      <td>112000.000000</td>\n",
       "      <td>33.000000</td>\n",
       "      <td>15.000000</td>\n",
       "      <td>7.000000</td>\n",
       "      <td>2018.000000</td>\n",
       "      <td>8.000000</td>\n",
       "      <td>14962.285714</td>\n",
       "      <td>3.000000</td>\n",
       "    </tr>\n",
       "    <tr>\n",
       "      <th>75%</th>\n",
       "      <td>15988.000000</td>\n",
       "      <td>2014.000000</td>\n",
       "      <td>8.000000</td>\n",
       "      <td>146269.000000</td>\n",
       "      <td>53.000000</td>\n",
       "      <td>23.000000</td>\n",
       "      <td>10.000000</td>\n",
       "      <td>2019.000000</td>\n",
       "      <td>11.000000</td>\n",
       "      <td>21597.833333</td>\n",
       "      <td>3.000000</td>\n",
       "    </tr>\n",
       "    <tr>\n",
       "      <th>max</th>\n",
       "      <td>34200.000000</td>\n",
       "      <td>2019.000000</td>\n",
       "      <td>12.000000</td>\n",
       "      <td>256310.000000</td>\n",
       "      <td>267.000000</td>\n",
       "      <td>31.000000</td>\n",
       "      <td>12.000000</td>\n",
       "      <td>2019.000000</td>\n",
       "      <td>23.000000</td>\n",
       "      <td>164409.000000</td>\n",
       "      <td>4.000000</td>\n",
       "    </tr>\n",
       "  </tbody>\n",
       "</table>\n",
       "</div>"
      ],
      "text/plain": [
       "              price    model_year     cylinders       odometer   days_listed  \\\n",
       "count  39265.000000  39265.000000  39265.000000   39265.000000  39265.000000   \n",
       "mean   11213.561136   2010.117305      6.053177  113960.578034     39.598115   \n",
       "std     7779.803050      4.944284      1.657982   52965.685941     28.267563   \n",
       "min        1.000000   1995.000000      3.000000       0.000000      0.000000   \n",
       "25%     5000.000000   2007.000000      4.000000   79000.000000     19.000000   \n",
       "50%     8995.000000   2011.000000      6.000000  112000.000000     33.000000   \n",
       "75%    15988.000000   2014.000000      8.000000  146269.000000     53.000000   \n",
       "max    34200.000000   2019.000000     12.000000  256310.000000    267.000000   \n",
       "\n",
       "       date_posted_day  date_posted_month  date_posted_year     years_old  \\\n",
       "count     39265.000000       39265.000000      39265.000000  39265.000000   \n",
       "mean         15.436929           6.630944       2018.307628      8.190322   \n",
       "std           8.747651           3.472257          0.461517      4.958124   \n",
       "min           1.000000           1.000000       2018.000000      0.000000   \n",
       "25%           8.000000           3.000000       2018.000000      4.000000   \n",
       "50%          15.000000           7.000000       2018.000000      8.000000   \n",
       "75%          23.000000          10.000000       2019.000000     11.000000   \n",
       "max          31.000000          12.000000       2019.000000     23.000000   \n",
       "\n",
       "       odometer_per_year  condition_numeric  \n",
       "count       39265.000000       39265.000000  \n",
       "mean        18704.693073           2.638941  \n",
       "std         15314.552604           0.679449  \n",
       "min             0.000000           1.000000  \n",
       "25%         10557.888889           2.000000  \n",
       "50%         14962.285714           3.000000  \n",
       "75%         21597.833333           3.000000  \n",
       "max        164409.000000           4.000000  "
      ]
     },
     "execution_count": 44,
     "metadata": {},
     "output_type": "execute_result"
    }
   ],
   "source": [
    "# Almacena los datos sin valores atípicos en un DataFrame separado\n",
    "# Limitemos los valores con ayuda de la fórmula del rango intercuartil, no operemos sobre cylinders ya que no hay\n",
    "# valores atípicos.\n",
    "\n",
    "df_cleaned_typical = df_cleaned.query(\n",
    "    \"5*price.quantile(0.25)/2-3*price.quantile(0.75)/2 <price< 5*price.quantile(0.75)/2-3*price.quantile(0.25)/2 \\\n",
    "    and \\\n",
    "    5*years_old.quantile(0.25)/2-3*years_old.quantile(0.75)/2 <years_old< 5*years_old.quantile(0.75)/2-3*years_old.quantile(0.25)/2 \\\n",
    "    and \\\n",
    "    5*odometer.quantile(0.25)/2-3*odometer.quantile(0.75)/2 <odometer< 5*odometer.quantile(0.75)/2-3*odometer.quantile(0.25)/2 \\\n",
    "    and \\\n",
    "    5*condition_numeric.quantile(0.25)/2-3*condition_numeric.quantile(0.75)/2 <condition_numeric< 5*condition_numeric.quantile(0.75)/2-3*condition_numeric.quantile(0.25)/2\"\n",
    ")\n",
    "\n",
    "df_cleaned_typical.describe()"
   ]
  },
  {
   "cell_type": "markdown",
   "metadata": {},
   "source": [
    "Ya se ve un poco mejor nuestro dataframe, podemos continuar con el procesado de nuestros valores."
   ]
  },
  {
   "cell_type": "markdown",
   "metadata": {},
   "source": [
    "## Estudiar parámetros principales sin valores atípicos"
   ]
  },
  {
   "cell_type": "markdown",
   "metadata": {},
   "source": [
    "Repitamos los histogramas que hicimos previamente, pero ahora sin los valores atípicos que nos daban cosas extrañas."
   ]
  },
  {
   "cell_type": "code",
   "execution_count": 45,
   "metadata": {},
   "outputs": [
    {
     "data": {
      "image/png": "[encoded data removed]",
      "text/plain": [
       "<Figure size 720x360 with 4 Axes>"
      ]
     },
     "metadata": {
      "needs_background": "light"
     },
     "output_type": "display_data"
    }
   ],
   "source": [
    "# Creemos los histogramas que necesitamos para nuestras variables a explorar\n",
    "\n",
    "df_cleaned_typical.loc[:, [\"price\", \"years_old\", \"odometer\"]].hist(\n",
    "    bins=50, figsize=(10,5)\n",
    ")\n",
    "\n",
    "plt.tight_layout()"
   ]
  },
  {
   "cell_type": "markdown",
   "metadata": {},
   "source": [
    "De aquí podemos ver que se ha suavizado bastante, aunque todavía quedan algunos valores un poco inusuales como el precio tan bajo. No los quitaremos ya que ya hemos limpiado bastante y no deberían impactar mucho. Ahora veamos que sucede con cylinder y condition."
   ]
  },
  {
   "cell_type": "code",
   "execution_count": 46,
   "metadata": {},
   "outputs": [
    {
     "data": {
      "image/png": "[encoded data removed]",
      "text/plain": [
       "<Figure size 720x360 with 2 Axes>"
      ]
     },
     "metadata": {
      "needs_background": "light"
     },
     "output_type": "display_data"
    }
   ],
   "source": [
    "# Ahora las variables con un rango menor\n",
    "df_cleaned_typical.loc[:, [\"cylinders\", \"condition_numeric\"]].hist(\n",
    "    bins=10, figsize=(10,5)\n",
    ")\n",
    "\n",
    "plt.tight_layout()\n"
   ]
  },
  {
   "cell_type": "markdown",
   "metadata": {},
   "source": [
    "Se ve mucho mejor, aunque realmente solo eliminamos los vehículos `salvaged`. Podemos continuar."
   ]
  },
  {
   "cell_type": "markdown",
   "metadata": {},
   "source": [
    "## Periodo de colocación de los anuncios\n",
    "\n",
    "Vamos a ver que sucede con `days_listed`, empecemos con un boxplot y un histograma:"
   ]
  },
  {
   "cell_type": "code",
   "execution_count": 47,
   "metadata": {},
   "outputs": [
    {
     "data": {
      "image/png": "[encoded data removed]",
      "text/plain": [
       "<Figure size 720x360 with 2 Axes>"
      ]
     },
     "metadata": {
      "needs_background": "light"
     },
     "output_type": "display_data"
    },
    {
     "name": "stdout",
     "output_type": "stream",
     "text": [
      "La media es: 39.598115369922326, la mediana es: 33.0\n",
      "Los cuartiles son\n",
      " 0.25    19.0\n",
      "0.50    33.0\n",
      "0.75    53.0\n",
      "Name: days_listed, dtype: float64\n"
     ]
    }
   ],
   "source": [
    "# Calculemos el boxplot para days_listed\n",
    "\n",
    "fig, ax = plt.subplots(1,2, figsize=(10, 5), gridspec_kw={'width_ratios': [1, 3]})\n",
    "\n",
    "\n",
    "df_cleaned_typical.boxplot(column=\"days_listed\", ax=ax.flat[0])\n",
    "df_cleaned_typical.days_listed.hist(bins=100, ax=ax.flat[1])\n",
    "\n",
    "plt.show()\n",
    "\n",
    "print(\n",
    "    f\"La media es: {df_cleaned_typical.days_listed.mean()}, la mediana es: {df_cleaned_typical.days_listed.median()}\"\n",
    ")\n",
    "\n",
    "print(\"Los cuartiles son\\n\", df_cleaned_typical.days_listed.quantile([0.25,0.5,0.75]))"
   ]
  },
  {
   "cell_type": "markdown",
   "metadata": {},
   "source": [
    "El 50% de los anuncios duran hasta un poco más de un mes en el sitio. Analicemos que sucede con los que estan antes y después del rango intercuartil (los outliers y los que no)."
   ]
  },
  {
   "cell_type": "code",
   "execution_count": 48,
   "metadata": {},
   "outputs": [
    {
     "name": "stdout",
     "output_type": "stream",
     "text": [
      "Los valores no atípicos llegan hasta 104 días. Tenemos 38019 típicos y 1246 atípicos\n"
     ]
    }
   ],
   "source": [
    "# Hagamos dos nuevos df, uno para outliers y el otro para no. También agreguemos una columna bool para poder\n",
    "# correlacionar.\n",
    "\n",
    "df_cleaned_days_listed_typical = df_cleaned_typical.query(\n",
    "    \"days_listed <= 5*days_listed.quantile(0.75)/2-3*days_listed.quantile(0.25)/2\"\n",
    ")\n",
    "\n",
    "df_cleaned_days_listed_atypical = df_cleaned_typical.query(\n",
    "    \"days_listed > 5*days_listed.quantile(0.75)/2-3*days_listed.quantile(0.25)/2\"\n",
    ")\n",
    "\n",
    "#df_cleaned_typical[\"days_listed_typical\"] = df_cleaned_typical.index.isin(df_cleaned_days_listed_typical.index)\n",
    "\n",
    "print(\n",
    "    f\"Los valores no atípicos llegan hasta {df_cleaned_days_listed_typical.days_listed.max()} días. \\\n",
    "Tenemos {df_cleaned_days_listed_typical.shape[0]} típicos y {df_cleaned_days_listed_atypical.shape[0]} atípicos\"\n",
    ")"
   ]
  },
  {
   "cell_type": "markdown",
   "metadata": {},
   "source": [
    "Con todo lo anterior podemos decir que los valores que se eliminan rápidamente estan hasta el primer cuartil, 19 días; los que tardan demasiado son desde los que estan más alla del tercer cuartil, 53 días. Los que tardan más, arriba de los 104 días son casos muy especiales."
   ]
  },
  {
   "cell_type": "markdown",
   "metadata": {},
   "source": [
    "## Precio promedio por cada tipo de vehículo"
   ]
  },
  {
   "cell_type": "markdown",
   "metadata": {},
   "source": [
    "Creemos un gráfico que nos muestre la cantidad de anuncios por tipo de vehículo y una tabla pivote con los descriptivos usuales de media y mediana."
   ]
  },
  {
   "cell_type": "code",
   "execution_count": 49,
   "metadata": {},
   "outputs": [
    {
     "data": {
      "image/png": "[encoded data removed]",
      "text/plain": [
       "<Figure size 432x288 with 1 Axes>"
      ]
     },
     "metadata": {
      "needs_background": "light"
     },
     "output_type": "display_data"
    },
    {
     "data": {
      "text/html": [
       "<div>\n",
       "<style scoped>\n",
       "    .dataframe tbody tr th:only-of-type {\n",
       "        vertical-align: middle;\n",
       "    }\n",
       "\n",
       "    .dataframe tbody tr th {\n",
       "        vertical-align: top;\n",
       "    }\n",
       "\n",
       "    .dataframe thead tr th {\n",
       "        text-align: left;\n",
       "    }\n",
       "\n",
       "    .dataframe thead tr:last-of-type th {\n",
       "        text-align: right;\n",
       "    }\n",
       "</style>\n",
       "<table border=\"1\" class=\"dataframe\">\n",
       "  <thead>\n",
       "    <tr>\n",
       "      <th></th>\n",
       "      <th>mean</th>\n",
       "      <th>median</th>\n",
       "    </tr>\n",
       "    <tr>\n",
       "      <th></th>\n",
       "      <th>price</th>\n",
       "      <th>price</th>\n",
       "    </tr>\n",
       "    <tr>\n",
       "      <th>type</th>\n",
       "      <th></th>\n",
       "      <th></th>\n",
       "    </tr>\n",
       "  </thead>\n",
       "  <tbody>\n",
       "    <tr>\n",
       "      <th>bus</th>\n",
       "      <td>19663.470588</td>\n",
       "      <td>28990.0</td>\n",
       "    </tr>\n",
       "    <tr>\n",
       "      <th>convertible</th>\n",
       "      <td>12704.361011</td>\n",
       "      <td>12752.0</td>\n",
       "    </tr>\n",
       "    <tr>\n",
       "      <th>coupe</th>\n",
       "      <td>13362.368613</td>\n",
       "      <td>12500.0</td>\n",
       "    </tr>\n",
       "    <tr>\n",
       "      <th>hatchback</th>\n",
       "      <td>6799.624372</td>\n",
       "      <td>5962.5</td>\n",
       "    </tr>\n",
       "    <tr>\n",
       "      <th>mini-van</th>\n",
       "      <td>7965.939362</td>\n",
       "      <td>6495.0</td>\n",
       "    </tr>\n",
       "    <tr>\n",
       "      <th>offroad</th>\n",
       "      <td>14413.695946</td>\n",
       "      <td>12500.0</td>\n",
       "    </tr>\n",
       "    <tr>\n",
       "      <th>other</th>\n",
       "      <td>10499.500000</td>\n",
       "      <td>8995.0</td>\n",
       "    </tr>\n",
       "    <tr>\n",
       "      <th>pickup</th>\n",
       "      <td>15067.301496</td>\n",
       "      <td>14000.0</td>\n",
       "    </tr>\n",
       "    <tr>\n",
       "      <th>sedan</th>\n",
       "      <td>6991.449744</td>\n",
       "      <td>5995.0</td>\n",
       "    </tr>\n",
       "    <tr>\n",
       "      <th>suv</th>\n",
       "      <td>10422.825687</td>\n",
       "      <td>8850.0</td>\n",
       "    </tr>\n",
       "    <tr>\n",
       "      <th>truck</th>\n",
       "      <td>15116.328165</td>\n",
       "      <td>14500.0</td>\n",
       "    </tr>\n",
       "    <tr>\n",
       "      <th>van</th>\n",
       "      <td>8989.355263</td>\n",
       "      <td>7990.0</td>\n",
       "    </tr>\n",
       "    <tr>\n",
       "      <th>wagon</th>\n",
       "      <td>8986.044462</td>\n",
       "      <td>7900.0</td>\n",
       "    </tr>\n",
       "  </tbody>\n",
       "</table>\n",
       "</div>"
      ],
      "text/plain": [
       "                     mean   median\n",
       "                    price    price\n",
       "type                              \n",
       "bus          19663.470588  28990.0\n",
       "convertible  12704.361011  12752.0\n",
       "coupe        13362.368613  12500.0\n",
       "hatchback     6799.624372   5962.5\n",
       "mini-van      7965.939362   6495.0\n",
       "offroad      14413.695946  12500.0\n",
       "other        10499.500000   8995.0\n",
       "pickup       15067.301496  14000.0\n",
       "sedan         6991.449744   5995.0\n",
       "suv          10422.825687   8850.0\n",
       "truck        15116.328165  14500.0\n",
       "van           8989.355263   7990.0\n",
       "wagon         8986.044462   7900.0"
      ]
     },
     "execution_count": 49,
     "metadata": {},
     "output_type": "execute_result"
    }
   ],
   "source": [
    "# Usemos una gráfica de barras del value_counts\n",
    "df_cleaned_typical.type.value_counts().plot(kind=\"bar\")\n",
    "\n",
    "plt.show()\n",
    "\n",
    "df_cleaned_typical.pivot_table(index=\"type\", values=\"price\", aggfunc=[\"mean\", \"median\"])"
   ]
  },
  {
   "cell_type": "markdown",
   "metadata": {},
   "source": [
    "Es claro que los Sedanes y SUVs son los vehículos más abundantes, siendo casi de diez mil anuncios cada uno."
   ]
  },
  {
   "cell_type": "markdown",
   "metadata": {},
   "source": [
    "## Factores de precio"
   ]
  },
  {
   "cell_type": "markdown",
   "metadata": {},
   "source": [
    "Nos enfocaremos en cinco factores posibles de precio: edad, millaje, condición, tipo de transmisión y color. Para las primeras tres, crearemos una matriz de correlación y una matriz de dispersión."
   ]
  },
  {
   "cell_type": "code",
   "execution_count": 50,
   "metadata": {},
   "outputs": [
    {
     "name": "stdout",
     "output_type": "stream",
     "text": [
      "Sedan\n"
     ]
    },
    {
     "data": {
      "text/html": [
       "<div>\n",
       "<style scoped>\n",
       "    .dataframe tbody tr th:only-of-type {\n",
       "        vertical-align: middle;\n",
       "    }\n",
       "\n",
       "    .dataframe tbody tr th {\n",
       "        vertical-align: top;\n",
       "    }\n",
       "\n",
       "    .dataframe thead th {\n",
       "        text-align: right;\n",
       "    }\n",
       "</style>\n",
       "<table border=\"1\" class=\"dataframe\">\n",
       "  <thead>\n",
       "    <tr style=\"text-align: right;\">\n",
       "      <th></th>\n",
       "      <th>price</th>\n",
       "      <th>years_old</th>\n",
       "      <th>odometer</th>\n",
       "      <th>condition_numeric</th>\n",
       "    </tr>\n",
       "  </thead>\n",
       "  <tbody>\n",
       "    <tr>\n",
       "      <th>price</th>\n",
       "      <td>1.000000</td>\n",
       "      <td>-0.620354</td>\n",
       "      <td>-0.522311</td>\n",
       "      <td>0.291127</td>\n",
       "    </tr>\n",
       "    <tr>\n",
       "      <th>years_old</th>\n",
       "      <td>-0.620354</td>\n",
       "      <td>1.000000</td>\n",
       "      <td>0.540067</td>\n",
       "      <td>-0.292674</td>\n",
       "    </tr>\n",
       "    <tr>\n",
       "      <th>odometer</th>\n",
       "      <td>-0.522311</td>\n",
       "      <td>0.540067</td>\n",
       "      <td>1.000000</td>\n",
       "      <td>-0.362667</td>\n",
       "    </tr>\n",
       "    <tr>\n",
       "      <th>condition_numeric</th>\n",
       "      <td>0.291127</td>\n",
       "      <td>-0.292674</td>\n",
       "      <td>-0.362667</td>\n",
       "      <td>1.000000</td>\n",
       "    </tr>\n",
       "  </tbody>\n",
       "</table>\n",
       "</div>"
      ],
      "text/plain": [
       "                      price  years_old  odometer  condition_numeric\n",
       "price              1.000000  -0.620354 -0.522311           0.291127\n",
       "years_old         -0.620354   1.000000  0.540067          -0.292674\n",
       "odometer          -0.522311   0.540067  1.000000          -0.362667\n",
       "condition_numeric  0.291127  -0.292674 -0.362667           1.000000"
      ]
     },
     "metadata": {},
     "output_type": "display_data"
    },
    {
     "data": {
      "image/png": "[encoded data removed]",
      "text/plain": [
       "<Figure size 720x720 with 16 Axes>"
      ]
     },
     "metadata": {
      "needs_background": "light"
     },
     "output_type": "display_data"
    },
    {
     "name": "stdout",
     "output_type": "stream",
     "text": [
      "SUV\n"
     ]
    },
    {
     "data": {
      "text/html": [
       "<div>\n",
       "<style scoped>\n",
       "    .dataframe tbody tr th:only-of-type {\n",
       "        vertical-align: middle;\n",
       "    }\n",
       "\n",
       "    .dataframe tbody tr th {\n",
       "        vertical-align: top;\n",
       "    }\n",
       "\n",
       "    .dataframe thead th {\n",
       "        text-align: right;\n",
       "    }\n",
       "</style>\n",
       "<table border=\"1\" class=\"dataframe\">\n",
       "  <thead>\n",
       "    <tr style=\"text-align: right;\">\n",
       "      <th></th>\n",
       "      <th>price</th>\n",
       "      <th>years_old</th>\n",
       "      <th>odometer</th>\n",
       "      <th>condition_numeric</th>\n",
       "    </tr>\n",
       "  </thead>\n",
       "  <tbody>\n",
       "    <tr>\n",
       "      <th>price</th>\n",
       "      <td>1.000000</td>\n",
       "      <td>-0.580657</td>\n",
       "      <td>-0.481679</td>\n",
       "      <td>0.253416</td>\n",
       "    </tr>\n",
       "    <tr>\n",
       "      <th>years_old</th>\n",
       "      <td>-0.580657</td>\n",
       "      <td>1.000000</td>\n",
       "      <td>0.553818</td>\n",
       "      <td>-0.301604</td>\n",
       "    </tr>\n",
       "    <tr>\n",
       "      <th>odometer</th>\n",
       "      <td>-0.481679</td>\n",
       "      <td>0.553818</td>\n",
       "      <td>1.000000</td>\n",
       "      <td>-0.339943</td>\n",
       "    </tr>\n",
       "    <tr>\n",
       "      <th>condition_numeric</th>\n",
       "      <td>0.253416</td>\n",
       "      <td>-0.301604</td>\n",
       "      <td>-0.339943</td>\n",
       "      <td>1.000000</td>\n",
       "    </tr>\n",
       "  </tbody>\n",
       "</table>\n",
       "</div>"
      ],
      "text/plain": [
       "                      price  years_old  odometer  condition_numeric\n",
       "price              1.000000  -0.580657 -0.481679           0.253416\n",
       "years_old         -0.580657   1.000000  0.553818          -0.301604\n",
       "odometer          -0.481679   0.553818  1.000000          -0.339943\n",
       "condition_numeric  0.253416  -0.301604 -0.339943           1.000000"
      ]
     },
     "metadata": {},
     "output_type": "display_data"
    },
    {
     "data": {
      "image/png": "[encoded data removed]",
      "text/plain": [
       "<Figure size 720x720 with 16 Axes>"
      ]
     },
     "metadata": {
      "needs_background": "light"
     },
     "output_type": "display_data"
    }
   ],
   "source": [
    "# Elijamos solo sedanes y SUVs\n",
    "df_cleaned_typical_sedan = df_cleaned_typical.query(\"type =='sedan'\")\n",
    "df_cleaned_typical_suv = df_cleaned_typical.query(\"type =='suv'\")\n",
    "\n",
    "# Para sedanes\n",
    "print(\"Sedan\")\n",
    "display(\n",
    "    df_cleaned_typical_sedan.loc[:, [\"price\", \"years_old\",\"odometer\", \"condition_numeric\"]].corr()\n",
    ")\n",
    "                       \n",
    "pd.plotting.scatter_matrix(\n",
    "    df_cleaned_typical_sedan.loc[:, [\"price\",\"years_old\",\"odometer\", \"condition_numeric\"]],\n",
    "    alpha=0.05, grid=True, figsize=(10,10)\n",
    ")\n",
    "\n",
    "plt.show()\n",
    "\n",
    "# SUVs\n",
    "print(\"SUV\")\n",
    "display(\n",
    "    df_cleaned_typical_suv.loc[:, [\"price\", \"years_old\",\"odometer\", \"condition_numeric\"]].corr()\n",
    ")\n",
    "                       \n",
    "pd.plotting.scatter_matrix(\n",
    "    df_cleaned_typical_suv.loc[:, [\"price\",\"years_old\",\"odometer\", \"condition_numeric\"]],\n",
    "    alpha=0.05, grid=True, figsize=(10,10)\n",
    ")\n",
    "\n",
    "plt.show()"
   ]
  },
  {
   "cell_type": "markdown",
   "metadata": {},
   "source": [
    "Podemos ver de la primer fila de ambas que existen relaciones importantes entre el precio y el número de años (los autos nuevos son más caros en lo general), el precio y el millaje (entre menos recorridos, mejor), y una correlación débil con la condición y el precio. Las primeras dos son bastante entendibles, pero la tercera es un poco inusual, uno esperaría que los carros en mejor estado tuvieran mucho mejor precio: si es cierto que el precio es más alto, pero realmente no es un factor determinante.\n",
    "\n",
    "Procedamos con las valores categóricas, `transmission` y `color`. Primero hagamos un value_counts de ambos para saber si existen categorías que dejar de considerar al tener pocos elementos."
   ]
  },
  {
   "cell_type": "code",
   "execution_count": 51,
   "metadata": {},
   "outputs": [
    {
     "name": "stdout",
     "output_type": "stream",
     "text": [
      "Transmission Sedan\n"
     ]
    },
    {
     "data": {
      "text/plain": [
       "automatic    9198\n",
       "manual        462\n",
       "other         110\n",
       "Name: transmission, dtype: int64"
      ]
     },
     "metadata": {},
     "output_type": "display_data"
    },
    {
     "name": "stdout",
     "output_type": "stream",
     "text": [
      "Paint Color Sedan\n"
     ]
    },
    {
     "data": {
      "text/plain": [
       "silver    2018\n",
       "black     1747\n",
       "grey      1601\n",
       "white     1471\n",
       "blue      1212\n",
       "red        926\n",
       "custom     291\n",
       "brown      250\n",
       "green      201\n",
       "purple      23\n",
       "yellow      21\n",
       "orange       9\n",
       "Name: paint_color, dtype: int64"
      ]
     },
     "metadata": {},
     "output_type": "display_data"
    }
   ],
   "source": [
    "print(\"Transmission Sedan\")\n",
    "display(\n",
    "    df_cleaned_typical_sedan.transmission.value_counts()\n",
    ")\n",
    "\n",
    "print(\"Paint Color Sedan\")\n",
    "display(\n",
    "    df_cleaned_typical_sedan.paint_color.value_counts()\n",
    ")"
   ]
  },
  {
   "cell_type": "markdown",
   "metadata": {},
   "source": [
    "Parece que casi todas las categorías tiene más 50 elementos, pero desecharemos las tres que no lo son."
   ]
  },
  {
   "cell_type": "code",
   "execution_count": 52,
   "metadata": {},
   "outputs": [
    {
     "data": {
      "text/plain": [
       "array(['red', 'black', 'white', 'grey', 'silver', 'custom', 'blue',\n",
       "       'green', 'brown'], dtype=object)"
      ]
     },
     "execution_count": 52,
     "metadata": {},
     "output_type": "execute_result"
    }
   ],
   "source": [
    "# Desechemos y mostremos\n",
    "df_cleaned_typical_sedan = df_cleaned_typical_sedan.query(\"paint_color not in ['yellow', 'orange', 'purple']\")\n",
    "\n",
    "df_cleaned_typical_sedan.paint_color.unique()"
   ]
  },
  {
   "cell_type": "markdown",
   "metadata": {},
   "source": [
    "Todo en órden. Ahora veamos que pasa con los SUV's."
   ]
  },
  {
   "cell_type": "code",
   "execution_count": 53,
   "metadata": {},
   "outputs": [
    {
     "name": "stdout",
     "output_type": "stream",
     "text": [
      "Transmission SUV\n"
     ]
    },
    {
     "data": {
      "text/plain": [
       "automatic    9181\n",
       "manual        366\n",
       "other         131\n",
       "Name: transmission, dtype: int64"
      ]
     },
     "metadata": {},
     "output_type": "display_data"
    },
    {
     "name": "stdout",
     "output_type": "stream",
     "text": [
      "Paint Color SUV\n"
     ]
    },
    {
     "data": {
      "text/plain": [
       "black     2071\n",
       "white     1854\n",
       "silver    1523\n",
       "grey      1143\n",
       "blue      1007\n",
       "red        865\n",
       "green      406\n",
       "brown      350\n",
       "custom     295\n",
       "orange      81\n",
       "yellow      45\n",
       "purple      38\n",
       "Name: paint_color, dtype: int64"
      ]
     },
     "metadata": {},
     "output_type": "display_data"
    }
   ],
   "source": [
    "print(\"Transmission SUV\")\n",
    "display(\n",
    "    df_cleaned_typical_suv.transmission.value_counts()\n",
    ")\n",
    "\n",
    "print(\"Paint Color SUV\")\n",
    "display(\n",
    "    df_cleaned_typical_suv.paint_color.value_counts()\n",
    ")"
   ]
  },
  {
   "cell_type": "markdown",
   "metadata": {},
   "source": [
    "Removamos los colores que son menores a 50."
   ]
  },
  {
   "cell_type": "code",
   "execution_count": 54,
   "metadata": {},
   "outputs": [
    {
     "data": {
      "text/plain": [
       "array(['black', 'blue', 'red', 'white', 'silver', 'grey', 'green',\n",
       "       'brown', 'custom'], dtype=object)"
      ]
     },
     "execution_count": 54,
     "metadata": {},
     "output_type": "execute_result"
    }
   ],
   "source": [
    "# Desechemos y mostremos\n",
    "df_cleaned_typical_suv = df_cleaned_typical_suv.query(\"paint_color not in ['yellow', 'orange', 'purple']\")\n",
    "\n",
    "df_cleaned_typical_suv.paint_color.unique()"
   ]
  },
  {
   "cell_type": "markdown",
   "metadata": {},
   "source": [
    "Ahora, para poder continuar, hagamos los boxplots de ambos"
   ]
  },
  {
   "cell_type": "code",
   "execution_count": 55,
   "metadata": {},
   "outputs": [
    {
     "data": {
      "image/png": "[encoded data removed]",
      "text/plain": [
       "<Figure size 720x720 with 4 Axes>"
      ]
     },
     "metadata": {
      "needs_background": "light"
     },
     "output_type": "display_data"
    }
   ],
   "source": [
    "# Hagamos los boxplots\n",
    "\n",
    "fig, ax = plt.subplots(2,2,figsize=(10,10), gridspec_kw={'width_ratios': [1, 3]})\n",
    "df_cleaned_typical_sedan.boxplot(\n",
    "    column=\"price\", by=\"transmission\", ax=ax.flat[0]\n",
    ")\n",
    "\n",
    "df_cleaned_typical_sedan.boxplot(\n",
    "    column=\"price\", by=\"paint_color\", ax=ax.flat[1]\n",
    ")\n",
    "\n",
    "df_cleaned_typical_suv.boxplot(\n",
    "    column=\"price\", by=\"transmission\", ax=ax.flat[2]\n",
    ")\n",
    "\n",
    "df_cleaned_typical_suv.boxplot(\n",
    "    column=\"price\", by=\"paint_color\", ax=ax.flat[3]\n",
    ")\n",
    "\n",
    "#ax.flat[0].set_title(\"\")\n",
    "#plt.text(0, 0, , transform=fig.transFigure, horizontalalignment='center')\n",
    "plt.tight_layout()\n",
    "\n",
    "plt.show()"
   ]
  },
  {
   "cell_type": "markdown",
   "metadata": {},
   "source": [
    "Podemos resumir de los boxplots que para los sedanes el tener transmisión automática es un claro marcador de mayor precio, mientrás que en SUV es el caso con transmisión manual (en las camionetas es mejor tener transmisión manual porque es menos delicada a largo plazo).\n",
    "\n",
    "En el caso del color del vehículo para sedanes, casi todos son muy similares (a excepción del verde), pero blanco, negro y plata  son los que albergan el mayor precio. Para los SUVs, el caso es distinto, pues el negro y el blanco son claro indicador de un mayor precio (se nos vienen a la mente las camionetas diplomáticas o de compañías de electricidad/agua)."
   ]
  },
  {
   "cell_type": "markdown",
   "metadata": {},
   "source": [
    "## Conclusión general\n",
    "\n",
    "[Enumera tus conclusiones importantes en esta sección final, asegúrate de que incluyan aquellas que te llevaron a la forma en que procesaste y analizaste los datos. Habla de los valores ausentes, duplicados, valores atípicos y las posibles razones y soluciones para los artefactos problemáticos que tuviste que abordar. No olvides eliminar todos los comentarios entre corchetes antes de entregar tu proyecto.]\n",
    "\n",
    "Hemos hecho todo el proceso de limpieza y exploración de los datos, eliminamos valores ausentes de la columna `paint_color` (ya que no teníamos como imputarla) e hicimos imputación de todos los demás valores. No podemos hablar de duplicados aquí porque no tenemos un id único para cada entrada (puede que dos anuncios sean iguales en su valores pero solo sean dos carros diferentes similares), por lo que no se removió nada de ese estilo.\n",
    "\n",
    "Un punto importante en el que nos enfocamos fue en los valores atípicos, porque nos distorsionaban demasiado nuestros valores: los eliminamos tomando la definición del rango intercuartil y quedando solo con los que están en ese rango. Después de haber pasado todo el _wrangling_ obligado analizamos los datos con ayuda de matrices de correlación y gráficas (principalmente histogramas y boxplots).\n",
    "\n",
    "Podemos concluir que las variables más importantes para el precio de un vehículo son el año y el millaje: cosas que a cualquiera que hay comprado un carro le resultaran auto evidentes, sin embargo, lo que no lo era tanto es que la condición no es el párametro con más peso.\n",
    "\n",
    "Por otro lado, la transmisión puedem influir en el precio ya que se desea un sistema automático en sedanes y manual en SUVs. Por el lado del color, se refuerza la observación de que la mayoría de los carros hoy en día son blancos, plateados o negros."
   ]
  }
 ],
 "metadata": {
  "ExecuteTimeLog": [
   {
    "duration": 828,
    "start_time": "2021-11-16T09:21:11.304Z"
   },
   {
    "duration": 893,
    "start_time": "2021-11-16T09:21:17.728Z"
   },
   {
    "duration": 1150,
    "start_time": "2021-11-16T09:21:29.568Z"
   },
   {
    "duration": 3,
    "start_time": "2021-11-16T09:24:14.495Z"
   },
   {
    "duration": 120,
    "start_time": "2021-11-16T09:24:46.630Z"
   },
   {
    "duration": 3,
    "start_time": "2021-11-16T09:28:27.882Z"
   },
   {
    "duration": 4,
    "start_time": "2021-11-16T09:29:54.281Z"
   },
   {
    "duration": 3,
    "start_time": "2021-11-16T09:30:45.936Z"
   },
   {
    "duration": 4,
    "start_time": "2021-11-16T09:31:06.300Z"
   },
   {
    "duration": 113,
    "start_time": "2021-11-16T09:31:37.208Z"
   },
   {
    "duration": 143,
    "start_time": "2021-11-16T09:31:48.656Z"
   },
   {
    "duration": 98,
    "start_time": "2021-11-16T09:31:55.678Z"
   },
   {
    "duration": 3,
    "start_time": "2021-11-16T09:32:08.535Z"
   },
   {
    "duration": 111,
    "start_time": "2021-11-16T09:32:10.120Z"
   },
   {
    "duration": 3,
    "start_time": "2021-11-16T09:32:15.732Z"
   },
   {
    "duration": 4,
    "start_time": "2021-11-16T09:32:29.423Z"
   },
   {
    "duration": 3,
    "start_time": "2021-11-16T10:03:03.074Z"
   },
   {
    "duration": 3,
    "start_time": "2021-11-16T10:10:01.288Z"
   },
   {
    "duration": 3,
    "start_time": "2021-11-16T10:10:46.923Z"
   },
   {
    "duration": 121,
    "start_time": "2021-11-16T10:37:46.494Z"
   },
   {
    "duration": 125,
    "start_time": "2021-11-16T10:38:20.632Z"
   },
   {
    "duration": 112,
    "start_time": "2021-11-16T10:46:53.001Z"
   },
   {
    "duration": 110,
    "start_time": "2021-11-16T10:48:25.775Z"
   },
   {
    "duration": 3,
    "start_time": "2021-11-16T10:50:18.720Z"
   },
   {
    "duration": 4,
    "start_time": "2021-11-16T10:50:37.649Z"
   },
   {
    "duration": 2,
    "start_time": "2021-11-16T10:50:51.884Z"
   },
   {
    "duration": 3,
    "start_time": "2021-11-16T10:51:56.237Z"
   },
   {
    "duration": 101,
    "start_time": "2021-11-16T10:53:13.791Z"
   },
   {
    "duration": 3,
    "start_time": "2021-11-16T10:55:59.186Z"
   },
   {
    "duration": 3,
    "start_time": "2021-11-16T10:56:10.751Z"
   },
   {
    "duration": 3,
    "start_time": "2021-11-16T10:56:49.038Z"
   },
   {
    "duration": 3,
    "start_time": "2021-11-16T10:56:49.174Z"
   },
   {
    "duration": 4,
    "start_time": "2021-11-16T10:56:49.414Z"
   },
   {
    "duration": 3,
    "start_time": "2021-11-16T10:56:49.680Z"
   },
   {
    "duration": 3,
    "start_time": "2021-11-16T10:56:50.370Z"
   },
   {
    "duration": 114,
    "start_time": "2021-11-16T10:59:34.518Z"
   },
   {
    "duration": 3,
    "start_time": "2021-11-16T11:01:41.201Z"
   },
   {
    "duration": 116,
    "start_time": "2021-11-16T11:01:48.754Z"
   },
   {
    "duration": 3,
    "start_time": "2021-11-16T11:02:16.685Z"
   },
   {
    "duration": 3,
    "start_time": "2021-11-16T11:02:19.479Z"
   },
   {
    "duration": 3,
    "start_time": "2021-11-16T11:02:47.067Z"
   },
   {
    "duration": 3,
    "start_time": "2021-11-16T11:02:49.353Z"
   },
   {
    "duration": 3,
    "start_time": "2021-11-16T11:03:07.835Z"
   },
   {
    "duration": 3,
    "start_time": "2021-11-16T11:03:07.953Z"
   },
   {
    "duration": 112,
    "start_time": "2021-11-16T11:07:52.072Z"
   },
   {
    "duration": 187,
    "start_time": "2021-11-16T11:09:23.468Z"
   },
   {
    "duration": 4,
    "start_time": "2021-11-16T11:10:01.455Z"
   },
   {
    "duration": 3,
    "start_time": "2021-11-16T11:10:05.069Z"
   },
   {
    "duration": 4,
    "start_time": "2021-11-16T11:10:13.376Z"
   },
   {
    "duration": 3,
    "start_time": "2021-11-16T11:10:14.434Z"
   },
   {
    "duration": 3,
    "start_time": "2021-11-16T11:10:22.853Z"
   },
   {
    "duration": 4,
    "start_time": "2021-11-16T11:27:29.279Z"
   },
   {
    "duration": 4,
    "start_time": "2021-11-16T11:29:08.919Z"
   },
   {
    "duration": 118,
    "start_time": "2021-11-16T11:29:46.703Z"
   },
   {
    "duration": 437,
    "start_time": "2021-11-16T11:36:02.181Z"
   },
   {
    "duration": 157,
    "start_time": "2021-11-16T11:36:14.388Z"
   },
   {
    "duration": 207,
    "start_time": "2021-11-16T11:47:15.898Z"
   },
   {
    "duration": 3,
    "start_time": "2021-11-16T11:53:52.092Z"
   },
   {
    "duration": 3,
    "start_time": "2021-11-16T11:53:52.236Z"
   },
   {
    "duration": 3,
    "start_time": "2021-11-16T11:59:12.005Z"
   },
   {
    "duration": 112,
    "start_time": "2021-11-16T12:00:33.446Z"
   },
   {
    "duration": 3,
    "start_time": "2021-11-16T12:02:14.453Z"
   },
   {
    "duration": 3,
    "start_time": "2021-11-16T12:02:39.512Z"
   },
   {
    "duration": 106,
    "start_time": "2021-11-16T12:03:03.460Z"
   }
  ],
  "kernelspec": {
   "display_name": "Python 3 (ipykernel)",
   "language": "python",
   "name": "python3"
  },
  "language_info": {
   "codemirror_mode": {
    "name": "ipython",
    "version": 3
   },
   "file_extension": ".py",
   "mimetype": "text/x-python",
   "name": "python",
   "nbconvert_exporter": "python",
   "pygments_lexer": "ipython3",
   "version": "3.9.5"
  },
  "toc": {
   "base_numbering": 1,
   "nav_menu": {},
   "number_sections": true,
   "sideBar": true,
   "skip_h1_title": false,
   "title_cell": "Table of Contents",
   "title_sidebar": "Contents",
   "toc_cell": false,
   "toc_position": {
    "height": "565px",
    "left": "1345.83px",
    "top": "66.6333px",
    "width": "294.977px"
   },
   "toc_section_display": true,
   "toc_window_display": true
  }
 },
 "nbformat": 4,
 "nbformat_minor": 2
}
