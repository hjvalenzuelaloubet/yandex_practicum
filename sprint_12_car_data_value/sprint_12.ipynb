{
 "cells": [
  {
   "cell_type": "markdown",
   "metadata": {},
   "source": [
    "El servicio de venta de autos usados Rusty Bargain está desarrollando una aplicación para atraer nuevos clientes. Gracias a esa app, puedes averiguar rápidamente el valor de mercado de tu coche. Tienes acceso al historial: especificaciones técnicas, versiones de equipamiento y precios. Tienes que crear un modelo que determine el valor de mercado.\n",
    "A Rusty Bargain le interesa:\n",
    "- la calidad de la predicción;\n",
    "- la velocidad de la predicción;\n",
    "- el tiempo requerido para el entrenamiento\n",
    "\n",
    "## Tabla de contenidos\n",
    "* [Trabajo previo](#section1)\n",
    "* [Preparación de datos](#section2)\n",
    "    * [Limpieza de valores](#section21)\n",
    "        * [Columna Price](#section211)\n",
    "        * [Columna RegistrationYear](#section212)\n",
    "        * [Columna RegistrationMonth](#section212) \n",
    "        * [Columna Power](#section213)\n",
    "        * [Columna NumberOfPictures](#section214)\n",
    "    * [Limpieza de nulos](#section22)\n",
    "        * [Columna model](#section221)\n",
    "        * [Columna NotRepaired](#section222)\n",
    "        * [Columna VehicleType](#section223)\n",
    "        * [Columna Gearbox](#section224)\n",
    "        * [Columna FuelType](#section225)\n",
    "    * [Partición y codificación](#section23)\n",
    "* [Entrenamiento del modelo](#section3)\n",
    "    * [Regresión lineal](#section31)\n",
    "    * [Bosque aleatorio](#section32)\n",
    "    * [LightGBM](#section33)\n",
    "    * [CatBoost](#section34)\n",
    "* [Análisis del modelo](#section4)"
   ]
  },
  {
   "cell_type": "markdown",
   "metadata": {},
   "source": [
    "## Trabajo previo <a class=\"anchor\" id=\"section1\"></a>"
   ]
  },
  {
   "cell_type": "code",
   "execution_count": 153,
   "metadata": {},
   "outputs": [],
   "source": [
    "# Cargamos algunas librerías útiles\n",
    "\n",
    "import pandas as pd\n",
    "import matplotlib.pyplot as plt\n",
    "import numpy as np\n",
    "import seaborn as sns\n",
    "import time\n",
    "\n",
    "#from tqdm import tqdm\n",
    "from tqdm.auto import tqdm\n",
    "\n",
    "from sklearn.ensemble import RandomForestRegressor\n",
    "from sklearn.linear_model import LinearRegression\n",
    "from sklearn.metrics import mean_squared_error\n",
    "\n",
    "from sklearn.model_selection import train_test_split\n",
    "from sklearn.model_selection import GridSearchCV\n",
    "\n",
    "from sklearn.preprocessing import StandardScaler\n",
    "#from sklearn.preprocessing import OneHotEncoder\n",
    "\n",
    "from lightgbm import LGBMRegressor\n",
    "from catboost import CatBoostRegressor\n",
    "#from xgboost import XGBRegressor\n",
    "\n",
    "import warnings\n",
    "warnings.filterwarnings('ignore')"
   ]
  },
  {
   "cell_type": "code",
   "execution_count": 154,
   "metadata": {},
   "outputs": [],
   "source": [
    "# Cargamos nuestros datos\n",
    "\n",
    "df = pd.read_csv(\"/datasets/car_data.csv\")"
   ]
  },
  {
   "cell_type": "markdown",
   "metadata": {},
   "source": [
    "Echemos una ojeada rápida antes de empezar a limpiar."
   ]
  },
  {
   "cell_type": "code",
   "execution_count": 155,
   "metadata": {},
   "outputs": [
    {
     "name": "stdout",
     "output_type": "stream",
     "text": [
      "<class 'pandas.core.frame.DataFrame'>\n",
      "RangeIndex: 354369 entries, 0 to 354368\n",
      "Data columns (total 16 columns):\n",
      " #   Column             Non-Null Count   Dtype \n",
      "---  ------             --------------   ----- \n",
      " 0   DateCrawled        354369 non-null  object\n",
      " 1   Price              354369 non-null  int64 \n",
      " 2   VehicleType        316879 non-null  object\n",
      " 3   RegistrationYear   354369 non-null  int64 \n",
      " 4   Gearbox            334536 non-null  object\n",
      " 5   Power              354369 non-null  int64 \n",
      " 6   Model              334664 non-null  object\n",
      " 7   Mileage            354369 non-null  int64 \n",
      " 8   RegistrationMonth  354369 non-null  int64 \n",
      " 9   FuelType           321474 non-null  object\n",
      " 10  Brand              354369 non-null  object\n",
      " 11  NotRepaired        283215 non-null  object\n",
      " 12  DateCreated        354369 non-null  object\n",
      " 13  NumberOfPictures   354369 non-null  int64 \n",
      " 14  PostalCode         354369 non-null  int64 \n",
      " 15  LastSeen           354369 non-null  object\n",
      "dtypes: int64(7), object(9)\n",
      "memory usage: 43.3+ MB\n"
     ]
    },
    {
     "data": {
      "text/html": [
       "<div>\n",
       "<style scoped>\n",
       "    .dataframe tbody tr th:only-of-type {\n",
       "        vertical-align: middle;\n",
       "    }\n",
       "\n",
       "    .dataframe tbody tr th {\n",
       "        vertical-align: top;\n",
       "    }\n",
       "\n",
       "    .dataframe thead th {\n",
       "        text-align: right;\n",
       "    }\n",
       "</style>\n",
       "<table border=\"1\" class=\"dataframe\">\n",
       "  <thead>\n",
       "    <tr style=\"text-align: right;\">\n",
       "      <th></th>\n",
       "      <th>Price</th>\n",
       "      <th>RegistrationYear</th>\n",
       "      <th>Power</th>\n",
       "      <th>Mileage</th>\n",
       "      <th>RegistrationMonth</th>\n",
       "      <th>NumberOfPictures</th>\n",
       "      <th>PostalCode</th>\n",
       "    </tr>\n",
       "  </thead>\n",
       "  <tbody>\n",
       "    <tr>\n",
       "      <th>count</th>\n",
       "      <td>354369.000000</td>\n",
       "      <td>354369.000000</td>\n",
       "      <td>354369.000000</td>\n",
       "      <td>354369.000000</td>\n",
       "      <td>354369.000000</td>\n",
       "      <td>354369.0</td>\n",
       "      <td>354369.000000</td>\n",
       "    </tr>\n",
       "    <tr>\n",
       "      <th>mean</th>\n",
       "      <td>4416.656776</td>\n",
       "      <td>2004.234448</td>\n",
       "      <td>110.094337</td>\n",
       "      <td>128211.172535</td>\n",
       "      <td>5.714645</td>\n",
       "      <td>0.0</td>\n",
       "      <td>50508.689087</td>\n",
       "    </tr>\n",
       "    <tr>\n",
       "      <th>std</th>\n",
       "      <td>4514.158514</td>\n",
       "      <td>90.227958</td>\n",
       "      <td>189.850405</td>\n",
       "      <td>37905.341530</td>\n",
       "      <td>3.726421</td>\n",
       "      <td>0.0</td>\n",
       "      <td>25783.096248</td>\n",
       "    </tr>\n",
       "    <tr>\n",
       "      <th>min</th>\n",
       "      <td>0.000000</td>\n",
       "      <td>1000.000000</td>\n",
       "      <td>0.000000</td>\n",
       "      <td>5000.000000</td>\n",
       "      <td>0.000000</td>\n",
       "      <td>0.0</td>\n",
       "      <td>1067.000000</td>\n",
       "    </tr>\n",
       "    <tr>\n",
       "      <th>25%</th>\n",
       "      <td>1050.000000</td>\n",
       "      <td>1999.000000</td>\n",
       "      <td>69.000000</td>\n",
       "      <td>125000.000000</td>\n",
       "      <td>3.000000</td>\n",
       "      <td>0.0</td>\n",
       "      <td>30165.000000</td>\n",
       "    </tr>\n",
       "    <tr>\n",
       "      <th>50%</th>\n",
       "      <td>2700.000000</td>\n",
       "      <td>2003.000000</td>\n",
       "      <td>105.000000</td>\n",
       "      <td>150000.000000</td>\n",
       "      <td>6.000000</td>\n",
       "      <td>0.0</td>\n",
       "      <td>49413.000000</td>\n",
       "    </tr>\n",
       "    <tr>\n",
       "      <th>75%</th>\n",
       "      <td>6400.000000</td>\n",
       "      <td>2008.000000</td>\n",
       "      <td>143.000000</td>\n",
       "      <td>150000.000000</td>\n",
       "      <td>9.000000</td>\n",
       "      <td>0.0</td>\n",
       "      <td>71083.000000</td>\n",
       "    </tr>\n",
       "    <tr>\n",
       "      <th>max</th>\n",
       "      <td>20000.000000</td>\n",
       "      <td>9999.000000</td>\n",
       "      <td>20000.000000</td>\n",
       "      <td>150000.000000</td>\n",
       "      <td>12.000000</td>\n",
       "      <td>0.0</td>\n",
       "      <td>99998.000000</td>\n",
       "    </tr>\n",
       "  </tbody>\n",
       "</table>\n",
       "</div>"
      ],
      "text/plain": [
       "               Price  RegistrationYear          Power        Mileage  \\\n",
       "count  354369.000000     354369.000000  354369.000000  354369.000000   \n",
       "mean     4416.656776       2004.234448     110.094337  128211.172535   \n",
       "std      4514.158514         90.227958     189.850405   37905.341530   \n",
       "min         0.000000       1000.000000       0.000000    5000.000000   \n",
       "25%      1050.000000       1999.000000      69.000000  125000.000000   \n",
       "50%      2700.000000       2003.000000     105.000000  150000.000000   \n",
       "75%      6400.000000       2008.000000     143.000000  150000.000000   \n",
       "max     20000.000000       9999.000000   20000.000000  150000.000000   \n",
       "\n",
       "       RegistrationMonth  NumberOfPictures     PostalCode  \n",
       "count      354369.000000          354369.0  354369.000000  \n",
       "mean            5.714645               0.0   50508.689087  \n",
       "std             3.726421               0.0   25783.096248  \n",
       "min             0.000000               0.0    1067.000000  \n",
       "25%             3.000000               0.0   30165.000000  \n",
       "50%             6.000000               0.0   49413.000000  \n",
       "75%             9.000000               0.0   71083.000000  \n",
       "max            12.000000               0.0   99998.000000  "
      ]
     },
     "execution_count": 155,
     "metadata": {},
     "output_type": "execute_result"
    }
   ],
   "source": [
    "df.info()\n",
    "\n",
    "df.describe()"
   ]
  },
  {
   "cell_type": "markdown",
   "metadata": {},
   "source": [
    "Tenemos bastantes columnas para trabajar, revisaremos que tenemos en ellas y trabajaremos en acomodar los datos. Ahora veamos que sucede con los duplicados."
   ]
  },
  {
   "cell_type": "code",
   "execution_count": 156,
   "metadata": {},
   "outputs": [
    {
     "name": "stdout",
     "output_type": "stream",
     "text": [
      "Tenemos 262 entradas duplicadas.\n"
     ]
    }
   ],
   "source": [
    "print(\n",
    "    f\"Tenemos {df[df.duplicated()].shape[0]} entradas duplicadas.\"\n",
    ")"
   ]
  },
  {
   "cell_type": "markdown",
   "metadata": {},
   "source": [
    "Removamos estas entradas."
   ]
  },
  {
   "cell_type": "code",
   "execution_count": 157,
   "metadata": {},
   "outputs": [],
   "source": [
    "# Removemos duplicados y reseteamos índices\n",
    "df = df.drop_duplicates().reset_index(drop=True)"
   ]
  },
  {
   "cell_type": "markdown",
   "metadata": {},
   "source": [
    "## Preparación de datos <a class=\"anchor\" id=\"section2\"></a>"
   ]
  },
  {
   "cell_type": "markdown",
   "metadata": {},
   "source": [
    "Empecemos con mostrar un sample de nuestro dataset."
   ]
  },
  {
   "cell_type": "code",
   "execution_count": 158,
   "metadata": {},
   "outputs": [
    {
     "data": {
      "text/html": [
       "<div>\n",
       "<style scoped>\n",
       "    .dataframe tbody tr th:only-of-type {\n",
       "        vertical-align: middle;\n",
       "    }\n",
       "\n",
       "    .dataframe tbody tr th {\n",
       "        vertical-align: top;\n",
       "    }\n",
       "\n",
       "    .dataframe thead th {\n",
       "        text-align: right;\n",
       "    }\n",
       "</style>\n",
       "<table border=\"1\" class=\"dataframe\">\n",
       "  <thead>\n",
       "    <tr style=\"text-align: right;\">\n",
       "      <th></th>\n",
       "      <th>DateCrawled</th>\n",
       "      <th>Price</th>\n",
       "      <th>VehicleType</th>\n",
       "      <th>RegistrationYear</th>\n",
       "      <th>Gearbox</th>\n",
       "      <th>Power</th>\n",
       "      <th>Model</th>\n",
       "      <th>Mileage</th>\n",
       "      <th>RegistrationMonth</th>\n",
       "      <th>FuelType</th>\n",
       "      <th>Brand</th>\n",
       "      <th>NotRepaired</th>\n",
       "      <th>DateCreated</th>\n",
       "      <th>NumberOfPictures</th>\n",
       "      <th>PostalCode</th>\n",
       "      <th>LastSeen</th>\n",
       "    </tr>\n",
       "  </thead>\n",
       "  <tbody>\n",
       "    <tr>\n",
       "      <th>338647</th>\n",
       "      <td>20/03/2016 16:45</td>\n",
       "      <td>4500</td>\n",
       "      <td>NaN</td>\n",
       "      <td>2017</td>\n",
       "      <td>manual</td>\n",
       "      <td>0</td>\n",
       "      <td>ducato</td>\n",
       "      <td>125000</td>\n",
       "      <td>1</td>\n",
       "      <td>gasoline</td>\n",
       "      <td>fiat</td>\n",
       "      <td>NaN</td>\n",
       "      <td>20/03/2016 00:00</td>\n",
       "      <td>0</td>\n",
       "      <td>74081</td>\n",
       "      <td>30/03/2016 08:15</td>\n",
       "    </tr>\n",
       "    <tr>\n",
       "      <th>229622</th>\n",
       "      <td>28/03/2016 17:52</td>\n",
       "      <td>900</td>\n",
       "      <td>wagon</td>\n",
       "      <td>1996</td>\n",
       "      <td>manual</td>\n",
       "      <td>170</td>\n",
       "      <td>3er</td>\n",
       "      <td>150000</td>\n",
       "      <td>10</td>\n",
       "      <td>petrol</td>\n",
       "      <td>bmw</td>\n",
       "      <td>no</td>\n",
       "      <td>28/03/2016 00:00</td>\n",
       "      <td>0</td>\n",
       "      <td>46244</td>\n",
       "      <td>06/04/2016 23:46</td>\n",
       "    </tr>\n",
       "    <tr>\n",
       "      <th>215278</th>\n",
       "      <td>05/03/2016 20:37</td>\n",
       "      <td>8100</td>\n",
       "      <td>sedan</td>\n",
       "      <td>1981</td>\n",
       "      <td>manual</td>\n",
       "      <td>122</td>\n",
       "      <td>3er</td>\n",
       "      <td>100000</td>\n",
       "      <td>8</td>\n",
       "      <td>petrol</td>\n",
       "      <td>bmw</td>\n",
       "      <td>no</td>\n",
       "      <td>05/03/2016 00:00</td>\n",
       "      <td>0</td>\n",
       "      <td>83129</td>\n",
       "      <td>05/04/2016 18:44</td>\n",
       "    </tr>\n",
       "    <tr>\n",
       "      <th>119335</th>\n",
       "      <td>28/03/2016 14:44</td>\n",
       "      <td>7950</td>\n",
       "      <td>sedan</td>\n",
       "      <td>2009</td>\n",
       "      <td>manual</td>\n",
       "      <td>122</td>\n",
       "      <td>golf</td>\n",
       "      <td>80000</td>\n",
       "      <td>1</td>\n",
       "      <td>petrol</td>\n",
       "      <td>volkswagen</td>\n",
       "      <td>no</td>\n",
       "      <td>28/03/2016 00:00</td>\n",
       "      <td>0</td>\n",
       "      <td>33619</td>\n",
       "      <td>31/03/2016 22:46</td>\n",
       "    </tr>\n",
       "    <tr>\n",
       "      <th>17070</th>\n",
       "      <td>01/04/2016 19:53</td>\n",
       "      <td>1200</td>\n",
       "      <td>small</td>\n",
       "      <td>2000</td>\n",
       "      <td>manual</td>\n",
       "      <td>58</td>\n",
       "      <td>twingo</td>\n",
       "      <td>150000</td>\n",
       "      <td>7</td>\n",
       "      <td>petrol</td>\n",
       "      <td>renault</td>\n",
       "      <td>no</td>\n",
       "      <td>01/04/2016 00:00</td>\n",
       "      <td>0</td>\n",
       "      <td>32547</td>\n",
       "      <td>05/04/2016 16:45</td>\n",
       "    </tr>\n",
       "  </tbody>\n",
       "</table>\n",
       "</div>"
      ],
      "text/plain": [
       "             DateCrawled  Price VehicleType  RegistrationYear Gearbox  Power  \\\n",
       "338647  20/03/2016 16:45   4500         NaN              2017  manual      0   \n",
       "229622  28/03/2016 17:52    900       wagon              1996  manual    170   \n",
       "215278  05/03/2016 20:37   8100       sedan              1981  manual    122   \n",
       "119335  28/03/2016 14:44   7950       sedan              2009  manual    122   \n",
       "17070   01/04/2016 19:53   1200       small              2000  manual     58   \n",
       "\n",
       "         Model  Mileage  RegistrationMonth  FuelType       Brand NotRepaired  \\\n",
       "338647  ducato   125000                  1  gasoline        fiat         NaN   \n",
       "229622     3er   150000                 10    petrol         bmw          no   \n",
       "215278     3er   100000                  8    petrol         bmw          no   \n",
       "119335    golf    80000                  1    petrol  volkswagen          no   \n",
       "17070   twingo   150000                  7    petrol     renault          no   \n",
       "\n",
       "             DateCreated  NumberOfPictures  PostalCode          LastSeen  \n",
       "338647  20/03/2016 00:00                 0       74081  30/03/2016 08:15  \n",
       "229622  28/03/2016 00:00                 0       46244  06/04/2016 23:46  \n",
       "215278  05/03/2016 00:00                 0       83129  05/04/2016 18:44  \n",
       "119335  28/03/2016 00:00                 0       33619  31/03/2016 22:46  \n",
       "17070   01/04/2016 00:00                 0       32547  05/04/2016 16:45  "
      ]
     },
     "execution_count": 158,
     "metadata": {},
     "output_type": "execute_result"
    }
   ],
   "source": [
    "df.sample(n=5, random_state=2)"
   ]
  },
  {
   "cell_type": "markdown",
   "metadata": {},
   "source": [
    "De nuestro print de info en la sección previa, podemos ver que tenemos 354369 entradas y varias columnas que tienen el tipo de dato mal: estas columnas son `DateCrawled`, `DateCreated`, `LastSeen`. Podríamos cambiarlas a _datetime64_, pero como crearemos modelos para entrenar, no nos serán útiles; las quitaremos."
   ]
  },
  {
   "cell_type": "code",
   "execution_count": 159,
   "metadata": {},
   "outputs": [
    {
     "name": "stdout",
     "output_type": "stream",
     "text": [
      "<class 'pandas.core.frame.DataFrame'>\n",
      "RangeIndex: 354107 entries, 0 to 354106\n",
      "Data columns (total 13 columns):\n",
      " #   Column             Non-Null Count   Dtype \n",
      "---  ------             --------------   ----- \n",
      " 0   Price              354107 non-null  int64 \n",
      " 1   VehicleType        316623 non-null  object\n",
      " 2   RegistrationYear   354107 non-null  int64 \n",
      " 3   Gearbox            334277 non-null  object\n",
      " 4   Power              354107 non-null  int64 \n",
      " 5   Model              334406 non-null  object\n",
      " 6   Mileage            354107 non-null  int64 \n",
      " 7   RegistrationMonth  354107 non-null  int64 \n",
      " 8   FuelType           321218 non-null  object\n",
      " 9   Brand              354107 non-null  object\n",
      " 10  NotRepaired        282962 non-null  object\n",
      " 11  NumberOfPictures   354107 non-null  int64 \n",
      " 12  PostalCode         354107 non-null  int64 \n",
      "dtypes: int64(7), object(6)\n",
      "memory usage: 35.1+ MB\n"
     ]
    },
    {
     "data": {
      "text/html": [
       "<div>\n",
       "<style scoped>\n",
       "    .dataframe tbody tr th:only-of-type {\n",
       "        vertical-align: middle;\n",
       "    }\n",
       "\n",
       "    .dataframe tbody tr th {\n",
       "        vertical-align: top;\n",
       "    }\n",
       "\n",
       "    .dataframe thead th {\n",
       "        text-align: right;\n",
       "    }\n",
       "</style>\n",
       "<table border=\"1\" class=\"dataframe\">\n",
       "  <thead>\n",
       "    <tr style=\"text-align: right;\">\n",
       "      <th></th>\n",
       "      <th>Price</th>\n",
       "      <th>RegistrationYear</th>\n",
       "      <th>Power</th>\n",
       "      <th>Mileage</th>\n",
       "      <th>RegistrationMonth</th>\n",
       "      <th>NumberOfPictures</th>\n",
       "      <th>PostalCode</th>\n",
       "    </tr>\n",
       "  </thead>\n",
       "  <tbody>\n",
       "    <tr>\n",
       "      <th>count</th>\n",
       "      <td>354107.000000</td>\n",
       "      <td>354107.000000</td>\n",
       "      <td>354107.000000</td>\n",
       "      <td>354107.000000</td>\n",
       "      <td>354107.000000</td>\n",
       "      <td>354107.0</td>\n",
       "      <td>354107.000000</td>\n",
       "    </tr>\n",
       "    <tr>\n",
       "      <th>mean</th>\n",
       "      <td>4416.433287</td>\n",
       "      <td>2004.235355</td>\n",
       "      <td>110.089651</td>\n",
       "      <td>128211.811684</td>\n",
       "      <td>5.714182</td>\n",
       "      <td>0.0</td>\n",
       "      <td>50507.145030</td>\n",
       "    </tr>\n",
       "    <tr>\n",
       "      <th>std</th>\n",
       "      <td>4514.338584</td>\n",
       "      <td>90.261168</td>\n",
       "      <td>189.914972</td>\n",
       "      <td>37906.590101</td>\n",
       "      <td>3.726682</td>\n",
       "      <td>0.0</td>\n",
       "      <td>25784.212094</td>\n",
       "    </tr>\n",
       "    <tr>\n",
       "      <th>min</th>\n",
       "      <td>0.000000</td>\n",
       "      <td>1000.000000</td>\n",
       "      <td>0.000000</td>\n",
       "      <td>5000.000000</td>\n",
       "      <td>0.000000</td>\n",
       "      <td>0.0</td>\n",
       "      <td>1067.000000</td>\n",
       "    </tr>\n",
       "    <tr>\n",
       "      <th>25%</th>\n",
       "      <td>1050.000000</td>\n",
       "      <td>1999.000000</td>\n",
       "      <td>69.000000</td>\n",
       "      <td>125000.000000</td>\n",
       "      <td>3.000000</td>\n",
       "      <td>0.0</td>\n",
       "      <td>30165.000000</td>\n",
       "    </tr>\n",
       "    <tr>\n",
       "      <th>50%</th>\n",
       "      <td>2700.000000</td>\n",
       "      <td>2003.000000</td>\n",
       "      <td>105.000000</td>\n",
       "      <td>150000.000000</td>\n",
       "      <td>6.000000</td>\n",
       "      <td>0.0</td>\n",
       "      <td>49406.000000</td>\n",
       "    </tr>\n",
       "    <tr>\n",
       "      <th>75%</th>\n",
       "      <td>6400.000000</td>\n",
       "      <td>2008.000000</td>\n",
       "      <td>143.000000</td>\n",
       "      <td>150000.000000</td>\n",
       "      <td>9.000000</td>\n",
       "      <td>0.0</td>\n",
       "      <td>71083.000000</td>\n",
       "    </tr>\n",
       "    <tr>\n",
       "      <th>max</th>\n",
       "      <td>20000.000000</td>\n",
       "      <td>9999.000000</td>\n",
       "      <td>20000.000000</td>\n",
       "      <td>150000.000000</td>\n",
       "      <td>12.000000</td>\n",
       "      <td>0.0</td>\n",
       "      <td>99998.000000</td>\n",
       "    </tr>\n",
       "  </tbody>\n",
       "</table>\n",
       "</div>"
      ],
      "text/plain": [
       "               Price  RegistrationYear          Power        Mileage  \\\n",
       "count  354107.000000     354107.000000  354107.000000  354107.000000   \n",
       "mean     4416.433287       2004.235355     110.089651  128211.811684   \n",
       "std      4514.338584         90.261168     189.914972   37906.590101   \n",
       "min         0.000000       1000.000000       0.000000    5000.000000   \n",
       "25%      1050.000000       1999.000000      69.000000  125000.000000   \n",
       "50%      2700.000000       2003.000000     105.000000  150000.000000   \n",
       "75%      6400.000000       2008.000000     143.000000  150000.000000   \n",
       "max     20000.000000       9999.000000   20000.000000  150000.000000   \n",
       "\n",
       "       RegistrationMonth  NumberOfPictures     PostalCode  \n",
       "count      354107.000000          354107.0  354107.000000  \n",
       "mean            5.714182               0.0   50507.145030  \n",
       "std             3.726682               0.0   25784.212094  \n",
       "min             0.000000               0.0    1067.000000  \n",
       "25%             3.000000               0.0   30165.000000  \n",
       "50%             6.000000               0.0   49406.000000  \n",
       "75%             9.000000               0.0   71083.000000  \n",
       "max            12.000000               0.0   99998.000000  "
      ]
     },
     "execution_count": 159,
     "metadata": {},
     "output_type": "execute_result"
    }
   ],
   "source": [
    "# Hagamos el cambio\n",
    "#df.DateCrawled = df.DateCrawled.astype(\"datetime64\")\n",
    "\n",
    "#df.DateCreated = df.DateCreated.astype(\"datetime64\")\n",
    "\n",
    "#df.LastSeen = df.LastSeen.astype(\"datetime64\")\n",
    "\n",
    "# Removamos columnas\n",
    "df = df.drop([\"DateCrawled\", \"DateCreated\", \"LastSeen\"], axis=1)\n",
    "\n",
    "# Mostremos\n",
    "\n",
    "df.info()\n",
    "\n",
    "df.describe()"
   ]
  },
  {
   "cell_type": "markdown",
   "metadata": {},
   "source": [
    "Todo se ve mejor, aunque todavía tenemos que revisar que sucede con algunos casos: nótese que existe alguna entrada con `Price` cero, lo cual nos hace ruido; al igual, no tiene sentido un valor de cero en `Power` o en `RegistrationMonth`. Por otro lado, parece que todos los valores de `NumberOfPictures` es cero y que hay autos registrados en hace mil años! Iremos limpiando estos valores y luego procederemos a trabajar con los nulos."
   ]
  },
  {
   "cell_type": "markdown",
   "metadata": {},
   "source": [
    "### Limpieza de valores <a class=\"anchor\" id=\"section21\"></a>\n",
    "Partamos de la columna `Price`, veamos como se distribuyen los valores.\n",
    "\n",
    "#### Columna `Price` <a class=\"anchor\" id=\"section211\"></a>"
   ]
  },
  {
   "cell_type": "code",
   "execution_count": 160,
   "metadata": {},
   "outputs": [
    {
     "data": {
      "text/plain": [
       "0        10770\n",
       "500       5667\n",
       "1500      5391\n",
       "1000      4647\n",
       "1200      4589\n",
       "         ...  \n",
       "13180        1\n",
       "10879        1\n",
       "2683         1\n",
       "634          1\n",
       "8188         1\n",
       "Name: Price, Length: 3731, dtype: int64"
      ]
     },
     "metadata": {},
     "output_type": "display_data"
    },
    {
     "data": {
      "image/png": "[encoded data removed]",
      "text/plain": [
       "<Figure size 432x288 with 1 Axes>"
      ]
     },
     "metadata": {
      "needs_background": "light"
     },
     "output_type": "display_data"
    }
   ],
   "source": [
    "# Hagamos el value_counts\n",
    "display(\n",
    "    df.Price.value_counts()\n",
    ")\n",
    "\n",
    "# Un histograma para ver mejor\n",
    "fig, axes = plt.subplots()\n",
    "\n",
    "df.Price.hist(bins=30, ax=axes)\n",
    "\n",
    "plt.title(\"Distribución de precios\")\n",
    "plt.show()"
   ]
  },
  {
   "cell_type": "markdown",
   "metadata": {},
   "source": [
    "Viendo el histograma pareciera que todo está en órden, pero el value_counts muestra que tenemos muchos valores en cero, no nos hacen sentido y como Price es la métrica objetivo los eliminaremos."
   ]
  },
  {
   "cell_type": "code",
   "execution_count": 161,
   "metadata": {},
   "outputs": [
    {
     "name": "stdout",
     "output_type": "stream",
     "text": [
      "<class 'pandas.core.frame.DataFrame'>\n",
      "Int64Index: 343337 entries, 0 to 354106\n",
      "Data columns (total 13 columns):\n",
      " #   Column             Non-Null Count   Dtype \n",
      "---  ------             --------------   ----- \n",
      " 0   Price              343337 non-null  int64 \n",
      " 1   VehicleType        309592 non-null  object\n",
      " 2   RegistrationYear   343337 non-null  int64 \n",
      " 3   Gearbox            325984 non-null  object\n",
      " 4   Power              343337 non-null  int64 \n",
      " 5   Model              325820 non-null  object\n",
      " 6   Mileage            343337 non-null  int64 \n",
      " 7   RegistrationMonth  343337 non-null  int64 \n",
      " 8   FuelType           313882 non-null  object\n",
      " 9   Brand              343337 non-null  object\n",
      " 10  NotRepaired        277479 non-null  object\n",
      " 11  NumberOfPictures   343337 non-null  int64 \n",
      " 12  PostalCode         343337 non-null  int64 \n",
      "dtypes: int64(7), object(6)\n",
      "memory usage: 36.7+ MB\n"
     ]
    }
   ],
   "source": [
    "df_cleaned = df[df.Price > 0]\n",
    "\n",
    "df_cleaned.info()"
   ]
  },
  {
   "cell_type": "markdown",
   "metadata": {},
   "source": [
    "Mejor, procedamos con lo mismo para `RegistrationYear`.\n",
    "\n",
    "#### Columna `RegistrationYear` <a class=\"anchor\" id=\"section212\"></a>\n",
    "\n",
    "Mostremos que tenemos."
   ]
  },
  {
   "cell_type": "code",
   "execution_count": 162,
   "metadata": {},
   "outputs": [
    {
     "data": {
      "text/plain": [
       "2000    23058\n",
       "1999    21970\n",
       "2005    21509\n",
       "2006    19654\n",
       "2001    19637\n",
       "        ...  \n",
       "1949        1\n",
       "2222        1\n",
       "5300        1\n",
       "8888        1\n",
       "2290        1\n",
       "Name: RegistrationYear, Length: 140, dtype: int64"
      ]
     },
     "metadata": {},
     "output_type": "display_data"
    },
    {
     "name": "stdout",
     "output_type": "stream",
     "text": [
      "Valores sorted\n",
      " [1000 1001 1039 1111 1234 1255 1300 1400 1500 1600 1602 1800 1910 1923\n",
      " 1925 1927 1928 1929 1930 1931 1932 1933 1934 1935 1936 1937 1938 1940\n",
      " 1941 1942 1943 1944 1945 1946 1947 1948 1949 1950 1951 1952 1953 1954\n",
      " 1955 1956 1957 1958 1959 1960 1961 1962 1963 1964 1965 1966 1967 1968\n",
      " 1969 1970 1971 1972 1973 1974 1975 1976 1977 1978 1979 1980 1981 1982\n",
      " 1983 1984 1985 1986 1987 1988 1989 1990 1991 1992 1993 1994 1995 1996\n",
      " 1997 1998 1999 2000 2001 2002 2003 2004 2005 2006 2007 2008 2009 2010\n",
      " 2011 2012 2013 2014 2015 2016 2017 2018 2019 2066 2200 2222 2290 2500\n",
      " 2800 2900 3000 3200 3700 3800 4000 4100 4500 4800 5000 5300 5555 5600\n",
      " 5900 5911 6000 6500 7000 7100 7800 8000 8200 8500 8888 9000 9450 9999]\n"
     ]
    },
    {
     "data": {
      "image/png": "[encoded data removed]",
      "text/plain": [
       "<Figure size 432x288 with 1 Axes>"
      ]
     },
     "metadata": {
      "needs_background": "light"
     },
     "output_type": "display_data"
    }
   ],
   "source": [
    "# Hagamos el value_counts\n",
    "display(\n",
    "    df_cleaned.RegistrationYear.value_counts()\n",
    ")\n",
    "\n",
    "# Mostremos años únicos\n",
    "print(\n",
    "    \"Valores sorted\\n\",\n",
    "    np.sort(\n",
    "        df_cleaned.RegistrationYear.unique()\n",
    "    )\n",
    ")\n",
    "\n",
    "# Un histograma para ver mejor\n",
    "fig, axes = plt.subplots()\n",
    "\n",
    "df_cleaned.RegistrationYear.hist(bins=10, ax=axes)\n",
    "\n",
    "plt.title(\"Distribución de años de registro\")\n",
    "plt.show()"
   ]
  },
  {
   "cell_type": "markdown",
   "metadata": {},
   "source": [
    "Viendo el histograma se ve todo bien, pero parece que tenemos algunos problemas con algunos años: nos quedaremos únicamente con los valores entre 1910 y 2019; los demás valores deben ser error de entrada."
   ]
  },
  {
   "cell_type": "code",
   "execution_count": 163,
   "metadata": {},
   "outputs": [
    {
     "data": {
      "text/html": [
       "<div>\n",
       "<style scoped>\n",
       "    .dataframe tbody tr th:only-of-type {\n",
       "        vertical-align: middle;\n",
       "    }\n",
       "\n",
       "    .dataframe tbody tr th {\n",
       "        vertical-align: top;\n",
       "    }\n",
       "\n",
       "    .dataframe thead th {\n",
       "        text-align: right;\n",
       "    }\n",
       "</style>\n",
       "<table border=\"1\" class=\"dataframe\">\n",
       "  <thead>\n",
       "    <tr style=\"text-align: right;\">\n",
       "      <th></th>\n",
       "      <th>Price</th>\n",
       "      <th>RegistrationYear</th>\n",
       "      <th>Power</th>\n",
       "      <th>Mileage</th>\n",
       "      <th>RegistrationMonth</th>\n",
       "      <th>NumberOfPictures</th>\n",
       "      <th>PostalCode</th>\n",
       "    </tr>\n",
       "  </thead>\n",
       "  <tbody>\n",
       "    <tr>\n",
       "      <th>count</th>\n",
       "      <td>343198.000000</td>\n",
       "      <td>343198.000000</td>\n",
       "      <td>343198.000000</td>\n",
       "      <td>343198.000000</td>\n",
       "      <td>343198.000000</td>\n",
       "      <td>343198.0</td>\n",
       "      <td>343198.000000</td>\n",
       "    </tr>\n",
       "    <tr>\n",
       "      <th>mean</th>\n",
       "      <td>4555.641225</td>\n",
       "      <td>2003.179130</td>\n",
       "      <td>110.977389</td>\n",
       "      <td>128386.179407</td>\n",
       "      <td>5.779285</td>\n",
       "      <td>0.0</td>\n",
       "      <td>50684.833117</td>\n",
       "    </tr>\n",
       "    <tr>\n",
       "      <th>std</th>\n",
       "      <td>4515.142480</td>\n",
       "      <td>7.372763</td>\n",
       "      <td>187.925533</td>\n",
       "      <td>37451.797973</td>\n",
       "      <td>3.697636</td>\n",
       "      <td>0.0</td>\n",
       "      <td>25745.527391</td>\n",
       "    </tr>\n",
       "    <tr>\n",
       "      <th>min</th>\n",
       "      <td>1.000000</td>\n",
       "      <td>1910.000000</td>\n",
       "      <td>0.000000</td>\n",
       "      <td>5000.000000</td>\n",
       "      <td>0.000000</td>\n",
       "      <td>0.0</td>\n",
       "      <td>1067.000000</td>\n",
       "    </tr>\n",
       "    <tr>\n",
       "      <th>25%</th>\n",
       "      <td>1200.000000</td>\n",
       "      <td>1999.000000</td>\n",
       "      <td>69.000000</td>\n",
       "      <td>125000.000000</td>\n",
       "      <td>3.000000</td>\n",
       "      <td>0.0</td>\n",
       "      <td>30449.000000</td>\n",
       "    </tr>\n",
       "    <tr>\n",
       "      <th>50%</th>\n",
       "      <td>2890.000000</td>\n",
       "      <td>2003.000000</td>\n",
       "      <td>105.000000</td>\n",
       "      <td>150000.000000</td>\n",
       "      <td>6.000000</td>\n",
       "      <td>0.0</td>\n",
       "      <td>49525.000000</td>\n",
       "    </tr>\n",
       "    <tr>\n",
       "      <th>75%</th>\n",
       "      <td>6500.000000</td>\n",
       "      <td>2008.000000</td>\n",
       "      <td>143.000000</td>\n",
       "      <td>150000.000000</td>\n",
       "      <td>9.000000</td>\n",
       "      <td>0.0</td>\n",
       "      <td>71229.000000</td>\n",
       "    </tr>\n",
       "    <tr>\n",
       "      <th>max</th>\n",
       "      <td>20000.000000</td>\n",
       "      <td>2019.000000</td>\n",
       "      <td>20000.000000</td>\n",
       "      <td>150000.000000</td>\n",
       "      <td>12.000000</td>\n",
       "      <td>0.0</td>\n",
       "      <td>99998.000000</td>\n",
       "    </tr>\n",
       "  </tbody>\n",
       "</table>\n",
       "</div>"
      ],
      "text/plain": [
       "               Price  RegistrationYear          Power        Mileage  \\\n",
       "count  343198.000000     343198.000000  343198.000000  343198.000000   \n",
       "mean     4555.641225       2003.179130     110.977389  128386.179407   \n",
       "std      4515.142480          7.372763     187.925533   37451.797973   \n",
       "min         1.000000       1910.000000       0.000000    5000.000000   \n",
       "25%      1200.000000       1999.000000      69.000000  125000.000000   \n",
       "50%      2890.000000       2003.000000     105.000000  150000.000000   \n",
       "75%      6500.000000       2008.000000     143.000000  150000.000000   \n",
       "max     20000.000000       2019.000000   20000.000000  150000.000000   \n",
       "\n",
       "       RegistrationMonth  NumberOfPictures     PostalCode  \n",
       "count      343198.000000          343198.0  343198.000000  \n",
       "mean            5.779285               0.0   50684.833117  \n",
       "std             3.697636               0.0   25745.527391  \n",
       "min             0.000000               0.0    1067.000000  \n",
       "25%             3.000000               0.0   30449.000000  \n",
       "50%             6.000000               0.0   49525.000000  \n",
       "75%             9.000000               0.0   71229.000000  \n",
       "max            12.000000               0.0   99998.000000  "
      ]
     },
     "metadata": {},
     "output_type": "display_data"
    },
    {
     "name": "stdout",
     "output_type": "stream",
     "text": [
      "<class 'pandas.core.frame.DataFrame'>\n",
      "Int64Index: 343198 entries, 0 to 354106\n",
      "Data columns (total 13 columns):\n",
      " #   Column             Non-Null Count   Dtype \n",
      "---  ------             --------------   ----- \n",
      " 0   Price              343198 non-null  int64 \n",
      " 1   VehicleType        309592 non-null  object\n",
      " 2   RegistrationYear   343198 non-null  int64 \n",
      " 3   Gearbox            325957 non-null  object\n",
      " 4   Power              343198 non-null  int64 \n",
      " 5   Model              325734 non-null  object\n",
      " 6   Mileage            343198 non-null  int64 \n",
      " 7   RegistrationMonth  343198 non-null  int64 \n",
      " 8   FuelType           313846 non-null  object\n",
      " 9   Brand              343198 non-null  object\n",
      " 10  NotRepaired        277458 non-null  object\n",
      " 11  NumberOfPictures   343198 non-null  int64 \n",
      " 12  PostalCode         343198 non-null  int64 \n",
      "dtypes: int64(7), object(6)\n",
      "memory usage: 36.7+ MB\n"
     ]
    }
   ],
   "source": [
    "# Limpiamos\n",
    "df_cleaned = df_cleaned[df_cleaned.RegistrationYear >= 1910]\n",
    "df_cleaned = df_cleaned[df_cleaned.RegistrationYear <= 2019]\n",
    "\n",
    "display(\n",
    "    df_cleaned.describe()\n",
    ")\n",
    "df_cleaned.info()"
   ]
  },
  {
   "cell_type": "markdown",
   "metadata": {},
   "source": [
    "Mejor, procedamos con otras columnas."
   ]
  },
  {
   "cell_type": "markdown",
   "metadata": {},
   "source": [
    "#### Columna `RegistrationMonth` <a class=\"anchor\" id=\"section213\"></a>\n",
    "Mostremos lo que sucede acá."
   ]
  },
  {
   "cell_type": "code",
   "execution_count": 164,
   "metadata": {},
   "outputs": [
    {
     "data": {
      "text/plain": [
       "3     33794\n",
       "0     32768\n",
       "6     30804\n",
       "4     28674\n",
       "5     28511\n",
       "7     26650\n",
       "10    25586\n",
       "12    23750\n",
       "11    23738\n",
       "9     23365\n",
       "1     22643\n",
       "8     22116\n",
       "2     20799\n",
       "Name: RegistrationMonth, dtype: int64"
      ]
     },
     "metadata": {},
     "output_type": "display_data"
    },
    {
     "name": "stdout",
     "output_type": "stream",
     "text": [
      "Valores sorted\n",
      " [ 0  1  2  3  4  5  6  7  8  9 10 11 12]\n"
     ]
    },
    {
     "data": {
      "image/png": "[encoded data removed]",
      "text/plain": [
       "<Figure size 432x288 with 1 Axes>"
      ]
     },
     "metadata": {
      "needs_background": "light"
     },
     "output_type": "display_data"
    }
   ],
   "source": [
    "# Hagamos el value_counts\n",
    "display(\n",
    "    df_cleaned.RegistrationMonth.value_counts()\n",
    ")\n",
    "\n",
    "# Mostremos años únicos\n",
    "print(\n",
    "    \"Valores sorted\\n\",\n",
    "    np.sort(\n",
    "        df_cleaned.RegistrationMonth.unique()\n",
    "    )\n",
    ")\n",
    "\n",
    "# Un histograma para ver mejor\n",
    "fig, axes = plt.subplots()\n",
    "\n",
    "df_cleaned.RegistrationMonth.hist(bins=10, ax=axes)\n",
    "\n",
    "plt.title(\"Distribución de años de registro\")\n",
    "plt.show()"
   ]
  },
  {
   "cell_type": "markdown",
   "metadata": {},
   "source": [
    "Parece que tenemos bastantes entradas en donde el mes de registro es cero, lo cual no tiene sentido; también, por su parte, el tener el año debería ser suficiente nivel de granularidad: por lo anterior, mejor removeremos la columna de mes."
   ]
  },
  {
   "cell_type": "code",
   "execution_count": 165,
   "metadata": {},
   "outputs": [
    {
     "name": "stdout",
     "output_type": "stream",
     "text": [
      "<class 'pandas.core.frame.DataFrame'>\n",
      "Int64Index: 343198 entries, 0 to 354106\n",
      "Data columns (total 12 columns):\n",
      " #   Column            Non-Null Count   Dtype \n",
      "---  ------            --------------   ----- \n",
      " 0   Price             343198 non-null  int64 \n",
      " 1   VehicleType       309592 non-null  object\n",
      " 2   RegistrationYear  343198 non-null  int64 \n",
      " 3   Gearbox           325957 non-null  object\n",
      " 4   Power             343198 non-null  int64 \n",
      " 5   Model             325734 non-null  object\n",
      " 6   Mileage           343198 non-null  int64 \n",
      " 7   FuelType          313846 non-null  object\n",
      " 8   Brand             343198 non-null  object\n",
      " 9   NotRepaired       277458 non-null  object\n",
      " 10  NumberOfPictures  343198 non-null  int64 \n",
      " 11  PostalCode        343198 non-null  int64 \n",
      "dtypes: int64(6), object(6)\n",
      "memory usage: 34.0+ MB\n"
     ]
    }
   ],
   "source": [
    "# Limpiamos\n",
    "#df_cleaned = df_cleaned[df_cleaned.RegistrationMonth > 0 ]\n",
    "df_cleaned = df_cleaned.drop(\"RegistrationMonth\", axis=1)\n",
    "#display(\n",
    "#    df_cleaned.describe()\n",
    "#)\n",
    "\n",
    "df_cleaned.info()"
   ]
  },
  {
   "cell_type": "markdown",
   "metadata": {},
   "source": [
    "Veamos que sucede con la columna Power.\n",
    "\n",
    "#### Columna `Power` <a class=\"anchor\" id=\"section214\"></a>\n",
    "\n",
    "Mostremos."
   ]
  },
  {
   "cell_type": "code",
   "execution_count": 166,
   "metadata": {},
   "outputs": [
    {
     "data": {
      "image/png": "[encoded data removed]",
      "text/plain": [
       "<Figure size 720x360 with 2 Axes>"
      ]
     },
     "metadata": {
      "needs_background": "light"
     },
     "output_type": "display_data"
    }
   ],
   "source": [
    "# Un histograma para ver mejor\n",
    "fig, axes = plt.subplots(1,2, figsize=(10,5))\n",
    "\n",
    "df_cleaned.Power.hist(bins=100, ax=axes[0])\n",
    "df_cleaned.boxplot(column = [\"Power\"], ax=axes[1])\n",
    "\n",
    "axes[0].set_title(\"Distribución de Poder\")\n",
    "axes[1].set_title(\"Boxplot de Poder\")\n",
    "plt.show()"
   ]
  },
  {
   "cell_type": "markdown",
   "metadata": {},
   "source": [
    "La mitad de nuestros registros se hallan entre 75 y 143 CVs, por lo cual el histograma se ve concentrado cerca del cero. No tiene sentido el valor de cero, y en el otro lado del espectro, los valores mucho mayores no tienen sentido en el mundo real: solo un ejemplo, el FORD Mustang de hace unos años con 750 CVs era el más potente de su momento. Mostremos los 10 valores más altos para tener un mejor vistazo."
   ]
  },
  {
   "cell_type": "markdown",
   "metadata": {},
   "source": [
    "Ahora, mostremos los valores con los mayores en Power primero."
   ]
  },
  {
   "cell_type": "code",
   "execution_count": 167,
   "metadata": {},
   "outputs": [
    {
     "data": {
      "text/html": [
       "<div>\n",
       "<style scoped>\n",
       "    .dataframe tbody tr th:only-of-type {\n",
       "        vertical-align: middle;\n",
       "    }\n",
       "\n",
       "    .dataframe tbody tr th {\n",
       "        vertical-align: top;\n",
       "    }\n",
       "\n",
       "    .dataframe thead th {\n",
       "        text-align: right;\n",
       "    }\n",
       "</style>\n",
       "<table border=\"1\" class=\"dataframe\">\n",
       "  <thead>\n",
       "    <tr style=\"text-align: right;\">\n",
       "      <th></th>\n",
       "      <th>Price</th>\n",
       "      <th>VehicleType</th>\n",
       "      <th>RegistrationYear</th>\n",
       "      <th>Gearbox</th>\n",
       "      <th>Power</th>\n",
       "      <th>Model</th>\n",
       "      <th>Mileage</th>\n",
       "      <th>FuelType</th>\n",
       "      <th>Brand</th>\n",
       "      <th>NotRepaired</th>\n",
       "      <th>NumberOfPictures</th>\n",
       "      <th>PostalCode</th>\n",
       "    </tr>\n",
       "  </thead>\n",
       "  <tbody>\n",
       "    <tr>\n",
       "      <th>219474</th>\n",
       "      <td>4300</td>\n",
       "      <td>coupe</td>\n",
       "      <td>1999</td>\n",
       "      <td>auto</td>\n",
       "      <td>20000</td>\n",
       "      <td>clk</td>\n",
       "      <td>150000</td>\n",
       "      <td>petrol</td>\n",
       "      <td>mercedes_benz</td>\n",
       "      <td>no</td>\n",
       "      <td>0</td>\n",
       "      <td>19406</td>\n",
       "    </tr>\n",
       "    <tr>\n",
       "      <th>298993</th>\n",
       "      <td>1500</td>\n",
       "      <td>wagon</td>\n",
       "      <td>1997</td>\n",
       "      <td>manual</td>\n",
       "      <td>19312</td>\n",
       "      <td>5er</td>\n",
       "      <td>150000</td>\n",
       "      <td>NaN</td>\n",
       "      <td>bmw</td>\n",
       "      <td>no</td>\n",
       "      <td>0</td>\n",
       "      <td>21129</td>\n",
       "    </tr>\n",
       "    <tr>\n",
       "      <th>114074</th>\n",
       "      <td>9999</td>\n",
       "      <td>sedan</td>\n",
       "      <td>2006</td>\n",
       "      <td>manual</td>\n",
       "      <td>19211</td>\n",
       "      <td>1er</td>\n",
       "      <td>125000</td>\n",
       "      <td>gasoline</td>\n",
       "      <td>bmw</td>\n",
       "      <td>NaN</td>\n",
       "      <td>0</td>\n",
       "      <td>45964</td>\n",
       "    </tr>\n",
       "    <tr>\n",
       "      <th>132446</th>\n",
       "      <td>2100</td>\n",
       "      <td>wagon</td>\n",
       "      <td>2001</td>\n",
       "      <td>manual</td>\n",
       "      <td>19208</td>\n",
       "      <td>5er</td>\n",
       "      <td>150000</td>\n",
       "      <td>NaN</td>\n",
       "      <td>bmw</td>\n",
       "      <td>yes</td>\n",
       "      <td>0</td>\n",
       "      <td>59556</td>\n",
       "    </tr>\n",
       "    <tr>\n",
       "      <th>63972</th>\n",
       "      <td>3250</td>\n",
       "      <td>sedan</td>\n",
       "      <td>2001</td>\n",
       "      <td>auto</td>\n",
       "      <td>17932</td>\n",
       "      <td>omega</td>\n",
       "      <td>150000</td>\n",
       "      <td>petrol</td>\n",
       "      <td>opel</td>\n",
       "      <td>NaN</td>\n",
       "      <td>0</td>\n",
       "      <td>86641</td>\n",
       "    </tr>\n",
       "    <tr>\n",
       "      <th>196439</th>\n",
       "      <td>6000</td>\n",
       "      <td>wagon</td>\n",
       "      <td>2004</td>\n",
       "      <td>auto</td>\n",
       "      <td>17700</td>\n",
       "      <td>5er</td>\n",
       "      <td>150000</td>\n",
       "      <td>gasoline</td>\n",
       "      <td>bmw</td>\n",
       "      <td>no</td>\n",
       "      <td>0</td>\n",
       "      <td>26316</td>\n",
       "    </tr>\n",
       "    <tr>\n",
       "      <th>150629</th>\n",
       "      <td>1700</td>\n",
       "      <td>wagon</td>\n",
       "      <td>1995</td>\n",
       "      <td>manual</td>\n",
       "      <td>17410</td>\n",
       "      <td>80</td>\n",
       "      <td>5000</td>\n",
       "      <td>petrol</td>\n",
       "      <td>audi</td>\n",
       "      <td>yes</td>\n",
       "      <td>0</td>\n",
       "      <td>23562</td>\n",
       "    </tr>\n",
       "    <tr>\n",
       "      <th>187247</th>\n",
       "      <td>1749</td>\n",
       "      <td>wagon</td>\n",
       "      <td>1989</td>\n",
       "      <td>manual</td>\n",
       "      <td>17019</td>\n",
       "      <td>3er</td>\n",
       "      <td>5000</td>\n",
       "      <td>petrol</td>\n",
       "      <td>bmw</td>\n",
       "      <td>NaN</td>\n",
       "      <td>0</td>\n",
       "      <td>89542</td>\n",
       "    </tr>\n",
       "    <tr>\n",
       "      <th>175347</th>\n",
       "      <td>10900</td>\n",
       "      <td>sedan</td>\n",
       "      <td>2007</td>\n",
       "      <td>auto</td>\n",
       "      <td>17011</td>\n",
       "      <td>a3</td>\n",
       "      <td>5000</td>\n",
       "      <td>gasoline</td>\n",
       "      <td>audi</td>\n",
       "      <td>NaN</td>\n",
       "      <td>0</td>\n",
       "      <td>12355</td>\n",
       "    </tr>\n",
       "    <tr>\n",
       "      <th>216886</th>\n",
       "      <td>11950</td>\n",
       "      <td>convertible</td>\n",
       "      <td>2008</td>\n",
       "      <td>manual</td>\n",
       "      <td>16312</td>\n",
       "      <td>a4</td>\n",
       "      <td>20000</td>\n",
       "      <td>petrol</td>\n",
       "      <td>audi</td>\n",
       "      <td>no</td>\n",
       "      <td>0</td>\n",
       "      <td>51647</td>\n",
       "    </tr>\n",
       "  </tbody>\n",
       "</table>\n",
       "</div>"
      ],
      "text/plain": [
       "        Price  VehicleType  RegistrationYear Gearbox  Power  Model  Mileage  \\\n",
       "219474   4300        coupe              1999    auto  20000    clk   150000   \n",
       "298993   1500        wagon              1997  manual  19312    5er   150000   \n",
       "114074   9999        sedan              2006  manual  19211    1er   125000   \n",
       "132446   2100        wagon              2001  manual  19208    5er   150000   \n",
       "63972    3250        sedan              2001    auto  17932  omega   150000   \n",
       "196439   6000        wagon              2004    auto  17700    5er   150000   \n",
       "150629   1700        wagon              1995  manual  17410     80     5000   \n",
       "187247   1749        wagon              1989  manual  17019    3er     5000   \n",
       "175347  10900        sedan              2007    auto  17011     a3     5000   \n",
       "216886  11950  convertible              2008  manual  16312     a4    20000   \n",
       "\n",
       "        FuelType          Brand NotRepaired  NumberOfPictures  PostalCode  \n",
       "219474    petrol  mercedes_benz          no                 0       19406  \n",
       "298993       NaN            bmw          no                 0       21129  \n",
       "114074  gasoline            bmw         NaN                 0       45964  \n",
       "132446       NaN            bmw         yes                 0       59556  \n",
       "63972     petrol           opel         NaN                 0       86641  \n",
       "196439  gasoline            bmw          no                 0       26316  \n",
       "150629    petrol           audi         yes                 0       23562  \n",
       "187247    petrol            bmw         NaN                 0       89542  \n",
       "175347  gasoline           audi         NaN                 0       12355  \n",
       "216886    petrol           audi          no                 0       51647  "
      ]
     },
     "execution_count": 167,
     "metadata": {},
     "output_type": "execute_result"
    }
   ],
   "source": [
    "df_cleaned.sort_values(\"Power\", ascending=False).head(n=10)"
   ]
  },
  {
   "cell_type": "markdown",
   "metadata": {},
   "source": [
    "Algunos de estos valores para `power` no tienen mucho sentido: una búsqueda rápida del modelo \"clk\" indica que tiene algo así como 150 CVs, no 20 mil. Procederemos a analizar que sucede con los valores dividiendolos en unos cuantos conjuntos y contando cuantos son."
   ]
  },
  {
   "cell_type": "code",
   "execution_count": 168,
   "metadata": {},
   "outputs": [
    {
     "data": {
      "image/png": "[encoded data removed]",
      "text/plain": [
       "<Figure size 720x360 with 1 Axes>"
      ]
     },
     "metadata": {
      "needs_background": "light"
     },
     "output_type": "display_data"
    }
   ],
   "source": [
    "# Dividamos en bins y ploteemos.\n",
    "#df_cleaned.query(\"Power <= 200000 & Power >= 2000\").info()\n",
    "\n",
    "bin_cut = pd.cut(df_cleaned.Power, bins= [0,25,50,100,200, 300, 500, 1000, 2000, 20000])\n",
    "\n",
    "#out = pd.cut(s, bins=[0, 0.35, 0.7, 1], include_lowest=True)\n",
    "ax = bin_cut.value_counts(sort=False).plot.bar(rot=30, color=\"b\", figsize=(10,5))\n",
    "#ax.set_xticklabels([c[1:-1].replace(\",\",\" to\") for c in out.cat.categories])\n",
    "plt.title(\"Segmentación de Power en intervalos.\")\n",
    "plt.show()"
   ]
  },
  {
   "cell_type": "markdown",
   "metadata": {},
   "source": [
    "Los tres grupos más importantes, de 50 a 300 CVs son los que tienen la mayor cantidad de valores (y son valores realistas, por ejemplo hay modelos de Seat Ibiza con ~60 CVs). Nos quedaremos solo con esos para continuar nuestro estudio."
   ]
  },
  {
   "cell_type": "code",
   "execution_count": 169,
   "metadata": {},
   "outputs": [
    {
     "name": "stdout",
     "output_type": "stream",
     "text": [
      "<class 'pandas.core.frame.DataFrame'>\n",
      "RangeIndex: 297844 entries, 0 to 297843\n",
      "Data columns (total 12 columns):\n",
      " #   Column            Non-Null Count   Dtype \n",
      "---  ------            --------------   ----- \n",
      " 0   Price             297844 non-null  int64 \n",
      " 1   VehicleType       277284 non-null  object\n",
      " 2   RegistrationYear  297844 non-null  int64 \n",
      " 3   Gearbox           292236 non-null  object\n",
      " 4   Power             297844 non-null  int64 \n",
      " 5   Model             286304 non-null  object\n",
      " 6   Mileage           297844 non-null  int64 \n",
      " 7   FuelType          278977 non-null  object\n",
      " 8   Brand             297844 non-null  object\n",
      " 9   NotRepaired       252699 non-null  object\n",
      " 10  NumberOfPictures  297844 non-null  int64 \n",
      " 11  PostalCode        297844 non-null  int64 \n",
      "dtypes: int64(6), object(6)\n",
      "memory usage: 27.3+ MB\n"
     ]
    }
   ],
   "source": [
    "#df_cleaned = df_cleaned.drop(\"Power\", axis=1)\n",
    "\n",
    "df_cleaned = df_cleaned.query(\"Power <= 300 & Power >= 50\").reset_index(drop=True)\n",
    "\n",
    "df_cleaned.info()"
   ]
  },
  {
   "cell_type": "markdown",
   "metadata": {},
   "source": [
    "Podemos proceder a ver que sucede con la columna `NumberOfPictures`.\n",
    "\n",
    "#### Columna `NumberOfPictures` <a class=\"anchor\" id=\"section215\"></a>\n",
    "Veamos que tenemos."
   ]
  },
  {
   "cell_type": "code",
   "execution_count": 170,
   "metadata": {},
   "outputs": [
    {
     "data": {
      "text/plain": [
       "0    297844\n",
       "Name: NumberOfPictures, dtype: int64"
      ]
     },
     "execution_count": 170,
     "metadata": {},
     "output_type": "execute_result"
    }
   ],
   "source": [
    "df_cleaned.NumberOfPictures.value_counts()"
   ]
  },
  {
   "cell_type": "markdown",
   "metadata": {},
   "source": [
    "Esta columna solo tiene ceros, no tiene sentido conservarla: la removemos."
   ]
  },
  {
   "cell_type": "code",
   "execution_count": 171,
   "metadata": {},
   "outputs": [],
   "source": [
    "df_cleaned = df_cleaned.drop(\"NumberOfPictures\", axis=1)"
   ]
  },
  {
   "cell_type": "markdown",
   "metadata": {},
   "source": [
    "Hemos hecho todo lo posible en estos campos, procedamos a la limpieza de valores nulos."
   ]
  },
  {
   "cell_type": "markdown",
   "metadata": {},
   "source": [
    "### Limpieza de nulos <a class=\"anchor\" id=\"section22\"></a>\n",
    "\n",
    "#### Columna `model` <a class=\"anchor\" id=\"section221\"></a>\n",
    "\n",
    "Empecemos con `model` ya que si no se sabe el modelo de un vehículo, realmente no se sabe de que tipo de automóvil se habla: veamos que tenemos ahí."
   ]
  },
  {
   "cell_type": "code",
   "execution_count": 172,
   "metadata": {},
   "outputs": [
    {
     "data": {
      "text/html": [
       "<div>\n",
       "<style scoped>\n",
       "    .dataframe tbody tr th:only-of-type {\n",
       "        vertical-align: middle;\n",
       "    }\n",
       "\n",
       "    .dataframe tbody tr th {\n",
       "        vertical-align: top;\n",
       "    }\n",
       "\n",
       "    .dataframe thead th {\n",
       "        text-align: right;\n",
       "    }\n",
       "</style>\n",
       "<table border=\"1\" class=\"dataframe\">\n",
       "  <thead>\n",
       "    <tr style=\"text-align: right;\">\n",
       "      <th></th>\n",
       "      <th>Price</th>\n",
       "      <th>VehicleType</th>\n",
       "      <th>RegistrationYear</th>\n",
       "      <th>Gearbox</th>\n",
       "      <th>Power</th>\n",
       "      <th>Model</th>\n",
       "      <th>Mileage</th>\n",
       "      <th>FuelType</th>\n",
       "      <th>Brand</th>\n",
       "      <th>NotRepaired</th>\n",
       "      <th>PostalCode</th>\n",
       "    </tr>\n",
       "  </thead>\n",
       "  <tbody>\n",
       "    <tr>\n",
       "      <th>148689</th>\n",
       "      <td>300</td>\n",
       "      <td>NaN</td>\n",
       "      <td>1995</td>\n",
       "      <td>manual</td>\n",
       "      <td>90</td>\n",
       "      <td>NaN</td>\n",
       "      <td>150000</td>\n",
       "      <td>petrol</td>\n",
       "      <td>volkswagen</td>\n",
       "      <td>NaN</td>\n",
       "      <td>4159</td>\n",
       "    </tr>\n",
       "    <tr>\n",
       "      <th>252609</th>\n",
       "      <td>1350</td>\n",
       "      <td>small</td>\n",
       "      <td>2001</td>\n",
       "      <td>manual</td>\n",
       "      <td>60</td>\n",
       "      <td>NaN</td>\n",
       "      <td>150000</td>\n",
       "      <td>NaN</td>\n",
       "      <td>volkswagen</td>\n",
       "      <td>no</td>\n",
       "      <td>45888</td>\n",
       "    </tr>\n",
       "    <tr>\n",
       "      <th>223764</th>\n",
       "      <td>800</td>\n",
       "      <td>small</td>\n",
       "      <td>1999</td>\n",
       "      <td>manual</td>\n",
       "      <td>50</td>\n",
       "      <td>NaN</td>\n",
       "      <td>150000</td>\n",
       "      <td>petrol</td>\n",
       "      <td>volkswagen</td>\n",
       "      <td>NaN</td>\n",
       "      <td>22549</td>\n",
       "    </tr>\n",
       "    <tr>\n",
       "      <th>17797</th>\n",
       "      <td>550</td>\n",
       "      <td>NaN</td>\n",
       "      <td>2017</td>\n",
       "      <td>manual</td>\n",
       "      <td>60</td>\n",
       "      <td>NaN</td>\n",
       "      <td>150000</td>\n",
       "      <td>petrol</td>\n",
       "      <td>sonstige_autos</td>\n",
       "      <td>NaN</td>\n",
       "      <td>96247</td>\n",
       "    </tr>\n",
       "    <tr>\n",
       "      <th>47572</th>\n",
       "      <td>3500</td>\n",
       "      <td>suv</td>\n",
       "      <td>1999</td>\n",
       "      <td>manual</td>\n",
       "      <td>128</td>\n",
       "      <td>NaN</td>\n",
       "      <td>150000</td>\n",
       "      <td>petrol</td>\n",
       "      <td>toyota</td>\n",
       "      <td>NaN</td>\n",
       "      <td>26789</td>\n",
       "    </tr>\n",
       "  </tbody>\n",
       "</table>\n",
       "</div>"
      ],
      "text/plain": [
       "        Price VehicleType  RegistrationYear Gearbox  Power Model  Mileage  \\\n",
       "148689    300         NaN              1995  manual     90   NaN   150000   \n",
       "252609   1350       small              2001  manual     60   NaN   150000   \n",
       "223764    800       small              1999  manual     50   NaN   150000   \n",
       "17797     550         NaN              2017  manual     60   NaN   150000   \n",
       "47572    3500         suv              1999  manual    128   NaN   150000   \n",
       "\n",
       "       FuelType           Brand NotRepaired  PostalCode  \n",
       "148689   petrol      volkswagen         NaN        4159  \n",
       "252609      NaN      volkswagen          no       45888  \n",
       "223764   petrol      volkswagen         NaN       22549  \n",
       "17797    petrol  sonstige_autos         NaN       96247  \n",
       "47572    petrol          toyota         NaN       26789  "
      ]
     },
     "metadata": {},
     "output_type": "display_data"
    },
    {
     "name": "stdout",
     "output_type": "stream",
     "text": [
      "<class 'pandas.core.frame.DataFrame'>\n",
      "Int64Index: 11540 entries, 0 to 297830\n",
      "Data columns (total 11 columns):\n",
      " #   Column            Non-Null Count  Dtype \n",
      "---  ------            --------------  ----- \n",
      " 0   Price             11540 non-null  int64 \n",
      " 1   VehicleType       8872 non-null   object\n",
      " 2   RegistrationYear  11540 non-null  int64 \n",
      " 3   Gearbox           10814 non-null  object\n",
      " 4   Power             11540 non-null  int64 \n",
      " 5   Model             0 non-null      object\n",
      " 6   Mileage           11540 non-null  int64 \n",
      " 7   FuelType          8361 non-null   object\n",
      " 8   Brand             11540 non-null  object\n",
      " 9   NotRepaired       7522 non-null   object\n",
      " 10  PostalCode        11540 non-null  int64 \n",
      "dtypes: int64(5), object(6)\n",
      "memory usage: 1.1+ MB\n"
     ]
    }
   ],
   "source": [
    "display(\n",
    "    df_cleaned[df_cleaned.Model.isnull()].sample(n=5, random_state=1)\n",
    ")\n",
    "\n",
    "df_cleaned[df_cleaned.Model.isnull()].info()"
   ]
  },
  {
   "cell_type": "markdown",
   "metadata": {},
   "source": [
    "Reemplacemos los modelos nulos con una nueva categoría: `unknown`."
   ]
  },
  {
   "cell_type": "code",
   "execution_count": 173,
   "metadata": {},
   "outputs": [
    {
     "name": "stdout",
     "output_type": "stream",
     "text": [
      "<class 'pandas.core.frame.DataFrame'>\n",
      "RangeIndex: 297844 entries, 0 to 297843\n",
      "Data columns (total 11 columns):\n",
      " #   Column            Non-Null Count   Dtype \n",
      "---  ------            --------------   ----- \n",
      " 0   Price             297844 non-null  int64 \n",
      " 1   VehicleType       277284 non-null  object\n",
      " 2   RegistrationYear  297844 non-null  int64 \n",
      " 3   Gearbox           292236 non-null  object\n",
      " 4   Power             297844 non-null  int64 \n",
      " 5   Model             297844 non-null  object\n",
      " 6   Mileage           297844 non-null  int64 \n",
      " 7   FuelType          278977 non-null  object\n",
      " 8   Brand             297844 non-null  object\n",
      " 9   NotRepaired       252699 non-null  object\n",
      " 10  PostalCode        297844 non-null  int64 \n",
      "dtypes: int64(5), object(6)\n",
      "memory usage: 25.0+ MB\n"
     ]
    }
   ],
   "source": [
    "# Quitamos los models nulos y mostramos\n",
    "#df_cleaned = df_cleaned.dropna(subset=[\"Model\"])\n",
    "\n",
    "# Imputamos\n",
    "df_cleaned.Model = df_cleaned.Model.fillna(\"unknown\")\n",
    "\n",
    "# Vemos el resultado\n",
    "df_cleaned.info()"
   ]
  },
  {
   "cell_type": "markdown",
   "metadata": {},
   "source": [
    "Se ve un poco mejor, ahora observemos que sucede con NotRepaired ya que es el que tiene más valores nulos:\n",
    "\n",
    "#### Columna  `NotRepaired` <a class=\"anchor\" id=\"section222\"></a>\n",
    "Primero un conteo de valores."
   ]
  },
  {
   "cell_type": "code",
   "execution_count": 174,
   "metadata": {},
   "outputs": [
    {
     "data": {
      "text/plain": [
       "no     224020\n",
       "NaN     45145\n",
       "yes     28679\n",
       "Name: NotRepaired, dtype: int64"
      ]
     },
     "execution_count": 174,
     "metadata": {},
     "output_type": "execute_result"
    }
   ],
   "source": [
    "df_cleaned.NotRepaired.value_counts(dropna=False)"
   ]
  },
  {
   "cell_type": "markdown",
   "metadata": {},
   "source": [
    "Tenemos 42612 valores nulos, aquí podríamos intentar imputar en relación a otros valores como el año y modelo, pero otra opción es considerar una categoría nueva: _unknown_, que simplemente indica que no se sabía el valor."
   ]
  },
  {
   "cell_type": "code",
   "execution_count": 175,
   "metadata": {},
   "outputs": [
    {
     "name": "stdout",
     "output_type": "stream",
     "text": [
      "<class 'pandas.core.frame.DataFrame'>\n",
      "RangeIndex: 297844 entries, 0 to 297843\n",
      "Data columns (total 11 columns):\n",
      " #   Column            Non-Null Count   Dtype \n",
      "---  ------            --------------   ----- \n",
      " 0   Price             297844 non-null  int64 \n",
      " 1   VehicleType       277284 non-null  object\n",
      " 2   RegistrationYear  297844 non-null  int64 \n",
      " 3   Gearbox           292236 non-null  object\n",
      " 4   Power             297844 non-null  int64 \n",
      " 5   Model             297844 non-null  object\n",
      " 6   Mileage           297844 non-null  int64 \n",
      " 7   FuelType          278977 non-null  object\n",
      " 8   Brand             297844 non-null  object\n",
      " 9   NotRepaired       297844 non-null  object\n",
      " 10  PostalCode        297844 non-null  int64 \n",
      "dtypes: int64(5), object(6)\n",
      "memory usage: 25.0+ MB\n"
     ]
    }
   ],
   "source": [
    "# Imputamos\n",
    "df_cleaned.NotRepaired = df_cleaned.NotRepaired.fillna(\"unknown\")\n",
    "\n",
    "# Vemos el resultado\n",
    "df_cleaned.info()"
   ]
  },
  {
   "cell_type": "markdown",
   "metadata": {},
   "source": [
    "Para el resto de valores podemos imputar si existe alguna entrada similar.\n",
    "\n",
    "#### Columna `VehicleType` <a class=\"anchor\" id=\"section223\"></a>\n",
    "Definamos una función de imputación."
   ]
  },
  {
   "cell_type": "code",
   "execution_count": 176,
   "metadata": {},
   "outputs": [],
   "source": [
    "# Formula de imputación\n",
    "\n",
    "def function_imputation(dataset, null_field):\n",
    "    df_nulls = dataset[dataset[null_field].isnull()]\n",
    "    df_not_nulls = dataset[~dataset[null_field].isnull()].drop_duplicates(subset=[\"Model\", \"Brand\"])\n",
    "    \n",
    "    df_return = dataset.copy()\n",
    "    \n",
    "    for index, row in tqdm(df_nulls.iterrows()):\n",
    "        try:\n",
    "            match = df_not_nulls.query(\n",
    "                \"Model == @row['Model'] & Brand == @row['Brand']\"\n",
    "            ).iloc[0]\n",
    "            \n",
    "            #print(index, match.Model, \"-\", match.Brand)\n",
    "            df_return.loc[index, null_field] = match[null_field]\n",
    "        except:\n",
    "            None\n",
    "            \n",
    "    return df_return"
   ]
  },
  {
   "cell_type": "code",
   "execution_count": 177,
   "metadata": {},
   "outputs": [
    {
     "data": {
      "text/html": [
       "<div>\n",
       "<style scoped>\n",
       "    .dataframe tbody tr th:only-of-type {\n",
       "        vertical-align: middle;\n",
       "    }\n",
       "\n",
       "    .dataframe tbody tr th {\n",
       "        vertical-align: top;\n",
       "    }\n",
       "\n",
       "    .dataframe thead th {\n",
       "        text-align: right;\n",
       "    }\n",
       "</style>\n",
       "<table border=\"1\" class=\"dataframe\">\n",
       "  <thead>\n",
       "    <tr style=\"text-align: right;\">\n",
       "      <th></th>\n",
       "      <th>Price</th>\n",
       "      <th>VehicleType</th>\n",
       "      <th>RegistrationYear</th>\n",
       "      <th>Gearbox</th>\n",
       "      <th>Power</th>\n",
       "      <th>Model</th>\n",
       "      <th>Mileage</th>\n",
       "      <th>FuelType</th>\n",
       "      <th>Brand</th>\n",
       "      <th>NotRepaired</th>\n",
       "      <th>PostalCode</th>\n",
       "    </tr>\n",
       "  </thead>\n",
       "  <tbody>\n",
       "    <tr>\n",
       "      <th>0</th>\n",
       "      <td>18300</td>\n",
       "      <td>coupe</td>\n",
       "      <td>2011</td>\n",
       "      <td>manual</td>\n",
       "      <td>190</td>\n",
       "      <td>unknown</td>\n",
       "      <td>125000</td>\n",
       "      <td>gasoline</td>\n",
       "      <td>audi</td>\n",
       "      <td>yes</td>\n",
       "      <td>66954</td>\n",
       "    </tr>\n",
       "    <tr>\n",
       "      <th>1</th>\n",
       "      <td>9800</td>\n",
       "      <td>suv</td>\n",
       "      <td>2004</td>\n",
       "      <td>auto</td>\n",
       "      <td>163</td>\n",
       "      <td>grand</td>\n",
       "      <td>125000</td>\n",
       "      <td>gasoline</td>\n",
       "      <td>jeep</td>\n",
       "      <td>unknown</td>\n",
       "      <td>90480</td>\n",
       "    </tr>\n",
       "    <tr>\n",
       "      <th>2</th>\n",
       "      <td>1500</td>\n",
       "      <td>small</td>\n",
       "      <td>2001</td>\n",
       "      <td>manual</td>\n",
       "      <td>75</td>\n",
       "      <td>golf</td>\n",
       "      <td>150000</td>\n",
       "      <td>petrol</td>\n",
       "      <td>volkswagen</td>\n",
       "      <td>no</td>\n",
       "      <td>91074</td>\n",
       "    </tr>\n",
       "    <tr>\n",
       "      <th>3</th>\n",
       "      <td>3600</td>\n",
       "      <td>small</td>\n",
       "      <td>2008</td>\n",
       "      <td>manual</td>\n",
       "      <td>69</td>\n",
       "      <td>fabia</td>\n",
       "      <td>90000</td>\n",
       "      <td>gasoline</td>\n",
       "      <td>skoda</td>\n",
       "      <td>no</td>\n",
       "      <td>60437</td>\n",
       "    </tr>\n",
       "    <tr>\n",
       "      <th>4</th>\n",
       "      <td>650</td>\n",
       "      <td>sedan</td>\n",
       "      <td>1995</td>\n",
       "      <td>manual</td>\n",
       "      <td>102</td>\n",
       "      <td>3er</td>\n",
       "      <td>150000</td>\n",
       "      <td>petrol</td>\n",
       "      <td>bmw</td>\n",
       "      <td>yes</td>\n",
       "      <td>33775</td>\n",
       "    </tr>\n",
       "    <tr>\n",
       "      <th>...</th>\n",
       "      <td>...</td>\n",
       "      <td>...</td>\n",
       "      <td>...</td>\n",
       "      <td>...</td>\n",
       "      <td>...</td>\n",
       "      <td>...</td>\n",
       "      <td>...</td>\n",
       "      <td>...</td>\n",
       "      <td>...</td>\n",
       "      <td>...</td>\n",
       "      <td>...</td>\n",
       "    </tr>\n",
       "    <tr>\n",
       "      <th>93510</th>\n",
       "      <td>12500</td>\n",
       "      <td>suv</td>\n",
       "      <td>1975</td>\n",
       "      <td>manual</td>\n",
       "      <td>69</td>\n",
       "      <td>serie_3</td>\n",
       "      <td>70000</td>\n",
       "      <td>petrol</td>\n",
       "      <td>land_rover</td>\n",
       "      <td>no</td>\n",
       "      <td>24960</td>\n",
       "    </tr>\n",
       "    <tr>\n",
       "      <th>94239</th>\n",
       "      <td>4800</td>\n",
       "      <td>sedan</td>\n",
       "      <td>1974</td>\n",
       "      <td>manual</td>\n",
       "      <td>75</td>\n",
       "      <td>unknown</td>\n",
       "      <td>100000</td>\n",
       "      <td>NaN</td>\n",
       "      <td>lada</td>\n",
       "      <td>yes</td>\n",
       "      <td>96515</td>\n",
       "    </tr>\n",
       "    <tr>\n",
       "      <th>142645</th>\n",
       "      <td>1950</td>\n",
       "      <td>suv</td>\n",
       "      <td>2000</td>\n",
       "      <td>auto</td>\n",
       "      <td>177</td>\n",
       "      <td>freelander</td>\n",
       "      <td>150000</td>\n",
       "      <td>petrol</td>\n",
       "      <td>rover</td>\n",
       "      <td>no</td>\n",
       "      <td>83278</td>\n",
       "    </tr>\n",
       "    <tr>\n",
       "      <th>180350</th>\n",
       "      <td>1400</td>\n",
       "      <td>sedan</td>\n",
       "      <td>1987</td>\n",
       "      <td>manual</td>\n",
       "      <td>55</td>\n",
       "      <td>other</td>\n",
       "      <td>70000</td>\n",
       "      <td>petrol</td>\n",
       "      <td>trabant</td>\n",
       "      <td>unknown</td>\n",
       "      <td>15748</td>\n",
       "    </tr>\n",
       "    <tr>\n",
       "      <th>226533</th>\n",
       "      <td>550</td>\n",
       "      <td>small</td>\n",
       "      <td>1997</td>\n",
       "      <td>manual</td>\n",
       "      <td>75</td>\n",
       "      <td>defender</td>\n",
       "      <td>150000</td>\n",
       "      <td>petrol</td>\n",
       "      <td>rover</td>\n",
       "      <td>no</td>\n",
       "      <td>88518</td>\n",
       "    </tr>\n",
       "  </tbody>\n",
       "</table>\n",
       "<p>336 rows × 11 columns</p>\n",
       "</div>"
      ],
      "text/plain": [
       "        Price VehicleType  RegistrationYear Gearbox  Power       Model  \\\n",
       "0       18300       coupe              2011  manual    190     unknown   \n",
       "1        9800         suv              2004    auto    163       grand   \n",
       "2        1500       small              2001  manual     75        golf   \n",
       "3        3600       small              2008  manual     69       fabia   \n",
       "4         650       sedan              1995  manual    102         3er   \n",
       "...       ...         ...               ...     ...    ...         ...   \n",
       "93510   12500         suv              1975  manual     69     serie_3   \n",
       "94239    4800       sedan              1974  manual     75     unknown   \n",
       "142645   1950         suv              2000    auto    177  freelander   \n",
       "180350   1400       sedan              1987  manual     55       other   \n",
       "226533    550       small              1997  manual     75    defender   \n",
       "\n",
       "        Mileage  FuelType       Brand NotRepaired  PostalCode  \n",
       "0        125000  gasoline        audi         yes       66954  \n",
       "1        125000  gasoline        jeep     unknown       90480  \n",
       "2        150000    petrol  volkswagen          no       91074  \n",
       "3         90000  gasoline       skoda          no       60437  \n",
       "4        150000    petrol         bmw         yes       33775  \n",
       "...         ...       ...         ...         ...         ...  \n",
       "93510     70000    petrol  land_rover          no       24960  \n",
       "94239    100000       NaN        lada         yes       96515  \n",
       "142645   150000    petrol       rover          no       83278  \n",
       "180350    70000    petrol     trabant     unknown       15748  \n",
       "226533   150000    petrol       rover          no       88518  \n",
       "\n",
       "[336 rows x 11 columns]"
      ]
     },
     "execution_count": 177,
     "metadata": {},
     "output_type": "execute_result"
    }
   ],
   "source": [
    "df_cleaned[~df_cleaned[\"VehicleType\"].isnull()].drop_duplicates(subset=[\"Model\", \"Brand\"])"
   ]
  },
  {
   "cell_type": "code",
   "execution_count": 178,
   "metadata": {},
   "outputs": [
    {
     "data": {
      "application/vnd.jupyter.widget-view+json": {
       "model_id": "b95992fad83341ffa2e116a95d61352e",
       "version_major": 2,
       "version_minor": 0
      },
      "text/plain": [
       "0it [00:00, ?it/s]"
      ]
     },
     "metadata": {},
     "output_type": "display_data"
    }
   ],
   "source": [
    "# Corramos la función\n",
    "df_imput = function_imputation(df_cleaned, \"VehicleType\")"
   ]
  },
  {
   "cell_type": "markdown",
   "metadata": {},
   "source": [
    "Veamos que tenemos tras hacer la imputación."
   ]
  },
  {
   "cell_type": "code",
   "execution_count": 179,
   "metadata": {},
   "outputs": [
    {
     "data": {
      "text/html": [
       "<div>\n",
       "<style scoped>\n",
       "    .dataframe tbody tr th:only-of-type {\n",
       "        vertical-align: middle;\n",
       "    }\n",
       "\n",
       "    .dataframe tbody tr th {\n",
       "        vertical-align: top;\n",
       "    }\n",
       "\n",
       "    .dataframe thead th {\n",
       "        text-align: right;\n",
       "    }\n",
       "</style>\n",
       "<table border=\"1\" class=\"dataframe\">\n",
       "  <thead>\n",
       "    <tr style=\"text-align: right;\">\n",
       "      <th></th>\n",
       "      <th>Price</th>\n",
       "      <th>VehicleType</th>\n",
       "      <th>RegistrationYear</th>\n",
       "      <th>Gearbox</th>\n",
       "      <th>Power</th>\n",
       "      <th>Model</th>\n",
       "      <th>Mileage</th>\n",
       "      <th>FuelType</th>\n",
       "      <th>Brand</th>\n",
       "      <th>NotRepaired</th>\n",
       "      <th>PostalCode</th>\n",
       "    </tr>\n",
       "  </thead>\n",
       "  <tbody>\n",
       "    <tr>\n",
       "      <th>0</th>\n",
       "      <td>18300</td>\n",
       "      <td>coupe</td>\n",
       "      <td>2011</td>\n",
       "      <td>manual</td>\n",
       "      <td>190</td>\n",
       "      <td>unknown</td>\n",
       "      <td>125000</td>\n",
       "      <td>gasoline</td>\n",
       "      <td>audi</td>\n",
       "      <td>yes</td>\n",
       "      <td>66954</td>\n",
       "    </tr>\n",
       "    <tr>\n",
       "      <th>1</th>\n",
       "      <td>9800</td>\n",
       "      <td>suv</td>\n",
       "      <td>2004</td>\n",
       "      <td>auto</td>\n",
       "      <td>163</td>\n",
       "      <td>grand</td>\n",
       "      <td>125000</td>\n",
       "      <td>gasoline</td>\n",
       "      <td>jeep</td>\n",
       "      <td>unknown</td>\n",
       "      <td>90480</td>\n",
       "    </tr>\n",
       "    <tr>\n",
       "      <th>2</th>\n",
       "      <td>1500</td>\n",
       "      <td>small</td>\n",
       "      <td>2001</td>\n",
       "      <td>manual</td>\n",
       "      <td>75</td>\n",
       "      <td>golf</td>\n",
       "      <td>150000</td>\n",
       "      <td>petrol</td>\n",
       "      <td>volkswagen</td>\n",
       "      <td>no</td>\n",
       "      <td>91074</td>\n",
       "    </tr>\n",
       "    <tr>\n",
       "      <th>3</th>\n",
       "      <td>3600</td>\n",
       "      <td>small</td>\n",
       "      <td>2008</td>\n",
       "      <td>manual</td>\n",
       "      <td>69</td>\n",
       "      <td>fabia</td>\n",
       "      <td>90000</td>\n",
       "      <td>gasoline</td>\n",
       "      <td>skoda</td>\n",
       "      <td>no</td>\n",
       "      <td>60437</td>\n",
       "    </tr>\n",
       "    <tr>\n",
       "      <th>4</th>\n",
       "      <td>650</td>\n",
       "      <td>sedan</td>\n",
       "      <td>1995</td>\n",
       "      <td>manual</td>\n",
       "      <td>102</td>\n",
       "      <td>3er</td>\n",
       "      <td>150000</td>\n",
       "      <td>petrol</td>\n",
       "      <td>bmw</td>\n",
       "      <td>yes</td>\n",
       "      <td>33775</td>\n",
       "    </tr>\n",
       "    <tr>\n",
       "      <th>...</th>\n",
       "      <td>...</td>\n",
       "      <td>...</td>\n",
       "      <td>...</td>\n",
       "      <td>...</td>\n",
       "      <td>...</td>\n",
       "      <td>...</td>\n",
       "      <td>...</td>\n",
       "      <td>...</td>\n",
       "      <td>...</td>\n",
       "      <td>...</td>\n",
       "      <td>...</td>\n",
       "    </tr>\n",
       "    <tr>\n",
       "      <th>297839</th>\n",
       "      <td>5250</td>\n",
       "      <td>sedan</td>\n",
       "      <td>2016</td>\n",
       "      <td>auto</td>\n",
       "      <td>150</td>\n",
       "      <td>159</td>\n",
       "      <td>150000</td>\n",
       "      <td>NaN</td>\n",
       "      <td>alfa_romeo</td>\n",
       "      <td>no</td>\n",
       "      <td>51371</td>\n",
       "    </tr>\n",
       "    <tr>\n",
       "      <th>297840</th>\n",
       "      <td>3200</td>\n",
       "      <td>sedan</td>\n",
       "      <td>2004</td>\n",
       "      <td>manual</td>\n",
       "      <td>225</td>\n",
       "      <td>leon</td>\n",
       "      <td>150000</td>\n",
       "      <td>petrol</td>\n",
       "      <td>seat</td>\n",
       "      <td>yes</td>\n",
       "      <td>96465</td>\n",
       "    </tr>\n",
       "    <tr>\n",
       "      <th>297841</th>\n",
       "      <td>1199</td>\n",
       "      <td>convertible</td>\n",
       "      <td>2000</td>\n",
       "      <td>auto</td>\n",
       "      <td>101</td>\n",
       "      <td>fortwo</td>\n",
       "      <td>125000</td>\n",
       "      <td>petrol</td>\n",
       "      <td>smart</td>\n",
       "      <td>no</td>\n",
       "      <td>26135</td>\n",
       "    </tr>\n",
       "    <tr>\n",
       "      <th>297842</th>\n",
       "      <td>9200</td>\n",
       "      <td>bus</td>\n",
       "      <td>1996</td>\n",
       "      <td>manual</td>\n",
       "      <td>102</td>\n",
       "      <td>transporter</td>\n",
       "      <td>150000</td>\n",
       "      <td>gasoline</td>\n",
       "      <td>volkswagen</td>\n",
       "      <td>no</td>\n",
       "      <td>87439</td>\n",
       "    </tr>\n",
       "    <tr>\n",
       "      <th>297843</th>\n",
       "      <td>3400</td>\n",
       "      <td>wagon</td>\n",
       "      <td>2002</td>\n",
       "      <td>manual</td>\n",
       "      <td>100</td>\n",
       "      <td>golf</td>\n",
       "      <td>150000</td>\n",
       "      <td>gasoline</td>\n",
       "      <td>volkswagen</td>\n",
       "      <td>unknown</td>\n",
       "      <td>40764</td>\n",
       "    </tr>\n",
       "  </tbody>\n",
       "</table>\n",
       "<p>297844 rows × 11 columns</p>\n",
       "</div>"
      ],
      "text/plain": [
       "        Price  VehicleType  RegistrationYear Gearbox  Power        Model  \\\n",
       "0       18300        coupe              2011  manual    190      unknown   \n",
       "1        9800          suv              2004    auto    163        grand   \n",
       "2        1500        small              2001  manual     75         golf   \n",
       "3        3600        small              2008  manual     69        fabia   \n",
       "4         650        sedan              1995  manual    102          3er   \n",
       "...       ...          ...               ...     ...    ...          ...   \n",
       "297839   5250        sedan              2016    auto    150          159   \n",
       "297840   3200        sedan              2004  manual    225         leon   \n",
       "297841   1199  convertible              2000    auto    101       fortwo   \n",
       "297842   9200          bus              1996  manual    102  transporter   \n",
       "297843   3400        wagon              2002  manual    100         golf   \n",
       "\n",
       "        Mileage  FuelType       Brand NotRepaired  PostalCode  \n",
       "0        125000  gasoline        audi         yes       66954  \n",
       "1        125000  gasoline        jeep     unknown       90480  \n",
       "2        150000    petrol  volkswagen          no       91074  \n",
       "3         90000  gasoline       skoda          no       60437  \n",
       "4        150000    petrol         bmw         yes       33775  \n",
       "...         ...       ...         ...         ...         ...  \n",
       "297839   150000       NaN  alfa_romeo          no       51371  \n",
       "297840   150000    petrol        seat         yes       96465  \n",
       "297841   125000    petrol       smart          no       26135  \n",
       "297842   150000  gasoline  volkswagen          no       87439  \n",
       "297843   150000  gasoline  volkswagen     unknown       40764  \n",
       "\n",
       "[297844 rows x 11 columns]"
      ]
     },
     "execution_count": 179,
     "metadata": {},
     "output_type": "execute_result"
    }
   ],
   "source": [
    "df_imput"
   ]
  },
  {
   "cell_type": "markdown",
   "metadata": {},
   "source": [
    "Se ve mejor, continúemos con `Gearbox`.\n",
    "\n",
    "#### Columna `Gearbox` <a class=\"anchor\" id=\"section224\"></a>\n",
    "Usemos la función de imputación anterior."
   ]
  },
  {
   "cell_type": "code",
   "execution_count": 180,
   "metadata": {},
   "outputs": [
    {
     "data": {
      "application/vnd.jupyter.widget-view+json": {
       "model_id": "fdda334a62e64fd8ae8bda98723d7f4b",
       "version_major": 2,
       "version_minor": 0
      },
      "text/plain": [
       "0it [00:00, ?it/s]"
      ]
     },
     "metadata": {},
     "output_type": "display_data"
    }
   ],
   "source": [
    "# Corramos la función\n",
    "df_imput = function_imputation(df_imput, \"Gearbox\")"
   ]
  },
  {
   "cell_type": "markdown",
   "metadata": {},
   "source": [
    "Veamos los resultados."
   ]
  },
  {
   "cell_type": "code",
   "execution_count": 181,
   "metadata": {},
   "outputs": [
    {
     "name": "stdout",
     "output_type": "stream",
     "text": [
      "<class 'pandas.core.frame.DataFrame'>\n",
      "RangeIndex: 297844 entries, 0 to 297843\n",
      "Data columns (total 11 columns):\n",
      " #   Column            Non-Null Count   Dtype \n",
      "---  ------            --------------   ----- \n",
      " 0   Price             297844 non-null  int64 \n",
      " 1   VehicleType       297844 non-null  object\n",
      " 2   RegistrationYear  297844 non-null  int64 \n",
      " 3   Gearbox           297844 non-null  object\n",
      " 4   Power             297844 non-null  int64 \n",
      " 5   Model             297844 non-null  object\n",
      " 6   Mileage           297844 non-null  int64 \n",
      " 7   FuelType          278977 non-null  object\n",
      " 8   Brand             297844 non-null  object\n",
      " 9   NotRepaired       297844 non-null  object\n",
      " 10  PostalCode        297844 non-null  int64 \n",
      "dtypes: int64(5), object(6)\n",
      "memory usage: 25.0+ MB\n"
     ]
    }
   ],
   "source": [
    "df_imput.info()"
   ]
  },
  {
   "cell_type": "markdown",
   "metadata": {},
   "source": [
    "Perfecto, hagamos lo mismo con `FuelType`.\n",
    "\n",
    "#### Columna `FuelType` <a class=\"anchor\" id=\"section225\"></a>\n",
    "Hagamos lo mismo."
   ]
  },
  {
   "cell_type": "code",
   "execution_count": 182,
   "metadata": {},
   "outputs": [
    {
     "data": {
      "application/vnd.jupyter.widget-view+json": {
       "model_id": "ed0a971b5c564a30bb58c8db1c9fb44a",
       "version_major": 2,
       "version_minor": 0
      },
      "text/plain": [
       "0it [00:00, ?it/s]"
      ]
     },
     "metadata": {},
     "output_type": "display_data"
    }
   ],
   "source": [
    "# Corramos la función\n",
    "df_imput = function_imputation(df_imput, \"FuelType\")"
   ]
  },
  {
   "cell_type": "markdown",
   "metadata": {},
   "source": [
    "Veamos detalles."
   ]
  },
  {
   "cell_type": "code",
   "execution_count": 183,
   "metadata": {},
   "outputs": [
    {
     "name": "stdout",
     "output_type": "stream",
     "text": [
      "<class 'pandas.core.frame.DataFrame'>\n",
      "RangeIndex: 297844 entries, 0 to 297843\n",
      "Data columns (total 11 columns):\n",
      " #   Column            Non-Null Count   Dtype \n",
      "---  ------            --------------   ----- \n",
      " 0   Price             297844 non-null  int64 \n",
      " 1   VehicleType       297844 non-null  object\n",
      " 2   RegistrationYear  297844 non-null  int64 \n",
      " 3   Gearbox           297844 non-null  object\n",
      " 4   Power             297844 non-null  int64 \n",
      " 5   Model             297844 non-null  object\n",
      " 6   Mileage           297844 non-null  int64 \n",
      " 7   FuelType          297844 non-null  object\n",
      " 8   Brand             297844 non-null  object\n",
      " 9   NotRepaired       297844 non-null  object\n",
      " 10  PostalCode        297844 non-null  int64 \n",
      "dtypes: int64(5), object(6)\n",
      "memory usage: 25.0+ MB\n"
     ]
    }
   ],
   "source": [
    "df_imput.info()"
   ]
  },
  {
   "cell_type": "markdown",
   "metadata": {},
   "source": [
    "Solo reseteemos los índices para tener unos nuevos."
   ]
  },
  {
   "cell_type": "code",
   "execution_count": 184,
   "metadata": {},
   "outputs": [],
   "source": [
    "df_final = df_imput.reset_index(drop=True)"
   ]
  },
  {
   "cell_type": "markdown",
   "metadata": {},
   "source": [
    "Aprovechemos a cambiar el nombre de las columnas a snake_case para evitar mayúsculas."
   ]
  },
  {
   "cell_type": "code",
   "execution_count": 185,
   "metadata": {},
   "outputs": [
    {
     "name": "stdout",
     "output_type": "stream",
     "text": [
      "['price', 'vehicle_type', 'registration_year', 'gearbox', 'power', 'model', 'mileage', 'fuel_type', 'brand', 'not_repaired', 'postal_code']\n"
     ]
    }
   ],
   "source": [
    "# Cambiemos los cases\n",
    "df_final.columns = [\n",
    "    \"price\", \"vehicle_type\",\n",
    "    \"registration_year\", \"gearbox\", \"power\",\n",
    "    \"model\", \"mileage\", \"fuel_type\", \"brand\", \"not_repaired\", \"postal_code\"\n",
    "]\n",
    "\n",
    "print(list(df_final.columns))"
   ]
  },
  {
   "cell_type": "markdown",
   "metadata": {},
   "source": [
    "Ya tenemos casi todo, solo nos falta dividir nuestros datos y codificarlos.\n",
    "\n",
    "### Partición y codificación  <a class=\"anchor\" id=\"section23\"></a>\n",
    "\n",
    "Trabajaremos con cuatro modelos diferentes: el de regresión lineal, el de bosque aleatorio, LightBoost y CatBoost (se omite XGBoost al ser opcional); para los primeros dos se requiere codificación de características por lo que haremos dos veces el conjunto de datos: uno codificado y uno no codificado. Usaremos una relación 30:70 para prueba y entrenamiento."
   ]
  },
  {
   "cell_type": "code",
   "execution_count": 186,
   "metadata": {},
   "outputs": [
    {
     "name": "stdout",
     "output_type": "stream",
     "text": [
      "Non OHE | Features train: (208490, 10) \t | Features test: (89354, 10) \n",
      "Non OHE | Targets test: (208490,) \t | Targets test: (89354,)\n"
     ]
    }
   ],
   "source": [
    "# Valores sin OHE\n",
    "non_ohe_target = df_final.price\n",
    "non_ohe_features = df_final.drop(\"price\", axis=1)\n",
    "\n",
    "# Partición de datos\n",
    "feat_train_non_ohe, feat_test_non_ohe, target_train_non_ohe, target_test_non_ohe = train_test_split(\n",
    "    non_ohe_features, non_ohe_target, test_size=0.3, random_state=1\n",
    ")\n",
    "\n",
    "# Aprovechamos a escalar los valores numéricos\n",
    "scaler = StandardScaler()\n",
    "scaler.fit(non_ohe_features[[\"registration_year\", \"mileage\"]])\n",
    "\n",
    "# Mostremos que tenemos\n",
    "\n",
    "print(\n",
    "    f\"Non OHE | Features train: {feat_train_non_ohe.shape} \\t | Features test: {feat_test_non_ohe.shape}\",\n",
    "    f\"\\nNon OHE | Targets test: {target_train_non_ohe.shape} \\t | Targets test: {target_test_non_ohe.shape}\"\n",
    ")"
   ]
  },
  {
   "cell_type": "markdown",
   "metadata": {},
   "source": [
    "Estos son nuestros datos sin codificar, ahora hagamos el proceso para los datos codificados."
   ]
  },
  {
   "cell_type": "code",
   "execution_count": 187,
   "metadata": {},
   "outputs": [
    {
     "name": "stdout",
     "output_type": "stream",
     "text": [
      "OHE | Features train: (208490, 308) \t | Features test: (89354, 308) \n",
      "OHE | Targets test: (208490,) \t  \t | Targets test: (89354,)\n"
     ]
    }
   ],
   "source": [
    "# Codificación\n",
    "df_final_ohe = pd.get_dummies(df_final, drop_first=True)\n",
    "\n",
    "# Valores con OHE\n",
    "yes_ohe_target = df_final_ohe.price\n",
    "yes_ohe_features = df_final_ohe.drop(\"price\", axis=1)\n",
    "\n",
    "# Dividimos\n",
    "feat_train_yes_ohe, feat_test_yes_ohe, target_train_yes_ohe, target_test_yes_ohe = train_test_split(\n",
    "    yes_ohe_features, yes_ohe_target, test_size=0.3, random_state=1\n",
    ")\n",
    "\n",
    "# Mostremos que tenemos\n",
    "\n",
    "print(\n",
    "    f\"OHE | Features train: {feat_train_yes_ohe.shape} \\t | Features test: {feat_test_yes_ohe.shape}\",\n",
    "    f\"\\nOHE | Targets test: {target_train_yes_ohe.shape} \\t  \\t | Targets test: {target_test_yes_ohe.shape}\"\n",
    ")"
   ]
  },
  {
   "cell_type": "markdown",
   "metadata": {},
   "source": [
    "## Entrenamiento del modelo  <a class=\"anchor\" id=\"section3\"></a>\n",
    "\n",
    "Aquí haremos las pruebas de nuestros modelos; empezaremos con el test de cordura con el modelo de regresión lineal.\n",
    "\n",
    "### Regresión lineal<a class=\"anchor\" id=\"section31\"></a>"
   ]
  },
  {
   "cell_type": "code",
   "execution_count": 188,
   "metadata": {},
   "outputs": [],
   "source": [
    "# Inicializamos\n",
    "model_linear = LinearRegression()\n",
    "\n",
    "# Ajustamos con valores OHE\n",
    "start_fit = time.time()\n",
    "model_linear.fit(feat_train_yes_ohe, target_train_yes_ohe)\n",
    "time_fit = time.time() - start_fit\n",
    "\n",
    "\n",
    "# Predecimos\n",
    "start_prediction = time.time()\n",
    "predictions_linear = model_linear.predict(feat_test_yes_ohe)\n",
    "time_prediction = time.time() - start_prediction\n",
    "\n",
    "# Score\n",
    "score_linear = mean_squared_error(target_test_yes_ohe, predictions_linear)**0.5\n",
    "\n",
    "# Resultados\n",
    "resultados_lr = [\"Regresión lineal\", time_fit, time_prediction, score_linear]"
   ]
  },
  {
   "cell_type": "code",
   "execution_count": 189,
   "metadata": {
    "scrolled": true
   },
   "outputs": [
    {
     "data": {
      "text/html": [
       "<div>\n",
       "<style scoped>\n",
       "    .dataframe tbody tr th:only-of-type {\n",
       "        vertical-align: middle;\n",
       "    }\n",
       "\n",
       "    .dataframe tbody tr th {\n",
       "        vertical-align: top;\n",
       "    }\n",
       "\n",
       "    .dataframe thead th {\n",
       "        text-align: right;\n",
       "    }\n",
       "</style>\n",
       "<table border=\"1\" class=\"dataframe\">\n",
       "  <thead>\n",
       "    <tr style=\"text-align: right;\">\n",
       "      <th></th>\n",
       "      <th>Modelo</th>\n",
       "      <th>Tiempo de Ajuste</th>\n",
       "      <th>Tiempo de Predicción</th>\n",
       "      <th>RMSE</th>\n",
       "    </tr>\n",
       "  </thead>\n",
       "  <tbody>\n",
       "    <tr>\n",
       "      <th>0</th>\n",
       "      <td>Regresión lineal</td>\n",
       "      <td>16.157108</td>\n",
       "      <td>0.201374</td>\n",
       "      <td>2634.797212</td>\n",
       "    </tr>\n",
       "  </tbody>\n",
       "</table>\n",
       "</div>"
      ],
      "text/plain": [
       "             Modelo  Tiempo de Ajuste  Tiempo de Predicción         RMSE\n",
       "0  Regresión lineal         16.157108              0.201374  2634.797212"
      ]
     },
     "execution_count": 189,
     "metadata": {},
     "output_type": "execute_result"
    }
   ],
   "source": [
    "# Veamos que tenemos\n",
    "pd.DataFrame(\n",
    "    [resultados_lr], columns = [\"Modelo\", \"Tiempo de Ajuste\", \"Tiempo de Predicción\", \"RMSE\"]\n",
    ")"
   ]
  },
  {
   "cell_type": "markdown",
   "metadata": {},
   "source": [
    "Funciona bien, podemos continuar con nuestros modelos.\n",
    "\n",
    "### Bosque aleatorio<a class=\"anchor\" id=\"section32\"></a>\n",
    "Correremos una búsqueda del modelo de bosque aleatorio para la profundidad máxima y el número de estimadores."
   ]
  },
  {
   "cell_type": "code",
   "execution_count": 190,
   "metadata": {},
   "outputs": [
    {
     "name": "stdout",
     "output_type": "stream",
     "text": [
      "Fitting 5 folds for each of 9 candidates, totalling 45 fits\n",
      "[CV 1/5; 1/9] START max_depth=10, n_estimators=10...............................\n",
      "[CV 1/5; 1/9] END .............max_depth=10, n_estimators=10; total time=  17.3s\n",
      "[CV 2/5; 1/9] START max_depth=10, n_estimators=10...............................\n",
      "[CV 2/5; 1/9] END .............max_depth=10, n_estimators=10; total time=  17.3s\n",
      "[CV 3/5; 1/9] START max_depth=10, n_estimators=10...............................\n",
      "[CV 3/5; 1/9] END .............max_depth=10, n_estimators=10; total time=  17.9s\n",
      "[CV 4/5; 1/9] START max_depth=10, n_estimators=10...............................\n",
      "[CV 4/5; 1/9] END .............max_depth=10, n_estimators=10; total time=  17.3s\n",
      "[CV 5/5; 1/9] START max_depth=10, n_estimators=10...............................\n",
      "[CV 5/5; 1/9] END .............max_depth=10, n_estimators=10; total time=  17.3s\n",
      "[CV 1/5; 2/9] START max_depth=10, n_estimators=30...............................\n",
      "[CV 1/5; 2/9] END .............max_depth=10, n_estimators=30; total time=  51.5s\n",
      "[CV 2/5; 2/9] START max_depth=10, n_estimators=30...............................\n",
      "[CV 2/5; 2/9] END .............max_depth=10, n_estimators=30; total time=  52.8s\n",
      "[CV 3/5; 2/9] START max_depth=10, n_estimators=30...............................\n",
      "[CV 3/5; 2/9] END .............max_depth=10, n_estimators=30; total time=  51.5s\n",
      "[CV 4/5; 2/9] START max_depth=10, n_estimators=30...............................\n",
      "[CV 4/5; 2/9] END .............max_depth=10, n_estimators=30; total time=  51.9s\n",
      "[CV 5/5; 2/9] START max_depth=10, n_estimators=30...............................\n",
      "[CV 5/5; 2/9] END .............max_depth=10, n_estimators=30; total time=  51.3s\n",
      "[CV 1/5; 3/9] START max_depth=10, n_estimators=50...............................\n",
      "[CV 1/5; 3/9] END .............max_depth=10, n_estimators=50; total time= 1.4min\n",
      "[CV 2/5; 3/9] START max_depth=10, n_estimators=50...............................\n",
      "[CV 2/5; 3/9] END .............max_depth=10, n_estimators=50; total time= 1.4min\n",
      "[CV 3/5; 3/9] START max_depth=10, n_estimators=50...............................\n",
      "[CV 3/5; 3/9] END .............max_depth=10, n_estimators=50; total time= 1.5min\n",
      "[CV 4/5; 3/9] START max_depth=10, n_estimators=50...............................\n",
      "[CV 4/5; 3/9] END .............max_depth=10, n_estimators=50; total time= 1.4min\n",
      "[CV 5/5; 3/9] START max_depth=10, n_estimators=50...............................\n",
      "[CV 5/5; 3/9] END .............max_depth=10, n_estimators=50; total time= 1.4min\n",
      "[CV 1/5; 4/9] START max_depth=15, n_estimators=10...............................\n",
      "[CV 1/5; 4/9] END .............max_depth=15, n_estimators=10; total time=  22.2s\n",
      "[CV 2/5; 4/9] START max_depth=15, n_estimators=10...............................\n",
      "[CV 2/5; 4/9] END .............max_depth=15, n_estimators=10; total time=  22.2s\n",
      "[CV 3/5; 4/9] START max_depth=15, n_estimators=10...............................\n",
      "[CV 3/5; 4/9] END .............max_depth=15, n_estimators=10; total time=  22.3s\n",
      "[CV 4/5; 4/9] START max_depth=15, n_estimators=10...............................\n",
      "[CV 4/5; 4/9] END .............max_depth=15, n_estimators=10; total time=  22.7s\n",
      "[CV 5/5; 4/9] START max_depth=15, n_estimators=10...............................\n",
      "[CV 5/5; 4/9] END .............max_depth=15, n_estimators=10; total time=  22.1s\n",
      "[CV 1/5; 5/9] START max_depth=15, n_estimators=30...............................\n",
      "[CV 1/5; 5/9] END .............max_depth=15, n_estimators=30; total time= 1.1min\n",
      "[CV 2/5; 5/9] START max_depth=15, n_estimators=30...............................\n",
      "[CV 2/5; 5/9] END .............max_depth=15, n_estimators=30; total time= 1.1min\n",
      "[CV 3/5; 5/9] START max_depth=15, n_estimators=30...............................\n",
      "[CV 3/5; 5/9] END .............max_depth=15, n_estimators=30; total time= 1.1min\n",
      "[CV 4/5; 5/9] START max_depth=15, n_estimators=30...............................\n",
      "[CV 4/5; 5/9] END .............max_depth=15, n_estimators=30; total time= 1.1min\n",
      "[CV 5/5; 5/9] START max_depth=15, n_estimators=30...............................\n",
      "[CV 5/5; 5/9] END .............max_depth=15, n_estimators=30; total time= 1.1min\n",
      "[CV 1/5; 6/9] START max_depth=15, n_estimators=50...............................\n",
      "[CV 1/5; 6/9] END .............max_depth=15, n_estimators=50; total time= 1.9min\n",
      "[CV 2/5; 6/9] START max_depth=15, n_estimators=50...............................\n",
      "[CV 2/5; 6/9] END .............max_depth=15, n_estimators=50; total time= 1.9min\n",
      "[CV 3/5; 6/9] START max_depth=15, n_estimators=50...............................\n",
      "[CV 3/5; 6/9] END .............max_depth=15, n_estimators=50; total time= 1.9min\n",
      "[CV 4/5; 6/9] START max_depth=15, n_estimators=50...............................\n",
      "[CV 4/5; 6/9] END .............max_depth=15, n_estimators=50; total time= 1.9min\n",
      "[CV 5/5; 6/9] START max_depth=15, n_estimators=50...............................\n",
      "[CV 5/5; 6/9] END .............max_depth=15, n_estimators=50; total time= 1.9min\n",
      "[CV 1/5; 7/9] START max_depth=20, n_estimators=10...............................\n",
      "[CV 1/5; 7/9] END .............max_depth=20, n_estimators=10; total time=  26.3s\n",
      "[CV 2/5; 7/9] START max_depth=20, n_estimators=10...............................\n",
      "[CV 2/5; 7/9] END .............max_depth=20, n_estimators=10; total time=  25.9s\n",
      "[CV 3/5; 7/9] START max_depth=20, n_estimators=10...............................\n",
      "[CV 3/5; 7/9] END .............max_depth=20, n_estimators=10; total time=  25.7s\n",
      "[CV 4/5; 7/9] START max_depth=20, n_estimators=10...............................\n",
      "[CV 4/5; 7/9] END .............max_depth=20, n_estimators=10; total time=  26.0s\n",
      "[CV 5/5; 7/9] START max_depth=20, n_estimators=10...............................\n",
      "[CV 5/5; 7/9] END .............max_depth=20, n_estimators=10; total time=  26.3s\n",
      "[CV 1/5; 8/9] START max_depth=20, n_estimators=30...............................\n",
      "[CV 1/5; 8/9] END .............max_depth=20, n_estimators=30; total time= 1.3min\n",
      "[CV 2/5; 8/9] START max_depth=20, n_estimators=30...............................\n",
      "[CV 2/5; 8/9] END .............max_depth=20, n_estimators=30; total time= 1.3min\n",
      "[CV 3/5; 8/9] START max_depth=20, n_estimators=30...............................\n",
      "[CV 3/5; 8/9] END .............max_depth=20, n_estimators=30; total time= 1.3min\n",
      "[CV 4/5; 8/9] START max_depth=20, n_estimators=30...............................\n",
      "[CV 4/5; 8/9] END .............max_depth=20, n_estimators=30; total time= 1.3min\n",
      "[CV 5/5; 8/9] START max_depth=20, n_estimators=30...............................\n",
      "[CV 5/5; 8/9] END .............max_depth=20, n_estimators=30; total time= 1.3min\n",
      "[CV 1/5; 9/9] START max_depth=20, n_estimators=50...............................\n",
      "[CV 1/5; 9/9] END .............max_depth=20, n_estimators=50; total time= 2.1min\n",
      "[CV 2/5; 9/9] START max_depth=20, n_estimators=50...............................\n",
      "[CV 2/5; 9/9] END .............max_depth=20, n_estimators=50; total time= 2.2min\n",
      "[CV 3/5; 9/9] START max_depth=20, n_estimators=50...............................\n",
      "[CV 3/5; 9/9] END .............max_depth=20, n_estimators=50; total time= 2.2min\n",
      "[CV 4/5; 9/9] START max_depth=20, n_estimators=50...............................\n",
      "[CV 4/5; 9/9] END .............max_depth=20, n_estimators=50; total time= 2.1min\n",
      "[CV 5/5; 9/9] START max_depth=20, n_estimators=50...............................\n",
      "[CV 5/5; 9/9] END .............max_depth=20, n_estimators=50; total time= 2.2min\n"
     ]
    },
    {
     "data": {
      "text/plain": [
       "GridSearchCV(estimator=RandomForestRegressor(random_state=1),\n",
       "             param_grid={'max_depth': [10, 15, 20],\n",
       "                         'n_estimators': [10, 30, 50]},\n",
       "             scoring='neg_mean_squared_error', verbose=10)"
      ]
     },
     "execution_count": 190,
     "metadata": {},
     "output_type": "execute_result"
    }
   ],
   "source": [
    "# Definimos el modelo\n",
    "model_forest = RandomForestRegressor(random_state=1)\n",
    "\n",
    "# Los parametros a buscar\n",
    "parameters = {\n",
    "    \"max_depth\": [10, 15, 20],\n",
    "    \"n_estimators\": [10, 30, 50]\n",
    "}\n",
    "\n",
    "# Buscamos los parametros\n",
    "grid_forest = GridSearchCV(\n",
    "    estimator=model_forest, param_grid=parameters, scoring='neg_mean_squared_error', verbose=10\n",
    ")\n",
    "\n",
    "# Ajustamos\n",
    "grid_forest.fit(feat_train_yes_ohe, target_train_yes_ohe)"
   ]
  },
  {
   "cell_type": "markdown",
   "metadata": {},
   "source": [
    "Veamos resultados."
   ]
  },
  {
   "cell_type": "code",
   "execution_count": 191,
   "metadata": {},
   "outputs": [
    {
     "data": {
      "text/plain": [
       "{'max_depth': 20, 'n_estimators': 50}"
      ]
     },
     "execution_count": 191,
     "metadata": {},
     "output_type": "execute_result"
    }
   ],
   "source": [
    "grid_forest.best_params_"
   ]
  },
  {
   "cell_type": "markdown",
   "metadata": {},
   "source": [
    "Procedamos a entrenar con 50 estimadores y 20 de profundidad."
   ]
  },
  {
   "cell_type": "code",
   "execution_count": 192,
   "metadata": {},
   "outputs": [],
   "source": [
    "# Declaramos y ajustamos\n",
    "model_random_forest = RandomForestRegressor(n_estimators = 50, max_depth=20, random_state=1)\n",
    "\n",
    "start_fit = time.time()\n",
    "model_random_forest.fit(feat_train_yes_ohe, target_train_yes_ohe)\n",
    "time_fit = time.time() - start_fit\n",
    "\n",
    "# Predecimos\n",
    "start_prediction = time.time()\n",
    "prediction_random_forest = model_random_forest.predict(feat_test_yes_ohe)\n",
    "time_prediction = time.time() - start_prediction\n",
    "\n",
    "# Score\n",
    "score_forest = mean_squared_error(target_test_yes_ohe, prediction_random_forest)**0.5\n",
    "\n",
    "# Resultados\n",
    "resultados_forest = [\"Bosque aleatorio\", time_fit, time_prediction, score_forest]"
   ]
  },
  {
   "cell_type": "code",
   "execution_count": 193,
   "metadata": {},
   "outputs": [
    {
     "data": {
      "text/html": [
       "<div>\n",
       "<style scoped>\n",
       "    .dataframe tbody tr th:only-of-type {\n",
       "        vertical-align: middle;\n",
       "    }\n",
       "\n",
       "    .dataframe tbody tr th {\n",
       "        vertical-align: top;\n",
       "    }\n",
       "\n",
       "    .dataframe thead th {\n",
       "        text-align: right;\n",
       "    }\n",
       "</style>\n",
       "<table border=\"1\" class=\"dataframe\">\n",
       "  <thead>\n",
       "    <tr style=\"text-align: right;\">\n",
       "      <th></th>\n",
       "      <th>Modelo</th>\n",
       "      <th>Tiempo de Ajuste</th>\n",
       "      <th>Tiempo de Predicción</th>\n",
       "      <th>RMSE</th>\n",
       "    </tr>\n",
       "  </thead>\n",
       "  <tbody>\n",
       "    <tr>\n",
       "      <th>0</th>\n",
       "      <td>Regresión lineal</td>\n",
       "      <td>16.157108</td>\n",
       "      <td>0.201374</td>\n",
       "      <td>2634.797212</td>\n",
       "    </tr>\n",
       "    <tr>\n",
       "      <th>1</th>\n",
       "      <td>Bosque aleatorio</td>\n",
       "      <td>178.563302</td>\n",
       "      <td>1.571493</td>\n",
       "      <td>1589.453325</td>\n",
       "    </tr>\n",
       "  </tbody>\n",
       "</table>\n",
       "</div>"
      ],
      "text/plain": [
       "             Modelo  Tiempo de Ajuste  Tiempo de Predicción         RMSE\n",
       "0  Regresión lineal         16.157108              0.201374  2634.797212\n",
       "1  Bosque aleatorio        178.563302              1.571493  1589.453325"
      ]
     },
     "execution_count": 193,
     "metadata": {},
     "output_type": "execute_result"
    }
   ],
   "source": [
    "# Veamos que tenemos\n",
    "pd.DataFrame(\n",
    "    [resultados_lr, resultados_forest], columns = [\"Modelo\", \"Tiempo de Ajuste\", \"Tiempo de Predicción\", \"RMSE\"]\n",
    ")"
   ]
  },
  {
   "cell_type": "markdown",
   "metadata": {},
   "source": [
    "### LightGBM <a class=\"anchor\" id=\"section33\"></a>\n",
    "\n",
    "Empecemos con la paquetería LightGBM la cual necesita que nuestras variables categóricas se hallen con el tipo categoría. Hagamos el cambio."
   ]
  },
  {
   "cell_type": "code",
   "execution_count": 194,
   "metadata": {},
   "outputs": [
    {
     "name": "stdout",
     "output_type": "stream",
     "text": [
      "<class 'pandas.core.frame.DataFrame'>\n",
      "Int64Index: 208490 entries, 275898 to 128037\n",
      "Data columns (total 10 columns):\n",
      " #   Column             Non-Null Count   Dtype   \n",
      "---  ------             --------------   -----   \n",
      " 0   vehicle_type       208490 non-null  category\n",
      " 1   registration_year  208490 non-null  int64   \n",
      " 2   gearbox            208490 non-null  category\n",
      " 3   power              208490 non-null  int64   \n",
      " 4   model              208490 non-null  category\n",
      " 5   mileage            208490 non-null  int64   \n",
      " 6   fuel_type          208490 non-null  category\n",
      " 7   brand              208490 non-null  category\n",
      " 8   not_repaired       208490 non-null  category\n",
      " 9   postal_code        208490 non-null  int64   \n",
      "dtypes: category(6), int64(4)\n",
      "memory usage: 9.4 MB\n",
      "<class 'pandas.core.frame.DataFrame'>\n",
      "Int64Index: 89354 entries, 238491 to 158472\n",
      "Data columns (total 10 columns):\n",
      " #   Column             Non-Null Count  Dtype   \n",
      "---  ------             --------------  -----   \n",
      " 0   vehicle_type       89354 non-null  category\n",
      " 1   registration_year  89354 non-null  int64   \n",
      " 2   gearbox            89354 non-null  category\n",
      " 3   power              89354 non-null  int64   \n",
      " 4   model              89354 non-null  category\n",
      " 5   mileage            89354 non-null  int64   \n",
      " 6   fuel_type          89354 non-null  category\n",
      " 7   brand              89354 non-null  category\n",
      " 8   not_repaired       89354 non-null  category\n",
      " 9   postal_code        89354 non-null  int64   \n",
      "dtypes: category(6), int64(4)\n",
      "memory usage: 4.0 MB\n"
     ]
    }
   ],
   "source": [
    "# Es más legible definirlas aquí\n",
    "list_cats = [\"vehicle_type\", \"gearbox\", \"model\", \"fuel_type\", \"brand\", \"not_repaired\"]\n",
    "\n",
    "# Convertimos tanto entrenamiento como prueba\n",
    "feat_train_non_ohe[list_cats] = feat_train_non_ohe[list_cats].astype('category')\n",
    "feat_test_non_ohe[list_cats] = feat_test_non_ohe[list_cats].astype('category')\n",
    "\n",
    "# Veamos que todo esta bien\n",
    "feat_train_non_ohe.info()\n",
    "\n",
    "feat_test_non_ohe.info()"
   ]
  },
  {
   "cell_type": "markdown",
   "metadata": {},
   "source": [
    "Vayamos al entrenamiento del modelo."
   ]
  },
  {
   "cell_type": "code",
   "execution_count": 195,
   "metadata": {},
   "outputs": [
    {
     "data": {
      "text/plain": [
       "GridSearchCV(estimator=LGBMRegressor(),\n",
       "             param_grid={'learning_rate': [0.05, 0.005],\n",
       "                         'max_depth': [5, 10, 15], 'n_estimators': [10, 20, 30],\n",
       "                         'num_leaves': [7, 15, 31]},\n",
       "             scoring='neg_mean_squared_error')"
      ]
     },
     "execution_count": 195,
     "metadata": {},
     "output_type": "execute_result"
    }
   ],
   "source": [
    "# Definimos el modelo\n",
    "model_lightgbm = LGBMRegressor()\n",
    "\n",
    "# Los parametros a buscar\n",
    "parameters = {\n",
    "    \"learning_rate\":[0.05, 0.005],\n",
    "    \"num_leaves\": [7, 15, 31],\n",
    "    \"max_depth\": [5, 10, 15],\n",
    "    \"n_estimators\": [10, 20, 30]\n",
    "}\n",
    "\n",
    "# Buscamos los parametros\n",
    "grid_lightgbm = GridSearchCV(\n",
    "    estimator=model_lightgbm, param_grid=parameters, scoring='neg_mean_squared_error'\n",
    ")\n",
    "\n",
    "# Ajustamos\n",
    "grid_lightgbm.fit(feat_train_non_ohe, target_train_non_ohe)"
   ]
  },
  {
   "cell_type": "markdown",
   "metadata": {},
   "source": [
    "Veamos los mejores parámetros."
   ]
  },
  {
   "cell_type": "code",
   "execution_count": 196,
   "metadata": {},
   "outputs": [
    {
     "data": {
      "text/plain": [
       "{'learning_rate': 0.05, 'max_depth': 10, 'n_estimators': 30, 'num_leaves': 31}"
      ]
     },
     "execution_count": 196,
     "metadata": {},
     "output_type": "execute_result"
    }
   ],
   "source": [
    "grid_lightgbm.best_params_"
   ]
  },
  {
   "cell_type": "markdown",
   "metadata": {},
   "source": [
    "Ahora entrenemos nuestro modelo con estos parámetros y predigamos."
   ]
  },
  {
   "cell_type": "code",
   "execution_count": 197,
   "metadata": {},
   "outputs": [],
   "source": [
    "# Entrenamiento\n",
    "start_fit = time.time()\n",
    "model_lightgbm_final = LGBMRegressor(\n",
    "    learning_rate=0.05, max_depth = 10, n_estimators=30, num_leaves=31, random_state=1\n",
    ")\n",
    "model_lightgbm_final.fit(feat_train_non_ohe, target_train_non_ohe)\n",
    "time_fit = time.time() - start_fit\n",
    "\n",
    "# Predecimos\n",
    "start_prediction = time.time()\n",
    "predictions_lightgbm = model_lightgbm_final.predict(feat_test_non_ohe)\n",
    "time_prediction = time.time() - start_prediction\n",
    "\n",
    "# Score\n",
    "score_lightgbm = mean_squared_error(target_test_non_ohe, predictions_lightgbm)**0.5\n",
    "\n",
    "# Resultados\n",
    "resultados_lightgbm = [\"LightGBM\", time_fit, time_prediction, score_lightgbm]"
   ]
  },
  {
   "cell_type": "code",
   "execution_count": 198,
   "metadata": {},
   "outputs": [
    {
     "data": {
      "text/html": [
       "<div>\n",
       "<style scoped>\n",
       "    .dataframe tbody tr th:only-of-type {\n",
       "        vertical-align: middle;\n",
       "    }\n",
       "\n",
       "    .dataframe tbody tr th {\n",
       "        vertical-align: top;\n",
       "    }\n",
       "\n",
       "    .dataframe thead th {\n",
       "        text-align: right;\n",
       "    }\n",
       "</style>\n",
       "<table border=\"1\" class=\"dataframe\">\n",
       "  <thead>\n",
       "    <tr style=\"text-align: right;\">\n",
       "      <th></th>\n",
       "      <th>Modelo</th>\n",
       "      <th>Tiempo de Ajuste</th>\n",
       "      <th>Tiempo de Predicción</th>\n",
       "      <th>RMSE</th>\n",
       "    </tr>\n",
       "  </thead>\n",
       "  <tbody>\n",
       "    <tr>\n",
       "      <th>0</th>\n",
       "      <td>Regresión lineal</td>\n",
       "      <td>16.157108</td>\n",
       "      <td>0.201374</td>\n",
       "      <td>2634.797212</td>\n",
       "    </tr>\n",
       "    <tr>\n",
       "      <th>1</th>\n",
       "      <td>Bosque aleatorio</td>\n",
       "      <td>178.563302</td>\n",
       "      <td>1.571493</td>\n",
       "      <td>1589.453325</td>\n",
       "    </tr>\n",
       "    <tr>\n",
       "      <th>2</th>\n",
       "      <td>LightGBM</td>\n",
       "      <td>1.789781</td>\n",
       "      <td>0.291243</td>\n",
       "      <td>2147.516105</td>\n",
       "    </tr>\n",
       "  </tbody>\n",
       "</table>\n",
       "</div>"
      ],
      "text/plain": [
       "             Modelo  Tiempo de Ajuste  Tiempo de Predicción         RMSE\n",
       "0  Regresión lineal         16.157108              0.201374  2634.797212\n",
       "1  Bosque aleatorio        178.563302              1.571493  1589.453325\n",
       "2          LightGBM          1.789781              0.291243  2147.516105"
      ]
     },
     "execution_count": 198,
     "metadata": {},
     "output_type": "execute_result"
    }
   ],
   "source": [
    "# Veamos que tenemos\n",
    "pd.DataFrame(\n",
    "    [resultados_lr, resultados_forest, resultados_lightgbm],\n",
    "    columns = [\"Modelo\", \"Tiempo de Ajuste\", \"Tiempo de Predicción\", \"RMSE\"]\n",
    ")"
   ]
  },
  {
   "cell_type": "markdown",
   "metadata": {},
   "source": [
    "### CatBoost <a class=\"anchor\" id=\"section34\"></a>\n",
    "Procedamos con CatBoost en donde tampoco necesitamos usar codificación. Primero obtengamos los mejores parámetros."
   ]
  },
  {
   "cell_type": "code",
   "execution_count": 199,
   "metadata": {},
   "outputs": [
    {
     "data": {
      "text/plain": [
       "GridSearchCV(estimator=<catboost.core.CatBoostRegressor object at 0x7f6ed65644f0>,\n",
       "             param_grid={'depth': [5, 10, 15], 'iterations': [5, 10],\n",
       "                         'learning_rate': [0.05, 0.005], 'random_seed': [1]},\n",
       "             scoring='neg_mean_squared_error')"
      ]
     },
     "execution_count": 199,
     "metadata": {},
     "output_type": "execute_result"
    }
   ],
   "source": [
    "# Instanciamos el modelo\n",
    "model_catboost = CatBoostRegressor(logging_level=\"Silent\")\n",
    "\n",
    "# Los parametros a buscar\n",
    "parameters = {\n",
    "    \"learning_rate\":[0.05, 0.005],\n",
    "    \"depth\": [5, 10, 15],\n",
    "    \"iterations\" : [5, 10],\n",
    "    \"random_seed\": [1]\n",
    "}\n",
    "\n",
    "# Buscamos los parametros\n",
    "grid_catboost = GridSearchCV(\n",
    "    estimator=model_catboost, param_grid=parameters, scoring='neg_mean_squared_error'\n",
    ")\n",
    "\n",
    "# Ajustamos\n",
    "grid_catboost.fit(feat_train_non_ohe, target_train_non_ohe, cat_features = list_cats)"
   ]
  },
  {
   "cell_type": "markdown",
   "metadata": {},
   "source": [
    "Veamos los mejores parámetros."
   ]
  },
  {
   "cell_type": "code",
   "execution_count": 200,
   "metadata": {},
   "outputs": [
    {
     "data": {
      "text/plain": [
       "{'depth': 15, 'iterations': 10, 'learning_rate': 0.05, 'random_seed': 1}"
      ]
     },
     "execution_count": 200,
     "metadata": {},
     "output_type": "execute_result"
    }
   ],
   "source": [
    "grid_catboost.best_params_"
   ]
  },
  {
   "cell_type": "markdown",
   "metadata": {},
   "source": [
    "Ahora procedamos a usar estos parámetros para entrenar y hacer las pruebas."
   ]
  },
  {
   "cell_type": "code",
   "execution_count": 201,
   "metadata": {},
   "outputs": [
    {
     "name": "stdout",
     "output_type": "stream",
     "text": [
      "0:\tlearn: 4367.9993118\ttotal: 1.16s\tremaining: 10.4s\n",
      "1:\tlearn: 4208.3987118\ttotal: 2.31s\tremaining: 9.22s\n",
      "2:\tlearn: 4060.0069717\ttotal: 3.43s\tremaining: 8s\n",
      "3:\tlearn: 3921.1214273\ttotal: 4.58s\tremaining: 6.87s\n",
      "4:\tlearn: 3789.0399390\ttotal: 5.7s\tremaining: 5.7s\n",
      "5:\tlearn: 3665.1297755\ttotal: 6.83s\tremaining: 4.55s\n",
      "6:\tlearn: 3544.6678576\ttotal: 7.97s\tremaining: 3.42s\n",
      "7:\tlearn: 3432.4700375\ttotal: 9.2s\tremaining: 2.3s\n",
      "8:\tlearn: 3328.9958352\ttotal: 10.4s\tremaining: 1.15s\n",
      "9:\tlearn: 3232.6175038\ttotal: 11.6s\tremaining: 0us\n"
     ]
    }
   ],
   "source": [
    "# Entrenamiento\n",
    "start_fit = time.time()\n",
    "model_catboost_final = CatBoostRegressor(\n",
    "    learning_rate=0.05, depth = 15, iterations = 10, random_seed=1\n",
    ")\n",
    "model_catboost_final.fit(feat_train_non_ohe, target_train_non_ohe, cat_features = list_cats)\n",
    "time_fit = time.time() - start_fit\n",
    "\n",
    "# Predecimos\n",
    "start_prediction = time.time()\n",
    "predictions_catboost = model_catboost_final.predict(feat_test_non_ohe)\n",
    "time_prediction = time.time() - start_prediction\n",
    "\n",
    "# Score\n",
    "score_catboost = mean_squared_error(target_test_non_ohe, predictions_catboost)**0.5\n",
    "\n",
    "# Resultados\n",
    "resultados_catboost = [\"CatBoost\", time_fit, time_prediction, score_catboost]"
   ]
  },
  {
   "cell_type": "code",
   "execution_count": 202,
   "metadata": {},
   "outputs": [
    {
     "data": {
      "text/html": [
       "<div>\n",
       "<style scoped>\n",
       "    .dataframe tbody tr th:only-of-type {\n",
       "        vertical-align: middle;\n",
       "    }\n",
       "\n",
       "    .dataframe tbody tr th {\n",
       "        vertical-align: top;\n",
       "    }\n",
       "\n",
       "    .dataframe thead th {\n",
       "        text-align: right;\n",
       "    }\n",
       "</style>\n",
       "<table border=\"1\" class=\"dataframe\">\n",
       "  <thead>\n",
       "    <tr style=\"text-align: right;\">\n",
       "      <th></th>\n",
       "      <th>Modelo</th>\n",
       "      <th>Tiempo de Ajuste</th>\n",
       "      <th>Tiempo de Predicción</th>\n",
       "      <th>RMSE</th>\n",
       "    </tr>\n",
       "  </thead>\n",
       "  <tbody>\n",
       "    <tr>\n",
       "      <th>0</th>\n",
       "      <td>Regresión lineal</td>\n",
       "      <td>16.157108</td>\n",
       "      <td>0.201374</td>\n",
       "      <td>2634.797212</td>\n",
       "    </tr>\n",
       "    <tr>\n",
       "      <th>1</th>\n",
       "      <td>Bosque aleatorio</td>\n",
       "      <td>178.563302</td>\n",
       "      <td>1.571493</td>\n",
       "      <td>1589.453325</td>\n",
       "    </tr>\n",
       "    <tr>\n",
       "      <th>2</th>\n",
       "      <td>LightGBM</td>\n",
       "      <td>1.789781</td>\n",
       "      <td>0.291243</td>\n",
       "      <td>2147.516105</td>\n",
       "    </tr>\n",
       "    <tr>\n",
       "      <th>3</th>\n",
       "      <td>CatBoost</td>\n",
       "      <td>12.064708</td>\n",
       "      <td>0.081067</td>\n",
       "      <td>3234.560596</td>\n",
       "    </tr>\n",
       "  </tbody>\n",
       "</table>\n",
       "</div>"
      ],
      "text/plain": [
       "             Modelo  Tiempo de Ajuste  Tiempo de Predicción         RMSE\n",
       "0  Regresión lineal         16.157108              0.201374  2634.797212\n",
       "1  Bosque aleatorio        178.563302              1.571493  1589.453325\n",
       "2          LightGBM          1.789781              0.291243  2147.516105\n",
       "3          CatBoost         12.064708              0.081067  3234.560596"
      ]
     },
     "metadata": {},
     "output_type": "display_data"
    }
   ],
   "source": [
    "# Veamos que tenemos\n",
    "resultados = pd.DataFrame(\n",
    "    [resultados_lr, resultados_forest, resultados_lightgbm, resultados_catboost],\n",
    "    columns = [\"Modelo\", \"Tiempo de Ajuste\", \"Tiempo de Predicción\", \"RMSE\"]\n",
    ")\n",
    "\n",
    "display(\n",
    "    resultados\n",
    ")"
   ]
  },
  {
   "cell_type": "markdown",
   "metadata": {},
   "source": [
    "## Análisis del modelo <a class=\"anchor\" id=\"section4\"></a>\n",
    "Ahora que contamos con toda nuestra información podemos hacer gráficos para entender como es el rendimiento de nuestros modelos en tiempo y métricas RMSE."
   ]
  },
  {
   "cell_type": "code",
   "execution_count": 203,
   "metadata": {},
   "outputs": [
    {
     "data": {
      "image/png": "[encoded data removed]",
      "text/plain": [
       "<Figure size 1080x360 with 3 Axes>"
      ]
     },
     "metadata": {
      "needs_background": "light"
     },
     "output_type": "display_data"
    }
   ],
   "source": [
    "fig, axes = plt.subplots(1,3, figsize=(15,5))\n",
    "\n",
    "resultados.plot(x=\"Modelo\", y=\"Tiempo de Ajuste\", kind=\"bar\", rot=30, ax=axes[0])\n",
    "resultados.plot(x=\"Modelo\", y=\"Tiempo de Predicción\", kind=\"bar\", rot=30, ax=axes[1])\n",
    "resultados.plot(x=\"Modelo\", y=\"RMSE\", kind=\"bar\", rot=30, ax=axes[2])\n",
    "\n",
    "axes[0].set_title(\"Tiempo de Ajuste por Modelo (s)\")\n",
    "axes[1].set_title(\"Tiempo de Predicción por Modelo (s)\")\n",
    "axes[2].set_title(\"RMSE\")\n",
    "\n",
    "axes[0].set_xlabel(\"\")\n",
    "axes[1].set_xlabel(\"\")\n",
    "axes[2].set_xlabel(\"\")\n",
    "\n",
    "plt.show()"
   ]
  },
  {
   "cell_type": "markdown",
   "metadata": {},
   "source": [
    "De la figura podemos ver que claramente el modelo que mejor tiempo de ajuste fue el de LightGBM en contra del claro perdedor de Bosque aleatorio: la proporción es de más de 80:1. Podemos decir que usar LightGBM es mucho más rápido y puede ser usado como una primer inspección (no tiene los mejores resultados).\n",
    "\n",
    "En el caso de la predicción igual el bosque aleatorio sufre de un tiempo mucho mayor que el resto, pero el órden ya no es el mismo: aquí CatBoost es el ganador.\n",
    "\n",
    "En el caso de la métrica RMSE, el claro ganador es el Bosque Aleatorio: tiene el valor más bajo pero el tiempo de cómputo es muy alto: para un momento en que se necesite una mucha mayor predicción es útil, pero si la diferencia no es tan sensible podría preferirse usar un modelo menos preciso pero más rápido de ejecutar."
   ]
  }
 ],
 "metadata": {
  "kernelspec": {
   "display_name": "Python 3 (ipykernel)",
   "language": "python",
   "name": "python3"
  },
  "language_info": {
   "codemirror_mode": {
    "name": "ipython",
    "version": 3
   },
   "file_extension": ".py",
   "mimetype": "text/x-python",
   "name": "python",
   "nbconvert_exporter": "python",
   "pygments_lexer": "ipython3",
   "version": "3.9.5"
  },
  "toc": {
   "base_numbering": 1,
   "nav_menu": {},
   "number_sections": true,
   "sideBar": true,
   "skip_h1_title": true,
   "title_cell": "Table of Contents",
   "title_sidebar": "Contents",
   "toc_cell": false,
   "toc_position": {},
   "toc_section_display": true,
   "toc_window_display": false
  }
 },
 "nbformat": 4,
 "nbformat_minor": 2
}
