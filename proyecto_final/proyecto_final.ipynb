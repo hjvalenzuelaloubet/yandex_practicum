{
 "cells": [
  {
   "attachments": {},
   "cell_type": "markdown",
   "metadata": {},
   "source": [
    "# Análisis de Interconnect\n",
    "\n",
    "Al operador de telecomunicaciones Interconnect le gustaría poder pronosticar su tasa de cancelación de clientes. Si se descubre que un usuario o usuaria planea irse, se le ofrecerán códigos promocionales y opciones de planes especiales. El equipo de marketing de Interconnect ha recopilado algunos de los datos personales de sus clientes, incluyendo información sobre sus planes y contratos."
   ]
  },
  {
   "attachments": {},
   "cell_type": "markdown",
   "metadata": {},
   "source": [
    "## Trabajo previo"
   ]
  },
  {
   "attachments": {},
   "cell_type": "markdown",
   "metadata": {},
   "source": [
    "### Importar librerías"
   ]
  },
  {
   "cell_type": "code",
   "execution_count": 1,
   "metadata": {},
   "outputs": [],
   "source": [
    "# Importamos los módulos necesarios\n",
    "import pandas as pd\n",
    "import numpy as np\n",
    "import matplotlib.pyplot as plt\n",
    "import seaborn as sns\n",
    "\n",
    "# Para trabajar mejor\n",
    "import typing\n",
    "from re import sub"
   ]
  },
  {
   "attachments": {},
   "cell_type": "markdown",
   "metadata": {},
   "source": [
    "### Trabajar con los datos"
   ]
  },
  {
   "attachments": {},
   "cell_type": "markdown",
   "metadata": {},
   "source": [
    "#### Cargar los datasets"
   ]
  },
  {
   "cell_type": "code",
   "execution_count": 2,
   "metadata": {},
   "outputs": [],
   "source": [
    "# Creemos dataframes para los valores que tenemos\n",
    "df_contract = pd.read_csv(\"data/contract.csv\")\n",
    "df_internet = pd.read_csv(\"data/internet.csv\")\n",
    "df_personal = pd.read_csv(\"data/personal.csv\")\n",
    "df_phone = pd.read_csv(\"data/phone.csv\")\n"
   ]
  },
  {
   "cell_type": "code",
   "execution_count": 3,
   "metadata": {},
   "outputs": [
    {
     "name": "stdout",
     "output_type": "stream",
     "text": [
      "<class 'pandas.core.frame.DataFrame'>\n",
      "RangeIndex: 7043 entries, 0 to 7042\n",
      "Data columns (total 8 columns):\n",
      " #   Column            Non-Null Count  Dtype  \n",
      "---  ------            --------------  -----  \n",
      " 0   customerID        7043 non-null   object \n",
      " 1   BeginDate         7043 non-null   object \n",
      " 2   EndDate           7043 non-null   object \n",
      " 3   Type              7043 non-null   object \n",
      " 4   PaperlessBilling  7043 non-null   object \n",
      " 5   PaymentMethod     7043 non-null   object \n",
      " 6   MonthlyCharges    7043 non-null   float64\n",
      " 7   TotalCharges      7043 non-null   object \n",
      "dtypes: float64(1), object(7)\n",
      "memory usage: 440.3+ KB\n",
      "<class 'pandas.core.frame.DataFrame'>\n",
      "RangeIndex: 5517 entries, 0 to 5516\n",
      "Data columns (total 8 columns):\n",
      " #   Column            Non-Null Count  Dtype \n",
      "---  ------            --------------  ----- \n",
      " 0   customerID        5517 non-null   object\n",
      " 1   InternetService   5517 non-null   object\n",
      " 2   OnlineSecurity    5517 non-null   object\n",
      " 3   OnlineBackup      5517 non-null   object\n",
      " 4   DeviceProtection  5517 non-null   object\n",
      " 5   TechSupport       5517 non-null   object\n",
      " 6   StreamingTV       5517 non-null   object\n",
      " 7   StreamingMovies   5517 non-null   object\n",
      "dtypes: object(8)\n",
      "memory usage: 344.9+ KB\n",
      "<class 'pandas.core.frame.DataFrame'>\n",
      "RangeIndex: 7043 entries, 0 to 7042\n",
      "Data columns (total 5 columns):\n",
      " #   Column         Non-Null Count  Dtype \n",
      "---  ------         --------------  ----- \n",
      " 0   customerID     7043 non-null   object\n",
      " 1   gender         7043 non-null   object\n",
      " 2   SeniorCitizen  7043 non-null   int64 \n",
      " 3   Partner        7043 non-null   object\n",
      " 4   Dependents     7043 non-null   object\n",
      "dtypes: int64(1), object(4)\n",
      "memory usage: 275.2+ KB\n",
      "<class 'pandas.core.frame.DataFrame'>\n",
      "RangeIndex: 6361 entries, 0 to 6360\n",
      "Data columns (total 2 columns):\n",
      " #   Column         Non-Null Count  Dtype \n",
      "---  ------         --------------  ----- \n",
      " 0   customerID     6361 non-null   object\n",
      " 1   MultipleLines  6361 non-null   object\n",
      "dtypes: object(2)\n",
      "memory usage: 99.5+ KB\n"
     ]
    }
   ],
   "source": [
    "# Mostremos la info de los dataframes que tenemos\n",
    "df_contract.info()\n",
    "df_internet.info()\n",
    "df_personal.info()\n",
    "df_phone.info()\n",
    "\n",
    "# Estos nos servirá después para limpiar\n",
    "dataframe_list = [df_contract, df_internet, df_personal, df_phone]\n",
    "dataframe_list_keys = [\"df_contract\", \"df_internet\", \"df_personal\", \"df_phone\"]"
   ]
  },
  {
   "attachments": {},
   "cell_type": "markdown",
   "metadata": {},
   "source": [
    "Parece que no tenemos nulos, pero no necesariamente todos los valores tengan sentido, así que tendremos echar un vistazo a ellos. Por otro lado, pueden existir duplicados y  los nombres de columnas no siguen el formato de _snake case_ así que tendremos que cambiarlos; empecemos con esto último."
   ]
  },
  {
   "attachments": {},
   "cell_type": "markdown",
   "metadata": {},
   "source": [
    "#### Cambio de nombres de columnas"
   ]
  },
  {
   "cell_type": "code",
   "execution_count": 4,
   "metadata": {},
   "outputs": [],
   "source": [
    "# Definamos una función para esto\n",
    "def snake_caser(var_string: str) -> str:\n",
    "    return sub(r'([a-z](?=[A-Z])|[A-Z](?=[A-Z][a-z]))', r'\\1_',var_string).lower()\n",
    "\n",
    "def snake_caser_list(input_list: list) -> list:\n",
    "    return [snake_caser(item) for item in input_list]\n"
   ]
  },
  {
   "cell_type": "code",
   "execution_count": 5,
   "metadata": {},
   "outputs": [
    {
     "name": "stdout",
     "output_type": "stream",
     "text": [
      "Index(['customer_id', 'begin_date', 'end_date', 'type', 'paperless_billing',\n",
      "       'payment_method', 'monthly_charges', 'total_charges'],\n",
      "      dtype='object')\n",
      "Index(['customer_id', 'internet_service', 'online_security', 'online_backup',\n",
      "       'device_protection', 'tech_support', 'streaming_tv',\n",
      "       'streaming_movies'],\n",
      "      dtype='object')\n",
      "Index(['customer_id', 'gender', 'senior_citizen', 'partner', 'dependents'], dtype='object')\n",
      "Index(['customer_id', 'multiple_lines'], dtype='object')\n"
     ]
    }
   ],
   "source": [
    "# Aplicamos\n",
    "for df in dataframe_list:\n",
    "    df.columns = snake_caser_list(df.columns)\n",
    "    print(df.columns)"
   ]
  },
  {
   "attachments": {},
   "cell_type": "markdown",
   "metadata": {},
   "source": [
    "Se ve mucho mejor, tener las columnas con el nombre apropiado es muy útil para trabajar. Prosigamos a ver si existen duplicados por el customer_id."
   ]
  },
  {
   "attachments": {},
   "cell_type": "markdown",
   "metadata": {},
   "source": [
    "#### Revisión de duplicados"
   ]
  },
  {
   "cell_type": "code",
   "execution_count": 6,
   "metadata": {},
   "outputs": [
    {
     "name": "stdout",
     "output_type": "stream",
     "text": [
      "Duplicados\n",
      "df_contract :  0\n",
      "df_internet :  0\n",
      "df_personal :  0\n",
      "df_phone :  0\n"
     ]
    }
   ],
   "source": [
    "# Veamos duplicados por customer_id\n",
    "print(\"Duplicados\")\n",
    "\n",
    "for df, key in zip(dataframe_list, dataframe_list_keys):\n",
    "    print(\n",
    "        key,\": \", len(df[df.duplicated(subset=\"customer_id\")])\n",
    "    )"
   ]
  },
  {
   "attachments": {},
   "cell_type": "markdown",
   "metadata": {},
   "source": [
    "No tenemos duplicados, ahora echaremos un vistazo rápido a una muestra de elementos de cada dataset para ver que tenemos en cada dataset."
   ]
  },
  {
   "attachments": {},
   "cell_type": "markdown",
   "metadata": {},
   "source": [
    "#### Vistazo general de samples"
   ]
  },
  {
   "cell_type": "code",
   "execution_count": 7,
   "metadata": {},
   "outputs": [
    {
     "name": "stdout",
     "output_type": "stream",
     "text": [
      "df_contract\n"
     ]
    },
    {
     "data": {
      "text/html": [
       "<div>\n",
       "<style scoped>\n",
       "    .dataframe tbody tr th:only-of-type {\n",
       "        vertical-align: middle;\n",
       "    }\n",
       "\n",
       "    .dataframe tbody tr th {\n",
       "        vertical-align: top;\n",
       "    }\n",
       "\n",
       "    .dataframe thead th {\n",
       "        text-align: right;\n",
       "    }\n",
       "</style>\n",
       "<table border=\"1\" class=\"dataframe\">\n",
       "  <thead>\n",
       "    <tr style=\"text-align: right;\">\n",
       "      <th></th>\n",
       "      <th>customer_id</th>\n",
       "      <th>begin_date</th>\n",
       "      <th>end_date</th>\n",
       "      <th>type</th>\n",
       "      <th>paperless_billing</th>\n",
       "      <th>payment_method</th>\n",
       "      <th>monthly_charges</th>\n",
       "      <th>total_charges</th>\n",
       "    </tr>\n",
       "  </thead>\n",
       "  <tbody>\n",
       "    <tr>\n",
       "      <th>1128</th>\n",
       "      <td>0098-BOWSO</td>\n",
       "      <td>2017-11-01</td>\n",
       "      <td>No</td>\n",
       "      <td>Month-to-month</td>\n",
       "      <td>Yes</td>\n",
       "      <td>Electronic check</td>\n",
       "      <td>19.40</td>\n",
       "      <td>529.8</td>\n",
       "    </tr>\n",
       "    <tr>\n",
       "      <th>2875</th>\n",
       "      <td>9992-RRAMN</td>\n",
       "      <td>2018-02-01</td>\n",
       "      <td>2019-12-01 00:00:00</td>\n",
       "      <td>Month-to-month</td>\n",
       "      <td>Yes</td>\n",
       "      <td>Electronic check</td>\n",
       "      <td>85.10</td>\n",
       "      <td>1873.7</td>\n",
       "    </tr>\n",
       "    <tr>\n",
       "      <th>1783</th>\n",
       "      <td>8380-PEFPE</td>\n",
       "      <td>2019-09-01</td>\n",
       "      <td>2019-10-01 00:00:00</td>\n",
       "      <td>Month-to-month</td>\n",
       "      <td>Yes</td>\n",
       "      <td>Electronic check</td>\n",
       "      <td>71.65</td>\n",
       "      <td>71.65</td>\n",
       "    </tr>\n",
       "    <tr>\n",
       "      <th>3804</th>\n",
       "      <td>9773-PEQBZ</td>\n",
       "      <td>2019-04-01</td>\n",
       "      <td>No</td>\n",
       "      <td>Month-to-month</td>\n",
       "      <td>No</td>\n",
       "      <td>Electronic check</td>\n",
       "      <td>79.85</td>\n",
       "      <td>797.25</td>\n",
       "    </tr>\n",
       "    <tr>\n",
       "      <th>6087</th>\n",
       "      <td>8319-QBEHW</td>\n",
       "      <td>2017-12-01</td>\n",
       "      <td>No</td>\n",
       "      <td>One year</td>\n",
       "      <td>Yes</td>\n",
       "      <td>Bank transfer (automatic)</td>\n",
       "      <td>39.95</td>\n",
       "      <td>1023.75</td>\n",
       "    </tr>\n",
       "    <tr>\n",
       "      <th>2071</th>\n",
       "      <td>3392-EHMNK</td>\n",
       "      <td>2014-07-01</td>\n",
       "      <td>No</td>\n",
       "      <td>Two year</td>\n",
       "      <td>No</td>\n",
       "      <td>Credit card (automatic)</td>\n",
       "      <td>94.10</td>\n",
       "      <td>6302.8</td>\n",
       "    </tr>\n",
       "    <tr>\n",
       "      <th>2395</th>\n",
       "      <td>6486-LHTMA</td>\n",
       "      <td>2017-07-01</td>\n",
       "      <td>No</td>\n",
       "      <td>One year</td>\n",
       "      <td>Yes</td>\n",
       "      <td>Electronic check</td>\n",
       "      <td>90.70</td>\n",
       "      <td>2835.5</td>\n",
       "    </tr>\n",
       "    <tr>\n",
       "      <th>4660</th>\n",
       "      <td>0883-EIBTI</td>\n",
       "      <td>2019-10-01</td>\n",
       "      <td>2019-12-01 00:00:00</td>\n",
       "      <td>Month-to-month</td>\n",
       "      <td>No</td>\n",
       "      <td>Mailed check</td>\n",
       "      <td>19.50</td>\n",
       "      <td>31.55</td>\n",
       "    </tr>\n",
       "    <tr>\n",
       "      <th>372</th>\n",
       "      <td>6122-EFVKN</td>\n",
       "      <td>2018-02-01</td>\n",
       "      <td>No</td>\n",
       "      <td>Two year</td>\n",
       "      <td>No</td>\n",
       "      <td>Mailed check</td>\n",
       "      <td>35.75</td>\n",
       "      <td>830.8</td>\n",
       "    </tr>\n",
       "    <tr>\n",
       "      <th>1143</th>\n",
       "      <td>2446-ZKVAF</td>\n",
       "      <td>2018-08-01</td>\n",
       "      <td>No</td>\n",
       "      <td>Month-to-month</td>\n",
       "      <td>No</td>\n",
       "      <td>Credit card (automatic)</td>\n",
       "      <td>56.80</td>\n",
       "      <td>1074.65</td>\n",
       "    </tr>\n",
       "  </tbody>\n",
       "</table>\n",
       "</div>"
      ],
      "text/plain": [
       "     customer_id  begin_date             end_date            type   \n",
       "1128  0098-BOWSO  2017-11-01                   No  Month-to-month  \\\n",
       "2875  9992-RRAMN  2018-02-01  2019-12-01 00:00:00  Month-to-month   \n",
       "1783  8380-PEFPE  2019-09-01  2019-10-01 00:00:00  Month-to-month   \n",
       "3804  9773-PEQBZ  2019-04-01                   No  Month-to-month   \n",
       "6087  8319-QBEHW  2017-12-01                   No        One year   \n",
       "2071  3392-EHMNK  2014-07-01                   No        Two year   \n",
       "2395  6486-LHTMA  2017-07-01                   No        One year   \n",
       "4660  0883-EIBTI  2019-10-01  2019-12-01 00:00:00  Month-to-month   \n",
       "372   6122-EFVKN  2018-02-01                   No        Two year   \n",
       "1143  2446-ZKVAF  2018-08-01                   No  Month-to-month   \n",
       "\n",
       "     paperless_billing             payment_method  monthly_charges   \n",
       "1128               Yes           Electronic check            19.40  \\\n",
       "2875               Yes           Electronic check            85.10   \n",
       "1783               Yes           Electronic check            71.65   \n",
       "3804                No           Electronic check            79.85   \n",
       "6087               Yes  Bank transfer (automatic)            39.95   \n",
       "2071                No    Credit card (automatic)            94.10   \n",
       "2395               Yes           Electronic check            90.70   \n",
       "4660                No               Mailed check            19.50   \n",
       "372                 No               Mailed check            35.75   \n",
       "1143                No    Credit card (automatic)            56.80   \n",
       "\n",
       "     total_charges  \n",
       "1128         529.8  \n",
       "2875        1873.7  \n",
       "1783         71.65  \n",
       "3804        797.25  \n",
       "6087       1023.75  \n",
       "2071        6302.8  \n",
       "2395        2835.5  \n",
       "4660         31.55  \n",
       "372          830.8  \n",
       "1143       1074.65  "
      ]
     },
     "metadata": {},
     "output_type": "display_data"
    },
    {
     "name": "stdout",
     "output_type": "stream",
     "text": [
      "\n",
      "df_internet\n"
     ]
    },
    {
     "data": {
      "text/html": [
       "<div>\n",
       "<style scoped>\n",
       "    .dataframe tbody tr th:only-of-type {\n",
       "        vertical-align: middle;\n",
       "    }\n",
       "\n",
       "    .dataframe tbody tr th {\n",
       "        vertical-align: top;\n",
       "    }\n",
       "\n",
       "    .dataframe thead th {\n",
       "        text-align: right;\n",
       "    }\n",
       "</style>\n",
       "<table border=\"1\" class=\"dataframe\">\n",
       "  <thead>\n",
       "    <tr style=\"text-align: right;\">\n",
       "      <th></th>\n",
       "      <th>customer_id</th>\n",
       "      <th>internet_service</th>\n",
       "      <th>online_security</th>\n",
       "      <th>online_backup</th>\n",
       "      <th>device_protection</th>\n",
       "      <th>tech_support</th>\n",
       "      <th>streaming_tv</th>\n",
       "      <th>streaming_movies</th>\n",
       "    </tr>\n",
       "  </thead>\n",
       "  <tbody>\n",
       "    <tr>\n",
       "      <th>4878</th>\n",
       "      <td>7823-JSOAG</td>\n",
       "      <td>Fiber optic</td>\n",
       "      <td>No</td>\n",
       "      <td>No</td>\n",
       "      <td>No</td>\n",
       "      <td>No</td>\n",
       "      <td>No</td>\n",
       "      <td>No</td>\n",
       "    </tr>\n",
       "    <tr>\n",
       "      <th>5002</th>\n",
       "      <td>4450-YOOHP</td>\n",
       "      <td>DSL</td>\n",
       "      <td>No</td>\n",
       "      <td>No</td>\n",
       "      <td>Yes</td>\n",
       "      <td>No</td>\n",
       "      <td>Yes</td>\n",
       "      <td>Yes</td>\n",
       "    </tr>\n",
       "    <tr>\n",
       "      <th>4160</th>\n",
       "      <td>2498-XLDZR</td>\n",
       "      <td>DSL</td>\n",
       "      <td>Yes</td>\n",
       "      <td>Yes</td>\n",
       "      <td>Yes</td>\n",
       "      <td>Yes</td>\n",
       "      <td>No</td>\n",
       "      <td>Yes</td>\n",
       "    </tr>\n",
       "    <tr>\n",
       "      <th>683</th>\n",
       "      <td>7905-TVXTA</td>\n",
       "      <td>DSL</td>\n",
       "      <td>Yes</td>\n",
       "      <td>No</td>\n",
       "      <td>No</td>\n",
       "      <td>Yes</td>\n",
       "      <td>Yes</td>\n",
       "      <td>No</td>\n",
       "    </tr>\n",
       "    <tr>\n",
       "      <th>1930</th>\n",
       "      <td>9802-CAQUT</td>\n",
       "      <td>Fiber optic</td>\n",
       "      <td>Yes</td>\n",
       "      <td>Yes</td>\n",
       "      <td>Yes</td>\n",
       "      <td>No</td>\n",
       "      <td>Yes</td>\n",
       "      <td>Yes</td>\n",
       "    </tr>\n",
       "    <tr>\n",
       "      <th>2140</th>\n",
       "      <td>3387-VATUS</td>\n",
       "      <td>Fiber optic</td>\n",
       "      <td>No</td>\n",
       "      <td>No</td>\n",
       "      <td>No</td>\n",
       "      <td>No</td>\n",
       "      <td>Yes</td>\n",
       "      <td>Yes</td>\n",
       "    </tr>\n",
       "    <tr>\n",
       "      <th>2311</th>\n",
       "      <td>2845-AFFTX</td>\n",
       "      <td>Fiber optic</td>\n",
       "      <td>No</td>\n",
       "      <td>No</td>\n",
       "      <td>Yes</td>\n",
       "      <td>No</td>\n",
       "      <td>Yes</td>\n",
       "      <td>Yes</td>\n",
       "    </tr>\n",
       "    <tr>\n",
       "      <th>3417</th>\n",
       "      <td>0853-NWIFK</td>\n",
       "      <td>Fiber optic</td>\n",
       "      <td>Yes</td>\n",
       "      <td>Yes</td>\n",
       "      <td>No</td>\n",
       "      <td>No</td>\n",
       "      <td>Yes</td>\n",
       "      <td>Yes</td>\n",
       "    </tr>\n",
       "    <tr>\n",
       "      <th>1472</th>\n",
       "      <td>0973-KYVNF</td>\n",
       "      <td>DSL</td>\n",
       "      <td>Yes</td>\n",
       "      <td>Yes</td>\n",
       "      <td>Yes</td>\n",
       "      <td>No</td>\n",
       "      <td>Yes</td>\n",
       "      <td>No</td>\n",
       "    </tr>\n",
       "    <tr>\n",
       "      <th>4716</th>\n",
       "      <td>9253-QXKBE</td>\n",
       "      <td>Fiber optic</td>\n",
       "      <td>No</td>\n",
       "      <td>No</td>\n",
       "      <td>No</td>\n",
       "      <td>No</td>\n",
       "      <td>Yes</td>\n",
       "      <td>Yes</td>\n",
       "    </tr>\n",
       "  </tbody>\n",
       "</table>\n",
       "</div>"
      ],
      "text/plain": [
       "     customer_id internet_service online_security online_backup   \n",
       "4878  7823-JSOAG      Fiber optic              No            No  \\\n",
       "5002  4450-YOOHP              DSL              No            No   \n",
       "4160  2498-XLDZR              DSL             Yes           Yes   \n",
       "683   7905-TVXTA              DSL             Yes            No   \n",
       "1930  9802-CAQUT      Fiber optic             Yes           Yes   \n",
       "2140  3387-VATUS      Fiber optic              No            No   \n",
       "2311  2845-AFFTX      Fiber optic              No            No   \n",
       "3417  0853-NWIFK      Fiber optic             Yes           Yes   \n",
       "1472  0973-KYVNF              DSL             Yes           Yes   \n",
       "4716  9253-QXKBE      Fiber optic              No            No   \n",
       "\n",
       "     device_protection tech_support streaming_tv streaming_movies  \n",
       "4878                No           No           No               No  \n",
       "5002               Yes           No          Yes              Yes  \n",
       "4160               Yes          Yes           No              Yes  \n",
       "683                 No          Yes          Yes               No  \n",
       "1930               Yes           No          Yes              Yes  \n",
       "2140                No           No          Yes              Yes  \n",
       "2311               Yes           No          Yes              Yes  \n",
       "3417                No           No          Yes              Yes  \n",
       "1472               Yes           No          Yes               No  \n",
       "4716                No           No          Yes              Yes  "
      ]
     },
     "metadata": {},
     "output_type": "display_data"
    },
    {
     "name": "stdout",
     "output_type": "stream",
     "text": [
      "\n",
      "df_personal\n"
     ]
    },
    {
     "data": {
      "text/html": [
       "<div>\n",
       "<style scoped>\n",
       "    .dataframe tbody tr th:only-of-type {\n",
       "        vertical-align: middle;\n",
       "    }\n",
       "\n",
       "    .dataframe tbody tr th {\n",
       "        vertical-align: top;\n",
       "    }\n",
       "\n",
       "    .dataframe thead th {\n",
       "        text-align: right;\n",
       "    }\n",
       "</style>\n",
       "<table border=\"1\" class=\"dataframe\">\n",
       "  <thead>\n",
       "    <tr style=\"text-align: right;\">\n",
       "      <th></th>\n",
       "      <th>customer_id</th>\n",
       "      <th>gender</th>\n",
       "      <th>senior_citizen</th>\n",
       "      <th>partner</th>\n",
       "      <th>dependents</th>\n",
       "    </tr>\n",
       "  </thead>\n",
       "  <tbody>\n",
       "    <tr>\n",
       "      <th>1128</th>\n",
       "      <td>0098-BOWSO</td>\n",
       "      <td>Male</td>\n",
       "      <td>0</td>\n",
       "      <td>No</td>\n",
       "      <td>No</td>\n",
       "    </tr>\n",
       "    <tr>\n",
       "      <th>2875</th>\n",
       "      <td>9992-RRAMN</td>\n",
       "      <td>Male</td>\n",
       "      <td>0</td>\n",
       "      <td>Yes</td>\n",
       "      <td>No</td>\n",
       "    </tr>\n",
       "    <tr>\n",
       "      <th>1783</th>\n",
       "      <td>8380-PEFPE</td>\n",
       "      <td>Male</td>\n",
       "      <td>0</td>\n",
       "      <td>No</td>\n",
       "      <td>Yes</td>\n",
       "    </tr>\n",
       "    <tr>\n",
       "      <th>3804</th>\n",
       "      <td>9773-PEQBZ</td>\n",
       "      <td>Male</td>\n",
       "      <td>0</td>\n",
       "      <td>No</td>\n",
       "      <td>No</td>\n",
       "    </tr>\n",
       "    <tr>\n",
       "      <th>6087</th>\n",
       "      <td>8319-QBEHW</td>\n",
       "      <td>Male</td>\n",
       "      <td>0</td>\n",
       "      <td>No</td>\n",
       "      <td>Yes</td>\n",
       "    </tr>\n",
       "    <tr>\n",
       "      <th>2071</th>\n",
       "      <td>3392-EHMNK</td>\n",
       "      <td>Female</td>\n",
       "      <td>0</td>\n",
       "      <td>Yes</td>\n",
       "      <td>Yes</td>\n",
       "    </tr>\n",
       "    <tr>\n",
       "      <th>2395</th>\n",
       "      <td>6486-LHTMA</td>\n",
       "      <td>Female</td>\n",
       "      <td>1</td>\n",
       "      <td>Yes</td>\n",
       "      <td>No</td>\n",
       "    </tr>\n",
       "    <tr>\n",
       "      <th>4660</th>\n",
       "      <td>0883-EIBTI</td>\n",
       "      <td>Female</td>\n",
       "      <td>0</td>\n",
       "      <td>No</td>\n",
       "      <td>No</td>\n",
       "    </tr>\n",
       "    <tr>\n",
       "      <th>372</th>\n",
       "      <td>6122-EFVKN</td>\n",
       "      <td>Male</td>\n",
       "      <td>0</td>\n",
       "      <td>No</td>\n",
       "      <td>Yes</td>\n",
       "    </tr>\n",
       "    <tr>\n",
       "      <th>1143</th>\n",
       "      <td>2446-ZKVAF</td>\n",
       "      <td>Male</td>\n",
       "      <td>0</td>\n",
       "      <td>Yes</td>\n",
       "      <td>No</td>\n",
       "    </tr>\n",
       "  </tbody>\n",
       "</table>\n",
       "</div>"
      ],
      "text/plain": [
       "     customer_id  gender  senior_citizen partner dependents\n",
       "1128  0098-BOWSO    Male               0      No         No\n",
       "2875  9992-RRAMN    Male               0     Yes         No\n",
       "1783  8380-PEFPE    Male               0      No        Yes\n",
       "3804  9773-PEQBZ    Male               0      No         No\n",
       "6087  8319-QBEHW    Male               0      No        Yes\n",
       "2071  3392-EHMNK  Female               0     Yes        Yes\n",
       "2395  6486-LHTMA  Female               1     Yes         No\n",
       "4660  0883-EIBTI  Female               0      No         No\n",
       "372   6122-EFVKN    Male               0      No        Yes\n",
       "1143  2446-ZKVAF    Male               0     Yes         No"
      ]
     },
     "metadata": {},
     "output_type": "display_data"
    },
    {
     "name": "stdout",
     "output_type": "stream",
     "text": [
      "\n",
      "df_phone\n"
     ]
    },
    {
     "data": {
      "text/html": [
       "<div>\n",
       "<style scoped>\n",
       "    .dataframe tbody tr th:only-of-type {\n",
       "        vertical-align: middle;\n",
       "    }\n",
       "\n",
       "    .dataframe tbody tr th {\n",
       "        vertical-align: top;\n",
       "    }\n",
       "\n",
       "    .dataframe thead th {\n",
       "        text-align: right;\n",
       "    }\n",
       "</style>\n",
       "<table border=\"1\" class=\"dataframe\">\n",
       "  <thead>\n",
       "    <tr style=\"text-align: right;\">\n",
       "      <th></th>\n",
       "      <th>customer_id</th>\n",
       "      <th>multiple_lines</th>\n",
       "    </tr>\n",
       "  </thead>\n",
       "  <tbody>\n",
       "    <tr>\n",
       "      <th>1649</th>\n",
       "      <td>8966-KZXXA</td>\n",
       "      <td>Yes</td>\n",
       "    </tr>\n",
       "    <tr>\n",
       "      <th>1920</th>\n",
       "      <td>7206-PQBBZ</td>\n",
       "      <td>No</td>\n",
       "    </tr>\n",
       "    <tr>\n",
       "      <th>2852</th>\n",
       "      <td>4567-AKPIA</td>\n",
       "      <td>Yes</td>\n",
       "    </tr>\n",
       "    <tr>\n",
       "      <th>911</th>\n",
       "      <td>7047-YXDMZ</td>\n",
       "      <td>No</td>\n",
       "    </tr>\n",
       "    <tr>\n",
       "      <th>6259</th>\n",
       "      <td>7619-PLRLP</td>\n",
       "      <td>Yes</td>\n",
       "    </tr>\n",
       "    <tr>\n",
       "      <th>3581</th>\n",
       "      <td>1304-NECVQ</td>\n",
       "      <td>Yes</td>\n",
       "    </tr>\n",
       "    <tr>\n",
       "      <th>5992</th>\n",
       "      <td>9248-OJYKK</td>\n",
       "      <td>Yes</td>\n",
       "    </tr>\n",
       "    <tr>\n",
       "      <th>3169</th>\n",
       "      <td>2921-XWDJH</td>\n",
       "      <td>No</td>\n",
       "    </tr>\n",
       "    <tr>\n",
       "      <th>3903</th>\n",
       "      <td>9134-WYRVP</td>\n",
       "      <td>No</td>\n",
       "    </tr>\n",
       "    <tr>\n",
       "      <th>121</th>\n",
       "      <td>3774-VBNXY</td>\n",
       "      <td>No</td>\n",
       "    </tr>\n",
       "  </tbody>\n",
       "</table>\n",
       "</div>"
      ],
      "text/plain": [
       "     customer_id multiple_lines\n",
       "1649  8966-KZXXA            Yes\n",
       "1920  7206-PQBBZ             No\n",
       "2852  4567-AKPIA            Yes\n",
       "911   7047-YXDMZ             No\n",
       "6259  7619-PLRLP            Yes\n",
       "3581  1304-NECVQ            Yes\n",
       "5992  9248-OJYKK            Yes\n",
       "3169  2921-XWDJH             No\n",
       "3903  9134-WYRVP             No\n",
       "121   3774-VBNXY             No"
      ]
     },
     "metadata": {},
     "output_type": "display_data"
    },
    {
     "name": "stdout",
     "output_type": "stream",
     "text": [
      "\n"
     ]
    }
   ],
   "source": [
    "for df, key in zip(dataframe_list, dataframe_list_keys):\n",
    "    print(key)\n",
    "    display(\n",
    "        df.sample(n=10, random_state=12345)\n",
    "    )\n",
    "    print()"
   ]
  },
  {
   "attachments": {},
   "cell_type": "markdown",
   "metadata": {},
   "source": [
    "Verificaremos que la información esta integra y que no tengamos typos (por ejemplo yes en vez de Yes). "
   ]
  },
  {
   "attachments": {},
   "cell_type": "markdown",
   "metadata": {},
   "source": [
    "#### Revisión de datos y cambio de tipos"
   ]
  },
  {
   "attachments": {},
   "cell_type": "markdown",
   "metadata": {},
   "source": [
    "Iremos tabla por tabla, empezamos con `df_phone`."
   ]
  },
  {
   "cell_type": "code",
   "execution_count": 8,
   "metadata": {},
   "outputs": [
    {
     "data": {
      "text/html": [
       "<div>\n",
       "<style scoped>\n",
       "    .dataframe tbody tr th:only-of-type {\n",
       "        vertical-align: middle;\n",
       "    }\n",
       "\n",
       "    .dataframe tbody tr th {\n",
       "        vertical-align: top;\n",
       "    }\n",
       "\n",
       "    .dataframe thead th {\n",
       "        text-align: right;\n",
       "    }\n",
       "</style>\n",
       "<table border=\"1\" class=\"dataframe\">\n",
       "  <thead>\n",
       "    <tr style=\"text-align: right;\">\n",
       "      <th></th>\n",
       "      <th>customer_id</th>\n",
       "      <th>multiple_lines</th>\n",
       "    </tr>\n",
       "  </thead>\n",
       "  <tbody>\n",
       "    <tr>\n",
       "      <th>count</th>\n",
       "      <td>6361</td>\n",
       "      <td>6361</td>\n",
       "    </tr>\n",
       "    <tr>\n",
       "      <th>unique</th>\n",
       "      <td>6361</td>\n",
       "      <td>2</td>\n",
       "    </tr>\n",
       "    <tr>\n",
       "      <th>top</th>\n",
       "      <td>5575-GNVDE</td>\n",
       "      <td>No</td>\n",
       "    </tr>\n",
       "    <tr>\n",
       "      <th>freq</th>\n",
       "      <td>1</td>\n",
       "      <td>3390</td>\n",
       "    </tr>\n",
       "  </tbody>\n",
       "</table>\n",
       "</div>"
      ],
      "text/plain": [
       "       customer_id multiple_lines\n",
       "count         6361           6361\n",
       "unique        6361              2\n",
       "top     5575-GNVDE             No\n",
       "freq             1           3390"
      ]
     },
     "execution_count": 8,
     "metadata": {},
     "output_type": "execute_result"
    }
   ],
   "source": [
    "df_phone.describe()"
   ]
  },
  {
   "attachments": {},
   "cell_type": "markdown",
   "metadata": {},
   "source": [
    "Todo se ve bien, podemos continuar con `df_personal`."
   ]
  },
  {
   "cell_type": "code",
   "execution_count": 9,
   "metadata": {},
   "outputs": [
    {
     "name": "stdout",
     "output_type": "stream",
     "text": [
      "['Female' 'Male']\n",
      "[0 1]\n",
      "['Yes' 'No']\n",
      "['No' 'Yes']\n"
     ]
    }
   ],
   "source": [
    "# Removemos customer_id ya que esos son únicos.\n",
    "for item in df_personal.drop(\"customer_id\", axis=1).columns:\n",
    "    print(df_personal[item].unique())"
   ]
  },
  {
   "attachments": {},
   "cell_type": "markdown",
   "metadata": {},
   "source": [
    "Igual, prosigamos a `df_internet`:"
   ]
  },
  {
   "cell_type": "code",
   "execution_count": 10,
   "metadata": {},
   "outputs": [
    {
     "name": "stdout",
     "output_type": "stream",
     "text": [
      "['DSL' 'Fiber optic']\n",
      "['No' 'Yes']\n",
      "['Yes' 'No']\n",
      "['No' 'Yes']\n",
      "['No' 'Yes']\n",
      "['No' 'Yes']\n",
      "['No' 'Yes']\n"
     ]
    }
   ],
   "source": [
    "# Removemos customer_id ya que esos son únicos.\n",
    "for item in df_internet.drop(\"customer_id\", axis=1).columns:\n",
    "    print(df_internet[item].unique())"
   ]
  },
  {
   "attachments": {},
   "cell_type": "markdown",
   "metadata": {},
   "source": [
    "Todo bien, vamos finalmente a `df_contract`."
   ]
  },
  {
   "cell_type": "code",
   "execution_count": 11,
   "metadata": {},
   "outputs": [
    {
     "name": "stdout",
     "output_type": "stream",
     "text": [
      "['2020-01-01' '2017-04-01' '2019-10-01' '2016-05-01' '2019-09-01'\n",
      " '2019-03-01' '2018-04-01' '2019-04-01' '2017-07-01' '2014-12-01'\n",
      " '2019-01-01' '2018-10-01' '2015-04-01' '2015-09-01' '2018-01-01'\n",
      " '2014-05-01' '2015-10-01' '2014-03-01' '2018-05-01' '2019-11-01'\n",
      " '2019-02-01' '2016-01-01' '2017-08-01' '2015-12-01' '2014-02-01'\n",
      " '2018-06-01' '2019-12-01' '2017-11-01' '2019-06-01' '2016-04-01'\n",
      " '2017-02-01' '2018-12-01' '2014-04-01' '2018-09-01' '2014-11-01'\n",
      " '2016-07-01' '2015-02-01' '2018-07-01' '2014-08-01' '2016-03-01'\n",
      " '2018-08-01' '2014-10-01' '2015-06-01' '2016-08-01' '2019-05-01'\n",
      " '2017-03-01' '2016-02-01' '2017-09-01' '2014-09-01' '2017-12-01'\n",
      " '2016-12-01' '2017-06-01' '2015-05-01' '2016-10-01' '2016-09-01'\n",
      " '2019-08-01' '2019-07-01' '2017-05-01' '2017-10-01' '2014-07-01'\n",
      " '2018-03-01' '2015-01-01' '2018-11-01' '2015-03-01' '2018-02-01'\n",
      " '2016-06-01' '2015-08-01' '2015-11-01' '2014-06-01' '2017-01-01'\n",
      " '2015-07-01' '2020-02-01' '2016-11-01' '2013-11-01' '2014-01-01'\n",
      " '2013-10-01' '2013-12-01']\n",
      "['No' '2019-12-01 00:00:00' '2019-11-01 00:00:00' '2019-10-01 00:00:00'\n",
      " '2020-01-01 00:00:00']\n",
      "['Month-to-month' 'One year' 'Two year']\n",
      "['Yes' 'No']\n",
      "['Electronic check' 'Mailed check' 'Bank transfer (automatic)'\n",
      " 'Credit card (automatic)']\n"
     ]
    }
   ],
   "source": [
    "# Removemos customer_id y los cargos\n",
    "for item in df_contract.drop([\"customer_id\", \"monthly_charges\", \"total_charges\"], axis=1).columns:\n",
    "    print(df_contract[item].unique())"
   ]
  },
  {
   "attachments": {},
   "cell_type": "markdown",
   "metadata": {},
   "source": [
    "No hay typos, sin embargo podemos mejorar nuestro trabajo convirtiendo las fechas en objeto fecha. Aquí sin embargo, tenemos un problema: mientrás que para `begin_date` todos los valores son fechas, para `end_date` tenemos el valor _No_, por lo que haremos algo con esto, crearemos una nueva columna llamada `end_service` que será Yes/No y removeremos los No de la columna para poder convertir al tipo datos."
   ]
  },
  {
   "cell_type": "code",
   "execution_count": 12,
   "metadata": {},
   "outputs": [
    {
     "name": "stdout",
     "output_type": "stream",
     "text": [
      "<class 'pandas.core.frame.DataFrame'>\n",
      "RangeIndex: 7043 entries, 0 to 7042\n",
      "Data columns (total 9 columns):\n",
      " #   Column             Non-Null Count  Dtype         \n",
      "---  ------             --------------  -----         \n",
      " 0   customer_id        7043 non-null   object        \n",
      " 1   begin_date         7043 non-null   datetime64[ns]\n",
      " 2   end_date           1869 non-null   datetime64[ns]\n",
      " 3   type               7043 non-null   object        \n",
      " 4   paperless_billing  7043 non-null   object        \n",
      " 5   payment_method     7043 non-null   object        \n",
      " 6   monthly_charges    7043 non-null   float64       \n",
      " 7   total_charges      7043 non-null   object        \n",
      " 8   end_service        7043 non-null   object        \n",
      "dtypes: datetime64[ns](2), float64(1), object(6)\n",
      "memory usage: 495.3+ KB\n"
     ]
    }
   ],
   "source": [
    "# Para begin_date sin problemas\n",
    "df_contract.begin_date = df_contract.begin_date.astype(\"datetime64[ns]\")\n",
    "\n",
    "# Creamos la nueva columna\n",
    "df_contract[\"end_service\"] = df_contract.end_date.apply(lambda value: \"No\" if value == \"No\" else \"Yes\")\n",
    "\n",
    "# Removamos los no y cambiemos el tipo\n",
    "df_contract.end_date = df_contract.end_date.apply(lambda value: \"\" if value == \"No\" else value)\n",
    "df_contract.end_date = df_contract.end_date.astype(\"datetime64[ns]\")\n",
    "\n",
    "# Mostremos un info para verificar todo\n",
    "df_contract.info()"
   ]
  },
  {
   "attachments": {},
   "cell_type": "markdown",
   "metadata": {},
   "source": [
    "Se ve mucho mejor, el hecho de que `end_date` tenga poco menos de 2000 no nulos se debe a que los otros no cancelarán el servicio."
   ]
  },
  {
   "attachments": {},
   "cell_type": "markdown",
   "metadata": {},
   "source": [
    "### Merge de los datasets\n",
    "Como ya hemos limpiado todos los datasets, podemos aprovechar que tenemos datos únicos para hacer el merge entre ellos usando `customer_id` como una llave."
   ]
  },
  {
   "cell_type": "code",
   "execution_count": 13,
   "metadata": {},
   "outputs": [
    {
     "name": "stdout",
     "output_type": "stream",
     "text": [
      "<class 'pandas.core.frame.DataFrame'>\n",
      "RangeIndex: 7043 entries, 0 to 7042\n",
      "Data columns (total 21 columns):\n",
      " #   Column             Non-Null Count  Dtype         \n",
      "---  ------             --------------  -----         \n",
      " 0   customer_id        7043 non-null   object        \n",
      " 1   begin_date         7043 non-null   datetime64[ns]\n",
      " 2   end_date           1869 non-null   datetime64[ns]\n",
      " 3   type               7043 non-null   object        \n",
      " 4   paperless_billing  7043 non-null   object        \n",
      " 5   payment_method     7043 non-null   object        \n",
      " 6   monthly_charges    7043 non-null   float64       \n",
      " 7   total_charges      7043 non-null   object        \n",
      " 8   end_service        7043 non-null   object        \n",
      " 9   gender             7043 non-null   object        \n",
      " 10  senior_citizen     7043 non-null   int64         \n",
      " 11  partner            7043 non-null   object        \n",
      " 12  dependents         7043 non-null   object        \n",
      " 13  multiple_lines     6361 non-null   object        \n",
      " 14  internet_service   5517 non-null   object        \n",
      " 15  online_security    5517 non-null   object        \n",
      " 16  online_backup      5517 non-null   object        \n",
      " 17  device_protection  5517 non-null   object        \n",
      " 18  tech_support       5517 non-null   object        \n",
      " 19  streaming_tv       5517 non-null   object        \n",
      " 20  streaming_movies   5517 non-null   object        \n",
      "dtypes: datetime64[ns](2), float64(1), int64(1), object(17)\n",
      "memory usage: 1.1+ MB\n"
     ]
    }
   ],
   "source": [
    "df_merged = df_contract.merge(df_personal).merge(df_phone, \"left\").merge(df_internet, \"left\").reset_index(drop=True)\n",
    "\n",
    "df_merged.info()"
   ]
  },
  {
   "attachments": {},
   "cell_type": "markdown",
   "metadata": {},
   "source": [
    "Tenemos bastantes nulos porque no todos los usuarios tienen los mismos servicios contratados (por ejemplo quien haya contratado internet sin línea telefónica tendrá vacíos los campos de `multiple_lines`). Para ayudarnos a hacer nuestro análisis, crearemos una nueva columna `services`, la cual indicará si el usuario tiene _phone_, _internet_ o _both_ (ambos). Antes de eso, llenaremos los nulos de las columnas con \"NA\" para que no sean nulos (a excepción de end_date)."
   ]
  },
  {
   "cell_type": "code",
   "execution_count": 14,
   "metadata": {},
   "outputs": [],
   "source": [
    "# Lista de columnas a fill\n",
    "columns_to_fill = list(df_internet.columns)\n",
    "columns_to_fill.append(\"multiple_lines\")\n",
    "\n",
    "columns_to_fill.pop(0)\n",
    "columns_to_fill\n",
    "\n",
    "# Llenamos\n",
    "df_merged[columns_to_fill] = df_merged[columns_to_fill].fillna(\"NA\")"
   ]
  },
  {
   "attachments": {},
   "cell_type": "markdown",
   "metadata": {},
   "source": [
    "Ahora sí, hacemos la nueva columna."
   ]
  },
  {
   "cell_type": "code",
   "execution_count": 15,
   "metadata": {},
   "outputs": [],
   "source": [
    "def service_classifier(row):\n",
    "    if row.multiple_lines == \"NA\":\n",
    "        return \"Internet\"\n",
    "    elif row.internet_service == \"NA\":\n",
    "        return \"Phone\"\n",
    "    else:\n",
    "        return \"Both\"\n",
    "        \n",
    "df_merged[\"service\"] = df_merged.apply(service_classifier, axis=1)"
   ]
  },
  {
   "attachments": {},
   "cell_type": "markdown",
   "metadata": {},
   "source": [
    "Veamos un pequeño sample de que tenemos para terminar."
   ]
  },
  {
   "cell_type": "code",
   "execution_count": 16,
   "metadata": {},
   "outputs": [
    {
     "data": {
      "text/html": [
       "<div>\n",
       "<style scoped>\n",
       "    .dataframe tbody tr th:only-of-type {\n",
       "        vertical-align: middle;\n",
       "    }\n",
       "\n",
       "    .dataframe tbody tr th {\n",
       "        vertical-align: top;\n",
       "    }\n",
       "\n",
       "    .dataframe thead th {\n",
       "        text-align: right;\n",
       "    }\n",
       "</style>\n",
       "<table border=\"1\" class=\"dataframe\">\n",
       "  <thead>\n",
       "    <tr style=\"text-align: right;\">\n",
       "      <th></th>\n",
       "      <th>customer_id</th>\n",
       "      <th>begin_date</th>\n",
       "      <th>end_date</th>\n",
       "      <th>type</th>\n",
       "      <th>paperless_billing</th>\n",
       "      <th>payment_method</th>\n",
       "      <th>monthly_charges</th>\n",
       "      <th>total_charges</th>\n",
       "      <th>end_service</th>\n",
       "      <th>gender</th>\n",
       "      <th>...</th>\n",
       "      <th>dependents</th>\n",
       "      <th>multiple_lines</th>\n",
       "      <th>internet_service</th>\n",
       "      <th>online_security</th>\n",
       "      <th>online_backup</th>\n",
       "      <th>device_protection</th>\n",
       "      <th>tech_support</th>\n",
       "      <th>streaming_tv</th>\n",
       "      <th>streaming_movies</th>\n",
       "      <th>service</th>\n",
       "    </tr>\n",
       "  </thead>\n",
       "  <tbody>\n",
       "    <tr>\n",
       "      <th>1128</th>\n",
       "      <td>0098-BOWSO</td>\n",
       "      <td>2017-11-01</td>\n",
       "      <td>NaT</td>\n",
       "      <td>Month-to-month</td>\n",
       "      <td>Yes</td>\n",
       "      <td>Electronic check</td>\n",
       "      <td>19.40</td>\n",
       "      <td>529.8</td>\n",
       "      <td>No</td>\n",
       "      <td>Male</td>\n",
       "      <td>...</td>\n",
       "      <td>No</td>\n",
       "      <td>No</td>\n",
       "      <td>NA</td>\n",
       "      <td>NA</td>\n",
       "      <td>NA</td>\n",
       "      <td>NA</td>\n",
       "      <td>NA</td>\n",
       "      <td>NA</td>\n",
       "      <td>NA</td>\n",
       "      <td>Phone</td>\n",
       "    </tr>\n",
       "    <tr>\n",
       "      <th>2875</th>\n",
       "      <td>9992-RRAMN</td>\n",
       "      <td>2018-02-01</td>\n",
       "      <td>2019-12-01</td>\n",
       "      <td>Month-to-month</td>\n",
       "      <td>Yes</td>\n",
       "      <td>Electronic check</td>\n",
       "      <td>85.10</td>\n",
       "      <td>1873.7</td>\n",
       "      <td>Yes</td>\n",
       "      <td>Male</td>\n",
       "      <td>...</td>\n",
       "      <td>No</td>\n",
       "      <td>Yes</td>\n",
       "      <td>Fiber optic</td>\n",
       "      <td>No</td>\n",
       "      <td>No</td>\n",
       "      <td>No</td>\n",
       "      <td>No</td>\n",
       "      <td>No</td>\n",
       "      <td>Yes</td>\n",
       "      <td>Both</td>\n",
       "    </tr>\n",
       "    <tr>\n",
       "      <th>1783</th>\n",
       "      <td>8380-PEFPE</td>\n",
       "      <td>2019-09-01</td>\n",
       "      <td>2019-10-01</td>\n",
       "      <td>Month-to-month</td>\n",
       "      <td>Yes</td>\n",
       "      <td>Electronic check</td>\n",
       "      <td>71.65</td>\n",
       "      <td>71.65</td>\n",
       "      <td>Yes</td>\n",
       "      <td>Male</td>\n",
       "      <td>...</td>\n",
       "      <td>Yes</td>\n",
       "      <td>No</td>\n",
       "      <td>Fiber optic</td>\n",
       "      <td>No</td>\n",
       "      <td>No</td>\n",
       "      <td>No</td>\n",
       "      <td>No</td>\n",
       "      <td>No</td>\n",
       "      <td>No</td>\n",
       "      <td>Both</td>\n",
       "    </tr>\n",
       "    <tr>\n",
       "      <th>3804</th>\n",
       "      <td>9773-PEQBZ</td>\n",
       "      <td>2019-04-01</td>\n",
       "      <td>NaT</td>\n",
       "      <td>Month-to-month</td>\n",
       "      <td>No</td>\n",
       "      <td>Electronic check</td>\n",
       "      <td>79.85</td>\n",
       "      <td>797.25</td>\n",
       "      <td>No</td>\n",
       "      <td>Male</td>\n",
       "      <td>...</td>\n",
       "      <td>No</td>\n",
       "      <td>Yes</td>\n",
       "      <td>Fiber optic</td>\n",
       "      <td>No</td>\n",
       "      <td>Yes</td>\n",
       "      <td>No</td>\n",
       "      <td>No</td>\n",
       "      <td>No</td>\n",
       "      <td>No</td>\n",
       "      <td>Both</td>\n",
       "    </tr>\n",
       "    <tr>\n",
       "      <th>6087</th>\n",
       "      <td>8319-QBEHW</td>\n",
       "      <td>2017-12-01</td>\n",
       "      <td>NaT</td>\n",
       "      <td>One year</td>\n",
       "      <td>Yes</td>\n",
       "      <td>Bank transfer (automatic)</td>\n",
       "      <td>39.95</td>\n",
       "      <td>1023.75</td>\n",
       "      <td>No</td>\n",
       "      <td>Male</td>\n",
       "      <td>...</td>\n",
       "      <td>Yes</td>\n",
       "      <td>NA</td>\n",
       "      <td>DSL</td>\n",
       "      <td>No</td>\n",
       "      <td>Yes</td>\n",
       "      <td>No</td>\n",
       "      <td>No</td>\n",
       "      <td>Yes</td>\n",
       "      <td>No</td>\n",
       "      <td>Internet</td>\n",
       "    </tr>\n",
       "  </tbody>\n",
       "</table>\n",
       "<p>5 rows × 22 columns</p>\n",
       "</div>"
      ],
      "text/plain": [
       "     customer_id begin_date   end_date            type paperless_billing   \n",
       "1128  0098-BOWSO 2017-11-01        NaT  Month-to-month               Yes  \\\n",
       "2875  9992-RRAMN 2018-02-01 2019-12-01  Month-to-month               Yes   \n",
       "1783  8380-PEFPE 2019-09-01 2019-10-01  Month-to-month               Yes   \n",
       "3804  9773-PEQBZ 2019-04-01        NaT  Month-to-month                No   \n",
       "6087  8319-QBEHW 2017-12-01        NaT        One year               Yes   \n",
       "\n",
       "                 payment_method  monthly_charges total_charges end_service   \n",
       "1128           Electronic check            19.40         529.8          No  \\\n",
       "2875           Electronic check            85.10        1873.7         Yes   \n",
       "1783           Electronic check            71.65         71.65         Yes   \n",
       "3804           Electronic check            79.85        797.25          No   \n",
       "6087  Bank transfer (automatic)            39.95       1023.75          No   \n",
       "\n",
       "     gender  ...  dependents multiple_lines internet_service online_security   \n",
       "1128   Male  ...          No             No               NA              NA  \\\n",
       "2875   Male  ...          No            Yes      Fiber optic              No   \n",
       "1783   Male  ...         Yes             No      Fiber optic              No   \n",
       "3804   Male  ...          No            Yes      Fiber optic              No   \n",
       "6087   Male  ...         Yes             NA              DSL              No   \n",
       "\n",
       "     online_backup device_protection tech_support streaming_tv   \n",
       "1128            NA                NA           NA           NA  \\\n",
       "2875            No                No           No           No   \n",
       "1783            No                No           No           No   \n",
       "3804           Yes                No           No           No   \n",
       "6087           Yes                No           No          Yes   \n",
       "\n",
       "     streaming_movies   service  \n",
       "1128               NA     Phone  \n",
       "2875              Yes      Both  \n",
       "1783               No      Both  \n",
       "3804               No      Both  \n",
       "6087               No  Internet  \n",
       "\n",
       "[5 rows x 22 columns]"
      ]
     },
     "execution_count": 16,
     "metadata": {},
     "output_type": "execute_result"
    }
   ],
   "source": [
    "df_merged.sample(n=5, random_state=12345)"
   ]
  },
  {
   "attachments": {},
   "cell_type": "markdown",
   "metadata": {},
   "source": [
    "## Análisis exploratorio de datos"
   ]
  },
  {
   "attachments": {},
   "cell_type": "markdown",
   "metadata": {},
   "source": [
    "Veamos primero como se dividen los usuarios que siguen y los que han abandonado el servicio."
   ]
  },
  {
   "cell_type": "code",
   "execution_count": 44,
   "metadata": {},
   "outputs": [
    {
     "data": {
      "image/png": "[encoded data removed]",
      "text/plain": [
       "<Figure size 500x500 with 1 Axes>"
      ]
     },
     "metadata": {},
     "output_type": "display_data"
    }
   ],
   "source": [
    "# Usamos set para estar más atractivo\n",
    "sns.set_theme()\n",
    "# Ploteamos\n",
    "df_merged.end_service.value_counts().plot(kind=\"bar\", figsize=(5,5), rot=45)\n",
    "\n",
    "plt.tight_layout()\n",
    "plt.xlabel(\"\")\n",
    "plt.title(\"Cancelación de clientes\")\n",
    "plt.show()"
   ]
  },
  {
   "attachments": {},
   "cell_type": "markdown",
   "metadata": {},
   "source": [
    "Tenemos un poco más de 5000 clientes que no han cancelado con casi 2000 que si lo han hecho: una relación de 2 a 5, o sea ~28% del total ha cancelado: es importante buscar una manera de reducir esas métricas. Veamos ahora como se distribuyen en el tipo de servicio que han contratado (internet, telefonía o ambos) y por la forma de facturación."
   ]
  },
  {
   "cell_type": "code",
   "execution_count": 182,
   "metadata": {},
   "outputs": [
    {
     "data": {
      "image/png": "[encoded data removed]",
      "text/plain": [
       "<Figure size 1000x500 with 2 Axes>"
      ]
     },
     "metadata": {},
     "output_type": "display_data"
    }
   ],
   "source": [
    "fig, ax = plt.subplots(2,1, figsize=(10, 5))\n",
    "\n",
    "# New queries\n",
    "df_no_end_service = df_merged.query(\"end_service == 'No'\")\n",
    "df_yes_end_service = df_merged.query(\"end_service == 'Yes'\")\n",
    "\n",
    "#df_merged.query(\"end_service == 'No'\").service.value_counts(normalize=True).plot(kind=\"bar\", ax=ax[0], rot=0)\n",
    "df_no_end_service.groupby([\"service\", \"type\"]).size().unstack().plot(kind=\"bar\", stacked=True, rot=0, ax=ax[0], )\n",
    "\n",
    "#df_merged.query(\"end_service == 'Yes'\").service.value_counts(normalize=True).plot(kind=\"bar\", ax=ax[1], rot=0)\n",
    "df_yes_end_service.groupby([\"service\", \"type\"]).size().unstack().plot(kind=\"bar\", stacked=True, rot=0, ax=ax[1])\n",
    "\n",
    "plt.suptitle(\"Número de usuarios por tipo\")\n",
    "\n",
    "# Embellecemos\n",
    "for ii in [0,1]:\n",
    "    ax[ii].set_xlabel(\"\")\n",
    "    ax[ii].legend([\"Mes a mes\", \"Un año\", \"Dos años\"], title=\"Facturación\", fontsize='small', title_fontsize=\"small\", loc=1)\n",
    "\n",
    "ax[0].set_title(\"Clientes que siguen con el servicio\")\n",
    "ax[1].set_title(\"Clientes que han cancelado\")\n",
    "\n",
    "plt.tight_layout()\n",
    "plt.show()"
   ]
  },
  {
   "attachments": {},
   "cell_type": "markdown",
   "metadata": {},
   "source": [
    "De esta figura se aprecia que la mayor cantidad de usuarios siempre es la que tiene ambos servicios contratados. Por el lado de los clientes que han cancelado es muy similar la proporción de los que usan internet contra celular, pero comparando con la de los usuarios que no cancelan podríamos aventurarnos a decir que la proporción de usuarios de internet que cancelan esta sobre representada y los que solo tienen teléfono cancelen menos de lo que uno esperaría. Por otro lado, es asombroso como se comportan los valores por el tipo de facturación: los usuarios que cancelan son principalmente de los que facturan mes a mes, esto puede deberse a no estar en un plazo forzoso. Ahora, también veamos como se comportan los usuarios según las fechas de inicio y de fin."
   ]
  },
  {
   "cell_type": "code",
   "execution_count": 173,
   "metadata": {},
   "outputs": [
    {
     "data": {
      "image/png": "[encoded data removed]",
      "text/plain": [
       "<Figure size 1000x500 with 2 Axes>"
      ]
     },
     "metadata": {},
     "output_type": "display_data"
    }
   ],
   "source": [
    "fig, ax = plt.subplots(2,1, figsize=(10, 5))\n",
    "\n",
    "# Ploteamos begin date\n",
    "df_yes_end_service.groupby(df_yes_end_service.begin_date.dt.year).begin_date.count().plot(\n",
    "    kind=\"line\", ax=ax[0], marker=\"o\"\n",
    ")\n",
    "\n",
    "df_no_end_service.groupby(df_no_end_service.begin_date.dt.year).begin_date.count().plot(\n",
    "    kind=\"line\", ax=ax[0], marker=\"o\"\n",
    ")\n",
    "\n",
    "ax[0].legend([\"Sí\", \"No\"], title=\"Fin del servicio\")\n",
    "ax[0].set_title(\"Estado del servicio del usuario con su año de inicio\")\n",
    "ax[0].set_xlabel(\"\")\n",
    "\n",
    "# Ploteamos end date para los que han cancelado\n",
    "df_yes_end_service.end_date.value_counts().sort_index().reindex([\"2019-10\", \"2019-11\", \"2019-12\", \"2020-1\"]).plot(\n",
    "    kind=\"bar\", ax=ax[1], rot=0\n",
    ")\n",
    "\n",
    "ax[1].set_title(\"Periodo de Cancelación del servicio\")\n",
    "ax[1].set_xlabel(\"\")\n",
    "\n",
    "plt.tight_layout()\n",
    "plt.show()"
   ]
  },
  {
   "attachments": {},
   "cell_type": "markdown",
   "metadata": {},
   "source": [
    "Interesante, de la primer gráfica es claro que los usuarios más antiguos tienden a permanecer en el servicio, mientrás que en fechas más recientes es donde se concentran los que cancelan: desde el 2018 son más comunes. Por otro lado, parece que en aquellos que cancelan, el periodo de cancelación es indiferente al mes: es casi idéntico en los valores que tenemos. Veamos ahora como se distribuye el costo mensual de los usuarios."
   ]
  },
  {
   "cell_type": "code",
   "execution_count": 186,
   "metadata": {},
   "outputs": [
    {
     "data": {
      "image/png": "[encoded data removed]",
      "text/plain": [
       "<Figure size 640x480 with 1 Axes>"
      ]
     },
     "metadata": {},
     "output_type": "display_data"
    }
   ],
   "source": [
    "df_merged.plot(kind=\"box\", column=\"monthly_charges\", by=\"end_service\", showmeans=True)\n",
    "\n",
    "plt.legend(\"A\")\n",
    "plt.title(\"Distribución de los cargos mensuales por estado de cancelación\")\n",
    "plt.show()"
   ]
  },
  {
   "attachments": {},
   "cell_type": "markdown",
   "metadata": {},
   "source": [
    "La gráfica de la distribución de los cargos es simple, pero indica que aunque los mínimos y máximos se hallan en posiciones similares, más no los cuartiles, ya que para los que han cancelado es más cerrado el conjunto. Si esto se une a que la mediana (y la media, con el triángulo verde) es mayor en estos nos dice que los usuarios que han cancelado suelen pagar más mensualmente que los que no: esto podría explicar porque terminan su contrato. Mostremos ahora las características sociodemográficas de los usuarios."
   ]
  },
  {
   "cell_type": "code",
   "execution_count": 222,
   "metadata": {},
   "outputs": [
    {
     "data": {
      "image/png": "[encoded data removed]",
      "text/plain": [
       "<Figure size 1600x500 with 4 Axes>"
      ]
     },
     "metadata": {},
     "output_type": "display_data"
    }
   ],
   "source": [
    "columns_sociodemografico = [\"gender\", \"senior_citizen\", \"partner\", \"dependents\"]\n",
    "titulos = [\"Género\", \"Tercera Edad\", \"Pareja\", \"Dependientes\"]\n",
    "\n",
    "# Ploteo\n",
    "fig, ax = plt.subplots(1,4, figsize=(16, 5))\n",
    "\n",
    "for column, count, title in zip(columns_sociodemografico, [0,1,2,3], titulos):\n",
    "    df = df_merged.value_counts([\"end_service\", column], normalize=False).unstack()\n",
    "    df.div(df.sum(axis=1), axis=0).plot(kind=\"bar\", stacked=True, rot=0, ax=ax[count])\n",
    "    ax[count].set_title(title)\n",
    "    ax[count].set_xlabel(\"\")\n",
    "\n",
    "# Detalles varios\n",
    "ax[0].legend([\"Mujer\", \"Hombre\"], loc=9)\n",
    "ax[1].legend([\"Menos de 65\", \"65+\"], loc=9)\n",
    "ax[2].legend([\"Sin pareja\", \"Pareja\"], loc=9)\n",
    "ax[3].legend([\"Sin dependientes\", \"Con dependientes\"], loc=9)\n",
    "\n",
    "plt.suptitle(\"Características sociodemográficas de los usuarios en relación al estado del cancelación\")\n",
    "plt.tight_layout()\n",
    "plt.show()"
   ]
  },
  {
   "attachments": {},
   "cell_type": "markdown",
   "metadata": {},
   "source": [
    "Tenemos varios puntos importantes que mencionar: el género es indistinto en si cancelan o no, no parece haber relación; por otro lado, los usuarios de la tercera edad si parecen cancelar más que los de menor edad, tal vez por falta de uso; en el caso de la pareja sucede que los usuarios que cancelan suelen no tener pareja esto implicaría que debido a ser menos personas que comparten el gasto, no es costable: esto se refuerza con la columna de dependientes, ya que los usuarios que cancelan no suelen tenerlos y absorben el costo completo."
   ]
  },
  {
   "cell_type": "code",
   "execution_count": null,
   "metadata": {},
   "outputs": [],
   "source": []
  }
 ],
 "metadata": {
  "kernelspec": {
   "display_name": "Python 3",
   "language": "python",
   "name": "python3"
  },
  "language_info": {
   "codemirror_mode": {
    "name": "ipython",
    "version": 3
   },
   "file_extension": ".py",
   "mimetype": "text/x-python",
   "name": "python",
   "nbconvert_exporter": "python",
   "pygments_lexer": "ipython3",
   "version": "3.10.6"
  },
  "orig_nbformat": 4
 },
 "nbformat": 4,
 "nbformat_minor": 2
}
