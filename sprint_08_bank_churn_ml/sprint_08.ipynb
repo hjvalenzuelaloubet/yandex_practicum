{
 "cells": [
  {
   "cell_type": "markdown",
   "metadata": {},
   "source": [
    "# Aprendizaje supervisado: Tasa de cancelación de clientes\n",
    "\n",
    "Tenemos un dataset de clientes del organismo Beta Bank, el cual tiene un problema: sus clientes se estan yendo mes a mes. Necesitamos entrenar un modelo para predecir si los clientes dejarán el banco pronto. Tenemos los datos sobre el comportamiento/características de los clientes y si terminan su contrato o no.\n",
    "\n",
    "Utilizaremos un par de modelos diferentes (de bosque aleatorio y regresión logística) para esta tarea, tanto con datos con y sin balanceo: esto es, que el número de elementos en cada clase que se desea categorizar se encuentran igual de representadas -por ejemplo, si hay mil de una clase, habría cerca de mil de la(s) otra(s)-.\n",
    "\n",
    "Observaremos que el balanceo de datos mejora el resultado y que el modelo del bosque aleatorio aunque más complicado, nos da predicciones aceptables."
   ]
  },
  {
   "cell_type": "markdown",
   "metadata": {},
   "source": [
    "## Inicialización\n",
    "\n",
    "Importemos las librerías que necesitaremos en este trabajo."
   ]
  },
  {
   "cell_type": "code",
   "execution_count": 1,
   "metadata": {},
   "outputs": [],
   "source": [
    "import pandas as pd\n",
    "import numpy as np\n",
    "import matplotlib.pyplot as plt\n",
    "import seaborn as sns\n",
    "\n",
    "from tqdm.auto import tqdm\n",
    "\n",
    "from sklearn.model_selection import train_test_split\n",
    "from sklearn.preprocessing import StandardScaler\n",
    "from sklearn.linear_model import LogisticRegression\n",
    "from sklearn.ensemble import RandomForestClassifier\n",
    "from sklearn.utils import shuffle\n",
    "\n",
    "from sklearn.metrics import f1_score, roc_auc_score, accuracy_score"
   ]
  },
  {
   "cell_type": "markdown",
   "metadata": {},
   "source": [
    "### Cargada y sample de datos"
   ]
  },
  {
   "cell_type": "markdown",
   "metadata": {},
   "source": [
    "Carguemos los datos que tenemos en nuestro dataset y echemos un vistazo rápido a un sample."
   ]
  },
  {
   "cell_type": "code",
   "execution_count": 2,
   "metadata": {},
   "outputs": [
    {
     "name": "stdout",
     "output_type": "stream",
     "text": [
      "Información del Dataframe\n",
      "\n",
      "<class 'pandas.core.frame.DataFrame'>\n",
      "RangeIndex: 10000 entries, 0 to 9999\n",
      "Data columns (total 14 columns):\n",
      " #   Column           Non-Null Count  Dtype  \n",
      "---  ------           --------------  -----  \n",
      " 0   RowNumber        10000 non-null  int64  \n",
      " 1   CustomerId       10000 non-null  int64  \n",
      " 2   Surname          10000 non-null  object \n",
      " 3   CreditScore      10000 non-null  int64  \n",
      " 4   Geography        10000 non-null  object \n",
      " 5   Gender           10000 non-null  object \n",
      " 6   Age              10000 non-null  int64  \n",
      " 7   Tenure           9091 non-null   float64\n",
      " 8   Balance          10000 non-null  float64\n",
      " 9   NumOfProducts    10000 non-null  int64  \n",
      " 10  HasCrCard        10000 non-null  int64  \n",
      " 11  IsActiveMember   10000 non-null  int64  \n",
      " 12  EstimatedSalary  10000 non-null  float64\n",
      " 13  Exited           10000 non-null  int64  \n",
      "dtypes: float64(3), int64(8), object(3)\n",
      "memory usage: 1.1+ MB\n",
      "None\n",
      "\n",
      "Pequeño sample\n"
     ]
    },
    {
     "data": {
      "text/html": [
       "<div>\n",
       "<style scoped>\n",
       "    .dataframe tbody tr th:only-of-type {\n",
       "        vertical-align: middle;\n",
       "    }\n",
       "\n",
       "    .dataframe tbody tr th {\n",
       "        vertical-align: top;\n",
       "    }\n",
       "\n",
       "    .dataframe thead th {\n",
       "        text-align: right;\n",
       "    }\n",
       "</style>\n",
       "<table border=\"1\" class=\"dataframe\">\n",
       "  <thead>\n",
       "    <tr style=\"text-align: right;\">\n",
       "      <th></th>\n",
       "      <th>RowNumber</th>\n",
       "      <th>CustomerId</th>\n",
       "      <th>Surname</th>\n",
       "      <th>CreditScore</th>\n",
       "      <th>Geography</th>\n",
       "      <th>Gender</th>\n",
       "      <th>Age</th>\n",
       "      <th>Tenure</th>\n",
       "      <th>Balance</th>\n",
       "      <th>NumOfProducts</th>\n",
       "      <th>HasCrCard</th>\n",
       "      <th>IsActiveMember</th>\n",
       "      <th>EstimatedSalary</th>\n",
       "      <th>Exited</th>\n",
       "    </tr>\n",
       "  </thead>\n",
       "  <tbody>\n",
       "    <tr>\n",
       "      <th>3731</th>\n",
       "      <td>3732</td>\n",
       "      <td>15568573</td>\n",
       "      <td>Graham</td>\n",
       "      <td>554</td>\n",
       "      <td>Germany</td>\n",
       "      <td>Female</td>\n",
       "      <td>51</td>\n",
       "      <td>NaN</td>\n",
       "      <td>105701.91</td>\n",
       "      <td>1</td>\n",
       "      <td>0</td>\n",
       "      <td>1</td>\n",
       "      <td>179797.79</td>\n",
       "      <td>1</td>\n",
       "    </tr>\n",
       "    <tr>\n",
       "      <th>2950</th>\n",
       "      <td>2951</td>\n",
       "      <td>15744919</td>\n",
       "      <td>Genovese</td>\n",
       "      <td>734</td>\n",
       "      <td>Spain</td>\n",
       "      <td>Female</td>\n",
       "      <td>37</td>\n",
       "      <td>0.0</td>\n",
       "      <td>152760.24</td>\n",
       "      <td>1</td>\n",
       "      <td>1</td>\n",
       "      <td>1</td>\n",
       "      <td>48990.50</td>\n",
       "      <td>0</td>\n",
       "    </tr>\n",
       "    <tr>\n",
       "      <th>69</th>\n",
       "      <td>70</td>\n",
       "      <td>15755648</td>\n",
       "      <td>Pisano</td>\n",
       "      <td>675</td>\n",
       "      <td>France</td>\n",
       "      <td>Female</td>\n",
       "      <td>21</td>\n",
       "      <td>8.0</td>\n",
       "      <td>98373.26</td>\n",
       "      <td>1</td>\n",
       "      <td>1</td>\n",
       "      <td>0</td>\n",
       "      <td>18203.00</td>\n",
       "      <td>0</td>\n",
       "    </tr>\n",
       "    <tr>\n",
       "      <th>1851</th>\n",
       "      <td>1852</td>\n",
       "      <td>15633640</td>\n",
       "      <td>Loewenthal</td>\n",
       "      <td>799</td>\n",
       "      <td>France</td>\n",
       "      <td>Female</td>\n",
       "      <td>52</td>\n",
       "      <td>4.0</td>\n",
       "      <td>161209.66</td>\n",
       "      <td>1</td>\n",
       "      <td>1</td>\n",
       "      <td>1</td>\n",
       "      <td>89081.41</td>\n",
       "      <td>0</td>\n",
       "    </tr>\n",
       "    <tr>\n",
       "      <th>3627</th>\n",
       "      <td>3628</td>\n",
       "      <td>15609475</td>\n",
       "      <td>Ricci</td>\n",
       "      <td>604</td>\n",
       "      <td>Spain</td>\n",
       "      <td>Female</td>\n",
       "      <td>39</td>\n",
       "      <td>7.0</td>\n",
       "      <td>98544.11</td>\n",
       "      <td>1</td>\n",
       "      <td>1</td>\n",
       "      <td>1</td>\n",
       "      <td>52327.57</td>\n",
       "      <td>0</td>\n",
       "    </tr>\n",
       "    <tr>\n",
       "      <th>1311</th>\n",
       "      <td>1312</td>\n",
       "      <td>15750497</td>\n",
       "      <td>Longo</td>\n",
       "      <td>850</td>\n",
       "      <td>France</td>\n",
       "      <td>Female</td>\n",
       "      <td>37</td>\n",
       "      <td>7.0</td>\n",
       "      <td>153147.75</td>\n",
       "      <td>1</td>\n",
       "      <td>1</td>\n",
       "      <td>1</td>\n",
       "      <td>152235.30</td>\n",
       "      <td>0</td>\n",
       "    </tr>\n",
       "    <tr>\n",
       "      <th>1335</th>\n",
       "      <td>1336</td>\n",
       "      <td>15576683</td>\n",
       "      <td>Yin</td>\n",
       "      <td>568</td>\n",
       "      <td>Spain</td>\n",
       "      <td>Female</td>\n",
       "      <td>43</td>\n",
       "      <td>9.0</td>\n",
       "      <td>0.00</td>\n",
       "      <td>1</td>\n",
       "      <td>1</td>\n",
       "      <td>0</td>\n",
       "      <td>125870.79</td>\n",
       "      <td>1</td>\n",
       "    </tr>\n",
       "    <tr>\n",
       "      <th>905</th>\n",
       "      <td>906</td>\n",
       "      <td>15675964</td>\n",
       "      <td>Chukwukadibia</td>\n",
       "      <td>672</td>\n",
       "      <td>France</td>\n",
       "      <td>Female</td>\n",
       "      <td>45</td>\n",
       "      <td>9.0</td>\n",
       "      <td>0.00</td>\n",
       "      <td>1</td>\n",
       "      <td>1</td>\n",
       "      <td>1</td>\n",
       "      <td>92027.69</td>\n",
       "      <td>1</td>\n",
       "    </tr>\n",
       "    <tr>\n",
       "      <th>6075</th>\n",
       "      <td>6076</td>\n",
       "      <td>15781451</td>\n",
       "      <td>Buccho</td>\n",
       "      <td>504</td>\n",
       "      <td>France</td>\n",
       "      <td>Male</td>\n",
       "      <td>42</td>\n",
       "      <td>3.0</td>\n",
       "      <td>134936.97</td>\n",
       "      <td>2</td>\n",
       "      <td>0</td>\n",
       "      <td>0</td>\n",
       "      <td>135178.91</td>\n",
       "      <td>0</td>\n",
       "    </tr>\n",
       "    <tr>\n",
       "      <th>378</th>\n",
       "      <td>379</td>\n",
       "      <td>15677371</td>\n",
       "      <td>Ko</td>\n",
       "      <td>629</td>\n",
       "      <td>Spain</td>\n",
       "      <td>Female</td>\n",
       "      <td>30</td>\n",
       "      <td>2.0</td>\n",
       "      <td>34013.63</td>\n",
       "      <td>1</td>\n",
       "      <td>1</td>\n",
       "      <td>0</td>\n",
       "      <td>19570.63</td>\n",
       "      <td>0</td>\n",
       "    </tr>\n",
       "  </tbody>\n",
       "</table>\n",
       "</div>"
      ],
      "text/plain": [
       "      RowNumber  CustomerId        Surname  CreditScore Geography  Gender  \\\n",
       "3731       3732    15568573         Graham          554   Germany  Female   \n",
       "2950       2951    15744919       Genovese          734     Spain  Female   \n",
       "69           70    15755648         Pisano          675    France  Female   \n",
       "1851       1852    15633640     Loewenthal          799    France  Female   \n",
       "3627       3628    15609475          Ricci          604     Spain  Female   \n",
       "1311       1312    15750497          Longo          850    France  Female   \n",
       "1335       1336    15576683            Yin          568     Spain  Female   \n",
       "905         906    15675964  Chukwukadibia          672    France  Female   \n",
       "6075       6076    15781451         Buccho          504    France    Male   \n",
       "378         379    15677371             Ko          629     Spain  Female   \n",
       "\n",
       "      Age  Tenure    Balance  NumOfProducts  HasCrCard  IsActiveMember  \\\n",
       "3731   51     NaN  105701.91              1          0               1   \n",
       "2950   37     0.0  152760.24              1          1               1   \n",
       "69     21     8.0   98373.26              1          1               0   \n",
       "1851   52     4.0  161209.66              1          1               1   \n",
       "3627   39     7.0   98544.11              1          1               1   \n",
       "1311   37     7.0  153147.75              1          1               1   \n",
       "1335   43     9.0       0.00              1          1               0   \n",
       "905    45     9.0       0.00              1          1               1   \n",
       "6075   42     3.0  134936.97              2          0               0   \n",
       "378    30     2.0   34013.63              1          1               0   \n",
       "\n",
       "      EstimatedSalary  Exited  \n",
       "3731        179797.79       1  \n",
       "2950         48990.50       0  \n",
       "69           18203.00       0  \n",
       "1851         89081.41       0  \n",
       "3627         52327.57       0  \n",
       "1311        152235.30       0  \n",
       "1335        125870.79       1  \n",
       "905          92027.69       1  \n",
       "6075        135178.91       0  \n",
       "378          19570.63       0  "
      ]
     },
     "metadata": {},
     "output_type": "display_data"
    }
   ],
   "source": [
    "# carguemos nuestro dataset y mostremos un poco de información al respecto\n",
    "df_original = pd.read_csv(\"/datasets/Churn.csv\")\n",
    "\n",
    "print(\"Información del Dataframe\\n\")\n",
    "print(df_original.info())\n",
    "\n",
    "print(\"\\nPequeño sample\")\n",
    "display(df_original.sample(n=10, random_state=54321))"
   ]
  },
  {
   "cell_type": "markdown",
   "metadata": {},
   "source": [
    "Es interesante notar que parece que toda nuestra información esta completa, a exepción de Tenure: veremos que hacer con ella, pero primero eliminaremos las filas que no serán de utilidad para nosotros. `RowNumber`, `Surname`, y `CustomerId` se irán, pero primero checaremos si hay duplicados a partir de CustomerId.\n",
    "\n",
    "Antes de esto, platiquemos brevemente de lo que tenemos en cada una: `RowNumber` es un entero que da el número de fila (el ID+1 ya que este empieza en cero), `CustomerId` es un identificador entero único por cliente, `Surname` es un string del apellido, `CreditScore` es un entero que indica el rating que tiene cada usuario por su historial de crédito, `Geography` es un string del lugar de residencia, `Gender` es un string que indica el género, `Age` es un entero que marca la edad, `Tenure` es el número de años con el depósio, `Balance` es un float que indica cuanto dinero hay en la cuenta, `NumOfProducts` es un int que marca cuantos productos contratados tiene el cliente, `HasCrCard` es un int que marca si el usuario tiene una tarjeta de crédito, `IsActiveMember` de tipo int indica si tiene tarjeta de crédito, `EstimatedSalary` es un float para el salario estimado del cliente, y finalmente `Exited` es un int para indicar si abandonó el banco.\n",
    "\n",
    "### Tratamiento de datos\n",
    "Usaremos duplicated para ver si algún valor se halla duplicado (CustomerId debería ser único por cliente)."
   ]
  },
  {
   "cell_type": "code",
   "execution_count": 3,
   "metadata": {},
   "outputs": [
    {
     "data": {
      "text/html": [
       "<div>\n",
       "<style scoped>\n",
       "    .dataframe tbody tr th:only-of-type {\n",
       "        vertical-align: middle;\n",
       "    }\n",
       "\n",
       "    .dataframe tbody tr th {\n",
       "        vertical-align: top;\n",
       "    }\n",
       "\n",
       "    .dataframe thead th {\n",
       "        text-align: right;\n",
       "    }\n",
       "</style>\n",
       "<table border=\"1\" class=\"dataframe\">\n",
       "  <thead>\n",
       "    <tr style=\"text-align: right;\">\n",
       "      <th></th>\n",
       "      <th>RowNumber</th>\n",
       "      <th>CustomerId</th>\n",
       "      <th>Surname</th>\n",
       "      <th>CreditScore</th>\n",
       "      <th>Geography</th>\n",
       "      <th>Gender</th>\n",
       "      <th>Age</th>\n",
       "      <th>Tenure</th>\n",
       "      <th>Balance</th>\n",
       "      <th>NumOfProducts</th>\n",
       "      <th>HasCrCard</th>\n",
       "      <th>IsActiveMember</th>\n",
       "      <th>EstimatedSalary</th>\n",
       "      <th>Exited</th>\n",
       "    </tr>\n",
       "  </thead>\n",
       "  <tbody>\n",
       "  </tbody>\n",
       "</table>\n",
       "</div>"
      ],
      "text/plain": [
       "Empty DataFrame\n",
       "Columns: [RowNumber, CustomerId, Surname, CreditScore, Geography, Gender, Age, Tenure, Balance, NumOfProducts, HasCrCard, IsActiveMember, EstimatedSalary, Exited]\n",
       "Index: []"
      ]
     },
     "execution_count": 3,
     "metadata": {},
     "output_type": "execute_result"
    }
   ],
   "source": [
    "df_original[df_original.duplicated(subset=\"CustomerId\")]"
   ]
  },
  {
   "cell_type": "markdown",
   "metadata": {},
   "source": [
    "Parece que no hay CustomerId duplicados, podemos proceder a remover las columnas que no necesitamos."
   ]
  },
  {
   "cell_type": "code",
   "execution_count": 4,
   "metadata": {},
   "outputs": [
    {
     "name": "stdout",
     "output_type": "stream",
     "text": [
      "Muestra info\n"
     ]
    },
    {
     "data": {
      "text/html": [
       "<div>\n",
       "<style scoped>\n",
       "    .dataframe tbody tr th:only-of-type {\n",
       "        vertical-align: middle;\n",
       "    }\n",
       "\n",
       "    .dataframe tbody tr th {\n",
       "        vertical-align: top;\n",
       "    }\n",
       "\n",
       "    .dataframe thead th {\n",
       "        text-align: right;\n",
       "    }\n",
       "</style>\n",
       "<table border=\"1\" class=\"dataframe\">\n",
       "  <thead>\n",
       "    <tr style=\"text-align: right;\">\n",
       "      <th></th>\n",
       "      <th>CreditScore</th>\n",
       "      <th>Geography</th>\n",
       "      <th>Gender</th>\n",
       "      <th>Age</th>\n",
       "      <th>Tenure</th>\n",
       "      <th>Balance</th>\n",
       "      <th>NumOfProducts</th>\n",
       "      <th>HasCrCard</th>\n",
       "      <th>IsActiveMember</th>\n",
       "      <th>EstimatedSalary</th>\n",
       "      <th>Exited</th>\n",
       "    </tr>\n",
       "  </thead>\n",
       "  <tbody>\n",
       "    <tr>\n",
       "      <th>3731</th>\n",
       "      <td>554</td>\n",
       "      <td>Germany</td>\n",
       "      <td>Female</td>\n",
       "      <td>51</td>\n",
       "      <td>NaN</td>\n",
       "      <td>105701.91</td>\n",
       "      <td>1</td>\n",
       "      <td>0</td>\n",
       "      <td>1</td>\n",
       "      <td>179797.79</td>\n",
       "      <td>1</td>\n",
       "    </tr>\n",
       "    <tr>\n",
       "      <th>2950</th>\n",
       "      <td>734</td>\n",
       "      <td>Spain</td>\n",
       "      <td>Female</td>\n",
       "      <td>37</td>\n",
       "      <td>0.0</td>\n",
       "      <td>152760.24</td>\n",
       "      <td>1</td>\n",
       "      <td>1</td>\n",
       "      <td>1</td>\n",
       "      <td>48990.50</td>\n",
       "      <td>0</td>\n",
       "    </tr>\n",
       "    <tr>\n",
       "      <th>69</th>\n",
       "      <td>675</td>\n",
       "      <td>France</td>\n",
       "      <td>Female</td>\n",
       "      <td>21</td>\n",
       "      <td>8.0</td>\n",
       "      <td>98373.26</td>\n",
       "      <td>1</td>\n",
       "      <td>1</td>\n",
       "      <td>0</td>\n",
       "      <td>18203.00</td>\n",
       "      <td>0</td>\n",
       "    </tr>\n",
       "    <tr>\n",
       "      <th>1851</th>\n",
       "      <td>799</td>\n",
       "      <td>France</td>\n",
       "      <td>Female</td>\n",
       "      <td>52</td>\n",
       "      <td>4.0</td>\n",
       "      <td>161209.66</td>\n",
       "      <td>1</td>\n",
       "      <td>1</td>\n",
       "      <td>1</td>\n",
       "      <td>89081.41</td>\n",
       "      <td>0</td>\n",
       "    </tr>\n",
       "    <tr>\n",
       "      <th>3627</th>\n",
       "      <td>604</td>\n",
       "      <td>Spain</td>\n",
       "      <td>Female</td>\n",
       "      <td>39</td>\n",
       "      <td>7.0</td>\n",
       "      <td>98544.11</td>\n",
       "      <td>1</td>\n",
       "      <td>1</td>\n",
       "      <td>1</td>\n",
       "      <td>52327.57</td>\n",
       "      <td>0</td>\n",
       "    </tr>\n",
       "  </tbody>\n",
       "</table>\n",
       "</div>"
      ],
      "text/plain": [
       "      CreditScore Geography  Gender  Age  Tenure    Balance  NumOfProducts  \\\n",
       "3731          554   Germany  Female   51     NaN  105701.91              1   \n",
       "2950          734     Spain  Female   37     0.0  152760.24              1   \n",
       "69            675    France  Female   21     8.0   98373.26              1   \n",
       "1851          799    France  Female   52     4.0  161209.66              1   \n",
       "3627          604     Spain  Female   39     7.0   98544.11              1   \n",
       "\n",
       "      HasCrCard  IsActiveMember  EstimatedSalary  Exited  \n",
       "3731          0               1        179797.79       1  \n",
       "2950          1               1         48990.50       0  \n",
       "69            1               0         18203.00       0  \n",
       "1851          1               1         89081.41       0  \n",
       "3627          1               1         52327.57       0  "
      ]
     },
     "execution_count": 4,
     "metadata": {},
     "output_type": "execute_result"
    }
   ],
   "source": [
    "df_work = df_original.drop(columns=[\"RowNumber\", \"CustomerId\", \"Surname\"])\n",
    "\n",
    "print(\"Muestra info\")\n",
    "df_work.sample(n=5, random_state=54321)"
   ]
  },
  {
   "cell_type": "markdown",
   "metadata": {},
   "source": [
    "Todo se ve mejor, pero todavía tenemos algunos valores nulos en Tenure. Aquí podríamos tomar tres decisiones: 1) considerar que esos valores nulos realmente implican un valor de cero (o sea que no ha madurado el depósito) e imputarlo, 2) eliminar la entrada 3) Imputarlo realizando primero una inspección general (por ejemplo, imputando con la media si los datos se comportan de alguna forma que así pareciera). Procederemos con la segunda porque es más sencilla y solo es ~10% del total."
   ]
  },
  {
   "cell_type": "code",
   "execution_count": 5,
   "metadata": {},
   "outputs": [
    {
     "name": "stdout",
     "output_type": "stream",
     "text": [
      "<class 'pandas.core.frame.DataFrame'>\n",
      "Int64Index: 9091 entries, 0 to 9998\n",
      "Data columns (total 11 columns):\n",
      " #   Column           Non-Null Count  Dtype  \n",
      "---  ------           --------------  -----  \n",
      " 0   CreditScore      9091 non-null   int64  \n",
      " 1   Geography        9091 non-null   object \n",
      " 2   Gender           9091 non-null   object \n",
      " 3   Age              9091 non-null   int64  \n",
      " 4   Tenure           9091 non-null   float64\n",
      " 5   Balance          9091 non-null   float64\n",
      " 6   NumOfProducts    9091 non-null   int64  \n",
      " 7   HasCrCard        9091 non-null   int64  \n",
      " 8   IsActiveMember   9091 non-null   int64  \n",
      " 9   EstimatedSalary  9091 non-null   float64\n",
      " 10  Exited           9091 non-null   int64  \n",
      "dtypes: float64(3), int64(6), object(2)\n",
      "memory usage: 852.3+ KB\n"
     ]
    }
   ],
   "source": [
    "df_work = df_work.dropna()\n",
    "\n",
    "# Mostremos info\n",
    "df_work.info()"
   ]
  },
  {
   "cell_type": "markdown",
   "metadata": {},
   "source": [
    "Ya tenemos los datos con los que trabajaremos, solo para continuar, obtengamos cuantos valores tenemos para cada uno de los posibles targets en Exited."
   ]
  },
  {
   "cell_type": "code",
   "execution_count": 6,
   "metadata": {},
   "outputs": [
    {
     "data": {
      "text/plain": [
       "0    7237\n",
       "1    1854\n",
       "Name: Exited, dtype: int64"
      ]
     },
     "execution_count": 6,
     "metadata": {},
     "output_type": "execute_result"
    }
   ],
   "source": [
    "df_work.Exited.value_counts()"
   ]
  },
  {
   "cell_type": "markdown",
   "metadata": {},
   "source": [
    "Los valores positivos son algo así como ~25% de los negativos, tenemos una relación ~4:1. Esto implica que nuestras clases estan desbalanceadas, no lo corregiremos ahora, sino que haremos pruebas para ver que resultados tenemos. Procederemos con preparar nuestras características.\n",
    "\n",
    "### Preparación de características\n",
    "\n",
    "Tenemos variables categóricas y numéricas, tenemos que codificar las categóricas y escalar las numéricas para poder hacer los cálculos posteriores, vayamos a eso."
   ]
  },
  {
   "cell_type": "code",
   "execution_count": 7,
   "metadata": {},
   "outputs": [
    {
     "data": {
      "text/html": [
       "<div>\n",
       "<style scoped>\n",
       "    .dataframe tbody tr th:only-of-type {\n",
       "        vertical-align: middle;\n",
       "    }\n",
       "\n",
       "    .dataframe tbody tr th {\n",
       "        vertical-align: top;\n",
       "    }\n",
       "\n",
       "    .dataframe thead th {\n",
       "        text-align: right;\n",
       "    }\n",
       "</style>\n",
       "<table border=\"1\" class=\"dataframe\">\n",
       "  <thead>\n",
       "    <tr style=\"text-align: right;\">\n",
       "      <th></th>\n",
       "      <th>CreditScore</th>\n",
       "      <th>Age</th>\n",
       "      <th>Tenure</th>\n",
       "      <th>Balance</th>\n",
       "      <th>NumOfProducts</th>\n",
       "      <th>HasCrCard</th>\n",
       "      <th>IsActiveMember</th>\n",
       "      <th>EstimatedSalary</th>\n",
       "      <th>Exited</th>\n",
       "      <th>Geography_Germany</th>\n",
       "      <th>Geography_Spain</th>\n",
       "      <th>Gender_Male</th>\n",
       "    </tr>\n",
       "  </thead>\n",
       "  <tbody>\n",
       "    <tr>\n",
       "      <th>8607</th>\n",
       "      <td>-0.505539</td>\n",
       "      <td>-0.089927</td>\n",
       "      <td>-1.035627</td>\n",
       "      <td>-0.077893</td>\n",
       "      <td>0.808655</td>\n",
       "      <td>0</td>\n",
       "      <td>0</td>\n",
       "      <td>0.640917</td>\n",
       "      <td>0</td>\n",
       "      <td>1</td>\n",
       "      <td>0</td>\n",
       "      <td>1</td>\n",
       "    </tr>\n",
       "    <tr>\n",
       "      <th>1837</th>\n",
       "      <td>-0.930827</td>\n",
       "      <td>1.615426</td>\n",
       "      <td>0.691748</td>\n",
       "      <td>1.223184</td>\n",
       "      <td>0.808655</td>\n",
       "      <td>1</td>\n",
       "      <td>0</td>\n",
       "      <td>0.572457</td>\n",
       "      <td>1</td>\n",
       "      <td>0</td>\n",
       "      <td>0</td>\n",
       "      <td>1</td>\n",
       "    </tr>\n",
       "    <tr>\n",
       "      <th>5550</th>\n",
       "      <td>0.853310</td>\n",
       "      <td>0.478524</td>\n",
       "      <td>0.346273</td>\n",
       "      <td>1.470381</td>\n",
       "      <td>-0.912601</td>\n",
       "      <td>0</td>\n",
       "      <td>1</td>\n",
       "      <td>1.683610</td>\n",
       "      <td>0</td>\n",
       "      <td>0</td>\n",
       "      <td>0</td>\n",
       "      <td>0</td>\n",
       "    </tr>\n",
       "    <tr>\n",
       "      <th>8770</th>\n",
       "      <td>-0.370691</td>\n",
       "      <td>1.899651</td>\n",
       "      <td>1.037224</td>\n",
       "      <td>-1.227780</td>\n",
       "      <td>0.808655</td>\n",
       "      <td>1</td>\n",
       "      <td>1</td>\n",
       "      <td>1.134910</td>\n",
       "      <td>0</td>\n",
       "      <td>0</td>\n",
       "      <td>0</td>\n",
       "      <td>1</td>\n",
       "    </tr>\n",
       "    <tr>\n",
       "      <th>5221</th>\n",
       "      <td>-0.692251</td>\n",
       "      <td>-0.942603</td>\n",
       "      <td>-0.344677</td>\n",
       "      <td>-1.227780</td>\n",
       "      <td>0.808655</td>\n",
       "      <td>1</td>\n",
       "      <td>0</td>\n",
       "      <td>-0.196355</td>\n",
       "      <td>0</td>\n",
       "      <td>0</td>\n",
       "      <td>1</td>\n",
       "      <td>0</td>\n",
       "    </tr>\n",
       "    <tr>\n",
       "      <th>6172</th>\n",
       "      <td>-0.858217</td>\n",
       "      <td>0.383782</td>\n",
       "      <td>0.000798</td>\n",
       "      <td>0.177933</td>\n",
       "      <td>4.251167</td>\n",
       "      <td>1</td>\n",
       "      <td>1</td>\n",
       "      <td>0.121034</td>\n",
       "      <td>1</td>\n",
       "      <td>1</td>\n",
       "      <td>0</td>\n",
       "      <td>1</td>\n",
       "    </tr>\n",
       "    <tr>\n",
       "      <th>5960</th>\n",
       "      <td>-0.547030</td>\n",
       "      <td>0.857491</td>\n",
       "      <td>0.346273</td>\n",
       "      <td>0.708528</td>\n",
       "      <td>-0.912601</td>\n",
       "      <td>1</td>\n",
       "      <td>0</td>\n",
       "      <td>-1.206938</td>\n",
       "      <td>1</td>\n",
       "      <td>0</td>\n",
       "      <td>0</td>\n",
       "      <td>1</td>\n",
       "    </tr>\n",
       "    <tr>\n",
       "      <th>2015</th>\n",
       "      <td>1.330462</td>\n",
       "      <td>0.099557</td>\n",
       "      <td>-1.035627</td>\n",
       "      <td>-0.016887</td>\n",
       "      <td>-0.912601</td>\n",
       "      <td>1</td>\n",
       "      <td>1</td>\n",
       "      <td>-0.820651</td>\n",
       "      <td>0</td>\n",
       "      <td>1</td>\n",
       "      <td>0</td>\n",
       "      <td>0</td>\n",
       "    </tr>\n",
       "    <tr>\n",
       "      <th>9165</th>\n",
       "      <td>0.127207</td>\n",
       "      <td>0.668007</td>\n",
       "      <td>-1.035627</td>\n",
       "      <td>1.046177</td>\n",
       "      <td>-0.912601</td>\n",
       "      <td>1</td>\n",
       "      <td>1</td>\n",
       "      <td>-0.727574</td>\n",
       "      <td>0</td>\n",
       "      <td>1</td>\n",
       "      <td>0</td>\n",
       "      <td>0</td>\n",
       "    </tr>\n",
       "    <tr>\n",
       "      <th>5810</th>\n",
       "      <td>-1.615438</td>\n",
       "      <td>0.289040</td>\n",
       "      <td>0.691748</td>\n",
       "      <td>-1.227780</td>\n",
       "      <td>0.808655</td>\n",
       "      <td>0</td>\n",
       "      <td>0</td>\n",
       "      <td>0.524514</td>\n",
       "      <td>0</td>\n",
       "      <td>0</td>\n",
       "      <td>1</td>\n",
       "      <td>0</td>\n",
       "    </tr>\n",
       "  </tbody>\n",
       "</table>\n",
       "</div>"
      ],
      "text/plain": [
       "      CreditScore       Age    Tenure   Balance  NumOfProducts  HasCrCard  \\\n",
       "8607    -0.505539 -0.089927 -1.035627 -0.077893       0.808655          0   \n",
       "1837    -0.930827  1.615426  0.691748  1.223184       0.808655          1   \n",
       "5550     0.853310  0.478524  0.346273  1.470381      -0.912601          0   \n",
       "8770    -0.370691  1.899651  1.037224 -1.227780       0.808655          1   \n",
       "5221    -0.692251 -0.942603 -0.344677 -1.227780       0.808655          1   \n",
       "6172    -0.858217  0.383782  0.000798  0.177933       4.251167          1   \n",
       "5960    -0.547030  0.857491  0.346273  0.708528      -0.912601          1   \n",
       "2015     1.330462  0.099557 -1.035627 -0.016887      -0.912601          1   \n",
       "9165     0.127207  0.668007 -1.035627  1.046177      -0.912601          1   \n",
       "5810    -1.615438  0.289040  0.691748 -1.227780       0.808655          0   \n",
       "\n",
       "      IsActiveMember  EstimatedSalary  Exited  Geography_Germany  \\\n",
       "8607               0         0.640917       0                  1   \n",
       "1837               0         0.572457       1                  0   \n",
       "5550               1         1.683610       0                  0   \n",
       "8770               1         1.134910       0                  0   \n",
       "5221               0        -0.196355       0                  0   \n",
       "6172               1         0.121034       1                  1   \n",
       "5960               0        -1.206938       1                  0   \n",
       "2015               1        -0.820651       0                  1   \n",
       "9165               1        -0.727574       0                  1   \n",
       "5810               0         0.524514       0                  0   \n",
       "\n",
       "      Geography_Spain  Gender_Male  \n",
       "8607                0            1  \n",
       "1837                0            1  \n",
       "5550                0            0  \n",
       "8770                0            1  \n",
       "5221                1            0  \n",
       "6172                0            1  \n",
       "5960                0            1  \n",
       "2015                0            0  \n",
       "9165                0            0  \n",
       "5810                1            0  "
      ]
     },
     "execution_count": 7,
     "metadata": {},
     "output_type": "execute_result"
    }
   ],
   "source": [
    "numeric_columns = [\"CreditScore\", \"Age\", \"Balance\", \"EstimatedSalary\", \"NumOfProducts\", \"Tenure\"]\n",
    "#numeric_columns = [\"CreditScore\", \"Age\", \"Balance\", \"EstimatedSalary\", \"NumOfProducts\", \"Tenure\"]\n",
    "\n",
    "category_columns = [\"Geography\", \"Gender\"]\n",
    "#category_columns = [\"Geography\", \"Gender\", \"HasCrCard\", \"IsActiveMember\"]\n",
    "\n",
    "# Hagamos el escalado\n",
    "scaler = StandardScaler()\n",
    "df_work[numeric_columns] = scaler.fit_transform(df_work[numeric_columns])\n",
    "\n",
    "# Hagamos el encoding\n",
    "df_work = pd.get_dummies(df_work, columns=category_columns, drop_first = True)\n",
    "\n",
    "# Mostremos un sample del resultado\n",
    "df_work.sample(n=10, random_state=54321)"
   ]
  },
  {
   "cell_type": "markdown",
   "metadata": {},
   "source": [
    "Se ve todo en órden, tenemos nuestras características mejor acomodadas.\n",
    "\n",
    "## Modelos sin balancear\n",
    "\n",
    "Utilizaremos dos diferentes modelos para nuestros datos: de regresión logística y de bosque aleatorio. Antes de trabajar con los modelos, tenemos que dividir nuestros datos en los conjuntos de entrenamiento, validación y prueba con una relación de 60:20:20."
   ]
  },
  {
   "cell_type": "code",
   "execution_count": 8,
   "metadata": {},
   "outputs": [
    {
     "name": "stdout",
     "output_type": "stream",
     "text": [
      "Feat | train: 5454, test: 1819, valid: 1818\n",
      "Targ | train: 5454, test: 1819, valid: 1818\n"
     ]
    }
   ],
   "source": [
    "# Separemos en target y feature el dataset\n",
    "df_features = df_work.drop([\"Exited\"], axis=1)\n",
    "df_target = df_work.Exited\n",
    "\n",
    "# Hagamos el split en nuestros conjuntos de entrenamiento, test y validación. Lo hacemos en dos partes,\n",
    "# el primero divide al 20% y el segundo al 25% para tomar de ese 80% (0.25*0.8 = 0.2 como se desea).\n",
    "features_train, features_test, target_train, target_test  = train_test_split(\n",
    "    df_features, df_target, test_size=0.2, random_state = 54321\n",
    ")\n",
    "\n",
    "features_train, features_valid, target_train, target_valid  = train_test_split(\n",
    "    features_train, target_train, test_size=0.25, random_state = 54321\n",
    ")\n",
    "\n",
    "#Hagamos un simple chequeo de los rows para ver que todo anda en órden.\n",
    "print(\n",
    "    f\"Feat | train: {features_train.shape[0]}, test: {features_test.shape[0]}, valid: {features_valid.shape[0]}\"\n",
    ")\n",
    "print(\n",
    "    f\"Targ | train: {target_train.shape[0]}, test: {target_test.shape[0]}, valid: {target_valid.shape[0]}\"\n",
    ")"
   ]
  },
  {
   "cell_type": "markdown",
   "metadata": {},
   "source": [
    "### Entrenamiento de modelos\n",
    "\n",
    "Para nuestro modelo logístico no tenemos demasiados hiperpárametros que afinar, por lo que haremos solo el entrenamiento con los valores predefinidos y mostraremos el accuracy.\n",
    "\n",
    "#### Regresión logística"
   ]
  },
  {
   "cell_type": "code",
   "execution_count": 9,
   "metadata": {},
   "outputs": [
    {
     "name": "stdout",
     "output_type": "stream",
     "text": [
      "accuracy:\t0.8157315731573157 \n",
      "f1:\t\t0.33663366336633666 \n",
      "roc_auc_score:\t0.7981998696755221\n"
     ]
    }
   ],
   "source": [
    "model_logistic_unbalanced = LogisticRegression(random_state=54321)\n",
    "model_logistic_unbalanced.fit(features_train, target_train)\n",
    "\n",
    "target_valid_predicted_logistic_unbalanced = model_logistic_unbalanced.predict(features_valid)\n",
    "\n",
    "print(\n",
    "    f\"accuracy:\\t{accuracy_score(target_valid, target_valid_predicted_logistic_unbalanced)}\",\n",
    "    f\"\\nf1:\\t\\t{f1_score(target_valid, target_valid_predicted_logistic_unbalanced)}\",\n",
    "    f\"\\nroc_auc_score:\\t{roc_auc_score(target_valid, model_logistic_unbalanced.predict_proba(features_valid)[:,1])}\"\n",
    ")"
   ]
  },
  {
   "cell_type": "markdown",
   "metadata": {},
   "source": [
    "No son valores particularmente altos para la validación, prosigamos a realizar el entrenamiento de nuestro modelo de bosque aleatorio.\n",
    "\n",
    "#### Bosque aleatorio"
   ]
  },
  {
   "cell_type": "code",
   "execution_count": 10,
   "metadata": {},
   "outputs": [
    {
     "data": {
      "application/vnd.jupyter.widget-view+json": {
       "model_id": "f9113503b9d149f6b3e103a4e6cae321",
       "version_major": 2,
       "version_minor": 0
      },
      "text/plain": [
       "  0%|          | 0/20 [00:00<?, ?it/s]"
      ]
     },
     "metadata": {},
     "output_type": "display_data"
    }
   ],
   "source": [
    "# Creamos un dataframe para guardar resultados\n",
    "results_random_trees_unbalanced = pd.DataFrame([], columns=[\"depth\", \"estimators\", \"accuracy\"])\n",
    "\n",
    "for depth in tqdm(range(1, 20+1, 1)):\n",
    "    for est in range(10, 100+1, 10):\n",
    "        model_random_trees = RandomForestClassifier(n_estimators = est, max_depth=depth, random_state=54321)\n",
    "        model_random_trees.fit(features_train, target_train)\n",
    "        \n",
    "        prediction_random_trees_unbalanced = model_random_trees.predict(features_valid)\n",
    "        \n",
    "        results_random_trees_unbalanced = results_random_trees_unbalanced.append(\n",
    "            {\n",
    "                \"depth\": depth,\n",
    "                \"estimators\": est,\n",
    "                \"accuracy\": accuracy_score(target_valid, prediction_random_trees_unbalanced),\n",
    "                \"f1\": f1_score(target_valid, prediction_random_trees_unbalanced),\n",
    "                \"roc_auc_score\": roc_auc_score(target_valid, model_random_trees.predict_proba(features_valid)[:,1])\n",
    "            },\n",
    "            ignore_index=True\n",
    "        )"
   ]
  },
  {
   "cell_type": "markdown",
   "metadata": {},
   "source": [
    "Veamos cuales son los hiperpárametros con los mejores valores para la métrica f1."
   ]
  },
  {
   "cell_type": "code",
   "execution_count": 11,
   "metadata": {},
   "outputs": [
    {
     "data": {
      "text/html": [
       "<div>\n",
       "<style scoped>\n",
       "    .dataframe tbody tr th:only-of-type {\n",
       "        vertical-align: middle;\n",
       "    }\n",
       "\n",
       "    .dataframe tbody tr th {\n",
       "        vertical-align: top;\n",
       "    }\n",
       "\n",
       "    .dataframe thead th {\n",
       "        text-align: right;\n",
       "    }\n",
       "</style>\n",
       "<table border=\"1\" class=\"dataframe\">\n",
       "  <thead>\n",
       "    <tr style=\"text-align: right;\">\n",
       "      <th></th>\n",
       "      <th>depth</th>\n",
       "      <th>estimators</th>\n",
       "      <th>accuracy</th>\n",
       "      <th>f1</th>\n",
       "      <th>roc_auc_score</th>\n",
       "    </tr>\n",
       "  </thead>\n",
       "  <tbody>\n",
       "    <tr>\n",
       "      <th>188</th>\n",
       "      <td>19.0</td>\n",
       "      <td>90.0</td>\n",
       "      <td>0.871837</td>\n",
       "      <td>0.604414</td>\n",
       "      <td>0.854975</td>\n",
       "    </tr>\n",
       "    <tr>\n",
       "      <th>189</th>\n",
       "      <td>19.0</td>\n",
       "      <td>100.0</td>\n",
       "      <td>0.870737</td>\n",
       "      <td>0.602369</td>\n",
       "      <td>0.854152</td>\n",
       "    </tr>\n",
       "    <tr>\n",
       "      <th>117</th>\n",
       "      <td>12.0</td>\n",
       "      <td>80.0</td>\n",
       "      <td>0.870187</td>\n",
       "      <td>0.597270</td>\n",
       "      <td>0.855340</td>\n",
       "    </tr>\n",
       "    <tr>\n",
       "      <th>179</th>\n",
       "      <td>18.0</td>\n",
       "      <td>100.0</td>\n",
       "      <td>0.866887</td>\n",
       "      <td>0.596667</td>\n",
       "      <td>0.855778</td>\n",
       "    </tr>\n",
       "    <tr>\n",
       "      <th>176</th>\n",
       "      <td>18.0</td>\n",
       "      <td>70.0</td>\n",
       "      <td>0.866887</td>\n",
       "      <td>0.596667</td>\n",
       "      <td>0.851877</td>\n",
       "    </tr>\n",
       "  </tbody>\n",
       "</table>\n",
       "</div>"
      ],
      "text/plain": [
       "     depth  estimators  accuracy        f1  roc_auc_score\n",
       "188   19.0        90.0  0.871837  0.604414       0.854975\n",
       "189   19.0       100.0  0.870737  0.602369       0.854152\n",
       "117   12.0        80.0  0.870187  0.597270       0.855340\n",
       "179   18.0       100.0  0.866887  0.596667       0.855778\n",
       "176   18.0        70.0  0.866887  0.596667       0.851877"
      ]
     },
     "execution_count": 11,
     "metadata": {},
     "output_type": "execute_result"
    }
   ],
   "source": [
    "# Hacemos un pequeño sort_values y el head\n",
    "results_random_trees_unbalanced.sort_values(\"f1\", ascending=False).head(n=5)"
   ]
  },
  {
   "cell_type": "markdown",
   "metadata": {},
   "source": [
    "Nuestros dos modelos aunque básicos, tienen una accuracy notable, pero el valor F1 sigue siendo bajo (y bajaría más al aplicarse al dataset de prueba): este valor de _accuracy_ indica que de todos los valores, se pueden clasificar correctamente ~87% de las entradas; un F1 ~0.60 indica que no se tiene la misma precisión al clasificar las clases positivas (en este caso al estar en una clasificación binaria); finalmente, un área bajo la curva ROC ~0.85 indica que se puede distinguir decentemente Verdaderos Positivos y Falsos Positivos. Todo suena muy bien, pero tener un F1 tan bajo no es buena señal ya que la precisión y la sensibilidad no se hallan altas ambas, busquemos una manera de mejorarlo.\n",
    "\n",
    "## Modelados con balanceo de clases\n",
    "\n",
    "Uno de los problemas de nuestros datos es que nuestras clases están desbalanceadas: tenemos 4 veces más negativos que positivos en nuestra característica de salida, lo cual afecta nuestros modelos; tenemos que balancear los valores para que sean más similares. Primero veamos como es la relación de positivos a negativos en el dataset de entrenamiento."
   ]
  },
  {
   "cell_type": "code",
   "execution_count": 12,
   "metadata": {},
   "outputs": [
    {
     "data": {
      "text/plain": [
       "0    4355\n",
       "1    1099\n",
       "Name: Exited, dtype: int64"
      ]
     },
     "execution_count": 12,
     "metadata": {},
     "output_type": "execute_result"
    }
   ],
   "source": [
    "target_train.value_counts()"
   ]
  },
  {
   "cell_type": "markdown",
   "metadata": {},
   "source": [
    "Notemos que tenemos una relación similar a la de nuestro dataset original. Podemos proceder haciendo un sobre/submuestreo o cambiando el peso de clase, haremos sobremuestreo y luego cambiaremos el peso; como nuestra relación es de cuatro a uno apróximadamente, repetiremos los datos cuatro veces para que sean similares en número.\n",
    "\n",
    "### Modelado con sobremuestreo"
   ]
  },
  {
   "cell_type": "code",
   "execution_count": 13,
   "metadata": {},
   "outputs": [
    {
     "data": {
      "text/plain": [
       "1    4396\n",
       "0    4355\n",
       "Name: Exited, dtype: int64"
      ]
     },
     "execution_count": 13,
     "metadata": {},
     "output_type": "execute_result"
    }
   ],
   "source": [
    "# Usemos otra vez df_worked ya que tiene la información codificada y escalada.\n",
    "# Hagamos el upsample de las muestras: no necesitamos una función ya que solo lo haremos una vez\n",
    "\n",
    "# Haremos la repetición 4 veces \n",
    "repeat = 4\n",
    "    \n",
    "# Separamos los registros\n",
    "features_zeros = features_train[target_train == 0]\n",
    "features_ones = features_train[target_train == 1]\n",
    "target_zeros = target_train[target_train == 0]\n",
    "target_ones = target_train[target_train == 1]\n",
    "\n",
    "\n",
    "features_upsampled = pd.concat([features_zeros] + [features_ones] * repeat)\n",
    "target_upsampled = pd.concat([target_zeros] + [target_ones] * repeat)\n",
    "features_upsampled, target_upsampled = shuffle(\n",
    "    features_upsampled, target_upsampled, random_state=54321\n",
    ")\n",
    "\n",
    "# Mostremos lo que tenemos\n",
    "target_upsampled.value_counts()\n"
   ]
  },
  {
   "cell_type": "markdown",
   "metadata": {},
   "source": [
    "Ya se encuentran muy similares, podemos proceder con el entrenamiento."
   ]
  },
  {
   "cell_type": "markdown",
   "metadata": {},
   "source": [
    "#### Regresión logística"
   ]
  },
  {
   "cell_type": "code",
   "execution_count": 14,
   "metadata": {},
   "outputs": [
    {
     "name": "stdout",
     "output_type": "stream",
     "text": [
      "accuracy:\t0.724972497249725 \n",
      "f1:\t\t0.5274102079395085 \n",
      "roc_auc_score:\t0.8008138707308874\n"
     ]
    }
   ],
   "source": [
    "model_logistic_balanced = LogisticRegression(random_state=54321)\n",
    "model_logistic_balanced.fit(features_upsampled, target_upsampled)\n",
    "\n",
    "target_valid_predicted_logistic_balanced = model_logistic_balanced.predict(features_valid)\n",
    "\n",
    "print(\n",
    "    f\"accuracy:\\t{accuracy_score(target_valid, target_valid_predicted_logistic_balanced)}\",\n",
    "    f\"\\nf1:\\t\\t{f1_score(target_valid, target_valid_predicted_logistic_balanced)}\",\n",
    "    f\"\\nroc_auc_score:\\t{roc_auc_score(target_valid, model_logistic_balanced.predict_proba(features_valid)[:,1])}\"\n",
    ")"
   ]
  },
  {
   "cell_type": "markdown",
   "metadata": {},
   "source": [
    "Note que el modelo de regresión logística empeora en accuracy (en comparación con los datos sin balancear), pero las demás métricas mejoran sustancialmente.\n",
    "\n",
    "#### Bosque aleatorio"
   ]
  },
  {
   "cell_type": "code",
   "execution_count": 15,
   "metadata": {},
   "outputs": [
    {
     "data": {
      "application/vnd.jupyter.widget-view+json": {
       "model_id": "42d73b9d4d54409bb25d8a6a6e7f89c3",
       "version_major": 2,
       "version_minor": 0
      },
      "text/plain": [
       "  0%|          | 0/20 [00:00<?, ?it/s]"
      ]
     },
     "metadata": {},
     "output_type": "display_data"
    }
   ],
   "source": [
    "# Creamos un dataframe para guardar resultados\n",
    "results_random_trees_balanced = pd.DataFrame([])\n",
    "\n",
    "for depth in tqdm(range(1, 20+1, 1)):\n",
    "    for est in range(10, 100+1, 10):\n",
    "        model_random_trees = RandomForestClassifier(n_estimators = est, max_depth=depth, random_state=54321)\n",
    "        model_random_trees.fit(features_upsampled, target_upsampled)\n",
    "        \n",
    "        predictions_random_trees_balanced = model_random_trees.predict(features_valid)\n",
    "        \n",
    "        results_random_trees_balanced = results_random_trees_balanced.append(\n",
    "            {\n",
    "                \"depth\": depth,\n",
    "                \"estimators\": est,\n",
    "                \"accuracy\": accuracy_score(target_valid, predictions_random_trees_balanced),\n",
    "                \"f1\": f1_score(target_valid, predictions_random_trees_balanced),\n",
    "                \"roc_auc_score\": roc_auc_score(target_valid, model_random_trees.predict_proba(features_valid)[:,1])\n",
    "            },\n",
    "            ignore_index=True\n",
    "\n",
    "        )"
   ]
  },
  {
   "cell_type": "code",
   "execution_count": 16,
   "metadata": {},
   "outputs": [
    {
     "data": {
      "text/html": [
       "<div>\n",
       "<style scoped>\n",
       "    .dataframe tbody tr th:only-of-type {\n",
       "        vertical-align: middle;\n",
       "    }\n",
       "\n",
       "    .dataframe tbody tr th {\n",
       "        vertical-align: top;\n",
       "    }\n",
       "\n",
       "    .dataframe thead th {\n",
       "        text-align: right;\n",
       "    }\n",
       "</style>\n",
       "<table border=\"1\" class=\"dataframe\">\n",
       "  <thead>\n",
       "    <tr style=\"text-align: right;\">\n",
       "      <th></th>\n",
       "      <th>accuracy</th>\n",
       "      <th>depth</th>\n",
       "      <th>estimators</th>\n",
       "      <th>f1</th>\n",
       "      <th>roc_auc_score</th>\n",
       "    </tr>\n",
       "  </thead>\n",
       "  <tbody>\n",
       "    <tr>\n",
       "      <th>114</th>\n",
       "      <td>0.859186</td>\n",
       "      <td>12.0</td>\n",
       "      <td>50.0</td>\n",
       "      <td>0.654054</td>\n",
       "      <td>0.864333</td>\n",
       "    </tr>\n",
       "    <tr>\n",
       "      <th>117</th>\n",
       "      <td>0.859186</td>\n",
       "      <td>12.0</td>\n",
       "      <td>80.0</td>\n",
       "      <td>0.651226</td>\n",
       "      <td>0.867167</td>\n",
       "    </tr>\n",
       "    <tr>\n",
       "      <th>106</th>\n",
       "      <td>0.851485</td>\n",
       "      <td>11.0</td>\n",
       "      <td>70.0</td>\n",
       "      <td>0.651163</td>\n",
       "      <td>0.871987</td>\n",
       "    </tr>\n",
       "    <tr>\n",
       "      <th>116</th>\n",
       "      <td>0.859736</td>\n",
       "      <td>12.0</td>\n",
       "      <td>70.0</td>\n",
       "      <td>0.651163</td>\n",
       "      <td>0.868057</td>\n",
       "    </tr>\n",
       "    <tr>\n",
       "      <th>105</th>\n",
       "      <td>0.851485</td>\n",
       "      <td>11.0</td>\n",
       "      <td>60.0</td>\n",
       "      <td>0.649351</td>\n",
       "      <td>0.870932</td>\n",
       "    </tr>\n",
       "  </tbody>\n",
       "</table>\n",
       "</div>"
      ],
      "text/plain": [
       "     accuracy  depth  estimators        f1  roc_auc_score\n",
       "114  0.859186   12.0        50.0  0.654054       0.864333\n",
       "117  0.859186   12.0        80.0  0.651226       0.867167\n",
       "106  0.851485   11.0        70.0  0.651163       0.871987\n",
       "116  0.859736   12.0        70.0  0.651163       0.868057\n",
       "105  0.851485   11.0        60.0  0.649351       0.870932"
      ]
     },
     "execution_count": 16,
     "metadata": {},
     "output_type": "execute_result"
    }
   ],
   "source": [
    "results_random_trees_balanced.sort_values(\"f1\", ascending=False).head()"
   ]
  },
  {
   "cell_type": "markdown",
   "metadata": {},
   "source": [
    "De la tabla de resultados podemos decantarnos por depth=12 y 50 estimadores como hiperpárametros. Procedamos a ver que sucede cuando realizamos los procedimientos pero utilizando el balanceo de clases en el argumento de los modelos."
   ]
  },
  {
   "cell_type": "markdown",
   "metadata": {},
   "source": [
    "### Modelado con peso ajustado\n",
    "\n",
    "Realicemos el mismo procedimiento de la sección anterior, pero utilizando el argumento `class_weight='balanced'` para obtener el balanceo automáticamente sin tener que realizar sobre/infra muestreo.\n",
    "\n",
    "#### Regresión logística\n",
    "\n",
    "Primero, el modelo de regresión logística."
   ]
  },
  {
   "cell_type": "code",
   "execution_count": 17,
   "metadata": {},
   "outputs": [
    {
     "name": "stdout",
     "output_type": "stream",
     "text": [
      "accuracy:\t0.7266226622662266 \n",
      "f1:\t\t0.5280151946818614 \n",
      "roc_auc_score:\t0.8008026034849591\n"
     ]
    }
   ],
   "source": [
    "model_logistic_weighted = LogisticRegression(random_state=54321, class_weight='balanced')\n",
    "model_logistic_weighted.fit(features_train, target_train)\n",
    "\n",
    "target_valid_predicted_logistic_weighted = model_logistic_weighted.predict(features_valid)\n",
    "\n",
    "print(\n",
    "    f\"accuracy:\\t{accuracy_score(target_valid, target_valid_predicted_logistic_weighted)}\",\n",
    "    f\"\\nf1:\\t\\t{f1_score(target_valid, target_valid_predicted_logistic_weighted)}\",\n",
    "    f\"\\nroc_auc_score:\\t{roc_auc_score(target_valid, model_logistic_weighted.predict_proba(features_valid)[:,1])}\"\n",
    ")"
   ]
  },
  {
   "cell_type": "markdown",
   "metadata": {},
   "source": [
    "Que interesante, las métricas se mantienen muy similares a las del sobremuestreo a pesar de ser mucho más sencillo de operar.\n",
    "\n",
    "#### Bosque Aleatorio\n",
    "\n",
    "Prosigamos con el segundo modelo, de Bosque Aleatorio:"
   ]
  },
  {
   "cell_type": "code",
   "execution_count": 18,
   "metadata": {},
   "outputs": [
    {
     "data": {
      "application/vnd.jupyter.widget-view+json": {
       "model_id": "625774145a9342aea7ff9827c1432d44",
       "version_major": 2,
       "version_minor": 0
      },
      "text/plain": [
       "  0%|          | 0/20 [00:00<?, ?it/s]"
      ]
     },
     "metadata": {},
     "output_type": "display_data"
    }
   ],
   "source": [
    "# Creamos un dataframe para guardar resultados\n",
    "results_random_trees_weighted = pd.DataFrame([], columns=[\"depth\", \"estimators\", \"accuracy\"])\n",
    "\n",
    "for depth in tqdm(range(1, 20+1, 1)):\n",
    "    for est in range(10, 100+1, 10):\n",
    "        model_random_trees = RandomForestClassifier(\n",
    "            n_estimators = est, max_depth=depth, random_state=54321, class_weight='balanced'\n",
    "        )\n",
    "        model_random_trees.fit(features_train, target_train)\n",
    "        \n",
    "        prediction_random_trees_weighted = model_random_trees.predict(features_valid)\n",
    "        \n",
    "        results_random_trees_weighted = results_random_trees_weighted.append(\n",
    "            {\n",
    "                \"depth\": depth,\n",
    "                \"estimators\": est,\n",
    "                \"accuracy\": accuracy_score(target_valid, prediction_random_trees_weighted),\n",
    "                \"f1\": f1_score(target_valid, prediction_random_trees_weighted),\n",
    "                \"roc_auc_score\": roc_auc_score(target_valid, model_random_trees.predict_proba(features_valid)[:,1])\n",
    "            },\n",
    "            ignore_index=True\n",
    "        )"
   ]
  },
  {
   "cell_type": "code",
   "execution_count": 19,
   "metadata": {},
   "outputs": [
    {
     "data": {
      "text/html": [
       "<div>\n",
       "<style scoped>\n",
       "    .dataframe tbody tr th:only-of-type {\n",
       "        vertical-align: middle;\n",
       "    }\n",
       "\n",
       "    .dataframe tbody tr th {\n",
       "        vertical-align: top;\n",
       "    }\n",
       "\n",
       "    .dataframe thead th {\n",
       "        text-align: right;\n",
       "    }\n",
       "</style>\n",
       "<table border=\"1\" class=\"dataframe\">\n",
       "  <thead>\n",
       "    <tr style=\"text-align: right;\">\n",
       "      <th></th>\n",
       "      <th>depth</th>\n",
       "      <th>estimators</th>\n",
       "      <th>accuracy</th>\n",
       "      <th>f1</th>\n",
       "      <th>roc_auc_score</th>\n",
       "    </tr>\n",
       "  </thead>\n",
       "  <tbody>\n",
       "    <tr>\n",
       "      <th>82</th>\n",
       "      <td>9.0</td>\n",
       "      <td>30.0</td>\n",
       "      <td>0.852585</td>\n",
       "      <td>0.641711</td>\n",
       "      <td>0.869901</td>\n",
       "    </tr>\n",
       "    <tr>\n",
       "      <th>83</th>\n",
       "      <td>9.0</td>\n",
       "      <td>40.0</td>\n",
       "      <td>0.850935</td>\n",
       "      <td>0.639148</td>\n",
       "      <td>0.872288</td>\n",
       "    </tr>\n",
       "    <tr>\n",
       "      <th>86</th>\n",
       "      <td>9.0</td>\n",
       "      <td>70.0</td>\n",
       "      <td>0.852585</td>\n",
       "      <td>0.638814</td>\n",
       "      <td>0.872218</td>\n",
       "    </tr>\n",
       "    <tr>\n",
       "      <th>85</th>\n",
       "      <td>9.0</td>\n",
       "      <td>60.0</td>\n",
       "      <td>0.852585</td>\n",
       "      <td>0.638814</td>\n",
       "      <td>0.871536</td>\n",
       "    </tr>\n",
       "    <tr>\n",
       "      <th>87</th>\n",
       "      <td>9.0</td>\n",
       "      <td>80.0</td>\n",
       "      <td>0.854785</td>\n",
       "      <td>0.638356</td>\n",
       "      <td>0.873972</td>\n",
       "    </tr>\n",
       "  </tbody>\n",
       "</table>\n",
       "</div>"
      ],
      "text/plain": [
       "    depth  estimators  accuracy        f1  roc_auc_score\n",
       "82    9.0        30.0  0.852585  0.641711       0.869901\n",
       "83    9.0        40.0  0.850935  0.639148       0.872288\n",
       "86    9.0        70.0  0.852585  0.638814       0.872218\n",
       "85    9.0        60.0  0.852585  0.638814       0.871536\n",
       "87    9.0        80.0  0.854785  0.638356       0.873972"
      ]
     },
     "execution_count": 19,
     "metadata": {},
     "output_type": "execute_result"
    }
   ],
   "source": [
    "results_random_trees_weighted.sort_values(\"f1\", ascending=False).head()"
   ]
  },
  {
   "cell_type": "markdown",
   "metadata": {},
   "source": [
    "Parece que el modelo de bosque aleatorio con el peso ajustado a las clases da el mejor resultado de F1. Podríamos ir directamente con profundidad 9 y 30 estimadores, pero nótese que el área bajo la curva ROC disminuye un poco justo en estos hiperpárametros: empeora en su capacidad de distinguir las clases. Queremos optimizar F1, pero no por eso tomaremos cualquiera hiperpárametros, viendo de la tabla el valor de 80 estimadores, se tiene un ROC-AUC más alto y el F1 solo disminuye unas centésimas: este es el que elegiremos.\n",
    "\n",
    "## Métricas para el conjunto de prueba\n",
    "\n",
    "Ya tenemos nuestro modelo elegido y con los hiperpárametros apropiados, utilizaremos el dataset de prueba para poder obtener las métricas finales que buscamos."
   ]
  },
  {
   "cell_type": "code",
   "execution_count": 24,
   "metadata": {},
   "outputs": [
    {
     "name": "stdout",
     "output_type": "stream",
     "text": [
      "accuracy:\t0.817482133040132 \n",
      "f1:\t\t0.5951219512195122 \n",
      "roc_auc_score:\t0.8478588976060285\n"
     ]
    }
   ],
   "source": [
    "# Entrenemos el modelo con estos hiperpárametros\n",
    "model_final_random_trees = RandomForestClassifier(\n",
    "    n_estimators=80, max_depth=9, random_state=54321, class_weight='balanced'\n",
    ")\n",
    "\n",
    "# Usaremos tanto los datos de training como de validación para mejorar resultados\n",
    "model_final_random_trees.fit(\n",
    "    pd.concat([features_train] + [features_valid]), pd.concat([target_train] + [target_valid])\n",
    ")\n",
    "\n",
    "prediction_final_model = model_final_random_trees.predict(features_test)\n",
    "\n",
    "\n",
    "# Mostremos las métricas para el conjunto de prueba\n",
    "print(\n",
    "    f\"accuracy:\\t{accuracy_score(target_test, prediction_final_model)}\",\n",
    "    f\"\\nf1:\\t\\t{f1_score(target_test, prediction_final_model)}\",\n",
    "    f\"\\nroc_auc_score:\\t{roc_auc_score(target_test, model_final_random_trees.predict_proba(features_test)[:,1])}\"\n",
    ")"
   ]
  },
  {
   "cell_type": "markdown",
   "metadata": {},
   "source": [
    "Hemos logrado obtener un modelo que nos devuelve una accuracy mayor al 80%, lo que indica que tiene buena capacidad de predecir el target deseado (con reservas, ya que tenemos clases desbalanceadas). Por otro lado, el valor de F1 a 0.59 indica que tenemos un modelo que es moderado-fuerte para distinguir los valores en sus clases; el área bajo la curva de ~0.85 igual indica que tenemos una buena distinguibilidad. Solo para poder comparar mejor, realicemos estos cálculos con el modelo de árboles aleatorios sin balancear (profundidad máxima de 19, y 90 estimadores)."
   ]
  },
  {
   "cell_type": "code",
   "execution_count": 25,
   "metadata": {},
   "outputs": [
    {
     "name": "stdout",
     "output_type": "stream",
     "text": [
      "accuracy:\t0.8543155579989005 \n",
      "f1:\t\t0.573268921095008 \n",
      "roc_auc_score:\t0.8500453867600337\n"
     ]
    }
   ],
   "source": [
    "# Entrenemos el modelo con estos hiperpárametros\n",
    "model_final_unbalanced_random_trees = RandomForestClassifier(\n",
    "    n_estimators=90, max_depth=19, random_state=54321\n",
    ")\n",
    "\n",
    "# Usaremos tanto los datos de training como de validación para mejorar resultados\n",
    "model_final_unbalanced_random_trees.fit(\n",
    "    pd.concat([features_train] + [features_valid]), pd.concat([target_train] + [target_valid])\n",
    ")\n",
    "\n",
    "prediction_final_model_unbalanced = model_final_unbalanced_random_trees.predict(features_test)\n",
    "\n",
    "# Mostremos las métricas para el conjunto de prueba\n",
    "print(\n",
    "    f\"accuracy:\\t{accuracy_score(target_test, prediction_final_model_unbalanced)}\",\n",
    "    f\"\\nf1:\\t\\t{f1_score(target_test, prediction_final_model_unbalanced)}\",\n",
    "    f\"\\nroc_auc_score:\\t{roc_auc_score(target_test, model_final_unbalanced_random_trees.predict_proba(features_test)[:,1])}\"\n",
    ")        "
   ]
  },
  {
   "cell_type": "markdown",
   "metadata": {},
   "source": [
    "Estos valores son muy similares a los que tenemos para el modelo con clases balanceadas, incluso _accuracy_ es mayor para este, pero el valor F1 es menor: la diferencia es de apenás unas décimas, pero un cambio para esta métrica puede ser la diferencia para poder predecir valores realmente positivos de falsos positivos.\n",
    "\n",
    "## Conclusiones\n",
    "\n",
    "Hemos trabajado con los datos proporcionados por el banco: hicimos un análisis rápido de nuestra información y preparamos nuestros datos haciendo codificación y escalado de características. Procedemos a entrenar los dos modelos sin y con balanceo de clases, dandonos cuenta de la mejoría del segundo. Con los hiperpárametros obtenidos para el modelo de Bosque aleatorio implementamos para el conjunto de prueba y obtenemos las métricas que estamos buscando.\n",
    "\n",
    "Hay una diferencia pequeña, pero notable cuando el dataset esta y no balanceado: cuando tenemos una aplicación crítica siempre hay que buscar la mayor precisión para poder obtener resultados más fiables. El accuracy es una métrica muy útil, pero aquí nos da impresión de ser más importante de lo que es -al tener clases sin balancear-, así que nos debemos de fiar más de de F1 y del área bajo la curva ROC para tener un buen modelo."
   ]
  }
 ],
 "metadata": {
  "kernelspec": {
   "display_name": "Python 3 (ipykernel)",
   "language": "python",
   "name": "python3"
  },
  "language_info": {
   "codemirror_mode": {
    "name": "ipython",
    "version": 3
   },
   "file_extension": ".py",
   "mimetype": "text/x-python",
   "name": "python",
   "nbconvert_exporter": "python",
   "pygments_lexer": "ipython3",
   "version": "3.9.5"
  },
  "toc": {
   "base_numbering": 1,
   "nav_menu": {},
   "number_sections": true,
   "sideBar": true,
   "skip_h1_title": true,
   "title_cell": "Table of Contents",
   "title_sidebar": "Contents",
   "toc_cell": false,
   "toc_position": {
    "height": "calc(100% - 180px)",
    "left": "10px",
    "top": "150px",
    "width": "254.323px"
   },
   "toc_section_display": true,
   "toc_window_display": true
  }
 },
 "nbformat": 4,
 "nbformat_minor": 2
}
